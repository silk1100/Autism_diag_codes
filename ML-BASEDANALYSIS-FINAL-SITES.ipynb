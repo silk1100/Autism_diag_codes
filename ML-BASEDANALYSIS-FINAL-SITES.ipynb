{
 "cells": [
  {
   "cell_type": "code",
   "execution_count": 9,
   "metadata": {},
   "outputs": [],
   "source": [
    "import pandas as pd\n",
    "import os\n",
    "import numpy as np"
   ]
  },
  {
   "cell_type": "code",
   "execution_count": 4,
   "metadata": {},
   "outputs": [
    {
     "data": {
      "text/plain": [
       "['Caltech',\n",
       " 'CMU',\n",
       " 'Leuven',\n",
       " 'MaxMun',\n",
       " 'OHSU',\n",
       " 'Olin',\n",
       " 'Pitt',\n",
       " 'Stanford',\n",
       " 'Trinity',\n",
       " 'UCLA',\n",
       " 'UM',\n",
       " 'Yale']"
      ]
     },
     "execution_count": 4,
     "metadata": {},
     "output_type": "execute_result"
    }
   ],
   "source": [
    "results_dir = './Final_Results_sites/ML/'\n",
    "sites = os.listdir(results_dir)\n",
    "sites"
   ]
  },
  {
   "cell_type": "code",
   "execution_count": 33,
   "metadata": {},
   "outputs": [
    {
     "name": "stdout",
     "output_type": "stream",
     "text": [
      "                  Train_acc\n",
      "Correlation_type           \n",
      "corr_r             0.978537\n",
      "corr_l             0.991071\n",
      "NoCorr             0.993046\n",
      "corr               0.998884\n"
     ]
    }
   ],
   "source": [
    "for site in sites:\n",
    "    full_site_dir = os.path.join(results_dir, site)\n",
    "    df = pd.read_csv(os.path.join(full_site_dir,'ML_results.csv'), index_col=0)\n",
    "    df['Correlation_type'] = df['Correlation_type'].apply(lambda x: 'NoCorr' if (pd.isna(x) or x=='NA') else x)\n",
    "#     df['avg_acc'] = (1.0/3.0)*(df['Best_CV_acc'] + df['Train_acc'] + df['Test_acc'])\n",
    "#     df_sites_bestacc[site] = df['avg_acc']\n",
    "    pvt_table_cv = pd.pivot_table(index='Correlation_type', values='Best_CV_acc', data=df).sort_values(by='Best_CV_acc')\n",
    "    pvt_table_test = pd.pivot_table(index='Correlation_type', values='Test_acc', data=df).sort_values(by='Test_acc')\n",
    "    pvt_table_train = pd.pivot_table(index='Correlation_type', values='Train_acc', data=df).sort_values(by='Train_acc')\n",
    "\n",
    "    print(pvt_table_train)\n",
    "    break"
   ]
  },
  {
   "cell_type": "code",
   "execution_count": null,
   "metadata": {},
   "outputs": [],
   "source": []
  },
  {
   "cell_type": "code",
   "execution_count": 20,
   "metadata": {},
   "outputs": [
    {
     "name": "stdout",
     "output_type": "stream",
     "text": [
      "('Caltech', 0.9, 62)\n",
      "('CMU', 0.8333333333333333, 0)\n",
      "('Leuven', 0.8795634920634919, 38)\n",
      "('MaxMun', 0.8527777777777776, 95)\n",
      "('OHSU', 0.8333333333333333, 97)\n",
      "('Olin', 0.8333333333333333, 32)\n",
      "('Pitt', 0.8333333333333333, 32)\n",
      "('Stanford', 0.8555555555555554, 27)\n",
      "('Trinity', 0.8333333333333333, 32)\n",
      "('UCLA', 0.8662878787878787, 64)\n",
      "('UM', 0.8235690235690236, 79)\n",
      "('Yale', 0.8888888888888888, 86)\n"
     ]
    }
   ],
   "source": [
    "for col in df_sites_bestacc.columns:\n",
    "    print((col, df_sites_bestacc[col].max(), df_sites_bestacc[col].argmax()))"
   ]
  },
  {
   "cell_type": "code",
   "execution_count": 18,
   "metadata": {},
   "outputs": [
    {
     "data": {
      "text/plain": [
       "(0.9, 62)"
      ]
     },
     "execution_count": 18,
     "metadata": {},
     "output_type": "execute_result"
    }
   ],
   "source": [
    "df_sites_bestacc['Caltech'].max(), df_sites_bestacc['Caltech'].argmax()"
   ]
  },
  {
   "cell_type": "code",
   "execution_count": null,
   "metadata": {},
   "outputs": [],
   "source": [
    "for col in "
   ]
  }
 ],
 "metadata": {
  "kernelspec": {
   "display_name": "untitled",
   "language": "python",
   "name": "untitled"
  },
  "language_info": {
   "codemirror_mode": {
    "name": "ipython",
    "version": 3
   },
   "file_extension": ".py",
   "mimetype": "text/x-python",
   "name": "python",
   "nbconvert_exporter": "python",
   "pygments_lexer": "ipython3",
   "version": "3.7.5"
  }
 },
 "nbformat": 4,
 "nbformat_minor": 4
}
