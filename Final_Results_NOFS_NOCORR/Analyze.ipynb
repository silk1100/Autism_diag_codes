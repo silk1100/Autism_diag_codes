{
 "cells": [
  {
   "cell_type": "code",
   "execution_count": 1,
   "metadata": {},
   "outputs": [],
   "source": [
    "import pandas as pd\n",
    "import numpy as np\n",
    "from joblib import load"
   ]
  },
  {
   "cell_type": "code",
   "execution_count": 2,
   "metadata": {},
   "outputs": [],
   "source": [
    "clf_dict = load('./clf_allfeats_minmaxreg_train.joblib')\n",
    "clf_dict1 = load('./results_dict.joblib')"
   ]
  },
  {
   "cell_type": "code",
   "execution_count": 3,
   "metadata": {},
   "outputs": [
    {
     "data": {
      "text/plain": [
       "(dict_keys(['lSVM', 'pagg', 'lg', 'XGB', 'GNB', 'Rf', 'SVC', 'nn']),\n",
       " dict_keys(['lSVM', 'pagg', 'lg', 'XGB', 'GNB', 'Rf', 'SVC', 'nn']))"
      ]
     },
     "execution_count": 3,
     "metadata": {},
     "output_type": "execute_result"
    }
   ],
   "source": [
    "clf_dict.keys(), clf_dict1.keys()"
   ]
  },
  {
   "cell_type": "code",
   "execution_count": 4,
   "metadata": {},
   "outputs": [
    {
     "data": {
      "text/plain": [
       "(0.582909604519774, 0.582909604519774)"
      ]
     },
     "execution_count": 4,
     "metadata": {},
     "output_type": "execute_result"
    }
   ],
   "source": [
    "clf_dict['lSVM'].best_score_, clf_dict['lSVM'].best_score_"
   ]
  },
  {
   "cell_type": "code",
   "execution_count": 5,
   "metadata": {},
   "outputs": [
    {
     "data": {
      "text/plain": [
       "(0.5967231638418079, 0.5967231638418079)"
      ]
     },
     "execution_count": 5,
     "metadata": {},
     "output_type": "execute_result"
    }
   ],
   "source": [
    "clf_dict['nn'].best_score_, clf_dict['nn'].best_score_"
   ]
  },
  {
   "cell_type": "code",
   "execution_count": 6,
   "metadata": {},
   "outputs": [
    {
     "name": "stdout",
     "output_type": "stream",
     "text": [
      "clf[lSVM].best_score_: 0.582909604519774\n",
      "clf[pagg].best_score_: 0.5686440677966103\n",
      "clf[lg].best_score_: 0.5897740112994351\n",
      "clf[XGB].best_score_: 0.5977966101694916\n",
      "clf[GNB].best_score_: 0.5384180790960451\n",
      "clf[Rf].best_score_: 0.579406779661017\n",
      "clf[SVC].best_score_: 0.5946892655367233\n",
      "clf[nn].best_score_: 0.5967231638418079\n"
     ]
    }
   ],
   "source": [
    "for key in clf_dict:\n",
    "    print(f'clf[{key}].best_score_: {clf_dict[key].best_score_}')"
   ]
  },
  {
   "cell_type": "code",
   "execution_count": 23,
   "metadata": {},
   "outputs": [
    {
     "data": {
      "text/plain": [
       "(array([5], dtype=int64),)"
      ]
     },
     "execution_count": 23,
     "metadata": {},
     "output_type": "execute_result"
    }
   ],
   "source": [
    "df = pd.DataFrame(None,index=list(clf_dict.keys()), columns=['mean', 'std'])\n",
    "for clf in clf_dict:\n",
    "    idx = clf_dict[clf].best_index_\n",
    "    m = clf_dict[clf].best_score_\n",
    "    st = clf_dict[clf].cv_results_['std_test_score'][idx]\n",
    "    df.loc[clf,'mean'] = m\n",
    "    df.loc[clf,'std'] = st\n"
   ]
  },
  {
   "cell_type": "code",
   "execution_count": null,
   "metadata": {},
   "outputs": [],
   "source": []
  }
 ],
 "metadata": {
  "kernelspec": {
   "display_name": "untitled",
   "language": "python",
   "name": "untitled"
  },
  "language_info": {
   "codemirror_mode": {
    "name": "ipython",
    "version": 3
   },
   "file_extension": ".py",
   "mimetype": "text/x-python",
   "name": "python",
   "nbconvert_exporter": "python",
   "pygments_lexer": "ipython3",
   "version": "3.7.5"
  }
 },
 "nbformat": 4,
 "nbformat_minor": 4
}
