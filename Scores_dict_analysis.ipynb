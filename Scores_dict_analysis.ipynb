{
 "cells": [
  {
   "cell_type": "code",
   "execution_count": 1,
   "metadata": {},
   "outputs": [],
   "source": [
    "import numpy as np\n",
    "import pandas as pd\n",
    "from collections import defaultdict\n",
    "from pycaret.classification import *\n",
    "import constants\n",
    "from joblib import load"
   ]
  },
  {
   "cell_type": "code",
   "execution_count": 2,
   "metadata": {},
   "outputs": [],
   "source": [
    "# Load the scores\n",
    "left_scores = np.load('left_scores_dict.npy', allow_pickle=True).item()\n",
    "right_scores = np.load('right_scores_dict.npy', allow_pickle=True).item()"
   ]
  },
  {
   "cell_type": "code",
   "execution_count": 3,
   "metadata": {},
   "outputs": [],
   "source": [
    "# Parse the the dictionaries into a format that can be translated to pandas\n",
    "# DataFrame\n",
    "better_left_dict = defaultdict(list)\n",
    "better_right_dict = defaultdict(list)\n",
    "\n",
    "for key in left_scores:\n",
    "    folds_results_list = left_scores[key]\n",
    "    for f1, acc, clc in folds_results_list:\n",
    "        better_left_dict[f'{key}_f1'].append(f1)\n",
    "        better_left_dict[f'{key}_acc'].append(acc)\n",
    "\n",
    "\n",
    "for key in right_scores:\n",
    "    folds_results_list = right_scores[key]\n",
    "    for f1, acc, clc in folds_results_list:\n",
    "        better_right_dict[f'{key}_f1'].append(f1)\n",
    "        better_right_dict[f'{key}_acc'].append(acc)\n"
   ]
  },
  {
   "cell_type": "code",
   "execution_count": 4,
   "metadata": {},
   "outputs": [],
   "source": [
    "df_left = pd.DataFrame(better_left_dict)\n",
    "df_right = pd.DataFrame(better_right_dict)"
   ]
  },
  {
   "cell_type": "code",
   "execution_count": 5,
   "metadata": {},
   "outputs": [
    {
     "data": {
      "text/html": [
       "<div>\n",
       "<style scoped>\n",
       "    .dataframe tbody tr th:only-of-type {\n",
       "        vertical-align: middle;\n",
       "    }\n",
       "\n",
       "    .dataframe tbody tr th {\n",
       "        vertical-align: top;\n",
       "    }\n",
       "\n",
       "    .dataframe thead th {\n",
       "        text-align: right;\n",
       "    }\n",
       "</style>\n",
       "<table border=\"1\" class=\"dataframe\">\n",
       "  <thead>\n",
       "    <tr style=\"text-align: right;\">\n",
       "      <th></th>\n",
       "      <th>rf_f1</th>\n",
       "      <th>rf_acc</th>\n",
       "      <th>lg_f1</th>\n",
       "      <th>lg_acc</th>\n",
       "      <th>xgb_f1</th>\n",
       "      <th>xgb_acc</th>\n",
       "      <th>xgbrf_f1</th>\n",
       "      <th>xgbrf_acc</th>\n",
       "      <th>nb_f1</th>\n",
       "      <th>nb_acc</th>\n",
       "      <th>rsvm_f1</th>\n",
       "      <th>rsvm_acc</th>\n",
       "      <th>lsvm_f1</th>\n",
       "      <th>lsvm_acc</th>\n",
       "    </tr>\n",
       "  </thead>\n",
       "  <tbody>\n",
       "    <tr>\n",
       "      <th>0</th>\n",
       "      <td>0.627702</td>\n",
       "      <td>0.564978</td>\n",
       "      <td>0.679596</td>\n",
       "      <td>0.618849</td>\n",
       "      <td>0.613646</td>\n",
       "      <td>0.548256</td>\n",
       "      <td>0.646464</td>\n",
       "      <td>0.581223</td>\n",
       "      <td>0.601279</td>\n",
       "      <td>0.542164</td>\n",
       "      <td>0.530222</td>\n",
       "      <td>0.5</td>\n",
       "      <td>0.670769</td>\n",
       "      <td>0.613235</td>\n",
       "    </tr>\n",
       "    <tr>\n",
       "      <th>1</th>\n",
       "      <td>0.639745</td>\n",
       "      <td>0.572405</td>\n",
       "      <td>0.710583</td>\n",
       "      <td>0.644933</td>\n",
       "      <td>0.662347</td>\n",
       "      <td>0.595116</td>\n",
       "      <td>0.664776</td>\n",
       "      <td>0.594750</td>\n",
       "      <td>0.673762</td>\n",
       "      <td>0.611966</td>\n",
       "      <td>0.536473</td>\n",
       "      <td>0.5</td>\n",
       "      <td>0.689297</td>\n",
       "      <td>0.628571</td>\n",
       "    </tr>\n",
       "    <tr>\n",
       "      <th>2</th>\n",
       "      <td>0.628893</td>\n",
       "      <td>0.566667</td>\n",
       "      <td>0.653163</td>\n",
       "      <td>0.583639</td>\n",
       "      <td>0.659077</td>\n",
       "      <td>0.589255</td>\n",
       "      <td>0.583796</td>\n",
       "      <td>0.517216</td>\n",
       "      <td>0.630190</td>\n",
       "      <td>0.561905</td>\n",
       "      <td>0.536473</td>\n",
       "      <td>0.5</td>\n",
       "      <td>0.608821</td>\n",
       "      <td>0.539560</td>\n",
       "    </tr>\n",
       "    <tr>\n",
       "      <th>3</th>\n",
       "      <td>0.572235</td>\n",
       "      <td>0.521256</td>\n",
       "      <td>0.566464</td>\n",
       "      <td>0.503865</td>\n",
       "      <td>0.572664</td>\n",
       "      <td>0.509179</td>\n",
       "      <td>0.530834</td>\n",
       "      <td>0.482850</td>\n",
       "      <td>0.542810</td>\n",
       "      <td>0.482126</td>\n",
       "      <td>0.527069</td>\n",
       "      <td>0.5</td>\n",
       "      <td>0.572664</td>\n",
       "      <td>0.509179</td>\n",
       "    </tr>\n",
       "    <tr>\n",
       "      <th>4</th>\n",
       "      <td>0.566809</td>\n",
       "      <td>0.521498</td>\n",
       "      <td>0.636002</td>\n",
       "      <td>0.574396</td>\n",
       "      <td>0.627032</td>\n",
       "      <td>0.563768</td>\n",
       "      <td>0.610542</td>\n",
       "      <td>0.547826</td>\n",
       "      <td>0.641854</td>\n",
       "      <td>0.579952</td>\n",
       "      <td>0.527069</td>\n",
       "      <td>0.5</td>\n",
       "      <td>0.630156</td>\n",
       "      <td>0.568841</td>\n",
       "    </tr>\n",
       "  </tbody>\n",
       "</table>\n",
       "</div>"
      ],
      "text/plain": [
       "      rf_f1    rf_acc     lg_f1    lg_acc    xgb_f1   xgb_acc  xgbrf_f1  \\\n",
       "0  0.627702  0.564978  0.679596  0.618849  0.613646  0.548256  0.646464   \n",
       "1  0.639745  0.572405  0.710583  0.644933  0.662347  0.595116  0.664776   \n",
       "2  0.628893  0.566667  0.653163  0.583639  0.659077  0.589255  0.583796   \n",
       "3  0.572235  0.521256  0.566464  0.503865  0.572664  0.509179  0.530834   \n",
       "4  0.566809  0.521498  0.636002  0.574396  0.627032  0.563768  0.610542   \n",
       "\n",
       "   xgbrf_acc     nb_f1    nb_acc   rsvm_f1  rsvm_acc   lsvm_f1  lsvm_acc  \n",
       "0   0.581223  0.601279  0.542164  0.530222       0.5  0.670769  0.613235  \n",
       "1   0.594750  0.673762  0.611966  0.536473       0.5  0.689297  0.628571  \n",
       "2   0.517216  0.630190  0.561905  0.536473       0.5  0.608821  0.539560  \n",
       "3   0.482850  0.542810  0.482126  0.527069       0.5  0.572664  0.509179  \n",
       "4   0.547826  0.641854  0.579952  0.527069       0.5  0.630156  0.568841  "
      ]
     },
     "execution_count": 5,
     "metadata": {},
     "output_type": "execute_result"
    }
   ],
   "source": [
    "df_left.head()"
   ]
  },
  {
   "cell_type": "code",
   "execution_count": 6,
   "metadata": {},
   "outputs": [
    {
     "data": {
      "text/html": [
       "<div>\n",
       "<style scoped>\n",
       "    .dataframe tbody tr th:only-of-type {\n",
       "        vertical-align: middle;\n",
       "    }\n",
       "\n",
       "    .dataframe tbody tr th {\n",
       "        vertical-align: top;\n",
       "    }\n",
       "\n",
       "    .dataframe thead th {\n",
       "        text-align: right;\n",
       "    }\n",
       "</style>\n",
       "<table border=\"1\" class=\"dataframe\">\n",
       "  <thead>\n",
       "    <tr style=\"text-align: right;\">\n",
       "      <th></th>\n",
       "      <th>rf_f1</th>\n",
       "      <th>rf_acc</th>\n",
       "      <th>lg_f1</th>\n",
       "      <th>lg_acc</th>\n",
       "      <th>xgb_f1</th>\n",
       "      <th>xgb_acc</th>\n",
       "      <th>xgbrf_f1</th>\n",
       "      <th>xgbrf_acc</th>\n",
       "      <th>nb_f1</th>\n",
       "      <th>nb_acc</th>\n",
       "      <th>rsvm_f1</th>\n",
       "      <th>rsvm_acc</th>\n",
       "      <th>lsvm_f1</th>\n",
       "      <th>lsvm_acc</th>\n",
       "    </tr>\n",
       "  </thead>\n",
       "  <tbody>\n",
       "    <tr>\n",
       "      <th>0</th>\n",
       "      <td>0.592245</td>\n",
       "      <td>0.532250</td>\n",
       "      <td>0.671951</td>\n",
       "      <td>0.608098</td>\n",
       "      <td>0.612695</td>\n",
       "      <td>0.548017</td>\n",
       "      <td>0.623854</td>\n",
       "      <td>0.559365</td>\n",
       "      <td>0.609517</td>\n",
       "      <td>0.547778</td>\n",
       "      <td>0.530222</td>\n",
       "      <td>0.5</td>\n",
       "      <td>0.661480</td>\n",
       "      <td>0.602365</td>\n",
       "    </tr>\n",
       "    <tr>\n",
       "      <th>1</th>\n",
       "      <td>0.641268</td>\n",
       "      <td>0.572527</td>\n",
       "      <td>0.700613</td>\n",
       "      <td>0.633822</td>\n",
       "      <td>0.667673</td>\n",
       "      <td>0.606471</td>\n",
       "      <td>0.670309</td>\n",
       "      <td>0.600366</td>\n",
       "      <td>0.704832</td>\n",
       "      <td>0.645177</td>\n",
       "      <td>0.536473</td>\n",
       "      <td>0.5</td>\n",
       "      <td>0.698235</td>\n",
       "      <td>0.633944</td>\n",
       "    </tr>\n",
       "    <tr>\n",
       "      <th>2</th>\n",
       "      <td>0.634398</td>\n",
       "      <td>0.566911</td>\n",
       "      <td>0.616563</td>\n",
       "      <td>0.550305</td>\n",
       "      <td>0.659077</td>\n",
       "      <td>0.589255</td>\n",
       "      <td>0.566454</td>\n",
       "      <td>0.500611</td>\n",
       "      <td>0.646268</td>\n",
       "      <td>0.578510</td>\n",
       "      <td>0.536473</td>\n",
       "      <td>0.5</td>\n",
       "      <td>0.613204</td>\n",
       "      <td>0.544933</td>\n",
       "    </tr>\n",
       "    <tr>\n",
       "      <th>3</th>\n",
       "      <td>0.539226</td>\n",
       "      <td>0.493961</td>\n",
       "      <td>0.576676</td>\n",
       "      <td>0.514976</td>\n",
       "      <td>0.610542</td>\n",
       "      <td>0.547826</td>\n",
       "      <td>0.553637</td>\n",
       "      <td>0.504831</td>\n",
       "      <td>0.554771</td>\n",
       "      <td>0.492995</td>\n",
       "      <td>0.527069</td>\n",
       "      <td>0.5</td>\n",
       "      <td>0.577903</td>\n",
       "      <td>0.514734</td>\n",
       "    </tr>\n",
       "    <tr>\n",
       "      <th>4</th>\n",
       "      <td>0.599440</td>\n",
       "      <td>0.542995</td>\n",
       "      <td>0.605244</td>\n",
       "      <td>0.541787</td>\n",
       "      <td>0.671459</td>\n",
       "      <td>0.617633</td>\n",
       "      <td>0.598848</td>\n",
       "      <td>0.536957</td>\n",
       "      <td>0.661632</td>\n",
       "      <td>0.601691</td>\n",
       "      <td>0.527069</td>\n",
       "      <td>0.5</td>\n",
       "      <td>0.602897</td>\n",
       "      <td>0.541304</td>\n",
       "    </tr>\n",
       "  </tbody>\n",
       "</table>\n",
       "</div>"
      ],
      "text/plain": [
       "      rf_f1    rf_acc     lg_f1    lg_acc    xgb_f1   xgb_acc  xgbrf_f1  \\\n",
       "0  0.592245  0.532250  0.671951  0.608098  0.612695  0.548017  0.623854   \n",
       "1  0.641268  0.572527  0.700613  0.633822  0.667673  0.606471  0.670309   \n",
       "2  0.634398  0.566911  0.616563  0.550305  0.659077  0.589255  0.566454   \n",
       "3  0.539226  0.493961  0.576676  0.514976  0.610542  0.547826  0.553637   \n",
       "4  0.599440  0.542995  0.605244  0.541787  0.671459  0.617633  0.598848   \n",
       "\n",
       "   xgbrf_acc     nb_f1    nb_acc   rsvm_f1  rsvm_acc   lsvm_f1  lsvm_acc  \n",
       "0   0.559365  0.609517  0.547778  0.530222       0.5  0.661480  0.602365  \n",
       "1   0.600366  0.704832  0.645177  0.536473       0.5  0.698235  0.633944  \n",
       "2   0.500611  0.646268  0.578510  0.536473       0.5  0.613204  0.544933  \n",
       "3   0.504831  0.554771  0.492995  0.527069       0.5  0.577903  0.514734  \n",
       "4   0.536957  0.661632  0.601691  0.527069       0.5  0.602897  0.541304  "
      ]
     },
     "execution_count": 6,
     "metadata": {},
     "output_type": "execute_result"
    }
   ],
   "source": [
    "df_right.head()"
   ]
  },
  {
   "cell_type": "code",
   "execution_count": 7,
   "metadata": {},
   "outputs": [
    {
     "data": {
      "text/plain": [
       "(rf_f1        0.592623\n",
       " rf_acc       0.535835\n",
       " lg_f1        0.643206\n",
       " lg_acc       0.578050\n",
       " xgb_f1       0.619902\n",
       " xgb_acc      0.554947\n",
       " xgbrf_f1     0.604033\n",
       " xgbrf_acc    0.541379\n",
       " nb_f1        0.615976\n",
       " nb_acc       0.551977\n",
       " rsvm_f1      0.531461\n",
       " rsvm_acc     0.500000\n",
       " lsvm_f1      0.643126\n",
       " lsvm_acc     0.579921\n",
       " dtype: float64,\n",
       " rf_f1        0.604120\n",
       " rf_acc       0.544835\n",
       " lg_f1        0.631557\n",
       " lg_acc       0.566052\n",
       " xgb_f1       0.634279\n",
       " xgb_acc      0.569773\n",
       " xgbrf_f1     0.606060\n",
       " xgbrf_acc    0.542901\n",
       " nb_f1        0.625298\n",
       " nb_acc       0.561247\n",
       " rsvm_f1      0.532132\n",
       " rsvm_acc     0.500444\n",
       " lsvm_f1      0.644203\n",
       " lsvm_acc     0.580188\n",
       " dtype: float64)"
      ]
     },
     "execution_count": 7,
     "metadata": {},
     "output_type": "execute_result"
    }
   ],
   "source": [
    "df_left.mean(), df_right.mean()"
   ]
  },
  {
   "cell_type": "code",
   "execution_count": 8,
   "metadata": {},
   "outputs": [
    {
     "data": {
      "text/plain": [
       "rf_f1        0.029661\n",
       "rf_acc       0.025079\n",
       "lg_f1        0.032703\n",
       "lg_acc       0.033392\n",
       "xgb_f1       0.031603\n",
       "xgb_acc      0.031465\n",
       "xgbrf_f1     0.031684\n",
       "xgbrf_acc    0.029197\n",
       "nb_f1        0.034340\n",
       "nb_acc       0.036112\n",
       "rsvm_f1      0.004339\n",
       "rsvm_acc     0.000000\n",
       "lsvm_f1      0.033709\n",
       "lsvm_acc     0.035615\n",
       "dtype: float64"
      ]
     },
     "execution_count": 8,
     "metadata": {},
     "output_type": "execute_result"
    }
   ],
   "source": [
    "df_left.std()"
   ]
  },
  {
   "cell_type": "code",
   "execution_count": 9,
   "metadata": {},
   "outputs": [
    {
     "data": {
      "text/plain": [
       "rf_f1        0.026744\n",
       "rf_acc       0.022928\n",
       "lg_f1        0.028951\n",
       "lg_acc       0.028537\n",
       "xgb_f1       0.035874\n",
       "xgb_acc      0.037144\n",
       "xgbrf_f1     0.031875\n",
       "xgbrf_acc    0.030530\n",
       "nb_f1        0.036404\n",
       "nb_acc       0.038434\n",
       "rsvm_f1      0.006088\n",
       "rsvm_acc     0.002222\n",
       "lsvm_f1      0.029673\n",
       "lsvm_acc     0.029608\n",
       "dtype: float64"
      ]
     },
     "execution_count": 9,
     "metadata": {},
     "output_type": "execute_result"
    }
   ],
   "source": [
    "df_right.std()"
   ]
  },
  {
   "cell_type": "code",
   "execution_count": 10,
   "metadata": {},
   "outputs": [
    {
     "data": {
      "text/plain": [
       "SDSU_0050197       1.0\n",
       "CMU_b_0050657      1.0\n",
       "CMU_b_0050658      1.0\n",
       "CMU_b_0050661      2.0\n",
       "CMU_b_0050667      1.0\n",
       "                  ... \n",
       "CMU_b_0050648      2.0\n",
       "Caltech_0051474    1.0\n",
       "SDSU_0050183       1.0\n",
       "SDSU_0050185       2.0\n",
       "SDSU_0050192       1.0\n",
       "Name: sex, Length: 797, dtype: float64"
      ]
     },
     "execution_count": 10,
     "metadata": {},
     "output_type": "execute_result"
    }
   ],
   "source": [
    "data_df = pd.read_csv(constants.DATADIR_aparc, index_col=0)\n",
    "data_df.pop('age')\n",
    "data_df.pop('sex')"
   ]
  },
  {
   "cell_type": "code",
   "execution_count": 11,
   "metadata": {},
   "outputs": [
    {
     "data": {
      "application/vnd.jupyter.widget-view+json": {
       "model_id": "4a324b1423744b73a39dda508db47b8b",
       "version_major": 2,
       "version_minor": 0
      },
      "text/plain": [
       "IntProgress(value=0, description='Processing: ', max=13)"
      ]
     },
     "metadata": {},
     "output_type": "display_data"
    },
    {
     "data": {
      "text/html": [
       "<div>\n",
       "<style scoped>\n",
       "    .dataframe tbody tr th:only-of-type {\n",
       "        vertical-align: middle;\n",
       "    }\n",
       "\n",
       "    .dataframe tbody tr th {\n",
       "        vertical-align: top;\n",
       "    }\n",
       "\n",
       "    .dataframe thead th {\n",
       "        text-align: right;\n",
       "    }\n",
       "</style>\n",
       "<table border=\"1\" class=\"dataframe\">\n",
       "  <thead>\n",
       "    <tr style=\"text-align: right;\">\n",
       "      <th></th>\n",
       "      <th></th>\n",
       "      <th></th>\n",
       "    </tr>\n",
       "    <tr>\n",
       "      <th></th>\n",
       "      <th></th>\n",
       "      <th></th>\n",
       "    </tr>\n",
       "  </thead>\n",
       "  <tbody>\n",
       "    <tr>\n",
       "      <th>Initiated</th>\n",
       "      <td>. . . . . . . . . . . . . . . . . .</td>\n",
       "      <td>01:58:06</td>\n",
       "    </tr>\n",
       "    <tr>\n",
       "      <th>Status</th>\n",
       "      <td>. . . . . . . . . . . . . . . . . .</td>\n",
       "      <td>Preparing Data for Modeling</td>\n",
       "    </tr>\n",
       "    <tr>\n",
       "      <th>ETC</th>\n",
       "      <td>. . . . . . . . . . . . . . . . . .</td>\n",
       "      <td>Calculating ETC</td>\n",
       "    </tr>\n",
       "  </tbody>\n",
       "</table>\n",
       "</div>"
      ],
      "text/plain": [
       "                                                                           \n",
       "                                                                           \n",
       "Initiated  . . . . . . . . . . . . . . . . . .                     01:58:06\n",
       "Status     . . . . . . . . . . . . . . . . . .  Preparing Data for Modeling\n",
       "ETC        . . . . . . . . . . . . . . . . . .              Calculating ETC"
      ]
     },
     "metadata": {},
     "output_type": "display_data"
    },
    {
     "data": {
      "text/html": [
       "        <script type=\"text/javascript\">\n",
       "        window.PlotlyConfig = {MathJaxConfig: 'local'};\n",
       "        if (window.MathJax) {MathJax.Hub.Config({SVG: {font: \"STIX-Web\"}});}\n",
       "        if (typeof require !== 'undefined') {\n",
       "        require.undef(\"plotly\");\n",
       "        requirejs.config({\n",
       "            paths: {\n",
       "                'plotly': ['https://cdn.plot.ly/plotly-latest.min']\n",
       "            }\n",
       "        });\n",
       "        require(['plotly'], function(Plotly) {\n",
       "            window._Plotly = Plotly;\n",
       "        });\n",
       "        }\n",
       "        </script>\n",
       "        "
      ]
     },
     "metadata": {},
     "output_type": "display_data"
    },
    {
     "data": {
      "application/vnd.jupyter.widget-view+json": {
       "model_id": "df41c90d31cb489a95d3535e986a6e94",
       "version_major": 2,
       "version_minor": 0
      },
      "text/plain": [
       "Text(value=\"Following data types have been inferred automatically, if they are correct press enter to continue…"
      ]
     },
     "metadata": {},
     "output_type": "display_data"
    },
    {
     "data": {
      "text/html": [
       "<div>\n",
       "<style scoped>\n",
       "    .dataframe tbody tr th:only-of-type {\n",
       "        vertical-align: middle;\n",
       "    }\n",
       "\n",
       "    .dataframe tbody tr th {\n",
       "        vertical-align: top;\n",
       "    }\n",
       "\n",
       "    .dataframe thead th {\n",
       "        text-align: right;\n",
       "    }\n",
       "</style>\n",
       "<table border=\"1\" class=\"dataframe\">\n",
       "  <thead>\n",
       "    <tr style=\"text-align: right;\">\n",
       "      <th></th>\n",
       "      <th>Data Type</th>\n",
       "    </tr>\n",
       "  </thead>\n",
       "  <tbody>\n",
       "    <tr>\n",
       "      <th>thick_lbankssts_med</th>\n",
       "      <td>Numeric</td>\n",
       "    </tr>\n",
       "    <tr>\n",
       "      <th>thick_lbankssts_20-80range</th>\n",
       "      <td>Numeric</td>\n",
       "    </tr>\n",
       "    <tr>\n",
       "      <th>thick_lcaudalanteriorcingulate_med</th>\n",
       "      <td>Numeric</td>\n",
       "    </tr>\n",
       "    <tr>\n",
       "      <th>thick_lcaudalanteriorcingulate_20-80range</th>\n",
       "      <td>Numeric</td>\n",
       "    </tr>\n",
       "    <tr>\n",
       "      <th>thick_lcaudalmiddlefrontal_med</th>\n",
       "      <td>Numeric</td>\n",
       "    </tr>\n",
       "    <tr>\n",
       "      <th>...</th>\n",
       "      <td>...</td>\n",
       "    </tr>\n",
       "    <tr>\n",
       "      <th>vol_rtransversetemporal_med</th>\n",
       "      <td>Numeric</td>\n",
       "    </tr>\n",
       "    <tr>\n",
       "      <th>vol_rtransversetemporal_20-80range</th>\n",
       "      <td>Numeric</td>\n",
       "    </tr>\n",
       "    <tr>\n",
       "      <th>vol_rinsula_med</th>\n",
       "      <td>Numeric</td>\n",
       "    </tr>\n",
       "    <tr>\n",
       "      <th>vol_rinsula_20-80range</th>\n",
       "      <td>Numeric</td>\n",
       "    </tr>\n",
       "    <tr>\n",
       "      <th>labels</th>\n",
       "      <td>Label</td>\n",
       "    </tr>\n",
       "  </tbody>\n",
       "</table>\n",
       "<p>545 rows × 1 columns</p>\n",
       "</div>"
      ],
      "text/plain": [
       "                                          Data Type\n",
       "thick_lbankssts_med                         Numeric\n",
       "thick_lbankssts_20-80range                  Numeric\n",
       "thick_lcaudalanteriorcingulate_med          Numeric\n",
       "thick_lcaudalanteriorcingulate_20-80range   Numeric\n",
       "thick_lcaudalmiddlefrontal_med              Numeric\n",
       "...                                             ...\n",
       "vol_rtransversetemporal_med                 Numeric\n",
       "vol_rtransversetemporal_20-80range          Numeric\n",
       "vol_rinsula_med                             Numeric\n",
       "vol_rinsula_20-80range                      Numeric\n",
       "labels                                        Label\n",
       "\n",
       "[545 rows x 1 columns]"
      ]
     },
     "metadata": {},
     "output_type": "display_data"
    },
    {
     "ename": "KeyboardInterrupt",
     "evalue": "Interrupted by user",
     "output_type": "error",
     "traceback": [
      "\u001b[1;31m---------------------------------------------------------------------------\u001b[0m",
      "\u001b[1;31mKeyboardInterrupt\u001b[0m                         Traceback (most recent call last)",
      "\u001b[1;32m<ipython-input-11-9e526de981a5>\u001b[0m in \u001b[0;36m<module>\u001b[1;34m\u001b[0m\n\u001b[0;32m      3\u001b[0m                   \u001b[0mtransformation\u001b[0m \u001b[1;33m=\u001b[0m \u001b[1;32mFalse\u001b[0m\u001b[1;33m,\u001b[0m\u001b[1;33m\u001b[0m\u001b[1;33m\u001b[0m\u001b[0m\n\u001b[0;32m      4\u001b[0m                   \u001b[0mignore_low_variance\u001b[0m \u001b[1;33m=\u001b[0m \u001b[1;32mFalse\u001b[0m\u001b[1;33m,\u001b[0m \u001b[0mfix_imbalance\u001b[0m\u001b[1;33m=\u001b[0m\u001b[1;32mFalse\u001b[0m\u001b[1;33m,\u001b[0m\u001b[1;33m\u001b[0m\u001b[1;33m\u001b[0m\u001b[0m\n\u001b[1;32m----> 5\u001b[1;33m                   remove_multicollinearity = False, multicollinearity_threshold = 0.95)\n\u001b[0m\u001b[0;32m      6\u001b[0m \u001b[1;31m#                   bin_numeric_features = ['LIMIT_BAL', 'AGE'],\u001b[0m\u001b[1;33m\u001b[0m\u001b[1;33m\u001b[0m\u001b[1;33m\u001b[0m\u001b[0m\n\u001b[0;32m      7\u001b[0m \u001b[1;31m#                   group_features = [['BILL_AMT1', 'BILL_AMT2','BILL_AMT3', 'BILL_AMT4', 'BILL_AMT5', 'BILL_AMT6'],\u001b[0m\u001b[1;33m\u001b[0m\u001b[1;33m\u001b[0m\u001b[1;33m\u001b[0m\u001b[0m\n",
      "\u001b[1;32m~\\AppData\\Roaming\\Python\\Python37\\site-packages\\pycaret\\classification.py\u001b[0m in \u001b[0;36msetup\u001b[1;34m(data, target, train_size, sampling, sample_estimator, categorical_features, categorical_imputation, ordinal_features, high_cardinality_features, high_cardinality_method, numeric_features, numeric_imputation, date_features, ignore_features, normalize, normalize_method, transformation, transformation_method, handle_unknown_categorical, unknown_categorical_method, pca, pca_method, pca_components, ignore_low_variance, combine_rare_levels, rare_level_threshold, bin_numeric_features, remove_outliers, outliers_threshold, remove_multicollinearity, multicollinearity_threshold, remove_perfect_collinearity, create_clusters, cluster_iter, polynomial_features, polynomial_degree, trigonometry_features, polynomial_threshold, group_features, group_names, feature_selection, feature_selection_threshold, feature_interaction, feature_ratio, interaction_threshold, fix_imbalance, fix_imbalance_method, data_split_shuffle, folds_shuffle, n_jobs, html, session_id, log_experiment, experiment_name, log_plots, log_profile, log_data, silent, verbose, profile)\u001b[0m\n\u001b[0;32m   1206\u001b[0m                                           \u001b[0mdisplay_types\u001b[0m \u001b[1;33m=\u001b[0m \u001b[0mdisplay_dtypes_pass\u001b[0m\u001b[1;33m,\u001b[0m \u001b[1;31m#this is for inferred input box\u001b[0m\u001b[1;33m\u001b[0m\u001b[1;33m\u001b[0m\u001b[0m\n\u001b[0;32m   1207\u001b[0m                                           \u001b[0mtarget_transformation\u001b[0m \u001b[1;33m=\u001b[0m \u001b[1;32mFalse\u001b[0m\u001b[1;33m,\u001b[0m \u001b[1;31m#not needed for classification\u001b[0m\u001b[1;33m\u001b[0m\u001b[1;33m\u001b[0m\u001b[0m\n\u001b[1;32m-> 1208\u001b[1;33m                                           random_state = seed)\n\u001b[0m\u001b[0;32m   1209\u001b[0m \u001b[1;33m\u001b[0m\u001b[0m\n\u001b[0;32m   1210\u001b[0m     \u001b[0mprogress\u001b[0m\u001b[1;33m.\u001b[0m\u001b[0mvalue\u001b[0m \u001b[1;33m+=\u001b[0m \u001b[1;36m1\u001b[0m\u001b[1;33m\u001b[0m\u001b[1;33m\u001b[0m\u001b[0m\n",
      "\u001b[1;32m~\\AppData\\Roaming\\Python\\Python37\\site-packages\\pycaret\\preprocess.py\u001b[0m in \u001b[0;36mPreprocess_Path_One\u001b[1;34m(train_data, target_variable, ml_usecase, test_data, categorical_features, numerical_features, time_features, features_todrop, display_types, imputation_type, numeric_imputation_strategy, categorical_imputation_strategy, apply_zero_nearZero_variance, club_rare_levels, rara_level_threshold_percentage, apply_untrained_levels_treatment, untrained_levels_treatment_method, apply_ordinal_encoding, ordinal_columns_and_categories, apply_cardinality_reduction, cardinal_method, cardinal_features, apply_binning, features_to_binn, apply_grouping, group_name, features_to_group_ListofList, apply_polynomial_trigonometry_features, max_polynomial, trigonometry_calculations, top_poly_trig_features_to_select_percentage, scale_data, scaling_method, Power_transform_data, Power_transform_method, target_transformation, target_transformation_method, remove_outliers, outlier_contamination_percentage, outlier_methods, apply_feature_selection, feature_selection_top_features_percentage, remove_multicollinearity, maximum_correlation_between_features, remove_perfect_collinearity, apply_feature_interactions, feature_interactions_to_apply, feature_interactions_top_features_to_select_percentage, cluster_entire_data, range_of_clusters_to_try, apply_pca, pca_method, pca_variance_retained_or_number_of_components, random_state)\u001b[0m\n\u001b[0;32m   2563\u001b[0m     \u001b[1;32mreturn\u001b[0m\u001b[1;33m(\u001b[0m\u001b[0mpipe\u001b[0m\u001b[1;33m.\u001b[0m\u001b[0mfit_transform\u001b[0m\u001b[1;33m(\u001b[0m\u001b[0mtrain_data\u001b[0m\u001b[1;33m)\u001b[0m\u001b[1;33m,\u001b[0m\u001b[0mpipe\u001b[0m\u001b[1;33m.\u001b[0m\u001b[0mtransform\u001b[0m\u001b[1;33m(\u001b[0m\u001b[0mtest_data\u001b[0m\u001b[1;33m)\u001b[0m\u001b[1;33m)\u001b[0m\u001b[1;33m\u001b[0m\u001b[1;33m\u001b[0m\u001b[0m\n\u001b[0;32m   2564\u001b[0m   \u001b[1;32melse\u001b[0m\u001b[1;33m:\u001b[0m\u001b[1;33m\u001b[0m\u001b[1;33m\u001b[0m\u001b[0m\n\u001b[1;32m-> 2565\u001b[1;33m     \u001b[1;32mreturn\u001b[0m\u001b[1;33m(\u001b[0m\u001b[0mpipe\u001b[0m\u001b[1;33m.\u001b[0m\u001b[0mfit_transform\u001b[0m\u001b[1;33m(\u001b[0m\u001b[0mtrain_data\u001b[0m\u001b[1;33m)\u001b[0m\u001b[1;33m)\u001b[0m\u001b[1;33m\u001b[0m\u001b[1;33m\u001b[0m\u001b[0m\n\u001b[0m\u001b[0;32m   2566\u001b[0m \u001b[1;33m\u001b[0m\u001b[0m\n\u001b[0;32m   2567\u001b[0m \u001b[1;33m\u001b[0m\u001b[0m\n",
      "\u001b[1;32mC:\\ProgramData\\Anaconda3\\envs\\untitled\\lib\\site-packages\\sklearn\\pipeline.py\u001b[0m in \u001b[0;36mfit_transform\u001b[1;34m(self, X, y, **fit_params)\u001b[0m\n\u001b[0;32m    365\u001b[0m         \"\"\"\n\u001b[0;32m    366\u001b[0m         \u001b[0mfit_params_steps\u001b[0m \u001b[1;33m=\u001b[0m \u001b[0mself\u001b[0m\u001b[1;33m.\u001b[0m\u001b[0m_check_fit_params\u001b[0m\u001b[1;33m(\u001b[0m\u001b[1;33m**\u001b[0m\u001b[0mfit_params\u001b[0m\u001b[1;33m)\u001b[0m\u001b[1;33m\u001b[0m\u001b[1;33m\u001b[0m\u001b[0m\n\u001b[1;32m--> 367\u001b[1;33m         \u001b[0mXt\u001b[0m \u001b[1;33m=\u001b[0m \u001b[0mself\u001b[0m\u001b[1;33m.\u001b[0m\u001b[0m_fit\u001b[0m\u001b[1;33m(\u001b[0m\u001b[0mX\u001b[0m\u001b[1;33m,\u001b[0m \u001b[0my\u001b[0m\u001b[1;33m,\u001b[0m \u001b[1;33m**\u001b[0m\u001b[0mfit_params_steps\u001b[0m\u001b[1;33m)\u001b[0m\u001b[1;33m\u001b[0m\u001b[1;33m\u001b[0m\u001b[0m\n\u001b[0m\u001b[0;32m    368\u001b[0m \u001b[1;33m\u001b[0m\u001b[0m\n\u001b[0;32m    369\u001b[0m         \u001b[0mlast_step\u001b[0m \u001b[1;33m=\u001b[0m \u001b[0mself\u001b[0m\u001b[1;33m.\u001b[0m\u001b[0m_final_estimator\u001b[0m\u001b[1;33m\u001b[0m\u001b[1;33m\u001b[0m\u001b[0m\n",
      "\u001b[1;32mC:\\ProgramData\\Anaconda3\\envs\\untitled\\lib\\site-packages\\sklearn\\pipeline.py\u001b[0m in \u001b[0;36m_fit\u001b[1;34m(self, X, y, **fit_params_steps)\u001b[0m\n\u001b[0;32m    294\u001b[0m                 \u001b[0mmessage_clsname\u001b[0m\u001b[1;33m=\u001b[0m\u001b[1;34m'Pipeline'\u001b[0m\u001b[1;33m,\u001b[0m\u001b[1;33m\u001b[0m\u001b[1;33m\u001b[0m\u001b[0m\n\u001b[0;32m    295\u001b[0m                 \u001b[0mmessage\u001b[0m\u001b[1;33m=\u001b[0m\u001b[0mself\u001b[0m\u001b[1;33m.\u001b[0m\u001b[0m_log_message\u001b[0m\u001b[1;33m(\u001b[0m\u001b[0mstep_idx\u001b[0m\u001b[1;33m)\u001b[0m\u001b[1;33m,\u001b[0m\u001b[1;33m\u001b[0m\u001b[1;33m\u001b[0m\u001b[0m\n\u001b[1;32m--> 296\u001b[1;33m                 **fit_params_steps[name])\n\u001b[0m\u001b[0;32m    297\u001b[0m             \u001b[1;31m# Replace the transformer of the step with the fitted\u001b[0m\u001b[1;33m\u001b[0m\u001b[1;33m\u001b[0m\u001b[1;33m\u001b[0m\u001b[0m\n\u001b[0;32m    298\u001b[0m             \u001b[1;31m# transformer. This is necessary when loading the transformer\u001b[0m\u001b[1;33m\u001b[0m\u001b[1;33m\u001b[0m\u001b[1;33m\u001b[0m\u001b[0m\n",
      "\u001b[1;32m~\\AppData\\Roaming\\Python\\Python37\\site-packages\\joblib\\memory.py\u001b[0m in \u001b[0;36m__call__\u001b[1;34m(self, *args, **kwargs)\u001b[0m\n\u001b[0;32m    353\u001b[0m \u001b[1;33m\u001b[0m\u001b[0m\n\u001b[0;32m    354\u001b[0m     \u001b[1;32mdef\u001b[0m \u001b[0m__call__\u001b[0m\u001b[1;33m(\u001b[0m\u001b[0mself\u001b[0m\u001b[1;33m,\u001b[0m \u001b[1;33m*\u001b[0m\u001b[0margs\u001b[0m\u001b[1;33m,\u001b[0m \u001b[1;33m**\u001b[0m\u001b[0mkwargs\u001b[0m\u001b[1;33m)\u001b[0m\u001b[1;33m:\u001b[0m\u001b[1;33m\u001b[0m\u001b[1;33m\u001b[0m\u001b[0m\n\u001b[1;32m--> 355\u001b[1;33m         \u001b[1;32mreturn\u001b[0m \u001b[0mself\u001b[0m\u001b[1;33m.\u001b[0m\u001b[0mfunc\u001b[0m\u001b[1;33m(\u001b[0m\u001b[1;33m*\u001b[0m\u001b[0margs\u001b[0m\u001b[1;33m,\u001b[0m \u001b[1;33m**\u001b[0m\u001b[0mkwargs\u001b[0m\u001b[1;33m)\u001b[0m\u001b[1;33m\u001b[0m\u001b[1;33m\u001b[0m\u001b[0m\n\u001b[0m\u001b[0;32m    356\u001b[0m \u001b[1;33m\u001b[0m\u001b[0m\n\u001b[0;32m    357\u001b[0m     \u001b[1;32mdef\u001b[0m \u001b[0mcall_and_shelve\u001b[0m\u001b[1;33m(\u001b[0m\u001b[0mself\u001b[0m\u001b[1;33m,\u001b[0m \u001b[1;33m*\u001b[0m\u001b[0margs\u001b[0m\u001b[1;33m,\u001b[0m \u001b[1;33m**\u001b[0m\u001b[0mkwargs\u001b[0m\u001b[1;33m)\u001b[0m\u001b[1;33m:\u001b[0m\u001b[1;33m\u001b[0m\u001b[1;33m\u001b[0m\u001b[0m\n",
      "\u001b[1;32mC:\\ProgramData\\Anaconda3\\envs\\untitled\\lib\\site-packages\\sklearn\\pipeline.py\u001b[0m in \u001b[0;36m_fit_transform_one\u001b[1;34m(transformer, X, y, weight, message_clsname, message, **fit_params)\u001b[0m\n\u001b[0;32m    738\u001b[0m     \u001b[1;32mwith\u001b[0m \u001b[0m_print_elapsed_time\u001b[0m\u001b[1;33m(\u001b[0m\u001b[0mmessage_clsname\u001b[0m\u001b[1;33m,\u001b[0m \u001b[0mmessage\u001b[0m\u001b[1;33m)\u001b[0m\u001b[1;33m:\u001b[0m\u001b[1;33m\u001b[0m\u001b[1;33m\u001b[0m\u001b[0m\n\u001b[0;32m    739\u001b[0m         \u001b[1;32mif\u001b[0m \u001b[0mhasattr\u001b[0m\u001b[1;33m(\u001b[0m\u001b[0mtransformer\u001b[0m\u001b[1;33m,\u001b[0m \u001b[1;34m'fit_transform'\u001b[0m\u001b[1;33m)\u001b[0m\u001b[1;33m:\u001b[0m\u001b[1;33m\u001b[0m\u001b[1;33m\u001b[0m\u001b[0m\n\u001b[1;32m--> 740\u001b[1;33m             \u001b[0mres\u001b[0m \u001b[1;33m=\u001b[0m \u001b[0mtransformer\u001b[0m\u001b[1;33m.\u001b[0m\u001b[0mfit_transform\u001b[0m\u001b[1;33m(\u001b[0m\u001b[0mX\u001b[0m\u001b[1;33m,\u001b[0m \u001b[0my\u001b[0m\u001b[1;33m,\u001b[0m \u001b[1;33m**\u001b[0m\u001b[0mfit_params\u001b[0m\u001b[1;33m)\u001b[0m\u001b[1;33m\u001b[0m\u001b[1;33m\u001b[0m\u001b[0m\n\u001b[0m\u001b[0;32m    741\u001b[0m         \u001b[1;32melse\u001b[0m\u001b[1;33m:\u001b[0m\u001b[1;33m\u001b[0m\u001b[1;33m\u001b[0m\u001b[0m\n\u001b[0;32m    742\u001b[0m             \u001b[0mres\u001b[0m \u001b[1;33m=\u001b[0m \u001b[0mtransformer\u001b[0m\u001b[1;33m.\u001b[0m\u001b[0mfit\u001b[0m\u001b[1;33m(\u001b[0m\u001b[0mX\u001b[0m\u001b[1;33m,\u001b[0m \u001b[0my\u001b[0m\u001b[1;33m,\u001b[0m \u001b[1;33m**\u001b[0m\u001b[0mfit_params\u001b[0m\u001b[1;33m)\u001b[0m\u001b[1;33m.\u001b[0m\u001b[0mtransform\u001b[0m\u001b[1;33m(\u001b[0m\u001b[0mX\u001b[0m\u001b[1;33m)\u001b[0m\u001b[1;33m\u001b[0m\u001b[1;33m\u001b[0m\u001b[0m\n",
      "\u001b[1;32m~\\AppData\\Roaming\\Python\\Python37\\site-packages\\pycaret\\preprocess.py\u001b[0m in \u001b[0;36mfit_transform\u001b[1;34m(self, dataset, y)\u001b[0m\n\u001b[0;32m    338\u001b[0m     \u001b[0mdata\u001b[0m\u001b[1;33m=\u001b[0m \u001b[0mdataset\u001b[0m\u001b[1;33m.\u001b[0m\u001b[0mcopy\u001b[0m\u001b[1;33m(\u001b[0m\u001b[1;33m)\u001b[0m\u001b[1;33m\u001b[0m\u001b[1;33m\u001b[0m\u001b[0m\n\u001b[0;32m    339\u001b[0m     \u001b[1;31m# since this is for training , we dont nees any transformation since it has already been transformed in fit\u001b[0m\u001b[1;33m\u001b[0m\u001b[1;33m\u001b[0m\u001b[1;33m\u001b[0m\u001b[0m\n\u001b[1;32m--> 340\u001b[1;33m     \u001b[0mdata\u001b[0m \u001b[1;33m=\u001b[0m \u001b[0mself\u001b[0m\u001b[1;33m.\u001b[0m\u001b[0mfit\u001b[0m\u001b[1;33m(\u001b[0m\u001b[0mdata\u001b[0m\u001b[1;33m)\u001b[0m\u001b[1;33m\u001b[0m\u001b[1;33m\u001b[0m\u001b[0m\n\u001b[0m\u001b[0;32m    341\u001b[0m \u001b[1;33m\u001b[0m\u001b[0m\n\u001b[0;32m    342\u001b[0m     \u001b[1;31m# additionally we just need to treat the target variable\u001b[0m\u001b[1;33m\u001b[0m\u001b[1;33m\u001b[0m\u001b[1;33m\u001b[0m\u001b[0m\n",
      "\u001b[1;32m~\\AppData\\Roaming\\Python\\Python37\\site-packages\\pycaret\\preprocess.py\u001b[0m in \u001b[0;36mfit\u001b[1;34m(self, dataset, y)\u001b[0m\n\u001b[0;32m    274\u001b[0m \u001b[1;33m\u001b[0m\u001b[0m\n\u001b[0;32m    275\u001b[0m       \u001b[0mdisplay\u001b[0m\u001b[1;33m(\u001b[0m\u001b[0mdt_print_out\u001b[0m\u001b[1;33m[\u001b[0m\u001b[1;33m[\u001b[0m\u001b[1;34m'Data Type'\u001b[0m\u001b[1;33m]\u001b[0m\u001b[1;33m]\u001b[0m\u001b[1;33m)\u001b[0m\u001b[1;33m\u001b[0m\u001b[1;33m\u001b[0m\u001b[0m\n\u001b[1;32m--> 276\u001b[1;33m       \u001b[0mself\u001b[0m\u001b[1;33m.\u001b[0m\u001b[0mresponse\u001b[0m \u001b[1;33m=\u001b[0m \u001b[0minput\u001b[0m\u001b[1;33m(\u001b[0m\u001b[1;33m)\u001b[0m\u001b[1;33m\u001b[0m\u001b[1;33m\u001b[0m\u001b[0m\n\u001b[0m\u001b[0;32m    277\u001b[0m \u001b[1;33m\u001b[0m\u001b[0m\n\u001b[0;32m    278\u001b[0m \u001b[1;33m\u001b[0m\u001b[0m\n",
      "\u001b[1;32m~\\AppData\\Roaming\\Python\\Python37\\site-packages\\ipykernel\\kernelbase.py\u001b[0m in \u001b[0;36mraw_input\u001b[1;34m(self, prompt)\u001b[0m\n\u001b[0;32m    861\u001b[0m             \u001b[0mself\u001b[0m\u001b[1;33m.\u001b[0m\u001b[0m_parent_ident\u001b[0m\u001b[1;33m,\u001b[0m\u001b[1;33m\u001b[0m\u001b[1;33m\u001b[0m\u001b[0m\n\u001b[0;32m    862\u001b[0m             \u001b[0mself\u001b[0m\u001b[1;33m.\u001b[0m\u001b[0m_parent_header\u001b[0m\u001b[1;33m,\u001b[0m\u001b[1;33m\u001b[0m\u001b[1;33m\u001b[0m\u001b[0m\n\u001b[1;32m--> 863\u001b[1;33m             \u001b[0mpassword\u001b[0m\u001b[1;33m=\u001b[0m\u001b[1;32mFalse\u001b[0m\u001b[1;33m,\u001b[0m\u001b[1;33m\u001b[0m\u001b[1;33m\u001b[0m\u001b[0m\n\u001b[0m\u001b[0;32m    864\u001b[0m         )\n\u001b[0;32m    865\u001b[0m \u001b[1;33m\u001b[0m\u001b[0m\n",
      "\u001b[1;32m~\\AppData\\Roaming\\Python\\Python37\\site-packages\\ipykernel\\kernelbase.py\u001b[0m in \u001b[0;36m_input_request\u001b[1;34m(self, prompt, ident, parent, password)\u001b[0m\n\u001b[0;32m    902\u001b[0m             \u001b[1;32mexcept\u001b[0m \u001b[0mKeyboardInterrupt\u001b[0m\u001b[1;33m:\u001b[0m\u001b[1;33m\u001b[0m\u001b[1;33m\u001b[0m\u001b[0m\n\u001b[0;32m    903\u001b[0m                 \u001b[1;31m# re-raise KeyboardInterrupt, to truncate traceback\u001b[0m\u001b[1;33m\u001b[0m\u001b[1;33m\u001b[0m\u001b[1;33m\u001b[0m\u001b[0m\n\u001b[1;32m--> 904\u001b[1;33m                 \u001b[1;32mraise\u001b[0m \u001b[0mKeyboardInterrupt\u001b[0m\u001b[1;33m(\u001b[0m\u001b[1;34m\"Interrupted by user\"\u001b[0m\u001b[1;33m)\u001b[0m \u001b[1;32mfrom\u001b[0m \u001b[1;32mNone\u001b[0m\u001b[1;33m\u001b[0m\u001b[1;33m\u001b[0m\u001b[0m\n\u001b[0m\u001b[0;32m    905\u001b[0m             \u001b[1;32mexcept\u001b[0m \u001b[0mException\u001b[0m \u001b[1;32mas\u001b[0m \u001b[0me\u001b[0m\u001b[1;33m:\u001b[0m\u001b[1;33m\u001b[0m\u001b[1;33m\u001b[0m\u001b[0m\n\u001b[0;32m    906\u001b[0m                 \u001b[0mself\u001b[0m\u001b[1;33m.\u001b[0m\u001b[0mlog\u001b[0m\u001b[1;33m.\u001b[0m\u001b[0mwarning\u001b[0m\u001b[1;33m(\u001b[0m\u001b[1;34m\"Invalid Message:\"\u001b[0m\u001b[1;33m,\u001b[0m \u001b[0mexc_info\u001b[0m\u001b[1;33m=\u001b[0m\u001b[1;32mTrue\u001b[0m\u001b[1;33m)\u001b[0m\u001b[1;33m\u001b[0m\u001b[1;33m\u001b[0m\u001b[0m\n",
      "\u001b[1;31mKeyboardInterrupt\u001b[0m: Interrupted by user"
     ]
    }
   ],
   "source": [
    "exp_clf102 = setup(data = data_df, target = 'labels', session_id=123,\n",
    "                  normalize = False, \n",
    "                  transformation = False, \n",
    "                  ignore_low_variance = False, fix_imbalance=False,\n",
    "                  remove_multicollinearity = False, multicollinearity_threshold = 0.95)\n",
    "#                   bin_numeric_features = ['LIMIT_BAL', 'AGE'],\n",
    "#                   group_features = [['BILL_AMT1', 'BILL_AMT2','BILL_AMT3', 'BILL_AMT4', 'BILL_AMT5', 'BILL_AMT6'],\n",
    "#                                    ['PAY_AMT1','PAY_AMT2', 'PAY_AMT3', 'PAY_AMT4', 'PAY_AMT5', 'PAY_AMT6']]) "
   ]
  },
  {
   "cell_type": "code",
   "execution_count": null,
   "metadata": {},
   "outputs": [],
   "source": [
    "compare_models()"
   ]
  },
  {
   "cell_type": "code",
   "execution_count": null,
   "metadata": {},
   "outputs": [],
   "source": [
    "data_df[data_df['labels']==1].shape"
   ]
  },
  {
   "cell_type": "code",
   "execution_count": null,
   "metadata": {},
   "outputs": [],
   "source": [
    "data_df[data_df['labels']==0].shape"
   ]
  },
  {
   "cell_type": "code",
   "execution_count": null,
   "metadata": {},
   "outputs": [],
   "source": [
    "511/(286+511)"
   ]
  },
  {
   "cell_type": "code",
   "execution_count": null,
   "metadata": {},
   "outputs": [],
   "source": [
    "clean_left_df = pd.read_csv('clean_left.csv', index_col=0)\n",
    "clean_right_df = pd.read_csv('clean_right.csv', index_col=0)\n"
   ]
  },
  {
   "cell_type": "code",
   "execution_count": null,
   "metadata": {},
   "outputs": [],
   "source": [
    "exp_clf102 = setup(data = clean_left_df, target = 'labels', session_id=123,\n",
    "                  normalize = False, \n",
    "                  transformation = False, \n",
    "                  ignore_low_variance = False, fix_imbalance=False,\n",
    "                  remove_multicollinearity = False, multicollinearity_threshold = 0.95)\n",
    "#                   bin_numeric_features = ['LIMIT_BAL', 'AGE'],\n",
    "#                   group_features = [['BILL_AMT1', 'BILL_AMT2','BILL_AMT3', 'BILL_AMT4', 'BILL_AMT5', 'BILL_AMT6'],\n",
    "#                                    ['PAY_AMT1','PAY_AMT2', 'PAY_AMT3', 'PAY_AMT4', 'PAY_AMT5', 'PAY_AMT6']]) "
   ]
  },
  {
   "cell_type": "code",
   "execution_count": null,
   "metadata": {},
   "outputs": [],
   "source": [
    "compare_models()"
   ]
  },
  {
   "cell_type": "code",
   "execution_count": null,
   "metadata": {},
   "outputs": [],
   "source": [
    "exp_clf102 = setup(data = clean_right_df, target = 'labels', session_id=123,\n",
    "                  normalize = False, \n",
    "                  transformation = False, \n",
    "                  ignore_low_variance = False, fix_imbalance=False,\n",
    "                  remove_multicollinearity = False, multicollinearity_threshold = 0.95)\n",
    "#                   bin_numeric_features = ['LIMIT_BAL', 'AGE'],\n",
    "#                   group_features = [['BILL_AMT1', 'BILL_AMT2','BILL_AMT3', 'BILL_AMT4', 'BILL_AMT5', 'BILL_AMT6'],\n",
    "#                                    ['PAY_AMT1','PAY_AMT2', 'PAY_AMT3', 'PAY_AMT4', 'PAY_AMT5', 'PAY_AMT6']]) "
   ]
  },
  {
   "cell_type": "code",
   "execution_count": null,
   "metadata": {},
   "outputs": [],
   "source": [
    "compare_models()"
   ]
  },
  {
   "cell_type": "code",
   "execution_count": null,
   "metadata": {},
   "outputs": [],
   "source": [
    "lg = create_model('ridge')"
   ]
  },
  {
   "cell_type": "code",
   "execution_count": null,
   "metadata": {},
   "outputs": [],
   "source": [
    "lr = tune_model(lg)"
   ]
  },
  {
   "cell_type": "code",
   "execution_count": null,
   "metadata": {},
   "outputs": [],
   "source": [
    "coef_norm = lr.coef_.T/np.max(lr.coef_)\n",
    "np.argmax(coef_norm)"
   ]
  },
  {
   "cell_type": "code",
   "execution_count": null,
   "metadata": {},
   "outputs": [],
   "source": [
    "coef_norm[84] = -1"
   ]
  },
  {
   "cell_type": "code",
   "execution_count": null,
   "metadata": {},
   "outputs": [],
   "source": [
    "np.argmax(coef_norm)"
   ]
  },
  {
   "cell_type": "code",
   "execution_count": null,
   "metadata": {},
   "outputs": [],
   "source": [
    "clean_left_df.columns[84]"
   ]
  },
  {
   "cell_type": "code",
   "execution_count": null,
   "metadata": {},
   "outputs": [],
   "source": [
    "clean_left_df.columns[124]"
   ]
  },
  {
   "cell_type": "code",
   "execution_count": 2,
   "metadata": {},
   "outputs": [],
   "source": [
    "df = pd.read_csv('D:\\\\PhD\\\\Data\\\\aparc\\\\all_data.csv', index_col=0)"
   ]
  },
  {
   "cell_type": "code",
   "execution_count": 8,
   "metadata": {},
   "outputs": [],
   "source": [
    "import matplotlib.pyplot as plt\n",
    "import seaborn as sns"
   ]
  },
  {
   "cell_type": "code",
   "execution_count": 14,
   "metadata": {},
   "outputs": [
    {
     "data": {
      "text/plain": [
       "Index(['thick_lbankssts_med', 'thick_lbankssts_20-80range',\n",
       "       'thick_lcaudalanteriorcingulate_med',\n",
       "       'thick_lcaudalanteriorcingulate_20-80range',\n",
       "       'thick_lcaudalmiddlefrontal_med',\n",
       "       'thick_lcaudalmiddlefrontal_20-80range', 'thick_lcuneus_med',\n",
       "       'thick_lcuneus_20-80range', 'thick_lentorhinal_med',\n",
       "       'thick_lentorhinal_20-80range',\n",
       "       ...\n",
       "       'vol_rfrontalpole_20-80range', 'vol_rtemporalpole_med',\n",
       "       'vol_rtemporalpole_20-80range', 'vol_rtransversetemporal_med',\n",
       "       'vol_rtransversetemporal_20-80range', 'vol_rinsula_med',\n",
       "       'vol_rinsula_20-80range', 'age', 'sex', 'labels'],\n",
       "      dtype='object', length=547)"
      ]
     },
     "execution_count": 14,
     "metadata": {},
     "output_type": "execute_result"
    }
   ],
   "source": [
    "df.columns"
   ]
  },
  {
   "cell_type": "code",
   "execution_count": 15,
   "metadata": {},
   "outputs": [
    {
     "data": {
      "text/plain": [
       "<seaborn.axisgrid.PairGrid at 0x2d98ec9ae08>"
      ]
     },
     "execution_count": 15,
     "metadata": {},
     "output_type": "execute_result"
    },
    {
     "data": {
      "image/png": "[encoded data removed]",
      "text/plain": [
       "<Figure size 180x180 with 1 Axes>"
      ]
     },
     "metadata": {
      "needs_background": "light"
     },
     "output_type": "display_data"
    }
   ],
   "source": [
    "sns.pairplot(x_vars='thick_lcaudalanteriorcingulate_med', y_vars='thick_rcaudalanteriorcingulate_med', data=df)"
   ]
  },
  {
   "cell_type": "code",
   "execution_count": 16,
   "metadata": {},
   "outputs": [
    {
     "data": {
      "image/png": "[encoded data removed]",
      "text/plain": [
       "<Figure size 864x720 with 4 Axes>"
      ]
     },
     "metadata": {
      "needs_background": "light"
     },
     "output_type": "display_data"
    }
   ],
   "source": [
    "# st.use('fast')\n",
    "fig, axes = plt.subplots(2,2, figsize=(12,10))\n",
    "axes[0][0].plot(df['thick_lcaudalanteriorcingulate_med'],\n",
    "                df['thick_rcaudalanteriorcingulate_med'], label='Thickness_Caudalanteriorcingulate')\n",
    "axes[0][0].set_xlabel('Thickness of left caudal anterior cingulate cortex')\n",
    "axes[0][0].set_ylabel('Thickness of right caudal anterior cingulate cortex')\n",
    "\n",
    "axes[0][1].plot(df['curv_rfrontalpole_med'],\n",
    "                df['curv_lfrontalpole_med'], label='Curvature_Frontalpole')\n",
    "axes[0][1].set_xlabel('Curvature of left Frontal pole ')\n",
    "axes[0][1].set_ylabel('Curvature of right Frontal pole ')\n",
    "\n",
    "axes[1][0].plot(df['area_rtransversetemporal_med'],\n",
    "                df['area_ltransversetemporal_med'], label='Area_Transversetemporal')\n",
    "axes[1][0].set_xlabel('Surface area of left Transverse temporal gyrus')\n",
    "axes[1][0].set_ylabel('Surface area of right Transverse temporal gyrus')\n",
    "\n",
    "axes[1][1].plot(df['thick_linsula_med'],\n",
    "                df['thick_rinsula_med'], label='Thickness_Insula')\n",
    "axes[1][1].set_xlabel('Thickness of left Insular cortex ')\n",
    "axes[1][1].set_ylabel('Thickness of right Insular cortex ')\n",
    "plt.show()"
   ]
  },
  {
   "cell_type": "code",
   "execution_count": null,
   "metadata": {},
   "outputs": [],
   "source": [
    "import matplotlib.style as st"
   ]
  },
  {
   "cell_type": "code",
   "execution_count": null,
   "metadata": {},
   "outputs": [],
   "source": [
    "st.available"
   ]
  },
  {
   "cell_type": "code",
   "execution_count": 17,
   "metadata": {},
   "outputs": [
    {
     "data": {
      "text/plain": [
       "(797, 547)"
      ]
     },
     "execution_count": 17,
     "metadata": {},
     "output_type": "execute_result"
    }
   ],
   "source": [
    "df.shape"
   ]
  },
  {
   "cell_type": "code",
   "execution_count": 18,
   "metadata": {},
   "outputs": [
    {
     "data": {
      "text/plain": [
       "4.0"
      ]
     },
     "execution_count": 18,
     "metadata": {},
     "output_type": "execute_result"
    }
   ],
   "source": [
    "544/(68*2)"
   ]
  },
  {
   "cell_type": "code",
   "execution_count": 3,
   "metadata": {},
   "outputs": [
    {
     "data": {
      "text/plain": [
       "(286, 547)"
      ]
     },
     "execution_count": 3,
     "metadata": {},
     "output_type": "execute_result"
    }
   ],
   "source": [
    "df[df['labels']==1].shape"
   ]
  },
  {
   "cell_type": "code",
   "execution_count": 4,
   "metadata": {},
   "outputs": [
    {
     "data": {
      "text/plain": [
       "(511, 547)"
      ]
     },
     "execution_count": 4,
     "metadata": {},
     "output_type": "execute_result"
    }
   ],
   "source": [
    "df[df['labels']==0].shape"
   ]
  },
  {
   "cell_type": "code",
   "execution_count": 13,
   "metadata": {},
   "outputs": [],
   "source": [
    "obj_left = load('RFECV_RandomForestClassifier_left_2020-09-05_17-48-33.joblib')\n",
    "obj_right = load('RFECV_RandomForestClassifier_right_2020-09-05_18-02-51.joblib')\n",
    "obj_left_1svc = load('RFECV_LinearSVC_left_hier_2020-09-07_00-22-59.joblib')\n",
    "obj_left_2svc = load('RFECV_LinearSVC_left_hier_2020-09-07_00-24-18.joblib')\n",
    "obj_left_3svc = load('RFECV_LinearSVC_left_hier_2020-09-07_00-25-13.joblib')\n",
    "\n",
    "obj_left_1rf = load('RFECV_RandomForestClassifier_left_hier_2020-09-06_23-55-39.joblib')\n",
    "obj_left_2rf = load('RFECV_RandomForestClassifier_left_hier_2020-09-07_00-07-54.joblib')\n",
    "obj_left_3rf = load('RFECV_RandomForestClassifier_left_hier_2020-09-07_00-20-13.joblib')\n"
   ]
  },
  {
   "cell_type": "code",
   "execution_count": 6,
   "metadata": {},
   "outputs": [
    {
     "ename": "SyntaxError",
     "evalue": "invalid syntax (<ipython-input-6-fa89193f3ee7>, line 5)",
     "output_type": "error",
     "traceback": [
      "\u001b[1;36m  File \u001b[1;32m\"<ipython-input-6-fa89193f3ee7>\"\u001b[1;36m, line \u001b[1;32m5\u001b[0m\n\u001b[1;33m    axes.[0].set_ylabel('balanced accuracy')\u001b[0m\n\u001b[1;37m         ^\u001b[0m\n\u001b[1;31mSyntaxError\u001b[0m\u001b[1;31m:\u001b[0m invalid syntax\n"
     ]
    }
   ],
   "source": [
    "fig, axes = plt.subplots(1,2,sharey=True,figsize(12,10))\n",
    "axes[0].plot(range(1, len(obj_left.grid_scores_)+1), obj_left.grid_scores_, label='Left hemisphere')\n",
    "axes[1].plot(range(1, len(obj_right.grid_scores_)+1), obj_right.grid_scores_, label='Right hemisphere')\n",
    "axes[1].set_xlabel('Feature index')\n",
    "axes[0].set_ylabel('balanced accuracy')\n"
   ]
  },
  {
   "cell_type": "code",
   "execution_count": 16,
   "metadata": {},
   "outputs": [
    {
     "data": {
      "image/png": "[encoded data removed]",
      "text/plain": [
       "<Figure size 432x288 with 1 Axes>"
      ]
     },
     "metadata": {
      "needs_background": "light"
     },
     "output_type": "display_data"
    }
   ],
   "source": [
    "# plt.plot(range(1, len(obj_left_1svc.grid_scores_)+1), obj_left_1svc.grid_scores_, label='SVM1 hemisphere')\n",
    "# plt.plot(range(1, len(obj_left_2svc.grid_scores_)+1), obj_left_2svc.grid_scores_, label='SVM2 hemisphere')\n",
    "# plt.plot(range(1, len(obj_left_3svc.grid_scores_)+1), obj_left_3svc.grid_scores_, label='SVM3 hemisphere')\n",
    "\n",
    "plt.plot(range(1, len(obj_left_1rf.grid_scores_)+1), obj_left_1rf.grid_scores_, label='RF1 hemisphere')\n",
    "plt.plot(range(1, len(obj_left_2rf.grid_scores_)+1), obj_left_2rf.grid_scores_, label='RF2 hemisphere')\n",
    "plt.plot(range(1, len(obj_left_3rf.grid_scores_)+1), obj_left_3rf.grid_scores_, label='RF3 hemisphere')\n",
    "\n",
    "plt.xlabel('Feature index')\n",
    "plt.ylabel('balanced accuracy')\n",
    "plt.title('RFECV')\n",
    "plt.legend()\n",
    "plt.show()"
   ]
  },
  {
   "cell_type": "code",
   "execution_count": 17,
   "metadata": {},
   "outputs": [
    {
     "data": {
      "image/png": "[encoded data removed]",
      "text/plain": [
       "<Figure size 432x288 with 1 Axes>"
      ]
     },
     "metadata": {
      "needs_background": "light"
     },
     "output_type": "display_data"
    }
   ],
   "source": [
    "plt.plot(range(1, len(obj_left_1svc.grid_scores_)+1), obj_left_1svc.grid_scores_, label='SVM1 hemisphere')\n",
    "plt.plot(range(1, len(obj_left_2svc.grid_scores_)+1), obj_left_2svc.grid_scores_, label='SVM2 hemisphere')\n",
    "plt.plot(range(1, len(obj_left_3svc.grid_scores_)+1), obj_left_3svc.grid_scores_, label='SVM3 hemisphere')\n",
    "\n",
    "# plt.plot(range(1, len(obj_left_1rf.grid_scores_)+1), obj_left_1rf.grid_scores_, label='RF1 hemisphere')\n",
    "# plt.plot(range(1, len(obj_left_2rf.grid_scores_)+1), obj_left_2rf.grid_scores_, label='RF2 hemisphere')\n",
    "# plt.plot(range(1, len(obj_left_3rf.grid_scores_)+1), obj_left_3rf.grid_scores_, label='RF3 hemisphere')\n",
    "\n",
    "plt.xlabel('Feature index')\n",
    "plt.ylabel('balanced accuracy')\n",
    "plt.title('RFECV')\n",
    "plt.legend()\n",
    "plt.show()"
   ]
  },
  {
   "cell_type": "code",
   "execution_count": 22,
   "metadata": {},
   "outputs": [],
   "source": [
    "import os\n",
    "import constants"
   ]
  },
  {
   "cell_type": "code",
   "execution_count": 23,
   "metadata": {},
   "outputs": [],
   "source": [
    "main_dir = './Results/ML'\n",
    "obj_left_rf = load(os.path.join(main_dir, \"clf_left_rf.joblib\"))\n",
    "obj_right_rf = load(os.path.join(main_dir, \"clf_right_rf.joblib\"))\n",
    "obj_left_svm = load(os.path.join(main_dir, \"clf_left_svm.joblib\"))\n",
    "obj_right_svm = load(os.path.join(main_dir, \"clf_right_svm.joblib\"))"
   ]
  },
  {
   "cell_type": "code",
   "execution_count": 34,
   "metadata": {},
   "outputs": [
    {
     "data": {
      "text/plain": [
       "dict_keys(['lSVM', 'pagg', 'lg', 'XGB', 'GNB', 'Rf', 'SVC'])"
      ]
     },
     "execution_count": 34,
     "metadata": {},
     "output_type": "execute_result"
    }
   ],
   "source": [
    "obj_left_rf.keys()"
   ]
  },
  {
   "cell_type": "code",
   "execution_count": 107,
   "metadata": {},
   "outputs": [
    {
     "data": {
      "text/plain": [
       "dict_keys(['mean_fit_time', 'std_fit_time', 'mean_score_time', 'std_score_time', 'param_bootstrap', 'param_criterion', 'param_max_features', 'param_min_samples_leaf', 'param_min_samples_split', 'param_n_estimators', 'params', 'split0_test_score', 'split1_test_score', 'split2_test_score', 'split3_test_score', 'split4_test_score', 'mean_test_score', 'std_test_score', 'rank_test_score', 'split0_train_score', 'split1_train_score', 'split2_train_score', 'split3_train_score', 'split4_train_score', 'mean_train_score', 'std_train_score'])"
      ]
     },
     "execution_count": 107,
     "metadata": {},
     "output_type": "execute_result"
    }
   ],
   "source": [
    "obj_left_rf['Rf'].cv_results_.keys()"
   ]
  },
  {
   "cell_type": "code",
   "execution_count": 111,
   "metadata": {},
   "outputs": [
    {
     "data": {
      "text/plain": [
       "720"
      ]
     },
     "execution_count": 111,
     "metadata": {},
     "output_type": "execute_result"
    }
   ],
   "source": [
    "len(obj_left_rf['Rf'].cv_results_['mean_train_score'])"
   ]
  },
  {
   "cell_type": "code",
   "execution_count": 36,
   "metadata": {},
   "outputs": [
    {
     "data": {
      "text/plain": [
       "0.57696607740086"
      ]
     },
     "execution_count": 36,
     "metadata": {},
     "output_type": "execute_result"
    }
   ],
   "source": [
    "obj_left_rf['lSVM'].best_score_"
   ]
  },
  {
   "cell_type": "code",
   "execution_count": 37,
   "metadata": {},
   "outputs": [
    {
     "data": {
      "text/plain": [
       "0.6011095185008228"
      ]
     },
     "execution_count": 37,
     "metadata": {},
     "output_type": "execute_result"
    }
   ],
   "source": [
    "obj_left_rf['pagg'].best_score_"
   ]
  },
  {
   "cell_type": "code",
   "execution_count": 38,
   "metadata": {},
   "outputs": [
    {
     "data": {
      "text/plain": [
       "0.5880161384509209"
      ]
     },
     "execution_count": 38,
     "metadata": {},
     "output_type": "execute_result"
    }
   ],
   "source": [
    "obj_left_rf['lg'].best_score_"
   ]
  },
  {
   "cell_type": "code",
   "execution_count": 39,
   "metadata": {},
   "outputs": [
    {
     "data": {
      "text/plain": [
       "0.6082056590752243"
      ]
     },
     "execution_count": 39,
     "metadata": {},
     "output_type": "execute_result"
    }
   ],
   "source": [
    "obj_left_rf['SVC'].best_score_"
   ]
  },
  {
   "cell_type": "code",
   "execution_count": 40,
   "metadata": {},
   "outputs": [
    {
     "data": {
      "text/plain": [
       "0.5673997982693636"
      ]
     },
     "execution_count": 40,
     "metadata": {},
     "output_type": "execute_result"
    }
   ],
   "source": [
    "obj_left_rf['XGB'].best_score_"
   ]
  },
  {
   "cell_type": "code",
   "execution_count": 41,
   "metadata": {},
   "outputs": [
    {
     "data": {
      "text/plain": [
       "0.5965912831130222"
      ]
     },
     "execution_count": 41,
     "metadata": {},
     "output_type": "execute_result"
    }
   ],
   "source": [
    "obj_right_rf['lSVM'].best_score_"
   ]
  },
  {
   "cell_type": "code",
   "execution_count": 42,
   "metadata": {},
   "outputs": [
    {
     "data": {
      "text/plain": [
       "0.5021739130434784"
      ]
     },
     "execution_count": 42,
     "metadata": {},
     "output_type": "execute_result"
    }
   ],
   "source": [
    "obj_right_rf['Rf'].best_score_"
   ]
  },
  {
   "cell_type": "code",
   "execution_count": 43,
   "metadata": {},
   "outputs": [
    {
     "data": {
      "text/plain": [
       "0.6011095185008228"
      ]
     },
     "execution_count": 43,
     "metadata": {},
     "output_type": "execute_result"
    }
   ],
   "source": [
    "obj_left_rf['pagg'].best_score_"
   ]
  },
  {
   "cell_type": "code",
   "execution_count": 46,
   "metadata": {},
   "outputs": [
    {
     "data": {
      "text/plain": [
       "0.5980304719435154"
      ]
     },
     "execution_count": 46,
     "metadata": {},
     "output_type": "execute_result"
    }
   ],
   "source": [
    "obj_left_svm['pagg'].best_score_"
   ]
  },
  {
   "cell_type": "code",
   "execution_count": 47,
   "metadata": {},
   "outputs": [
    {
     "data": {
      "text/plain": [
       "0.5043961352657005"
      ]
     },
     "execution_count": 47,
     "metadata": {},
     "output_type": "execute_result"
    }
   ],
   "source": [
    "obj_left_svm['Rf'].best_score_"
   ]
  },
  {
   "cell_type": "code",
   "execution_count": 48,
   "metadata": {},
   "outputs": [
    {
     "data": {
      "text/plain": [
       "0.600358337314859"
      ]
     },
     "execution_count": 48,
     "metadata": {},
     "output_type": "execute_result"
    }
   ],
   "source": [
    "obj_left_svm['SVC'].best_score_"
   ]
  },
  {
   "cell_type": "markdown",
   "metadata": {},
   "source": [
    "# Feature selection part analysis\n",
    "## Q1: Does the features vary between left and right hemispheres?\n",
    "## Q2: Does the features vary on using SVM or RF?\n",
    "## Q3: Which one of four has the highest grid score?"
   ]
  },
  {
   "cell_type": "code",
   "execution_count": 26,
   "metadata": {},
   "outputs": [],
   "source": [
    "# Load all data\n",
    "FS_DIR_LR = './Results/FS/left_rf_modifiedMedPIQR.joblib'\n",
    "FS_DIR_RR = './Results/FS/right_rf_modifiedMedPIQR.joblib'\n",
    "FS_DIR_LS = './Results/FS/left_svc_modifiedMedPIQR.joblib'\n",
    "FS_DIR_RS = './Results/FS/right_svc_modifiedMedPIQR.joblib'\n",
    "\n",
    "# Input matrices to the FS (coming from correlation analysis)\n",
    "df_left = pd.read_csv('./Results/CORR_ANA/left_train_noColliniarity_modifiedMedPIQR.csv', index_col=0)\n",
    "df_right = pd.read_csv('./Results/CORR_ANA/right_train_noColliniarity_modifiedMedPIQR.csv', index_col=0)\n",
    "\n",
    "\n",
    "LR_obj = load(FS_DIR_LR)\n",
    "RR_obj = load(FS_DIR_RR)\n",
    "LS_obj = load(FS_DIR_LS)\n",
    "RS_obj = load(FS_DIR_RS)"
   ]
  },
  {
   "cell_type": "code",
   "execution_count": 27,
   "metadata": {},
   "outputs": [],
   "source": [
    "df_clean_LR = df_left.iloc[:, np.where(LR_obj.ranking_==1)[0]]\n",
    "df_clean_RR = df_right.iloc[:, np.where(RR_obj.ranking_==1)[0]]\n",
    "df_clean_LS = df_left.iloc[:, np.where(LS_obj.ranking_==1)[0]]\n",
    "df_clean_RS = df_right.iloc[:, np.where(RS_obj.ranking_==1)[0]]"
   ]
  },
  {
   "cell_type": "markdown",
   "metadata": {},
   "source": [
    "## Answer to question 1"
   ]
  },
  {
   "cell_type": "code",
   "execution_count": 28,
   "metadata": {},
   "outputs": [],
   "source": [
    "# Get all selected features from all data matrices\n",
    "f_LR = df_clean_LR.columns.to_list()\n",
    "f_RR = df_clean_RR.columns.to_list()\n",
    "f_LS = df_clean_LS.columns.to_list()\n",
    "f_RS = df_clean_RS.columns.to_list()"
   ]
  },
  {
   "cell_type": "code",
   "execution_count": 29,
   "metadata": {},
   "outputs": [],
   "source": [
    "# Change left and right names to keep only brain region and morphology\n",
    "# without the added l and r\n",
    "def remove_l_r_fromname(list_of_names):\n",
    "    updated_names = []\n",
    "    for name in list_of_names:\n",
    "        nl = name.split('_')\n",
    "        lrpos = nl[1]\n",
    "        lrpos = lrpos[1:]\n",
    "        nl[1] = lrpos\n",
    "        updated_names.append('_'.join(nl))\n",
    "    return updated_names\n",
    "temp_list = f_LR[3:5]+f_RR[10:15]\n"
   ]
  },
  {
   "cell_type": "code",
   "execution_count": 30,
   "metadata": {},
   "outputs": [
    {
     "data": {
      "text/plain": [
       "['thick_fusiform_medPIQR',\n",
       " 'thick_isthmuscingulate_medMIQR',\n",
       " 'thick_posteriorcingulate_medMIQR',\n",
       " 'thick_rostralanteriorcingulate_medMIQR',\n",
       " 'thick_rostralanteriorcingulate_medPIQR',\n",
       " 'thick_frontalpole_medMIQR',\n",
       " 'thick_temporalpole_medMIQR']"
      ]
     },
     "execution_count": 30,
     "metadata": {},
     "output_type": "execute_result"
    }
   ],
   "source": [
    "remove_l_r_fromname(temp_list)"
   ]
  },
  {
   "cell_type": "code",
   "execution_count": 31,
   "metadata": {},
   "outputs": [],
   "source": [
    "def find_matchings(f_LR, f_RR):\n",
    "    updated_f_LR = remove_l_r_fromname(f_LR)\n",
    "    updated_f_RR = remove_l_r_fromname(f_RR)\n",
    "    common_featsLR = []\n",
    "    common_featsRR = []\n",
    "    only_LR_feats = []\n",
    "    only_RR_feats = []\n",
    "    for feat_LR in updated_f_LR:\n",
    "        if feat_LR in updated_f_RR:\n",
    "            common_featsLR.append(feat_LR)\n",
    "        else:\n",
    "            only_LR_feats.append(feat_LR)\n",
    "\n",
    "    for feat_RR in updated_f_RR:\n",
    "        if feat_RR in updated_f_LR:\n",
    "            common_featsRR.append(feat_RR)\n",
    "        else:\n",
    "            only_RR_feats.append(feat_RR)\n",
    "    return common_featsLR, common_featsRR, only_LR_feats, only_RR_feats"
   ]
  },
  {
   "cell_type": "code",
   "execution_count": 32,
   "metadata": {},
   "outputs": [
    {
     "name": "stdout",
     "output_type": "stream",
     "text": [
      "158 115\n"
     ]
    },
    {
     "data": {
      "text/plain": [
       "(True, 115, 43, 0)"
      ]
     },
     "execution_count": 32,
     "metadata": {},
     "output_type": "execute_result"
    }
   ],
   "source": [
    "print(len(f_LR),len(f_RR))\n",
    "\n",
    "common_featsLR, common_featsRR, only_LR_feats, only_RR_feats =\\\n",
    "find_matchings(f_LR, f_RR)\n",
    "common_featsLR==common_featsRR, len(common_featsLR), len(only_LR_feats), len(only_RR_feats)"
   ]
  },
  {
   "cell_type": "code",
   "execution_count": 33,
   "metadata": {},
   "outputs": [
    {
     "data": {
      "text/plain": [
       "['thick_caudalanteriorcingulate_medMIQR',\n",
       " 'thick_cuneus_medMIQR',\n",
       " 'thick_entorhinal_medMIQR',\n",
       " 'thick_parsorbitalis_medMIQR',\n",
       " 'curv_caudalanteriorcingulate_medPIQR',\n",
       " 'curv_caudalmiddlefrontal_medMIQR',\n",
       " 'curv_caudalmiddlefrontal_medPIQR',\n",
       " 'curv_inferiorparietal_medMIQR',\n",
       " 'curv_inferiorparietal_medPIQR',\n",
       " 'curv_inferiortemporal_medMIQR',\n",
       " 'curv_isthmuscingulate_medPIQR',\n",
       " 'curv_lingual_medPIQR',\n",
       " 'curv_medialorbitofrontal_medPIQR',\n",
       " 'curv_parahippocampal_medMIQR',\n",
       " 'curv_parahippocampal_medPIQR',\n",
       " 'curv_paracentral_medPIQR',\n",
       " 'curv_parstriangularis_medPIQR',\n",
       " 'curv_pericalcarine_medMIQR',\n",
       " 'curv_postcentral_medPIQR',\n",
       " 'curv_rostralmiddlefrontal_medPIQR',\n",
       " 'curv_superiorfrontal_medMIQR',\n",
       " 'curv_superiorfrontal_medPIQR',\n",
       " 'curv_superiorparietal_medPIQR',\n",
       " 'curv_frontalpole_medPIQR',\n",
       " 'curv_temporalpole_medPIQR',\n",
       " 'area_caudalanteriorcingulate_medMIQR',\n",
       " 'area_entorhinal_medPIQR',\n",
       " 'area_inferiortemporal_medMIQR',\n",
       " 'area_isthmuscingulate_medMIQR',\n",
       " 'area_lateraloccipital_medMIQR',\n",
       " 'area_medialorbitofrontal_medPIQR',\n",
       " 'area_middletemporal_medMIQR',\n",
       " 'area_paracentral_medMIQR',\n",
       " 'area_parstriangularis_medPIQR',\n",
       " 'area_precentral_medMIQR',\n",
       " 'area_precuneus_medMIQR',\n",
       " 'area_rostralmiddlefrontal_medMIQR',\n",
       " 'area_superiortemporal_medPIQR',\n",
       " 'area_temporalpole_medPIQR',\n",
       " 'area_transversetemporal_medMIQR',\n",
       " 'vol_parahippocampal_medMIQR',\n",
       " 'vol_parsorbitalis_medMIQR',\n",
       " 'vol_parstriangularis_medMIQR']"
      ]
     },
     "execution_count": 33,
     "metadata": {},
     "output_type": "execute_result"
    }
   ],
   "source": [
    "only_LR_feats"
   ]
  },
  {
   "cell_type": "code",
   "execution_count": 34,
   "metadata": {},
   "outputs": [
    {
     "data": {
      "text/plain": [
       "[]"
      ]
     },
     "execution_count": 34,
     "metadata": {},
     "output_type": "execute_result"
    }
   ],
   "source": [
    "only_RR_feats"
   ]
  },
  {
   "cell_type": "code",
   "execution_count": 35,
   "metadata": {},
   "outputs": [],
   "source": [
    "common_featsLS, common_featsRS, only_LS_feats, only_RS_feats =\\\n",
    "find_matchings(f_LS, f_RS)"
   ]
  },
  {
   "cell_type": "code",
   "execution_count": 36,
   "metadata": {},
   "outputs": [
    {
     "name": "stdout",
     "output_type": "stream",
     "text": [
      "66 66\n"
     ]
    },
    {
     "data": {
      "text/plain": [
       "(True, 66, 0, 0)"
      ]
     },
     "execution_count": 36,
     "metadata": {},
     "output_type": "execute_result"
    }
   ],
   "source": [
    "print(len(f_LS),len(f_RS))\n",
    "common_featsLS==common_featsRS, len(common_featsLS), len(only_LS_feats), len(only_RS_feats)"
   ]
  },
  {
   "cell_type": "code",
   "execution_count": 37,
   "metadata": {},
   "outputs": [],
   "source": [
    "common_featsLS, common_featsLR, only_LS_feats, only_LR_feats =\\\n",
    "find_matchings(f_LS, f_LR)"
   ]
  },
  {
   "cell_type": "code",
   "execution_count": 38,
   "metadata": {},
   "outputs": [
    {
     "name": "stdout",
     "output_type": "stream",
     "text": [
      "66 158\n"
     ]
    },
    {
     "data": {
      "text/plain": [
       "(True, 66, 0, 92)"
      ]
     },
     "execution_count": 38,
     "metadata": {},
     "output_type": "execute_result"
    }
   ],
   "source": [
    "print(len(f_LS),len(f_LR))\n",
    "common_featsLS==common_featsLR, len(common_featsLS), len(only_LS_feats), len(only_LR_feats)"
   ]
  },
  {
   "cell_type": "code",
   "execution_count": 39,
   "metadata": {},
   "outputs": [
    {
     "data": {
      "text/plain": [
       "[]"
      ]
     },
     "execution_count": 39,
     "metadata": {},
     "output_type": "execute_result"
    }
   ],
   "source": [
    "only_LS_feats"
   ]
  },
  {
   "cell_type": "code",
   "execution_count": 40,
   "metadata": {},
   "outputs": [
    {
     "data": {
      "text/plain": [
       "['thick_caudalanteriorcingulate_medMIQR',\n",
       " 'thick_entorhinal_medMIQR',\n",
       " 'thick_isthmuscingulate_medMIQR',\n",
       " 'thick_isthmuscingulate_medPIQR',\n",
       " 'thick_lingual_medMIQR',\n",
       " 'thick_parahippocampal_medMIQR',\n",
       " 'thick_parsorbitalis_medMIQR',\n",
       " 'thick_pericalcarine_medMIQR',\n",
       " 'thick_rostralanteriorcingulate_medMIQR',\n",
       " 'thick_rostralanteriorcingulate_medPIQR',\n",
       " 'thick_frontalpole_medMIQR',\n",
       " 'thick_temporalpole_medMIQR',\n",
       " 'curv_bankssts_medPIQR',\n",
       " 'curv_caudalanteriorcingulate_medMIQR',\n",
       " 'curv_caudalanteriorcingulate_medPIQR',\n",
       " 'curv_caudalmiddlefrontal_medMIQR',\n",
       " 'curv_caudalmiddlefrontal_medPIQR',\n",
       " 'curv_cuneus_medMIQR',\n",
       " 'curv_cuneus_medPIQR',\n",
       " 'curv_inferiorparietal_medPIQR',\n",
       " 'curv_inferiortemporal_medMIQR',\n",
       " 'curv_isthmuscingulate_medMIQR',\n",
       " 'curv_isthmuscingulate_medPIQR',\n",
       " 'curv_lateraloccipital_medMIQR',\n",
       " 'curv_lingual_medPIQR',\n",
       " 'curv_medialorbitofrontal_medPIQR',\n",
       " 'curv_parahippocampal_medMIQR',\n",
       " 'curv_parahippocampal_medPIQR',\n",
       " 'curv_parsopercularis_medMIQR',\n",
       " 'curv_parsopercularis_medPIQR',\n",
       " 'curv_parsorbitalis_medMIQR',\n",
       " 'curv_parstriangularis_medPIQR',\n",
       " 'curv_pericalcarine_medMIQR',\n",
       " 'curv_pericalcarine_medPIQR',\n",
       " 'curv_postcentral_medMIQR',\n",
       " 'curv_postcentral_medPIQR',\n",
       " 'curv_posteriorcingulate_medMIQR',\n",
       " 'curv_precentral_medMIQR',\n",
       " 'curv_precuneus_medMIQR',\n",
       " 'curv_precuneus_medPIQR',\n",
       " 'curv_rostralmiddlefrontal_medMIQR',\n",
       " 'curv_rostralmiddlefrontal_medPIQR',\n",
       " 'curv_superiorfrontal_medMIQR',\n",
       " 'curv_superiorfrontal_medPIQR',\n",
       " 'curv_superiorparietal_medMIQR',\n",
       " 'curv_supramarginal_medMIQR',\n",
       " 'curv_frontalpole_medMIQR',\n",
       " 'curv_frontalpole_medPIQR',\n",
       " 'curv_temporalpole_medPIQR',\n",
       " 'curv_transversetemporal_medPIQR',\n",
       " 'area_bankssts_medPIQR',\n",
       " 'area_caudalanteriorcingulate_medMIQR',\n",
       " 'area_caudalanteriorcingulate_medPIQR',\n",
       " 'area_cuneus_medMIQR',\n",
       " 'area_entorhinal_medMIQR',\n",
       " 'area_entorhinal_medPIQR',\n",
       " 'area_inferiortemporal_medMIQR',\n",
       " 'area_lateralorbitofrontal_medMIQR',\n",
       " 'area_medialorbitofrontal_medPIQR',\n",
       " 'area_middletemporal_medPIQR',\n",
       " 'area_parahippocampal_medPIQR',\n",
       " 'area_paracentral_medMIQR',\n",
       " 'area_parsopercularis_medMIQR',\n",
       " 'area_parsopercularis_medPIQR',\n",
       " 'area_parsorbitalis_medPIQR',\n",
       " 'area_parstriangularis_medMIQR',\n",
       " 'area_parstriangularis_medPIQR',\n",
       " 'area_posteriorcingulate_medMIQR',\n",
       " 'area_precentral_medMIQR',\n",
       " 'area_rostralanteriorcingulate_medMIQR',\n",
       " 'area_rostralmiddlefrontal_medMIQR',\n",
       " 'area_superiortemporal_medPIQR',\n",
       " 'area_frontalpole_medMIQR',\n",
       " 'area_temporalpole_medPIQR',\n",
       " 'area_transversetemporal_medMIQR',\n",
       " 'area_transversetemporal_medPIQR',\n",
       " 'area_insula_medMIQR',\n",
       " 'vol_caudalanteriorcingulate_medMIQR',\n",
       " 'vol_caudalanteriorcingulate_medPIQR',\n",
       " 'vol_entorhinal_medMIQR',\n",
       " 'vol_inferiortemporal_medPIQR',\n",
       " 'vol_isthmuscingulate_medMIQR',\n",
       " 'vol_lateraloccipital_medPIQR',\n",
       " 'vol_middletemporal_medMIQR',\n",
       " 'vol_parsorbitalis_medMIQR',\n",
       " 'vol_parstriangularis_medMIQR',\n",
       " 'vol_posteriorcingulate_medPIQR',\n",
       " 'vol_rostralanteriorcingulate_medMIQR',\n",
       " 'vol_superiortemporal_medMIQR',\n",
       " 'vol_frontalpole_medMIQR',\n",
       " 'vol_temporalpole_medMIQR',\n",
       " 'vol_transversetemporal_medMIQR']"
      ]
     },
     "execution_count": 40,
     "metadata": {},
     "output_type": "execute_result"
    }
   ],
   "source": [
    "only_LR_feats"
   ]
  },
  {
   "cell_type": "code",
   "execution_count": 41,
   "metadata": {},
   "outputs": [],
   "source": [
    "common_featsRS, common_featsRR, only_RS_feats, only_RR_feats =\\\n",
    "find_matchings(f_RS, f_RR)"
   ]
  },
  {
   "cell_type": "code",
   "execution_count": 42,
   "metadata": {},
   "outputs": [
    {
     "name": "stdout",
     "output_type": "stream",
     "text": [
      "66 115\n"
     ]
    },
    {
     "data": {
      "text/plain": [
       "(True, 57, 9, 58)"
      ]
     },
     "execution_count": 42,
     "metadata": {},
     "output_type": "execute_result"
    }
   ],
   "source": [
    "print(len(f_RS),len(f_RR))\n",
    "common_featsRS==common_featsRR, len(common_featsRS), len(only_RS_feats), len(only_RR_feats)"
   ]
  },
  {
   "cell_type": "code",
   "execution_count": 43,
   "metadata": {},
   "outputs": [
    {
     "data": {
      "text/plain": [
       "['thick_cuneus_medMIQR',\n",
       " 'curv_inferiorparietal_medMIQR',\n",
       " 'curv_paracentral_medPIQR',\n",
       " 'curv_superiorparietal_medPIQR',\n",
       " 'area_isthmuscingulate_medMIQR',\n",
       " 'area_lateraloccipital_medMIQR',\n",
       " 'area_middletemporal_medMIQR',\n",
       " 'area_precuneus_medMIQR',\n",
       " 'vol_parahippocampal_medMIQR']"
      ]
     },
     "execution_count": 43,
     "metadata": {},
     "output_type": "execute_result"
    }
   ],
   "source": [
    "only_RS_feats"
   ]
  },
  {
   "cell_type": "code",
   "execution_count": 44,
   "metadata": {},
   "outputs": [
    {
     "data": {
      "text/plain": [
       "['thick_isthmuscingulate_medMIQR',\n",
       " 'thick_isthmuscingulate_medPIQR',\n",
       " 'thick_lingual_medMIQR',\n",
       " 'thick_parahippocampal_medMIQR',\n",
       " 'thick_pericalcarine_medMIQR',\n",
       " 'thick_rostralanteriorcingulate_medMIQR',\n",
       " 'thick_rostralanteriorcingulate_medPIQR',\n",
       " 'thick_frontalpole_medMIQR',\n",
       " 'thick_temporalpole_medMIQR',\n",
       " 'curv_bankssts_medPIQR',\n",
       " 'curv_caudalanteriorcingulate_medMIQR',\n",
       " 'curv_cuneus_medMIQR',\n",
       " 'curv_cuneus_medPIQR',\n",
       " 'curv_isthmuscingulate_medMIQR',\n",
       " 'curv_lateraloccipital_medMIQR',\n",
       " 'curv_parsopercularis_medMIQR',\n",
       " 'curv_parsopercularis_medPIQR',\n",
       " 'curv_parsorbitalis_medMIQR',\n",
       " 'curv_pericalcarine_medPIQR',\n",
       " 'curv_postcentral_medMIQR',\n",
       " 'curv_posteriorcingulate_medMIQR',\n",
       " 'curv_precentral_medMIQR',\n",
       " 'curv_precuneus_medMIQR',\n",
       " 'curv_precuneus_medPIQR',\n",
       " 'curv_rostralmiddlefrontal_medMIQR',\n",
       " 'curv_superiorparietal_medMIQR',\n",
       " 'curv_supramarginal_medMIQR',\n",
       " 'curv_frontalpole_medMIQR',\n",
       " 'curv_transversetemporal_medPIQR',\n",
       " 'area_bankssts_medPIQR',\n",
       " 'area_caudalanteriorcingulate_medPIQR',\n",
       " 'area_cuneus_medMIQR',\n",
       " 'area_entorhinal_medMIQR',\n",
       " 'area_lateralorbitofrontal_medMIQR',\n",
       " 'area_middletemporal_medPIQR',\n",
       " 'area_parahippocampal_medPIQR',\n",
       " 'area_parsopercularis_medMIQR',\n",
       " 'area_parsopercularis_medPIQR',\n",
       " 'area_parsorbitalis_medPIQR',\n",
       " 'area_parstriangularis_medMIQR',\n",
       " 'area_posteriorcingulate_medMIQR',\n",
       " 'area_rostralanteriorcingulate_medMIQR',\n",
       " 'area_frontalpole_medMIQR',\n",
       " 'area_transversetemporal_medPIQR',\n",
       " 'area_insula_medMIQR',\n",
       " 'vol_caudalanteriorcingulate_medMIQR',\n",
       " 'vol_caudalanteriorcingulate_medPIQR',\n",
       " 'vol_entorhinal_medMIQR',\n",
       " 'vol_inferiortemporal_medPIQR',\n",
       " 'vol_isthmuscingulate_medMIQR',\n",
       " 'vol_lateraloccipital_medPIQR',\n",
       " 'vol_middletemporal_medMIQR',\n",
       " 'vol_posteriorcingulate_medPIQR',\n",
       " 'vol_rostralanteriorcingulate_medMIQR',\n",
       " 'vol_superiortemporal_medMIQR',\n",
       " 'vol_frontalpole_medMIQR',\n",
       " 'vol_temporalpole_medMIQR',\n",
       " 'vol_transversetemporal_medMIQR']"
      ]
     },
     "execution_count": 44,
     "metadata": {},
     "output_type": "execute_result"
    }
   ],
   "source": [
    "only_RR_feats"
   ]
  },
  {
   "cell_type": "markdown",
   "metadata": {},
   "source": [
    "## Observations/Conclusions\n",
    "### Differences across features on using RFECV-RF\n",
    "* Number of left hemisphere selected features: 158\n",
    "* Number of right hemisphere selected features: 115\n",
    "* Number of common features (morphology+brain reg): 15\n",
    "* Number of unique features for left hemisphere: 43\n",
    "* Number of unique features for right hemisphere: 0\n",
    "\n",
    "\n",
    "### Differences across features on using RFECV-SVM\n",
    "* Number of left hemisphere selected features: 66\n",
    "* Number of right hemisphere selected features: 66\n",
    "* Number of common features (morphology+brain reg): 66\n",
    "* Number of unique features for left hemisphere: 0\n",
    "* Number of unique features for right hemisphere: 0\n",
    "\n",
    "### Differences across features on using Left hemisphere\n",
    "* Number of RFECV-SVM selected features: 66\n",
    "* Number of RFECV-RF selected features: 158\n",
    "* Number of common features (morphology+brain reg): 57\n",
    "* Number of unique features for RFECV-SVM: 0\n",
    "* Number of unique features for RFECV-RF: 92\n",
    "\n",
    "### Differences across features on using Right hemisphere\n",
    "* Number of RFECV-SVM selected features: 66\n",
    "* Number of RFECV-RF selected features: 115\n",
    "* Number of common features (morphology+brain reg): 119\n",
    "* Number of unique features for RFECV-SVM: 9\n",
    "* Number of unique features for RFECV-RF: 58\n",
    "\n",
    "## Conclusions:\n",
    "* It is obvious that the changes due to SVM/RF is much greater than the differences due to Left or right hemisphere. Substantially, this is because of how we model our data, either as a linearly seperable data and we are looking for the set of feature that will linearly separate the data, or non-linearly separable data and we are looking for the set of features that will separate them on a decision tree."
   ]
  },
  {
   "cell_type": "markdown",
   "metadata": {},
   "source": [
    "***\n",
    "## Correlation analysis part analysis\n",
    "### At each of the following levels (0.5, 0.6, 0.7, 0.85)\n",
    "### Q1: How many features are removed from each hemisphere?\n",
    "### Q2: Are the features removed from each hemisphere are the same?\n",
    "### Q3: Which might be an optimum threshold?\n",
    "\n",
    "#### Note that: Each hemisphere has 272 features $34 (brain regions) \\times 8 (morhological features)$"
   ]
  },
  {
   "cell_type": "code",
   "execution_count": 52,
   "metadata": {},
   "outputs": [],
   "source": [
    "# load files\n",
    "left_corr_50_file = \"./Results/CORR_ANA/left_train_noColliniarity_modifiedMedPIQR_50.csv\"\n",
    "right_corr_50_file = \"./Results/CORR_ANA/right_train_noColliniarity_modifiedMedPIQR_50.csv\"\n",
    "\n",
    "left_corr_60_file = \"./Results/CORR_ANA/left_train_noColliniarity_modifiedMedPIQR_60.csv\"\n",
    "right_corr_60_file = \"./Results/CORR_ANA/right_train_noColliniarity_modifiedMedPIQR_60.csv\"\n",
    "\n",
    "left_corr_70_file = \"./Results/CORR_ANA/left_train_noColliniarity_modifiedMedPIQR_70.csv\"\n",
    "right_corr_70_file = \"./Results/CORR_ANA/right_train_noColliniarity_modifiedMedPIQR_70.csv\"\n",
    "\n",
    "left_corr_85_file = \"./Results/CORR_ANA/left_train_noColliniarity_modifiedMedPIQR_85.csv\"\n",
    "right_corr_85_file = \"./Results/CORR_ANA/right_train_noColliniarity_modifiedMedPIQR_85.csv\"\n",
    "\n",
    "df_left_corr_50 = pd.read_csv(left_corr_50_file, index_col=0).drop('labels', axis=1)\n",
    "df_right_corr_50 = pd.read_csv(right_corr_50_file, index_col=0).drop('labels', axis=1)\n",
    "\n",
    "df_left_corr_60 = pd.read_csv(left_corr_60_file, index_col=0).drop('labels', axis=1)\n",
    "df_right_corr_60 = pd.read_csv(right_corr_60_file, index_col=0).drop('labels', axis=1)\n",
    "\n",
    "\n",
    "df_left_corr_70 = pd.read_csv(left_corr_70_file, index_col=0).drop('labels', axis=1)\n",
    "df_right_corr_70 = pd.read_csv(right_corr_70_file, index_col=0).drop('labels', axis=1)\n",
    "\n",
    "\n",
    "df_left_corr_85 = pd.read_csv(left_corr_85_file, index_col=0).drop('labels', axis=1)\n",
    "df_right_corr_85 = pd.read_csv(right_corr_85_file, index_col=0).drop('labels', axis=1)"
   ]
  },
  {
   "cell_type": "code",
   "execution_count": 54,
   "metadata": {},
   "outputs": [
    {
     "name": "stdout",
     "output_type": "stream",
     "text": [
      "99 99\n"
     ]
    },
    {
     "data": {
      "text/plain": [
       "(True, 99, 0, 0)"
      ]
     },
     "execution_count": 54,
     "metadata": {},
     "output_type": "execute_result"
    }
   ],
   "source": [
    "# 0.5 threshold analysis\n",
    "left_feats50 = df_left_corr_50.columns.to_list()\n",
    "right_feats50 = df_right_corr_50.columns.to_list()\n",
    "print(len(left_feats50),len(right_feats50))\n",
    "\n",
    "common_featsL50, common_featsR50, only_L_feats50, only_R_feats50 =\\\n",
    "find_matchings(left_feats50, right_feats50)\n",
    "common_featsL50==common_featsR50, len(common_featsL50), len(only_L_feats50), len(only_R_feats50)"
   ]
  },
  {
   "cell_type": "code",
   "execution_count": 55,
   "metadata": {},
   "outputs": [
    {
     "name": "stdout",
     "output_type": "stream",
     "text": [
      "138 138\n"
     ]
    },
    {
     "data": {
      "text/plain": [
       "(True, 138, 0, 0)"
      ]
     },
     "execution_count": 55,
     "metadata": {},
     "output_type": "execute_result"
    }
   ],
   "source": [
    "# 0.6 threshold analysis\n",
    "left_feats60 = df_left_corr_60.columns.to_list()\n",
    "right_feats60 = df_right_corr_60.columns.to_list()\n",
    "print(len(left_feats60),len(right_feats60))\n",
    "\n",
    "common_featsL60, common_featsR60, only_L_feats60, only_R_feats60 =\\\n",
    "find_matchings(left_feats60, right_feats60)\n",
    "common_featsL60==common_featsR60, len(common_featsR60), len(only_L_feats60), len(only_R_feats60)"
   ]
  },
  {
   "cell_type": "code",
   "execution_count": 56,
   "metadata": {},
   "outputs": [
    {
     "name": "stdout",
     "output_type": "stream",
     "text": [
      "185 185\n"
     ]
    },
    {
     "data": {
      "text/plain": [
       "(True, 185, 0, 0)"
      ]
     },
     "execution_count": 56,
     "metadata": {},
     "output_type": "execute_result"
    }
   ],
   "source": [
    "# 0.7 threshold analysis\n",
    "left_feats70 = df_left_corr_70.columns.to_list()\n",
    "right_feats70 = df_right_corr_70.columns.to_list()\n",
    "print(len(left_feats70),len(right_feats70))\n",
    "\n",
    "common_featsL70, common_featsR70, only_L_feats70, only_R_feats70 =\\\n",
    "find_matchings(left_feats70, right_feats70)\n",
    "common_featsL70==common_featsR70, len(common_featsR70), len(only_L_feats70), len(only_R_feats70)"
   ]
  },
  {
   "cell_type": "code",
   "execution_count": 57,
   "metadata": {},
   "outputs": [
    {
     "name": "stdout",
     "output_type": "stream",
     "text": [
      "252 252\n"
     ]
    },
    {
     "data": {
      "text/plain": [
       "(True, 252, 0, 0)"
      ]
     },
     "execution_count": 57,
     "metadata": {},
     "output_type": "execute_result"
    }
   ],
   "source": [
    "# 0.85 threshold analysis\n",
    "left_feats85 = df_left_corr_85.columns.to_list()\n",
    "right_feats85 = df_right_corr_85.columns.to_list()\n",
    "print(len(left_feats85),len(right_feats85))\n",
    "\n",
    "common_featsL85, common_featsR85, only_L_feats85, only_R_feats85 =\\\n",
    "find_matchings(left_feats85, right_feats85)\n",
    "common_featsL85==common_featsR85, len(common_featsL85), len(only_L_feats85), len(only_R_feats85)"
   ]
  },
  {
   "cell_type": "code",
   "execution_count": null,
   "metadata": {},
   "outputs": [],
   "source": []
  }
 ],
 "metadata": {
  "kernelspec": {
   "display_name": "untitled",
   "language": "python",
   "name": "untitled"
  },
  "language_info": {
   "codemirror_mode": {
    "name": "ipython",
    "version": 3
   },
   "file_extension": ".py",
   "mimetype": "text/x-python",
   "name": "python",
   "nbconvert_exporter": "python",
   "pygments_lexer": "ipython3",
   "version": "3.7.5"
  }
 },
 "nbformat": 4,
 "nbformat_minor": 4
}
