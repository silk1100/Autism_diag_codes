{
 "cells": [
  {
   "cell_type": "code",
   "execution_count": 1,
   "metadata": {},
   "outputs": [],
   "source": [
    "rfetrain_lg1_DP_best = ['area_lbankssts_medPIQR', 'area_lcaudalmiddlefrontal_medMIQR',\n",
    "       'area_linferiortemporal_medMIQR', 'area_linferiortemporal_medPIQR',\n",
    "       'area_listhmuscingulate_medPIQR',\n",
    "       'area_lrostralanteriorcingulate_medPIQR', 'area_rfusiform_medMIQR',\n",
    "       'area_rinferiortemporal_medPIQR', 'area_rpericalcarine_medPIQR',\n",
    "       'area_rpostcentral_medPIQR', 'curv_lrostralmiddlefrontal_medPIQR',\n",
    "       'curv_rfusiform_medMIQR', 'curv_rpostcentral_medPIQR',\n",
    "       'thickness_lfusiform_medPIQR', 'thickness_lmiddletemporal_medMIQR',\n",
    "       'thickness_lposteriorcingulate_medMIQR',\n",
    "       'thickness_lrostralmiddlefrontal_medMIQR',\n",
    "       'thickness_rcaudalanteriorcingulate_medMIQR',\n",
    "       'thickness_rcaudalmiddlefrontal_medMIQR',\n",
    "       'thickness_rparstriangularis_medMIQR', 'thickness_rpostcentral_medPIQR',\n",
    "       'thickness_rsuperiorfrontal_medMIQR', 'volume_lentorhinal_medPIQR',\n",
    "       'volume_lparacentral_medMIQR',\n",
    "       'volume_lrostralanteriorcingulate_medMIQR',\n",
    "       'volume_lsuperiortemporal_medMIQR',\n",
    "       'volume_ltransversetemporal_medMIQR', 'volume_rmiddletemporal_medMIQR',\n",
    "       'volume_rparacentral_medPIQR', 'volume_rtemporalpole_medMIQR',\n",
    "       'volume_rtransversetemporal_medPIQR']\n",
    "\n",
    "\n",
    "rfetrain_svm_best = ['area_lbankssts_medPIQR', 'area_lcaudalmiddlefrontal_medMIQR',\n",
    "       'area_linferiortemporal_medPIQR', 'area_listhmuscingulate_medPIQR',\n",
    "       'area_rinferiortemporal_medPIQR', 'area_rpericalcarine_medPIQR',\n",
    "       'area_rprecuneus_medMIQR', 'curv_lrostralmiddlefrontal_medPIQR',\n",
    "       'thickness_lrostralmiddlefrontal_medMIQR',\n",
    "       'thickness_rparacentral_medPIQR', 'thickness_rsuperiorfrontal_medPIQR',\n",
    "       'volume_lsuperiortemporal_medMIQR', 'volume_rlateraloccipital_medPIQR',\n",
    "       'volume_rposteriorcingulate_medPIQR', 'volume_rprecuneus_medMIQR',\n",
    "       'volume_rsuperiorfrontal_medPIQR']"
   ]
  },
  {
   "cell_type": "code",
   "execution_count": 4,
   "metadata": {},
   "outputs": [],
   "source": [
    "def extractBrainRegions(feats):\n",
    "    bnames = [x.split('_')[1] for x in feats]\n",
    "    return bnames"
   ]
  },
  {
   "cell_type": "code",
   "execution_count": 15,
   "metadata": {},
   "outputs": [],
   "source": [
    "bregs_lg1 = list(set(extractBrainRegions(rfetrain_lg1_DP_best)))\n",
    "bregs_svm = list(set(extractBrainRegions(rfetrain_svm_best)))\n",
    "# regs_dict_cntr = {}\n",
    "# for b in bregs_lg1:\n",
    "#     if b in regs_dict_cntr:\n",
    "#         regs_dict_cntr[b]+=1\n",
    "#     else:\n",
    "#         regs_dict_cntr[b] = 1\n",
    "\n",
    "# for b in bregs_svm:\n",
    "#     if b in regs_dict_cntr:\n",
    "#         regs_dict_cntr[b] += 1\n",
    "#     else:\n",
    "#         regs_dict_cntr[b] = 1"
   ]
  },
  {
   "cell_type": "code",
   "execution_count": 19,
   "metadata": {},
   "outputs": [
    {
     "data": {
      "text/plain": [
       "(['rtransversetemporal',\n",
       "  'listhmuscingulate',\n",
       "  'rpericalcarine',\n",
       "  'lrostralmiddlefrontal',\n",
       "  'lfusiform',\n",
       "  'rparstriangularis',\n",
       "  'lrostralanteriorcingulate',\n",
       "  'ltransversetemporal',\n",
       "  'rinferiortemporal',\n",
       "  'rparacentral',\n",
       "  'rpostcentral',\n",
       "  'lcaudalmiddlefrontal',\n",
       "  'rcaudalanteriorcingulate',\n",
       "  'rfusiform',\n",
       "  'lparacentral',\n",
       "  'lbankssts',\n",
       "  'rcaudalmiddlefrontal',\n",
       "  'linferiortemporal',\n",
       "  'rmiddletemporal',\n",
       "  'lsuperiortemporal',\n",
       "  'rtemporalpole',\n",
       "  'lentorhinal',\n",
       "  'rsuperiorfrontal',\n",
       "  'lmiddletemporal',\n",
       "  'lposteriorcingulate'],\n",
       " 25)"
      ]
     },
     "execution_count": 19,
     "metadata": {},
     "output_type": "execute_result"
    }
   ],
   "source": [
    "bregs_lg1, len(bregs_lg1)"
   ]
  },
  {
   "cell_type": "code",
   "execution_count": 20,
   "metadata": {},
   "outputs": [
    {
     "data": {
      "text/plain": [
       "(['lcaudalmiddlefrontal',\n",
       "  'listhmuscingulate',\n",
       "  'lsuperiortemporal',\n",
       "  'rprecuneus',\n",
       "  'rposteriorcingulate',\n",
       "  'rpericalcarine',\n",
       "  'lbankssts',\n",
       "  'rinferiortemporal',\n",
       "  'rparacentral',\n",
       "  'rlateraloccipital',\n",
       "  'lrostralmiddlefrontal',\n",
       "  'rsuperiorfrontal',\n",
       "  'linferiortemporal'],\n",
       " 13)"
      ]
     },
     "execution_count": 20,
     "metadata": {},
     "output_type": "execute_result"
    }
   ],
   "source": [
    "bregs_svm, len(bregs_svm)"
   ]
  },
  {
   "cell_type": "code",
   "execution_count": 24,
   "metadata": {},
   "outputs": [
    {
     "name": "stdout",
     "output_type": "stream",
     "text": [
      "lcaudalmiddlefrontal common brain region 1\n",
      "listhmuscingulate common brain region 1\n",
      "lsuperiortemporal common brain region 1\n",
      "rpericalcarine common brain region 1\n",
      "lbankssts common brain region 1\n",
      "rinferiortemporal common brain region 1\n",
      "rparacentral common brain region 1\n",
      "lrostralmiddlefrontal common brain region 1\n",
      "rsuperiorfrontal common brain region 1\n",
      "linferiortemporal common brain region 1\n"
     ]
    }
   ],
   "source": [
    "for feat in bregs_svm:\n",
    "    if feat in bregs_lg1:\n",
    "        print(f'{feat} common brain region 1')\n",
    "#     else:\n",
    "#         print(f'{feat} exclusive to SVM')\n",
    "        \n",
    "# for feat in bregs_lg1:\n",
    "#     if feat in bregs_svm:\n",
    "#         print(f'{feat} common brain region 2')\n",
    "#     else:\n",
    "#         print(f'{feat} exclusive to logistic regression')"
   ]
  },
  {
   "cell_type": "code",
   "execution_count": null,
   "metadata": {},
   "outputs": [],
   "source": []
  }
 ],
 "metadata": {
  "kernelspec": {
   "display_name": "untitled",
   "language": "python",
   "name": "untitled"
  },
  "language_info": {
   "codemirror_mode": {
    "name": "ipython",
    "version": 3
   },
   "file_extension": ".py",
   "mimetype": "text/x-python",
   "name": "python",
   "nbconvert_exporter": "python",
   "pygments_lexer": "ipython3",
   "version": "3.7.5"
  }
 },
 "nbformat": 4,
 "nbformat_minor": 4
}
