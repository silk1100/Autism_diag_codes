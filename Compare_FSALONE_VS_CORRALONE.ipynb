{
 "cells": [
  {
   "cell_type": "code",
   "execution_count": 2,
   "metadata": {},
   "outputs": [],
   "source": [
    "import numpy as np\n",
    "import pandas as pd\n",
    "import os\n",
    "import matplotlib.pyplot as plt\n",
    "from joblib import dump, load"
   ]
  },
  {
   "cell_type": "code",
   "execution_count": 3,
   "metadata": {},
   "outputs": [
    {
     "name": "stdout",
     "output_type": "stream",
     "text": [
      "[]\n"
     ]
    }
   ],
   "source": [
    "# folders with different resutls\\\n",
    "results_with_no_FS = './Results'\n",
    "results_with_no_CORRANA = './Results_NOCORRANA'\n",
    "\n",
    "subdirs = {\n",
    "    'data':'INITIAL_SPLIT',\n",
    "    'CORR':'CORR_ANA',\n",
    "    'FS':'FS',\n",
    "    'ML':'ML'\n",
    "}\n",
    "\n",
    "print(os.listdir(os.path.join(results_with_no_CORRANA,subdirs['CORR'])))"
   ]
  },
  {
   "cell_type": "code",
   "execution_count": 9,
   "metadata": {},
   "outputs": [
    {
     "name": "stdout",
     "output_type": "stream",
     "text": [
      "['left_train_modifiedMedPIQR.csv', 'right_train_modifiedMedPIQR.csv'] ['left_test.csv', 'left_test_modifiedMedPIQR.csv', 'left_train.csv', 'left_train_modifiedMedPIQR.csv', 'right_test.csv', 'right_test_modifiedMedPIQR.csv', 'right_train.csv', 'right_train_modifiedMedPIQR.csv']\n"
     ]
    }
   ],
   "source": [
    "# Make sure that both techinuqes have utilized same subjects\n",
    "subjects_no_corr = os.listdir(os.path.join(results_with_no_CORRANA, subdirs['data']))\n",
    "subjects_no_FS = os.listdir(os.path.join(results_with_no_FS, subdirs['data']))\n",
    "\n",
    "print(subjects_no_corr, subjects_no_FS)\n",
    "\n",
    "df_data_no_corr_left = pd.read_csv(os.path.join(results_with_no_CORRANA, subdirs['data'],'left_train_modifiedMedPIQR.csv')\n",
    "                                  , index_col=0)\n",
    "df_data_no_corr_right = pd.read_csv(os.path.join(results_with_no_CORRANA, subdirs['data'],'right_train_modifiedMedPIQR.csv')\n",
    "                                  , index_col=0)\n",
    "\n",
    "df_data_no_FS_left = pd.read_csv(os.path.join(results_with_no_FS, subdirs['data'],'left_train_modifiedMedPIQR.csv')\n",
    "                                  , index_col=0)\n",
    "df_data_no_FS_right = pd.read_csv(os.path.join(results_with_no_FS, subdirs['data'],'right_train_modifiedMedPIQR.csv')\n",
    "                                  , index_col=0)\n",
    "\n",
    "is_left_the_same = df_data_no_corr_left.index == df_data_no_FS_left.index\n",
    "is_right_the_same = df_data_no_corr_right.index == df_data_no_FS_right.index\n",
    "for i in is_left_the_same:\n",
    "    if not i:\n",
    "        print('LEFT IS FALSE')\n",
    "        \n",
    "for i in is_right_the_same:\n",
    "    if not i:\n",
    "        print('RIGHT IS FALSE')\n",
    "        \n",
    "\"\"\"\n",
    "CONCLUSION:\n",
    "Both techniques used the same subjects\n",
    "\"\"\""
   ]
  },
  {
   "cell_type": "markdown",
   "metadata": {},
   "source": [
    "## Given:\n",
    "Features selected by <b>Correlation analysis at threshold 0.5, 0.6, 0.7, and 0.85</b>, <b>FS+RF</b>, and <b>FS+SVM</b>.\n",
    "## Questions:\n",
    "1. Which technique has the most reduction ration?\n",
    "2. Are techniques selecting the same features?"
   ]
  },
  {
   "cell_type": "code",
   "execution_count": 35,
   "metadata": {},
   "outputs": [],
   "source": [
    "# Change left and right names to keep only brain region and morphology\n",
    "# without the added l and r\n",
    "def remove_l_r_fromname(list_of_names):\n",
    "    updated_names = []\n",
    "    for name in list_of_names:\n",
    "        nl = name.split('_')\n",
    "        lrpos = nl[1]\n",
    "        lrpos = lrpos[1:]\n",
    "        nl[1] = lrpos\n",
    "        updated_names.append('_'.join(nl))\n",
    "    return updated_names\n"
   ]
  },
  {
   "cell_type": "code",
   "execution_count": 36,
   "metadata": {},
   "outputs": [],
   "source": [
    "def find_matchings(f_LR, f_RR):\n",
    "    updated_f_LR = remove_l_r_fromname(f_LR)\n",
    "    updated_f_RR = remove_l_r_fromname(f_RR)\n",
    "    common_featsLR = []\n",
    "    common_featsRR = []\n",
    "    only_LR_feats = []\n",
    "    only_RR_feats = []\n",
    "    for feat_LR in updated_f_LR:\n",
    "        if feat_LR in updated_f_RR:\n",
    "            common_featsLR.append(feat_LR)\n",
    "        else:\n",
    "            only_LR_feats.append(feat_LR)\n",
    "\n",
    "    for feat_RR in updated_f_RR:\n",
    "        if feat_RR in updated_f_LR:\n",
    "            common_featsRR.append(feat_RR)\n",
    "        else:\n",
    "            only_RR_feats.append(feat_RR)\n",
    "    return common_featsLR, common_featsRR, only_LR_feats, only_RR_feats"
   ]
  },
  {
   "cell_type": "code",
   "execution_count": 55,
   "metadata": {},
   "outputs": [],
   "source": [
    "# Remove labels from list\n",
    "def removeLabels(feat_list):\n",
    "    if 'labels' in feat_list:\n",
    "        try:\n",
    "            feat_list.remove('labels')\n",
    "        except:\n",
    "            feat_list = feat_list.drop('labels')\n",
    "            \n",
    "    return feat_list"
   ]
  },
  {
   "cell_type": "code",
   "execution_count": 60,
   "metadata": {},
   "outputs": [
    {
     "name": "stdout",
     "output_type": "stream",
     "text": [
      "99 99\n"
     ]
    }
   ],
   "source": [
    "# Load correlation dataframes at different thresholds\n",
    "df_corr_50_left = pd.read_csv(os.path.join(results_with_no_FS, subdirs['CORR'], 'left_train_noColliniarity_modifiedMedPIQR_50.csv'),\n",
    "                         index_col=0)\n",
    "df_corr_50_right = pd.read_csv(os.path.join(results_with_no_FS, subdirs['CORR'], 'right_train_noColliniarity_modifiedMedPIQR_50.csv'),\n",
    "                         index_col=0)\n",
    "left_feats_50 = removeLabels(df_corr_50_left.columns.to_list())\n",
    "right_feats_50 = removeLabels(df_corr_50_right.columns.to_list())\n",
    "print(len(left_feats_50), len(right_feats_50))\n",
    "\n",
    "\n",
    "df_corr_60_left = pd.read_csv(os.path.join(results_with_no_FS, subdirs['CORR'], 'left_train_noColliniarity_modifiedMedPIQR_60.csv'),\n",
    "                         index_col=0)\n",
    "df_corr_60_right = pd.read_csv(os.path.join(results_with_no_FS, subdirs['CORR'], 'right_train_noColliniarity_modifiedMedPIQR_60.csv'),\n",
    "                         index_col=0)\n",
    "left_feats_60 = removeLabels(df_corr_60_left.columns.to_list())\n",
    "right_feats_60 = removeLabels(df_corr_60_right.columns.to_list())\n",
    "\n",
    "\n",
    "df_corr_70_left = pd.read_csv(os.path.join(results_with_no_FS, subdirs['CORR'], 'left_train_noColliniarity_modifiedMedPIQR_70.csv'),\n",
    "                         index_col=0)\n",
    "df_corr_70_right = pd.read_csv(os.path.join(results_with_no_FS, subdirs['CORR'], 'right_train_noColliniarity_modifiedMedPIQR_70.csv'),\n",
    "                         index_col=0)\n",
    "left_feats_70 = removeLabels(df_corr_70_left.columns.to_list())\n",
    "right_feats_70 = removeLabels(df_corr_70_right.columns.to_list())\n",
    "\n",
    "\n",
    "df_corr_85_left = pd.read_csv(os.path.join(results_with_no_FS, subdirs['CORR'], 'left_train_noColliniarity_modifiedMedPIQR_85.csv'),\n",
    "                         index_col=0)\n",
    "df_corr_85_right = pd.read_csv(os.path.join(results_with_no_FS, subdirs['CORR'], 'right_train_noColliniarity_modifiedMedPIQR_85.csv'),\n",
    "                         index_col=0)\n",
    "left_feats_85 = df_corr_85_left.columns.to_list()\n",
    "right_feats_85 = df_corr_85_right.columns.to_list()"
   ]
  },
  {
   "cell_type": "code",
   "execution_count": 13,
   "metadata": {},
   "outputs": [],
   "source": [
    "# Load RFECV objects\n",
    "left_obj_rf = load(os.path.join(results_with_no_CORRANA, subdirs['FS'],'left_rf_modifiedMedPIQR_nocorr.joblib'))\n",
    "left_obj_svm = load(os.path.join(results_with_no_CORRANA, subdirs['FS'],'left_svc_modifiedMedPIQR_nocorr.joblib'))\n",
    "right_obj_rf = load(os.path.join(results_with_no_CORRANA, subdirs['FS'],'right_rf_modifiedMedPIQR_nocorr.joblib'))\n",
    "right_obj_svm = load(os.path.join(results_with_no_CORRANA, subdirs['FS'],'right_svc_modifiedMedPIQR_nocorr.joblib'))\n"
   ]
  },
  {
   "cell_type": "code",
   "execution_count": 44,
   "metadata": {},
   "outputs": [],
   "source": [
    "orig_col_names_left = df_data_no_corr_left.columns\n",
    "orig_col_names_right = df_data_no_corr_right.columns\n",
    "if 'labels' in orig_col_names_left:\n",
    "    orig_col_names_left = orig_col_names_left.drop('labels')\n",
    "    \n",
    "if 'labels' in orig_col_names_right:\n",
    "    orig_col_names_right = orig_col_names_right.drop('labels')\n",
    "    "
   ]
  },
  {
   "cell_type": "code",
   "execution_count": 45,
   "metadata": {},
   "outputs": [],
   "source": [
    "selected_feats_left_rf = orig_col_names_left[np.where(left_obj_rf.ranking_==1)[0]]\n",
    "selected_feats_left_svm = orig_col_names_left[np.where(left_obj_svm.ranking_==1)[0]]\n",
    "selected_feats_right_rf = orig_col_names_right[np.where(right_obj_rf.ranking_==1)[0]]\n",
    "selected_feats_right_svm = orig_col_names_right[np.where(right_obj_svm.ranking_==1)[0]]"
   ]
  },
  {
   "cell_type": "code",
   "execution_count": 46,
   "metadata": {},
   "outputs": [
    {
     "name": "stdout",
     "output_type": "stream",
     "text": [
      "RF+left+RFECV:  6 Index(['thick_llateraloccipital_medMIQR', 'thick_lsuperiortemporal_medPIQR',\n",
      "       'area_lbankssts_medMIQR', 'area_lpericalcarine_medPIQR',\n",
      "       'area_lsupramarginal_medPIQR', 'vol_lbankssts_medMIQR'],\n",
      "      dtype='object')\n",
      "SVM+left+RFECV:  5 Index(['thick_linferiorparietal_medPIQR', 'thick_lsuperiorparietal_medPIQR',\n",
      "       'vol_linferiorparietal_medPIQR', 'vol_llateraloccipital_medPIQR',\n",
      "       'vol_lsuperiortemporal_medPIQR'],\n",
      "      dtype='object')\n",
      "RF+RIGHT+RFECV:  6 Index(['thick_rsuperiorparietal_medPIQR', 'thick_rsuperiortemporal_medPIQR',\n",
      "       'area_rbankssts_medMIQR', 'area_rpericalcarine_medPIQR',\n",
      "       'area_rsupramarginal_medPIQR', 'vol_rmedialorbitofrontal_medPIQR'],\n",
      "      dtype='object')\n",
      "SVM+RIGHT+RFECV:  5 Index(['thick_rinferiorparietal_medPIQR', 'thick_rsuperiorparietal_medPIQR',\n",
      "       'vol_rinferiorparietal_medPIQR', 'vol_rlateraloccipital_medPIQR',\n",
      "       'vol_rsuperiortemporal_medPIQR'],\n",
      "      dtype='object')\n"
     ]
    }
   ],
   "source": [
    "print('RF+left+RFECV: ', len(selected_feats_left_rf), selected_feats_left_rf)\n",
    "print('SVM+left+RFECV: ', len(selected_feats_left_svm), selected_feats_left_svm)\n",
    "print('RF+RIGHT+RFECV: ', len(selected_feats_right_rf), selected_feats_right_rf)\n",
    "print('SVM+RIGHT+RFECV: ', len(selected_feats_right_svm), selected_feats_right_svm)"
   ]
  },
  {
   "cell_type": "code",
   "execution_count": 47,
   "metadata": {},
   "outputs": [
    {
     "data": {
      "text/plain": [
       "([],\n",
       " [],\n",
       " ['thick_lateraloccipital_medMIQR',\n",
       "  'thick_superiortemporal_medPIQR',\n",
       "  'area_bankssts_medMIQR',\n",
       "  'area_pericalcarine_medPIQR',\n",
       "  'area_supramarginal_medPIQR',\n",
       "  'vol_bankssts_medMIQR'],\n",
       " ['thick_inferiorparietal_medPIQR',\n",
       "  'thick_superiorparietal_medPIQR',\n",
       "  'vol_inferiorparietal_medPIQR',\n",
       "  'vol_lateraloccipital_medPIQR',\n",
       "  'vol_superiortemporal_medPIQR'])"
      ]
     },
     "execution_count": 47,
     "metadata": {},
     "output_type": "execute_result"
    }
   ],
   "source": [
    "# Difference betwee features selected by SVM and RF for left hemisphere\n",
    "common_featsLR, common_featsRR, only_LR_feats, only_RR_feats = find_matchings(selected_feats_left_rf,\n",
    "                                                                             selected_feats_left_svm)\n",
    "common_featsLR, common_featsRR, only_LR_feats, only_RR_feats"
   ]
  },
  {
   "cell_type": "code",
   "execution_count": 48,
   "metadata": {},
   "outputs": [
    {
     "data": {
      "text/plain": [
       "(['thick_superiorparietal_medPIQR'],\n",
       " ['thick_superiorparietal_medPIQR'],\n",
       " ['thick_superiortemporal_medPIQR',\n",
       "  'area_bankssts_medMIQR',\n",
       "  'area_pericalcarine_medPIQR',\n",
       "  'area_supramarginal_medPIQR',\n",
       "  'vol_medialorbitofrontal_medPIQR'],\n",
       " ['thick_inferiorparietal_medPIQR',\n",
       "  'vol_inferiorparietal_medPIQR',\n",
       "  'vol_lateraloccipital_medPIQR',\n",
       "  'vol_superiortemporal_medPIQR'])"
      ]
     },
     "execution_count": 48,
     "metadata": {},
     "output_type": "execute_result"
    }
   ],
   "source": [
    "# Difference betwee features selected by SVM and RF for Right hemisphere\n",
    "common_featsLR, common_featsRR, only_LR_feats, only_RR_feats = find_matchings(selected_feats_right_rf,\n",
    "                                                                             selected_feats_right_svm)\n",
    "common_featsLR, common_featsRR, only_LR_feats, only_RR_feats"
   ]
  },
  {
   "cell_type": "code",
   "execution_count": 49,
   "metadata": {},
   "outputs": [
    {
     "data": {
      "text/plain": [
       "(['thick_superiortemporal_medPIQR',\n",
       "  'area_bankssts_medMIQR',\n",
       "  'area_pericalcarine_medPIQR',\n",
       "  'area_supramarginal_medPIQR'],\n",
       " ['thick_superiortemporal_medPIQR',\n",
       "  'area_bankssts_medMIQR',\n",
       "  'area_pericalcarine_medPIQR',\n",
       "  'area_supramarginal_medPIQR'],\n",
       " ['thick_superiorparietal_medPIQR', 'vol_medialorbitofrontal_medPIQR'],\n",
       " ['thick_lateraloccipital_medMIQR', 'vol_bankssts_medMIQR'])"
      ]
     },
     "execution_count": 49,
     "metadata": {},
     "output_type": "execute_result"
    }
   ],
   "source": [
    "# Difference betwee features selected by RF for both hemisphere\n",
    "common_featsLR, common_featsRR, only_LR_feats, only_RR_feats = find_matchings(selected_feats_right_rf,\n",
    "                                                                             selected_feats_left_rf)\n",
    "common_featsLR, common_featsRR, only_LR_feats, only_RR_feats"
   ]
  },
  {
   "cell_type": "code",
   "execution_count": 50,
   "metadata": {},
   "outputs": [
    {
     "data": {
      "text/plain": [
       "(['thick_inferiorparietal_medPIQR',\n",
       "  'thick_superiorparietal_medPIQR',\n",
       "  'vol_inferiorparietal_medPIQR',\n",
       "  'vol_lateraloccipital_medPIQR',\n",
       "  'vol_superiortemporal_medPIQR'],\n",
       " ['thick_inferiorparietal_medPIQR',\n",
       "  'thick_superiorparietal_medPIQR',\n",
       "  'vol_inferiorparietal_medPIQR',\n",
       "  'vol_lateraloccipital_medPIQR',\n",
       "  'vol_superiortemporal_medPIQR'],\n",
       " [],\n",
       " [])"
      ]
     },
     "execution_count": 50,
     "metadata": {},
     "output_type": "execute_result"
    }
   ],
   "source": [
    "# Difference betwee features selected by SVM for both hemisphere\n",
    "common_featsLR, common_featsRR, only_LR_feats, only_RR_feats = find_matchings(selected_feats_right_svm,\n",
    "                                                                             selected_feats_left_svm)\n",
    "common_featsLR, common_featsRR, only_LR_feats, only_RR_feats"
   ]
  },
  {
   "cell_type": "code",
   "execution_count": 57,
   "metadata": {},
   "outputs": [
    {
     "data": {
      "text/plain": [
       "(['area_bankssts_medMIQR'],\n",
       " ['area_bankssts_medMIQR'],\n",
       " ['thick_caudalanteriorcingulate_medMIQR',\n",
       "  'thick_isthmuscingulate_medMIQR',\n",
       "  'thick_medialorbitofrontal_medPIQR',\n",
       "  'thick_parahippocampal_medPIQR',\n",
       "  'thick_posteriorcingulate_medMIQR',\n",
       "  'thick_rostralanteriorcingulate_medPIQR',\n",
       "  'thick_frontalpole_medMIQR',\n",
       "  'thick_temporalpole_medMIQR',\n",
       "  'curv_bankssts_medPIQR',\n",
       "  'curv_caudalanteriorcingulate_medMIQR',\n",
       "  'curv_caudalanteriorcingulate_medPIQR',\n",
       "  'curv_caudalmiddlefrontal_medMIQR',\n",
       "  'curv_caudalmiddlefrontal_medPIQR',\n",
       "  'curv_cuneus_medMIQR',\n",
       "  'curv_cuneus_medPIQR',\n",
       "  'curv_entorhinal_medMIQR',\n",
       "  'curv_entorhinal_medPIQR',\n",
       "  'curv_fusiform_medMIQR',\n",
       "  'curv_fusiform_medPIQR',\n",
       "  'curv_inferiorparietal_medMIQR',\n",
       "  'curv_inferiorparietal_medPIQR',\n",
       "  'curv_inferiortemporal_medMIQR',\n",
       "  'curv_inferiortemporal_medPIQR',\n",
       "  'curv_isthmuscingulate_medMIQR',\n",
       "  'curv_lateraloccipital_medMIQR',\n",
       "  'curv_lateraloccipital_medPIQR',\n",
       "  'curv_lateralorbitofrontal_medPIQR',\n",
       "  'curv_lingual_medMIQR',\n",
       "  'curv_lingual_medPIQR',\n",
       "  'curv_medialorbitofrontal_medPIQR',\n",
       "  'curv_middletemporal_medMIQR',\n",
       "  'curv_middletemporal_medPIQR',\n",
       "  'curv_parahippocampal_medMIQR',\n",
       "  'curv_paracentral_medMIQR',\n",
       "  'curv_paracentral_medPIQR',\n",
       "  'curv_parsopercularis_medMIQR',\n",
       "  'curv_parsopercularis_medPIQR',\n",
       "  'curv_parsorbitalis_medMIQR',\n",
       "  'curv_parsorbitalis_medPIQR',\n",
       "  'curv_parstriangularis_medMIQR',\n",
       "  'curv_parstriangularis_medPIQR',\n",
       "  'curv_postcentral_medMIQR',\n",
       "  'curv_posteriorcingulate_medMIQR',\n",
       "  'curv_posteriorcingulate_medPIQR',\n",
       "  'curv_precentral_medMIQR',\n",
       "  'curv_precentral_medPIQR',\n",
       "  'curv_precuneus_medPIQR',\n",
       "  'curv_rostralanteriorcingulate_medMIQR',\n",
       "  'curv_rostralmiddlefrontal_medPIQR',\n",
       "  'curv_superiorfrontal_medMIQR',\n",
       "  'curv_superiorfrontal_medPIQR',\n",
       "  'curv_superiorparietal_medMIQR',\n",
       "  'curv_superiorparietal_medPIQR',\n",
       "  'curv_superiortemporal_medMIQR',\n",
       "  'curv_supramarginal_medMIQR',\n",
       "  'curv_supramarginal_medPIQR',\n",
       "  'curv_frontalpole_medMIQR',\n",
       "  'curv_frontalpole_medPIQR',\n",
       "  'curv_temporalpole_medMIQR',\n",
       "  'curv_temporalpole_medPIQR',\n",
       "  'curv_transversetemporal_medMIQR',\n",
       "  'curv_transversetemporal_medPIQR',\n",
       "  'area_bankssts_medPIQR',\n",
       "  'area_caudalanteriorcingulate_medMIQR',\n",
       "  'area_caudalanteriorcingulate_medPIQR',\n",
       "  'area_entorhinal_medMIQR',\n",
       "  'area_entorhinal_medPIQR',\n",
       "  'area_fusiform_medMIQR',\n",
       "  'area_isthmuscingulate_medMIQR',\n",
       "  'area_isthmuscingulate_medPIQR',\n",
       "  'area_lateralorbitofrontal_medMIQR',\n",
       "  'area_medialorbitofrontal_medMIQR',\n",
       "  'area_medialorbitofrontal_medPIQR',\n",
       "  'area_parahippocampal_medMIQR',\n",
       "  'area_parahippocampal_medPIQR',\n",
       "  'area_parsopercularis_medMIQR',\n",
       "  'area_parsorbitalis_medMIQR',\n",
       "  'area_parstriangularis_medMIQR',\n",
       "  'area_parstriangularis_medPIQR',\n",
       "  'area_posteriorcingulate_medMIQR',\n",
       "  'area_posteriorcingulate_medPIQR',\n",
       "  'area_rostralanteriorcingulate_medMIQR',\n",
       "  'area_rostralanteriorcingulate_medPIQR',\n",
       "  'area_frontalpole_medMIQR',\n",
       "  'area_temporalpole_medMIQR',\n",
       "  'area_temporalpole_medPIQR',\n",
       "  'area_transversetemporal_medPIQR',\n",
       "  'vol_caudalanteriorcingulate_medPIQR',\n",
       "  'vol_entorhinal_medPIQR',\n",
       "  'vol_fusiform_medMIQR',\n",
       "  'vol_isthmuscingulate_medMIQR',\n",
       "  'vol_lateraloccipital_medPIQR',\n",
       "  'vol_medialorbitofrontal_medMIQR',\n",
       "  'vol_parahippocampal_medMIQR',\n",
       "  'vol_superiortemporal_medMIQR',\n",
       "  'vol_frontalpole_medMIQR',\n",
       "  'vol_temporalpole_medMIQR',\n",
       "  'vol_transversetemporal_medMIQR'],\n",
       " ['thick_lateraloccipital_medMIQR',\n",
       "  'thick_superiortemporal_medPIQR',\n",
       "  'area_pericalcarine_medPIQR',\n",
       "  'area_supramarginal_medPIQR',\n",
       "  'vol_bankssts_medMIQR'])"
      ]
     },
     "execution_count": 57,
     "metadata": {},
     "output_type": "execute_result"
    }
   ],
   "source": [
    "# Find the difference between selected features at 0.5 thresold and RF RFECV for left hemisphere\n",
    "selected_feats_left_rf, selected_feats_left_svm\n",
    "left_feats_50\n",
    "common_featsLR, common_featsRR, only_LR_feats, only_RR_feats = find_matchings(left_feats_50,\n",
    "                                                                             selected_feats_left_rf)\n",
    "common_featsLR, common_featsRR, only_LR_feats, only_RR_feats"
   ]
  },
  {
   "cell_type": "code",
   "execution_count": 58,
   "metadata": {},
   "outputs": [
    {
     "data": {
      "text/plain": [
       "(['vol_lateraloccipital_medPIQR'],\n",
       " ['vol_lateraloccipital_medPIQR'],\n",
       " ['thick_caudalanteriorcingulate_medMIQR',\n",
       "  'thick_isthmuscingulate_medMIQR',\n",
       "  'thick_medialorbitofrontal_medPIQR',\n",
       "  'thick_parahippocampal_medPIQR',\n",
       "  'thick_posteriorcingulate_medMIQR',\n",
       "  'thick_rostralanteriorcingulate_medPIQR',\n",
       "  'thick_frontalpole_medMIQR',\n",
       "  'thick_temporalpole_medMIQR',\n",
       "  'curv_bankssts_medPIQR',\n",
       "  'curv_caudalanteriorcingulate_medMIQR',\n",
       "  'curv_caudalanteriorcingulate_medPIQR',\n",
       "  'curv_caudalmiddlefrontal_medMIQR',\n",
       "  'curv_caudalmiddlefrontal_medPIQR',\n",
       "  'curv_cuneus_medMIQR',\n",
       "  'curv_cuneus_medPIQR',\n",
       "  'curv_entorhinal_medMIQR',\n",
       "  'curv_entorhinal_medPIQR',\n",
       "  'curv_fusiform_medMIQR',\n",
       "  'curv_fusiform_medPIQR',\n",
       "  'curv_inferiorparietal_medMIQR',\n",
       "  'curv_inferiorparietal_medPIQR',\n",
       "  'curv_inferiortemporal_medMIQR',\n",
       "  'curv_inferiortemporal_medPIQR',\n",
       "  'curv_isthmuscingulate_medMIQR',\n",
       "  'curv_lateraloccipital_medMIQR',\n",
       "  'curv_lateraloccipital_medPIQR',\n",
       "  'curv_lateralorbitofrontal_medPIQR',\n",
       "  'curv_lingual_medMIQR',\n",
       "  'curv_lingual_medPIQR',\n",
       "  'curv_medialorbitofrontal_medPIQR',\n",
       "  'curv_middletemporal_medMIQR',\n",
       "  'curv_middletemporal_medPIQR',\n",
       "  'curv_parahippocampal_medMIQR',\n",
       "  'curv_paracentral_medMIQR',\n",
       "  'curv_paracentral_medPIQR',\n",
       "  'curv_parsopercularis_medMIQR',\n",
       "  'curv_parsopercularis_medPIQR',\n",
       "  'curv_parsorbitalis_medMIQR',\n",
       "  'curv_parsorbitalis_medPIQR',\n",
       "  'curv_parstriangularis_medMIQR',\n",
       "  'curv_parstriangularis_medPIQR',\n",
       "  'curv_postcentral_medMIQR',\n",
       "  'curv_posteriorcingulate_medMIQR',\n",
       "  'curv_posteriorcingulate_medPIQR',\n",
       "  'curv_precentral_medMIQR',\n",
       "  'curv_precentral_medPIQR',\n",
       "  'curv_precuneus_medPIQR',\n",
       "  'curv_rostralanteriorcingulate_medMIQR',\n",
       "  'curv_rostralmiddlefrontal_medPIQR',\n",
       "  'curv_superiorfrontal_medMIQR',\n",
       "  'curv_superiorfrontal_medPIQR',\n",
       "  'curv_superiorparietal_medMIQR',\n",
       "  'curv_superiorparietal_medPIQR',\n",
       "  'curv_superiortemporal_medMIQR',\n",
       "  'curv_supramarginal_medMIQR',\n",
       "  'curv_supramarginal_medPIQR',\n",
       "  'curv_frontalpole_medMIQR',\n",
       "  'curv_frontalpole_medPIQR',\n",
       "  'curv_temporalpole_medMIQR',\n",
       "  'curv_temporalpole_medPIQR',\n",
       "  'curv_transversetemporal_medMIQR',\n",
       "  'curv_transversetemporal_medPIQR',\n",
       "  'area_bankssts_medMIQR',\n",
       "  'area_bankssts_medPIQR',\n",
       "  'area_caudalanteriorcingulate_medMIQR',\n",
       "  'area_caudalanteriorcingulate_medPIQR',\n",
       "  'area_entorhinal_medMIQR',\n",
       "  'area_entorhinal_medPIQR',\n",
       "  'area_fusiform_medMIQR',\n",
       "  'area_isthmuscingulate_medMIQR',\n",
       "  'area_isthmuscingulate_medPIQR',\n",
       "  'area_lateralorbitofrontal_medMIQR',\n",
       "  'area_medialorbitofrontal_medMIQR',\n",
       "  'area_medialorbitofrontal_medPIQR',\n",
       "  'area_parahippocampal_medMIQR',\n",
       "  'area_parahippocampal_medPIQR',\n",
       "  'area_parsopercularis_medMIQR',\n",
       "  'area_parsorbitalis_medMIQR',\n",
       "  'area_parstriangularis_medMIQR',\n",
       "  'area_parstriangularis_medPIQR',\n",
       "  'area_posteriorcingulate_medMIQR',\n",
       "  'area_posteriorcingulate_medPIQR',\n",
       "  'area_rostralanteriorcingulate_medMIQR',\n",
       "  'area_rostralanteriorcingulate_medPIQR',\n",
       "  'area_frontalpole_medMIQR',\n",
       "  'area_temporalpole_medMIQR',\n",
       "  'area_temporalpole_medPIQR',\n",
       "  'area_transversetemporal_medPIQR',\n",
       "  'vol_caudalanteriorcingulate_medPIQR',\n",
       "  'vol_entorhinal_medPIQR',\n",
       "  'vol_fusiform_medMIQR',\n",
       "  'vol_isthmuscingulate_medMIQR',\n",
       "  'vol_medialorbitofrontal_medMIQR',\n",
       "  'vol_parahippocampal_medMIQR',\n",
       "  'vol_superiortemporal_medMIQR',\n",
       "  'vol_frontalpole_medMIQR',\n",
       "  'vol_temporalpole_medMIQR',\n",
       "  'vol_transversetemporal_medMIQR'],\n",
       " ['thick_inferiorparietal_medPIQR',\n",
       "  'thick_superiorparietal_medPIQR',\n",
       "  'vol_inferiorparietal_medPIQR',\n",
       "  'vol_superiortemporal_medPIQR'])"
      ]
     },
     "execution_count": 58,
     "metadata": {},
     "output_type": "execute_result"
    }
   ],
   "source": [
    "# Find the difference between selected features at 0.5 thresold and SVM RFECV for left hemisphere\n",
    "selected_feats_left_rf, selected_feats_left_svm\n",
    "left_feats_50\n",
    "common_featsLR, common_featsRR, only_LR_feats, only_RR_feats = find_matchings(left_feats_50,\n",
    "                                                                             selected_feats_left_svm)\n",
    "common_featsLR, common_featsRR, only_LR_feats, only_RR_feats"
   ]
  },
  {
   "cell_type": "code",
   "execution_count": 59,
   "metadata": {},
   "outputs": [
    {
     "data": {
      "text/plain": [
       "(['vol_lateraloccipital_medPIQR', 'vol_superiortemporal_medPIQR'],\n",
       " ['vol_lateraloccipital_medPIQR', 'vol_superiortemporal_medPIQR'],\n",
       " ['thick_caudalanteriorcingulate_medMIQR',\n",
       "  'thick_cuneus_medMIQR',\n",
       "  'thick_entorhinal_medMIQR',\n",
       "  'thick_fusiform_medPIQR',\n",
       "  'thick_isthmuscingulate_medMIQR',\n",
       "  'thick_isthmuscingulate_medPIQR',\n",
       "  'thick_lateraloccipital_medMIQR',\n",
       "  'thick_lateralorbitofrontal_medMIQR',\n",
       "  'thick_lingual_medMIQR',\n",
       "  'thick_medialorbitofrontal_medMIQR',\n",
       "  'thick_medialorbitofrontal_medPIQR',\n",
       "  'thick_parahippocampal_medMIQR',\n",
       "  'thick_parahippocampal_medPIQR',\n",
       "  'thick_paracentral_medMIQR',\n",
       "  'thick_parsorbitalis_medMIQR',\n",
       "  'thick_parsorbitalis_medPIQR',\n",
       "  'thick_pericalcarine_medMIQR',\n",
       "  'thick_postcentral_medMIQR',\n",
       "  'thick_posteriorcingulate_medMIQR',\n",
       "  'thick_precuneus_medMIQR',\n",
       "  'thick_rostralanteriorcingulate_medMIQR',\n",
       "  'thick_rostralanteriorcingulate_medPIQR',\n",
       "  'thick_frontalpole_medMIQR',\n",
       "  'thick_temporalpole_medMIQR',\n",
       "  'thick_transversetemporal_medMIQR',\n",
       "  'curv_bankssts_medPIQR',\n",
       "  'curv_caudalanteriorcingulate_medMIQR',\n",
       "  'curv_caudalanteriorcingulate_medPIQR',\n",
       "  'curv_caudalmiddlefrontal_medMIQR',\n",
       "  'curv_caudalmiddlefrontal_medPIQR',\n",
       "  'curv_cuneus_medMIQR',\n",
       "  'curv_cuneus_medPIQR',\n",
       "  'curv_entorhinal_medMIQR',\n",
       "  'curv_entorhinal_medPIQR',\n",
       "  'curv_fusiform_medMIQR',\n",
       "  'curv_fusiform_medPIQR',\n",
       "  'curv_inferiorparietal_medMIQR',\n",
       "  'curv_inferiorparietal_medPIQR',\n",
       "  'curv_inferiortemporal_medMIQR',\n",
       "  'curv_inferiortemporal_medPIQR',\n",
       "  'curv_isthmuscingulate_medMIQR',\n",
       "  'curv_isthmuscingulate_medPIQR',\n",
       "  'curv_lateraloccipital_medMIQR',\n",
       "  'curv_lateraloccipital_medPIQR',\n",
       "  'curv_lateralorbitofrontal_medMIQR',\n",
       "  'curv_lateralorbitofrontal_medPIQR',\n",
       "  'curv_lingual_medMIQR',\n",
       "  'curv_lingual_medPIQR',\n",
       "  'curv_medialorbitofrontal_medPIQR',\n",
       "  'curv_middletemporal_medMIQR',\n",
       "  'curv_middletemporal_medPIQR',\n",
       "  'curv_parahippocampal_medMIQR',\n",
       "  'curv_parahippocampal_medPIQR',\n",
       "  'curv_paracentral_medMIQR',\n",
       "  'curv_paracentral_medPIQR',\n",
       "  'curv_parsopercularis_medMIQR',\n",
       "  'curv_parsopercularis_medPIQR',\n",
       "  'curv_parsorbitalis_medMIQR',\n",
       "  'curv_parsorbitalis_medPIQR',\n",
       "  'curv_parstriangularis_medMIQR',\n",
       "  'curv_parstriangularis_medPIQR',\n",
       "  'curv_pericalcarine_medMIQR',\n",
       "  'curv_pericalcarine_medPIQR',\n",
       "  'curv_postcentral_medMIQR',\n",
       "  'curv_postcentral_medPIQR',\n",
       "  'curv_posteriorcingulate_medMIQR',\n",
       "  'curv_posteriorcingulate_medPIQR',\n",
       "  'curv_precentral_medMIQR',\n",
       "  'curv_precentral_medPIQR',\n",
       "  'curv_precuneus_medMIQR',\n",
       "  'curv_precuneus_medPIQR',\n",
       "  'curv_rostralanteriorcingulate_medMIQR',\n",
       "  'curv_rostralanteriorcingulate_medPIQR',\n",
       "  'curv_rostralmiddlefrontal_medMIQR',\n",
       "  'curv_rostralmiddlefrontal_medPIQR',\n",
       "  'curv_superiorfrontal_medMIQR',\n",
       "  'curv_superiorfrontal_medPIQR',\n",
       "  'curv_superiorparietal_medMIQR',\n",
       "  'curv_superiorparietal_medPIQR',\n",
       "  'curv_superiortemporal_medMIQR',\n",
       "  'curv_supramarginal_medMIQR',\n",
       "  'curv_supramarginal_medPIQR',\n",
       "  'curv_frontalpole_medMIQR',\n",
       "  'curv_frontalpole_medPIQR',\n",
       "  'curv_temporalpole_medMIQR',\n",
       "  'curv_temporalpole_medPIQR',\n",
       "  'curv_transversetemporal_medMIQR',\n",
       "  'curv_transversetemporal_medPIQR',\n",
       "  'area_bankssts_medMIQR',\n",
       "  'area_bankssts_medPIQR',\n",
       "  'area_caudalanteriorcingulate_medMIQR',\n",
       "  'area_caudalanteriorcingulate_medPIQR',\n",
       "  'area_caudalmiddlefrontal_medMIQR',\n",
       "  'area_caudalmiddlefrontal_medPIQR',\n",
       "  'area_cuneus_medMIQR',\n",
       "  'area_entorhinal_medMIQR',\n",
       "  'area_entorhinal_medPIQR',\n",
       "  'area_fusiform_medMIQR',\n",
       "  'area_fusiform_medPIQR',\n",
       "  'area_inferiorparietal_medMIQR',\n",
       "  'area_inferiortemporal_medMIQR',\n",
       "  'area_inferiortemporal_medPIQR',\n",
       "  'area_isthmuscingulate_medMIQR',\n",
       "  'area_isthmuscingulate_medPIQR',\n",
       "  'area_lateraloccipital_medMIQR',\n",
       "  'area_lateraloccipital_medPIQR',\n",
       "  'area_lateralorbitofrontal_medMIQR',\n",
       "  'area_lateralorbitofrontal_medPIQR',\n",
       "  'area_lingual_medMIQR',\n",
       "  'area_lingual_medPIQR',\n",
       "  'area_medialorbitofrontal_medMIQR',\n",
       "  'area_medialorbitofrontal_medPIQR',\n",
       "  'area_middletemporal_medMIQR',\n",
       "  'area_middletemporal_medPIQR',\n",
       "  'area_parahippocampal_medMIQR',\n",
       "  'area_parahippocampal_medPIQR',\n",
       "  'area_paracentral_medMIQR',\n",
       "  'area_paracentral_medPIQR',\n",
       "  'area_parsopercularis_medMIQR',\n",
       "  'area_parsopercularis_medPIQR',\n",
       "  'area_parsorbitalis_medMIQR',\n",
       "  'area_parsorbitalis_medPIQR',\n",
       "  'area_parstriangularis_medMIQR',\n",
       "  'area_parstriangularis_medPIQR',\n",
       "  'area_pericalcarine_medMIQR',\n",
       "  'area_pericalcarine_medPIQR',\n",
       "  'area_postcentral_medMIQR',\n",
       "  'area_posteriorcingulate_medMIQR',\n",
       "  'area_posteriorcingulate_medPIQR',\n",
       "  'area_precentral_medMIQR',\n",
       "  'area_precuneus_medMIQR',\n",
       "  'area_precuneus_medPIQR',\n",
       "  'area_rostralanteriorcingulate_medMIQR',\n",
       "  'area_rostralanteriorcingulate_medPIQR',\n",
       "  'area_rostralmiddlefrontal_medMIQR',\n",
       "  'area_superiorfrontal_medMIQR',\n",
       "  'area_superiortemporal_medMIQR',\n",
       "  'area_superiortemporal_medPIQR',\n",
       "  'area_supramarginal_medMIQR',\n",
       "  'area_frontalpole_medMIQR',\n",
       "  'area_frontalpole_medPIQR',\n",
       "  'area_temporalpole_medMIQR',\n",
       "  'area_temporalpole_medPIQR',\n",
       "  'area_transversetemporal_medMIQR',\n",
       "  'area_transversetemporal_medPIQR',\n",
       "  'area_insula_medMIQR',\n",
       "  'vol_bankssts_medMIQR',\n",
       "  'vol_bankssts_medPIQR',\n",
       "  'vol_caudalanteriorcingulate_medMIQR',\n",
       "  'vol_caudalanteriorcingulate_medPIQR',\n",
       "  'vol_caudalmiddlefrontal_medMIQR',\n",
       "  'vol_cuneus_medMIQR',\n",
       "  'vol_entorhinal_medMIQR',\n",
       "  'vol_entorhinal_medPIQR',\n",
       "  'vol_fusiform_medMIQR',\n",
       "  'vol_inferiortemporal_medMIQR',\n",
       "  'vol_inferiortemporal_medPIQR',\n",
       "  'vol_isthmuscingulate_medMIQR',\n",
       "  'vol_lateralorbitofrontal_medMIQR',\n",
       "  'vol_lateralorbitofrontal_medPIQR',\n",
       "  'vol_lingual_medMIQR',\n",
       "  'vol_medialorbitofrontal_medMIQR',\n",
       "  'vol_middletemporal_medMIQR',\n",
       "  'vol_middletemporal_medPIQR',\n",
       "  'vol_parahippocampal_medMIQR',\n",
       "  'vol_paracentral_medMIQR',\n",
       "  'vol_parsopercularis_medMIQR',\n",
       "  'vol_parsorbitalis_medMIQR',\n",
       "  'vol_parstriangularis_medMIQR',\n",
       "  'vol_postcentral_medMIQR',\n",
       "  'vol_posteriorcingulate_medMIQR',\n",
       "  'vol_posteriorcingulate_medPIQR',\n",
       "  'vol_precuneus_medMIQR',\n",
       "  'vol_rostralanteriorcingulate_medMIQR',\n",
       "  'vol_rostralmiddlefrontal_medMIQR',\n",
       "  'vol_superiortemporal_medMIQR',\n",
       "  'vol_supramarginal_medMIQR',\n",
       "  'vol_frontalpole_medMIQR',\n",
       "  'vol_frontalpole_medPIQR',\n",
       "  'vol_temporalpole_medMIQR',\n",
       "  'vol_temporalpole_medPIQR',\n",
       "  'vol_transversetemporal_medMIQR',\n",
       "  'vol_transversetemporal_medPIQR'],\n",
       " ['thick_inferiorparietal_medPIQR',\n",
       "  'thick_superiorparietal_medPIQR',\n",
       "  'vol_inferiorparietal_medPIQR'])"
      ]
     },
     "execution_count": 59,
     "metadata": {},
     "output_type": "execute_result"
    }
   ],
   "source": [
    "# Find the difference between selected features at 0.7 thresold and SVM RFECV for left hemisphere\n",
    "selected_feats_left_rf, selected_feats_left_svm\n",
    "left_feats_50\n",
    "common_featsLR, common_featsRR, only_LR_feats, only_RR_feats = find_matchings(left_feats_70,\n",
    "                                                                             selected_feats_left_svm)\n",
    "common_featsLR, common_featsRR, only_LR_feats, only_RR_feats"
   ]
  },
  {
   "cell_type": "markdown",
   "metadata": {},
   "source": [
    "## Conclusion\n",
    "RFECV selectes 5 to 7 features. while the most stricted correlation analysis threshold picked 99 features for left and right.<br>\n",
    "Correlation analysis almost picked the same features for the left and right hemisphere which\n",
    "indicates that both hemisphere are identical. \"Our begining assumption\""
   ]
  },
  {
   "cell_type": "markdown",
   "metadata": {},
   "source": [
    "# Compare Performance of RFECV & CORR features\n",
    "## Given:\n",
    "1. Perforamce of each model using 5 fold CV\n",
    "\n",
    "## Questions:\n",
    "1. Which model has the best performance?\n",
    "2. What are the classifiers that best classify the data?"
   ]
  },
  {
   "cell_type": "code",
   "execution_count": 62,
   "metadata": {},
   "outputs": [],
   "source": [
    "# Load ML results for each model [ LEFT HEMISPHERE ]\n",
    "ML_obj_50 = load(os.path.join(results_with_no_FS, subdirs['ML'], 'clf_left_OnlyCorr_50.joblib'))\n",
    "ML_obj_60 = load(os.path.join(results_with_no_FS, subdirs['ML'], 'clf_left_OnlyCorr_60.joblib'))\n",
    "ML_obj_70 = load(os.path.join(results_with_no_FS, subdirs['ML'], 'clf_left_OnlyCorr_70.joblib'))\n",
    "ML_obj_85 = load(os.path.join(results_with_no_FS, subdirs['ML'], 'clf_left_OnlyCorr_85.joblib'))\n",
    "\n",
    "ML_obj_rf = load(os.path.join(results_with_no_CORRANA, subdirs['ML'], 'clf_left_rf_nocorr.joblib'))\n",
    "ML_obj_svm = load(os.path.join(results_with_no_CORRANA, subdirs['ML'], 'clf_left_svc_nocorr.joblib'))"
   ]
  },
  {
   "cell_type": "code",
   "execution_count": 7,
   "metadata": {},
   "outputs": [],
   "source": [
    "def get_results_dict(clc_dict):\n",
    "    scores_clc = {}\n",
    "    for clc in clc_dict:\n",
    "        ML_obj = clc_dict[clc]\n",
    "        scores_clc[clc] = ML_obj.best_score_\n",
    "    return scores_clc"
   ]
  },
  {
   "cell_type": "code",
   "execution_count": 77,
   "metadata": {},
   "outputs": [],
   "source": [
    "classifiers = ['lSVM', 'pagg', 'lg', 'XGB', 'GNB', 'Rf', 'SVC', 'nn']\n",
    "scores_clc_50 = get_results_dict(ML_obj_50)\n",
    "scores_clc_60 = get_results_dict(ML_obj_60)\n",
    "scores_clc_70 = get_results_dict(ML_obj_70)\n",
    "scores_clc_85 = get_results_dict(ML_obj_85)\n",
    "scores_clc_rf = get_results_dict(ML_obj_rf)\n",
    "scores_clc_svm = get_results_dict(ML_obj_svm)\n",
    "\n",
    "    "
   ]
  },
  {
   "cell_type": "code",
   "execution_count": 78,
   "metadata": {},
   "outputs": [
    {
     "data": {
      "text/plain": [
       "{'lSVM': 0.5685714285714285,\n",
       " 'pagg': 0.5856627913149651,\n",
       " 'lg': 0.5684992302383607,\n",
       " 'XGB': 0.5684992302383607,\n",
       " 'GNB': 0.5126389552476509,\n",
       " 'Rf': 0.5043961352657005,\n",
       " 'SVC': 0.5672660190051494,\n",
       " 'nn': 0.5943318999840738}"
      ]
     },
     "execution_count": 78,
     "metadata": {},
     "output_type": "execute_result"
    }
   ],
   "source": [
    "scores_clc_50"
   ]
  },
  {
   "cell_type": "code",
   "execution_count": 79,
   "metadata": {},
   "outputs": [
    {
     "data": {
      "text/plain": [
       "{'lSVM': 0.5725195094760313,\n",
       " 'pagg': 0.5823289271115358,\n",
       " 'lg': 0.5684371184371184,\n",
       " 'XGB': 0.5888373944895684,\n",
       " 'GNB': 0.5302118171683389,\n",
       " 'Rf': 0.5022222222222222,\n",
       " 'SVC': 0.5846817433773956,\n",
       " 'nn': 0.6068073472421298}"
      ]
     },
     "execution_count": 79,
     "metadata": {},
     "output_type": "execute_result"
    }
   ],
   "source": [
    "scores_clc_60"
   ]
  },
  {
   "cell_type": "code",
   "execution_count": 81,
   "metadata": {},
   "outputs": [
    {
     "data": {
      "text/plain": [
       "{'lSVM': 0.5727021287890853,\n",
       " 'pagg': 0.5880538302277433,\n",
       " 'lg': 0.5684376493072145,\n",
       " 'XGB': 0.5846461750809577,\n",
       " 'GNB': 0.5269034347295216,\n",
       " 'Rf': 0.5032850241545894,\n",
       " 'SVC': 0.6013478791739661,\n",
       " 'nn': 0.6145256675691458}"
      ]
     },
     "execution_count": 81,
     "metadata": {},
     "output_type": "execute_result"
    }
   ],
   "source": [
    "scores_clc_70"
   ]
  },
  {
   "cell_type": "code",
   "execution_count": 83,
   "metadata": {},
   "outputs": [
    {
     "data": {
      "text/plain": [
       "{'lSVM': 0.5891288421723204,\n",
       " 'pagg': 0.5944311726920424,\n",
       " 'lg': 0.594599458512502,\n",
       " 'XGB': 0.5858438180177311,\n",
       " 'GNB': 0.5278590009024791,\n",
       " 'Rf': 0.5021739130434784,\n",
       " 'SVC': 0.6126384243775549,\n",
       " 'nn': 0.6187986409725541}"
      ]
     },
     "execution_count": 83,
     "metadata": {},
     "output_type": "execute_result"
    }
   ],
   "source": [
    "scores_clc_85"
   ]
  },
  {
   "cell_type": "code",
   "execution_count": 84,
   "metadata": {},
   "outputs": [
    {
     "data": {
      "text/plain": [
       "{'lSVM': 0.5458703615225355,\n",
       " 'pagg': 0.5763316876360356,\n",
       " 'lg': 0.5524648298561342,\n",
       " 'XGB': 0.6013239900196422,\n",
       " 'GNB': 0.5578659022137283,\n",
       " 'Rf': 0.5141307002176567,\n",
       " 'SVC': 0.6036200031852206,\n",
       " 'nn': 0.6093534002229655}"
      ]
     },
     "execution_count": 84,
     "metadata": {},
     "output_type": "execute_result"
    }
   ],
   "source": [
    "scores_clc_rf"
   ]
  },
  {
   "cell_type": "code",
   "execution_count": 85,
   "metadata": {},
   "outputs": [
    {
     "data": {
      "text/plain": [
       "{'lSVM': 0.5558714232627276,\n",
       " 'pagg': 0.5611753463927377,\n",
       " 'lg': 0.5547486330095026,\n",
       " 'XGB': 0.5956728778467909,\n",
       " 'GNB': 0.5214657323352976,\n",
       " 'Rf': 0.5306540319583799,\n",
       " 'SVC': 0.5579396931570845,\n",
       " 'nn': 0.5942942082072518}"
      ]
     },
     "execution_count": 85,
     "metadata": {},
     "output_type": "execute_result"
    }
   ],
   "source": [
    "scores_clc_svm"
   ]
  },
  {
   "cell_type": "code",
   "execution_count": 88,
   "metadata": {},
   "outputs": [],
   "source": [
    "# Load ML results for each model [ Right HEMISPHERE ]\n",
    "ML_obj_50_r = load(os.path.join(results_with_no_FS, subdirs['ML'], 'clf_right_OnlyCorr_50.joblib'))\n",
    "ML_obj_60_r = load(os.path.join(results_with_no_FS, subdirs['ML'], 'clf_right_OnlyCorr_60.joblib'))\n",
    "ML_obj_70_r = load(os.path.join(results_with_no_FS, subdirs['ML'], 'clf_right_OnlyCorr_70.joblib'))\n",
    "ML_obj_85_r = load(os.path.join(results_with_no_FS, subdirs['ML'], 'clf_right_OnlyCorr_85.joblib'))\n",
    "\n",
    "ML_obj_rf_r = load(os.path.join(results_with_no_CORRANA, subdirs['ML'], 'clf_right_rf_nocorr.joblib'))\n",
    "ML_obj_svm_r = load(os.path.join(results_with_no_CORRANA, subdirs['ML'], 'clf_right_svc_nocorr.joblib'))"
   ]
  },
  {
   "cell_type": "code",
   "execution_count": 89,
   "metadata": {},
   "outputs": [],
   "source": [
    "classifiers = ['lSVM', 'pagg', 'lg', 'XGB', 'GNB', 'Rf', 'SVC', 'nn']\n",
    "scores_clc_50_r = get_results_dict(ML_obj_50_r)\n",
    "scores_clc_60_r = get_results_dict(ML_obj_60_r)\n",
    "scores_clc_70_r = get_results_dict(ML_obj_70_r)\n",
    "scores_clc_85_r = get_results_dict(ML_obj_85_r)\n",
    "scores_clc_rf_r = get_results_dict(ML_obj_rf_r)\n",
    "scores_clc_svm_r = get_results_dict(ML_obj_svm_r)"
   ]
  },
  {
   "cell_type": "code",
   "execution_count": 91,
   "metadata": {},
   "outputs": [
    {
     "name": "stdout",
     "output_type": "stream",
     "text": [
      "      SVM_left   RF_left   50_left   60_left   70_left   85_left  SVM_right  \\\n",
      "lSVM  0.555871  0.545870  0.568571  0.572520  0.572702  0.589129   0.555871   \n",
      "pagg  0.561175  0.576332  0.585663  0.582329  0.588054  0.594431   0.569174   \n",
      "lg    0.554749  0.552465  0.568499  0.568437  0.568438  0.594599   0.554749   \n",
      "XGB   0.595673  0.601324  0.568499  0.588837  0.584646  0.585844   0.596845   \n",
      "GNB   0.521466  0.557866  0.512639  0.530212  0.526903  0.527859   0.521466   \n",
      "Rf    0.530654  0.514131  0.504396  0.502222  0.503285  0.502174   0.532828   \n",
      "SVC   0.557940  0.603620  0.567266  0.584682  0.601348  0.612638   0.557940   \n",
      "nn    0.594294  0.609353  0.594332  0.606807  0.614526  0.618799   0.584279   \n",
      "\n",
      "      RF_right  50_right  60_right  70_right  85_right  \n",
      "lSVM  0.562369  0.568571  0.572520  0.572702  0.589129  \n",
      "pagg  0.567056  0.564613  0.593319  0.584430  0.595663  \n",
      "lg    0.584229  0.568499  0.568437  0.568438  0.594599  \n",
      "XGB   0.622640  0.569597  0.582761  0.586262  0.592857  \n",
      "GNB   0.568807  0.512639  0.530212  0.526903  0.527859  \n",
      "Rf    0.510918  0.504396  0.504396  0.502222  0.502222  \n",
      "SVC   0.606298  0.567266  0.584682  0.601348  0.612638  \n",
      "nn    0.629186  0.598074  0.605347  0.616649  0.618559  \n"
     ]
    }
   ],
   "source": [
    "data_dict = {\n",
    "    'SVM_left': scores_clc_svm,\n",
    "    'RF_left': scores_clc_rf,\n",
    "    '50_left': scores_clc_50,\n",
    "    '60_left': scores_clc_60,\n",
    "    '70_left': scores_clc_70,\n",
    "    '85_left': scores_clc_85,\n",
    "    'SVM_right': scores_clc_svm_r,\n",
    "    'RF_right': scores_clc_rf_r,\n",
    "    '50_right': scores_clc_50_r,\n",
    "    '60_right': scores_clc_60_r,\n",
    "    '70_right': scores_clc_70_r,\n",
    "    '85_right': scores_clc_85_r\n",
    "}\n",
    "df = pd.DataFrame(data_dict)\n",
    "print(df)"
   ]
  },
  {
   "cell_type": "code",
   "execution_count": 95,
   "metadata": {},
   "outputs": [
    {
     "data": {
      "text/plain": [
       "SVM_left     0.595673\n",
       "RF_left      0.609353\n",
       "50_left      0.594332\n",
       "60_left      0.606807\n",
       "70_left      0.614526\n",
       "85_left      0.618799\n",
       "SVM_right    0.596845\n",
       "RF_right     0.629186\n",
       "50_right     0.598074\n",
       "60_right     0.605347\n",
       "70_right     0.616649\n",
       "85_right     0.618559\n",
       "dtype: float64"
      ]
     },
     "execution_count": 95,
     "metadata": {},
     "output_type": "execute_result"
    }
   ],
   "source": [
    "df.max()"
   ]
  },
  {
   "cell_type": "code",
   "execution_count": 96,
   "metadata": {},
   "outputs": [],
   "source": [
    "no_nndf = df.drop('nn')"
   ]
  },
  {
   "cell_type": "code",
   "execution_count": 97,
   "metadata": {},
   "outputs": [
    {
     "data": {
      "text/plain": [
       "SVM_left     0.595673\n",
       "RF_left      0.603620\n",
       "50_left      0.585663\n",
       "60_left      0.588837\n",
       "70_left      0.601348\n",
       "85_left      0.612638\n",
       "SVM_right    0.596845\n",
       "RF_right     0.622640\n",
       "50_right     0.569597\n",
       "60_right     0.593319\n",
       "70_right     0.601348\n",
       "85_right     0.612638\n",
       "dtype: float64"
      ]
     },
     "execution_count": 97,
     "metadata": {},
     "output_type": "execute_result"
    }
   ],
   "source": [
    "no_nndf.max()"
   ]
  },
  {
   "cell_type": "code",
   "execution_count": 98,
   "metadata": {},
   "outputs": [],
   "source": [
    "max_left_scores = [0.595673,\n",
    "      0.603620,\n",
    "      0.585663,\n",
    "     0.588837,\n",
    "     0.601348]\n",
    "max_right_scores = [0.596845,\n",
    "0.622640,\n",
    "0.569597,\n",
    "0.593319,\n",
    "0.601348,\n",
    "0.612638]"
   ]
  },
  {
   "cell_type": "code",
   "execution_count": 99,
   "metadata": {},
   "outputs": [
    {
     "data": {
      "text/plain": [
       "(0.60362, 0.62264)"
      ]
     },
     "execution_count": 99,
     "metadata": {},
     "output_type": "execute_result"
    }
   ],
   "source": [
    "np.max(max_left_scores), np.max(max_right_scores)"
   ]
  },
  {
   "cell_type": "code",
   "execution_count": 100,
   "metadata": {},
   "outputs": [
    {
     "data": {
      "text/plain": [
       "(0.5950282, 0.5993978333333334)"
      ]
     },
     "execution_count": 100,
     "metadata": {},
     "output_type": "execute_result"
    }
   ],
   "source": [
    "np.mean(max_left_scores), np.mean(max_right_scores)"
   ]
  },
  {
   "cell_type": "code",
   "execution_count": 4,
   "metadata": {},
   "outputs": [
    {
     "data": {
      "text/plain": [
       "'./Results'"
      ]
     },
     "execution_count": 4,
     "metadata": {},
     "output_type": "execute_result"
    }
   ],
   "source": [
    "results_with_no_FS"
   ]
  },
  {
   "cell_type": "code",
   "execution_count": 5,
   "metadata": {},
   "outputs": [],
   "source": [
    "fs_corr_left_rf = load(os.path.join(results_with_no_FS, subdirs['ML'],\n",
    "                                    'clf_left_RF_CORR_50.joblib'))\n",
    "fs_corr_left_svm = load(os.path.join(results_with_no_FS, subdirs['ML'],\n",
    "                                     'clf_left_lsvm_CORR_50.joblib'))\n",
    "fs_corr_right_rf = load(os.path.join(results_with_no_FS, subdirs['ML'],\n",
    "                                     'clf_right_RF_CORR_50.joblib'))\n",
    "fs_corr_right_svm = load(os.path.join(results_with_no_FS, subdirs['ML'],\n",
    "                                      'clf_right_lsvm_CORR_50.joblib'))"
   ]
  },
  {
   "cell_type": "code",
   "execution_count": 8,
   "metadata": {},
   "outputs": [],
   "source": [
    "classifiers = ['lSVM', 'pagg', 'lg', 'XGB', 'GNB', 'Rf', 'SVC', 'nn']\n",
    "scores_clc_rf_corr_r = get_results_dict(fs_corr_right_rf)\n",
    "scores_clc_svm_corr_r = get_results_dict(fs_corr_right_svm)\n",
    "scores_clc_rf_corr_l = get_results_dict(fs_corr_left_rf)\n",
    "scores_clc_svm_corr_l = get_results_dict(fs_corr_left_svm)"
   ]
  },
  {
   "cell_type": "code",
   "execution_count": 10,
   "metadata": {},
   "outputs": [
    {
     "name": "stdout",
     "output_type": "stream",
     "text": [
      "      SVM_corr_left  RF_corr_left  SVM_corr_right  RF_corr_right\n",
      "lSVM       0.581851      0.555500        0.581851       0.577325\n",
      "pagg       0.525387      0.517711        0.510061       0.512126\n",
      "lg         0.594835      0.565151        0.594835       0.581673\n",
      "XGB        0.593980      0.589318        0.592543       0.597011\n",
      "GNB        0.556755      0.567711        0.556755       0.543484\n",
      "Rf         0.508817      0.504396        0.508768       0.504396\n",
      "SVC        0.609934      0.571794        0.609934       0.571902\n",
      "nn         0.553456      0.563115        0.552225       0.576434\n"
     ]
    }
   ],
   "source": [
    "data_dict_FS_CORR = {\n",
    "    'SVM_corr_left': scores_clc_svm_corr_l,\n",
    "    'RF_corr_left': scores_clc_rf_corr_l,\n",
    "    'SVM_corr_right': scores_clc_svm_corr_r,\n",
    "    'RF_corr_right': scores_clc_rf_corr_r\n",
    "\n",
    "}\n",
    "df_corr_FS = pd.DataFrame(data_dict_FS_CORR)\n",
    "print(df_corr_FS)"
   ]
  },
  {
   "cell_type": "code",
   "execution_count": 11,
   "metadata": {},
   "outputs": [
    {
     "data": {
      "text/plain": [
       "SVM_corr_left     0.609934\n",
       "RF_corr_left      0.589318\n",
       "SVM_corr_right    0.609934\n",
       "RF_corr_right     0.597011\n",
       "dtype: float64"
      ]
     },
     "execution_count": 11,
     "metadata": {},
     "output_type": "execute_result"
    }
   ],
   "source": [
    "df_corr_FS.max(axis=0)"
   ]
  },
  {
   "cell_type": "code",
   "execution_count": 12,
   "metadata": {},
   "outputs": [],
   "source": [
    "nonn_df_corr_fs = df_corr_FS.drop('nn')"
   ]
  },
  {
   "cell_type": "code",
   "execution_count": 13,
   "metadata": {},
   "outputs": [
    {
     "data": {
      "text/plain": [
       "SVM_corr_left     0.609934\n",
       "RF_corr_left      0.589318\n",
       "SVM_corr_right    0.609934\n",
       "RF_corr_right     0.597011\n",
       "dtype: float64"
      ]
     },
     "execution_count": 13,
     "metadata": {},
     "output_type": "execute_result"
    }
   ],
   "source": [
    "nonn_df_corr_fs.max(0)"
   ]
  },
  {
   "cell_type": "code",
   "execution_count": 14,
   "metadata": {},
   "outputs": [
    {
     "data": {
      "text/plain": [
       "SVM_corr_left     0.567366\n",
       "RF_corr_left      0.553083\n",
       "SVM_corr_right    0.564964\n",
       "RF_corr_right     0.555417\n",
       "dtype: float64"
      ]
     },
     "execution_count": 14,
     "metadata": {},
     "output_type": "execute_result"
    }
   ],
   "source": [
    "nonn_df_corr_fs.mean(0)"
   ]
  },
  {
   "cell_type": "code",
   "execution_count": 15,
   "metadata": {},
   "outputs": [
    {
     "data": {
      "text/plain": [
       "35"
      ]
     },
     "execution_count": 15,
     "metadata": {},
     "output_type": "execute_result"
    }
   ],
   "source": [
    "fs_corr_left_rf['nn'].n_features_in_"
   ]
  },
  {
   "cell_type": "markdown",
   "metadata": {},
   "source": [
    "## Conclusion\n",
    "1. Correlation analysis is a univariate method to find the most relevant features to the target.\n",
    "2. Recursive feature elimination method is a multivariate method which considers.\n",
    "3. RFECV selects less features when it is exposed to correlated features than when it is exposed to less correlated features.\n",
    "4. corr_50 max_acc = ("
   ]
  }
 ],
 "metadata": {
  "kernelspec": {
   "display_name": "Python [conda env:untitled] *",
   "language": "python",
   "name": "conda-env-untitled-py"
  },
  "language_info": {
   "codemirror_mode": {
    "name": "ipython",
    "version": 3
   },
   "file_extension": ".py",
   "mimetype": "text/x-python",
   "name": "python",
   "nbconvert_exporter": "python",
   "pygments_lexer": "ipython3",
   "version": "3.7.5"
  }
 },
 "nbformat": 4,
 "nbformat_minor": 4
}
