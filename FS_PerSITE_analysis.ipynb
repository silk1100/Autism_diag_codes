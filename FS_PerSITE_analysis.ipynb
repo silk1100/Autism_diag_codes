{
 "cells": [
  {
   "cell_type": "code",
   "execution_count": 19,
   "metadata": {},
   "outputs": [],
   "source": [
    "import numpy as np\n",
    "from joblib import load\n",
    "import pandas as pd\n",
    "import os"
   ]
  },
  {
   "cell_type": "code",
   "execution_count": 60,
   "metadata": {},
   "outputs": [],
   "source": [
    "# Baselines\n",
    "\"\"\"\n",
    "site SDSU contains 36 subjects.\n",
    "Number of ASD in SDSU: 14\n",
    "Number of TD in SDSU: 22\n",
    "Baseline performance = 61.111111111111114%\n",
    "\n",
    "site CMU contains 27 subjects.\n",
    "Number of ASD in CMU: 14\n",
    "Number of TD in CMU: 13\n",
    "Baseline performance = 51.85185185185185%\n",
    "\n",
    "\n",
    "site KKI contains 34 subjects.\n",
    "Number of ASD in KKI: 8\n",
    "Number of TD in KKI: 26\n",
    "Baseline performance = 76.47058823529412%\n",
    "Ignoring KKI with baseline 76.47058823529412%.\n",
    "\n",
    "\n",
    "site Leuven contains 63 subjects.\n",
    "Number of ASD in Leuven: 29\n",
    "Number of TD in Leuven: 34\n",
    "Baseline performance = 53.96825396825397%\n",
    "\n",
    "\n",
    "site NYU contains 138 subjects.\n",
    "Number of ASD in NYU: 38\n",
    "Number of TD in NYU: 100\n",
    "Baseline performance = 72.46376811594203%\n",
    "Ignoring NYU with baseline 72.46376811594203%.\n",
    "\n",
    "\n",
    "site Pitt contains 56 subjects.\n",
    "Number of ASD in Pitt: 29\n",
    "Number of TD in Pitt: 27\n",
    "Baseline performance = 51.78571428571429%\n",
    "\n",
    "site MaxMun contains 51 subjects.\n",
    "Number of ASD in MaxMun: 23\n",
    "Number of TD in MaxMun: 28\n",
    "Baseline performance = 54.90196078431373%\n",
    "\n",
    "site Stanford contains 38 subjects.\n",
    "Number of ASD in Stanford: 19\n",
    "Number of TD in Stanford: 19\n",
    "Baseline performance = 50.0%\n",
    "\n",
    "site Caltech contains 37 subjects.\n",
    "Number of ASD in Caltech: 19\n",
    "Number of TD in Caltech: 18\n",
    "Baseline performance = 51.35135135135135%\n",
    "\n",
    "site UCLA contains 95 subjects.\n",
    "Number of ASD in UCLA: 53\n",
    "Number of TD in UCLA: 42\n",
    "Baseline performance = 55.78947368421052%\n",
    "\n",
    "\n",
    "site Yale contains 56 subjects.\n",
    "Number of ASD in Yale: 28\n",
    "Number of TD in Yale: 28\n",
    "Baseline performance = 50.0%\n",
    "\n",
    "site USM contains 71 subjects.\n",
    "Number of ASD in USM: 46\n",
    "Number of TD in USM: 25\n",
    "Baseline performance = 64.7887323943662%\n",
    "\n",
    "site UM contains 134 subjects.\n",
    "Number of ASD in UM: 61\n",
    "Number of TD in UM: 73\n",
    "Baseline performance = 54.47761194029851%\n",
    "\n",
    "site Trinity contains 47 subjects.\n",
    "Number of ASD in Trinity: 22\n",
    "Number of TD in Trinity: 25\n",
    "Baseline performance = 53.191489361702125%\n",
    "\n",
    "site SBL contains 15 subjects.\n",
    "Number of ASD in SBL: 0\n",
    "Number of TD in SBL: 15\n",
    "Baseline performance = 100.0%\n",
    "\n",
    "site Olin contains 34 subjects.\n",
    "Number of ASD in Olin: 19\n",
    "Number of TD in Olin: 15\n",
    "Baseline performance = 55.88235294117647%\n",
    "\n",
    "site OHSU contains 26 subjects.\n",
    "Number of ASD in OHSU: 12\n",
    "Number of TD in OHSU: 14\n",
    "Baseline performance = 53.84615384615385%\n",
    "\n",
    "\"\"\"\n",
    "NUM_SAMPLES = {\n",
    "    'SDSU': 36,\n",
    "    'KKI': 34, # Ignored\n",
    "    'Leuven': 63,\n",
    "    'CMU': 27,\n",
    "    'NYU': 138, # Ignored\n",
    "    'Pitt': 56,\n",
    "    'MaxMun': 51,\n",
    "    'Caltech': 37,\n",
    "    'Stanford': 38,\n",
    "    'UCLA': 95,\n",
    "    'Yale': 56,\n",
    "    'USM' : 71,\n",
    "    'UM': 134,\n",
    "    'Trinity': 47,\n",
    "    'SBL': 15, # Ignored\n",
    "    'Olin': 34,\n",
    "    'OHSU': 26\n",
    "}\n",
    "BASELINES = {\n",
    "    'SDSU': 0.6111111,\n",
    "    'KKI': 0.7647, # Ignored\n",
    "    'Leuven': 0.539682,\n",
    "    'CMU': 0.51851,\n",
    "    'NYU': 0.7246, # Ignored\n",
    "    'Pitt': 0.5178,\n",
    "    'MaxMun': 0.549019,\n",
    "    'Caltech': 0.5135,\n",
    "    'Stanford': 0.5,\n",
    "    'UCLA': 0.55789,\n",
    "    'Yale': 0.5,\n",
    "    'USM' : 0.6478,\n",
    "    'UM': 0.54477,\n",
    "    'Trinity': 0.531914,\n",
    "    'SBL': 1, # Ignored\n",
    "    'Olin': 0.5588,\n",
    "    'OHSU': 0.53846\n",
    "}"
   ]
  },
  {
   "cell_type": "code",
   "execution_count": 34,
   "metadata": {},
   "outputs": [
    {
     "name": "stdout",
     "output_type": "stream",
     "text": [
      "['obj_left_rf_Caltech.joblib', 'obj_left_rf_CMU.joblib', 'obj_left_rf_Leuven.joblib', 'obj_left_rf_MaxMun.joblib', 'obj_left_rf_OHSU.joblib', 'obj_left_rf_Olin.joblib', 'obj_left_rf_Pitt.joblib', 'obj_left_rf_SDSU.joblib', 'obj_left_rf_Stanford.joblib', 'obj_left_rf_Trinity.joblib', 'obj_left_rf_UCLA.joblib', 'obj_left_rf_UM.joblib', 'obj_left_rf_USM.joblib', 'obj_left_rf_Yale.joblib', 'obj_left_svm_Caltech.joblib', 'obj_left_svm_CMU.joblib', 'obj_left_svm_Leuven.joblib', 'obj_left_svm_MaxMun.joblib', 'obj_left_svm_OHSU.joblib', 'obj_left_svm_Olin.joblib', 'obj_left_svm_Pitt.joblib', 'obj_left_svm_SDSU.joblib', 'obj_left_svm_Stanford.joblib', 'obj_left_svm_Trinity.joblib', 'obj_left_svm_UCLA.joblib', 'obj_left_svm_UM.joblib', 'obj_left_svm_USM.joblib', 'obj_left_svm_Yale.joblib', 'obj_right_rf_Caltech.joblib', 'obj_right_rf_CMU.joblib', 'obj_right_rf_Leuven.joblib', 'obj_right_rf_MaxMun.joblib', 'obj_right_rf_OHSU.joblib', 'obj_right_rf_Olin.joblib', 'obj_right_rf_Pitt.joblib', 'obj_right_rf_SDSU.joblib', 'obj_right_rf_Stanford.joblib', 'obj_right_rf_Trinity.joblib', 'obj_right_rf_UCLA.joblib', 'obj_right_rf_UM.joblib', 'obj_right_rf_USM.joblib', 'obj_right_rf_Yale.joblib', 'obj_right_svm_Caltech.joblib', 'obj_right_svm_CMU.joblib', 'obj_right_svm_Leuven.joblib', 'obj_right_svm_MaxMun.joblib', 'obj_right_svm_OHSU.joblib', 'obj_right_svm_Olin.joblib', 'obj_right_svm_Pitt.joblib', 'obj_right_svm_SDSU.joblib', 'obj_right_svm_Stanford.joblib', 'obj_right_svm_Trinity.joblib', 'obj_right_svm_UCLA.joblib', 'obj_right_svm_UM.joblib', 'obj_right_svm_USM.joblib', 'obj_right_svm_Yale.joblib']\n"
     ]
    }
   ],
   "source": [
    "RESULTS_DIR = './Results/site_analysis/'\n",
    "DATADIR_aparc_ALLASDINC_LEFT = 'D:\\\\PhD\\\\Data\\\\aparc\\\\df_left_aparc_ALLASDINC.csv'\n",
    "DATADIR_aparc_ALLASDINC_RIGHT = 'D:\\\\PhD\\\\Data\\\\aparc\\\\df_right_aparc_ALLASDINC.csv'\n",
    "df_aparc_left = pd.read_csv(DATADIR_aparc_ALLASDINC_LEFT, index_col=0)\n",
    "df_aparc_right = pd.read_csv(DATADIR_aparc_ALLASDINC_RIGHT, index_col=0)\n",
    "\n",
    "files = os.listdir(RESULTS_DIR)\n",
    "print(files)"
   ]
  },
  {
   "cell_type": "code",
   "execution_count": 22,
   "metadata": {},
   "outputs": [],
   "source": [
    "left_obj = [obj for obj in files if obj.split('_')[1]=='left']\n",
    "right_obj = [obj for obj in files if obj.split('_')[1]=='right']"
   ]
  },
  {
   "cell_type": "code",
   "execution_count": 23,
   "metadata": {},
   "outputs": [],
   "source": [
    "left_rf_obj = [obj for obj in left_obj if obj.split('_')[2]=='rf']\n",
    "left_svm_obj = [obj for obj in left_obj if obj.split('_')[2]=='svm']\n",
    "right_rf_obj = [obj for obj in right_obj if obj.split('_')[2]=='rf']\n",
    "right_svm_obj = [obj for obj in right_obj if obj.split('_')[2]=='svm']"
   ]
  },
  {
   "cell_type": "code",
   "execution_count": 24,
   "metadata": {},
   "outputs": [
    {
     "data": {
      "text/plain": [
       "(14, 14, 14, 14)"
      ]
     },
     "execution_count": 24,
     "metadata": {},
     "output_type": "execute_result"
    }
   ],
   "source": [
    "len(left_rf_obj),len(left_svm_obj),len(right_rf_obj),len(right_svm_obj)"
   ]
  },
  {
   "cell_type": "code",
   "execution_count": 25,
   "metadata": {},
   "outputs": [
    {
     "data": {
      "text/plain": [
       "['obj_left_rf_Caltech.joblib',\n",
       " 'obj_left_rf_CMU.joblib',\n",
       " 'obj_left_rf_Leuven.joblib',\n",
       " 'obj_left_rf_MaxMun.joblib',\n",
       " 'obj_left_rf_OHSU.joblib',\n",
       " 'obj_left_rf_Olin.joblib',\n",
       " 'obj_left_rf_Pitt.joblib',\n",
       " 'obj_left_rf_SDSU.joblib',\n",
       " 'obj_left_rf_Stanford.joblib',\n",
       " 'obj_left_rf_Trinity.joblib',\n",
       " 'obj_left_rf_UCLA.joblib',\n",
       " 'obj_left_rf_UM.joblib',\n",
       " 'obj_left_rf_USM.joblib',\n",
       " 'obj_left_rf_Yale.joblib']"
      ]
     },
     "execution_count": 25,
     "metadata": {},
     "output_type": "execute_result"
    }
   ],
   "source": [
    "left_rf_obj"
   ]
  },
  {
   "cell_type": "markdown",
   "metadata": {},
   "source": [
    "## Sites used in analysis, almost balanced are 14 sites"
   ]
  },
  {
   "cell_type": "code",
   "execution_count": 35,
   "metadata": {},
   "outputs": [
    {
     "data": {
      "text/plain": [
       "(Index(['area_lbankssts_medMIQR', 'area_lbankssts_medPIQR',\n",
       "        'area_lcaudalanteriorcingulate_medMIQR',\n",
       "        'area_lcaudalanteriorcingulate_medPIQR',\n",
       "        'area_lcaudalmiddlefrontal_medMIQR',\n",
       "        'area_lcaudalmiddlefrontal_medPIQR', 'area_lcuneus_medMIQR',\n",
       "        'area_lcuneus_medPIQR', 'area_lentorhinal_medMIQR',\n",
       "        'area_lentorhinal_medPIQR',\n",
       "        ...\n",
       "        'volume_lsupramarginal_medMIQR', 'volume_lsupramarginal_medPIQR',\n",
       "        'volume_lfrontalpole_medMIQR', 'volume_lfrontalpole_medPIQR',\n",
       "        'volume_ltemporalpole_medMIQR', 'volume_ltemporalpole_medPIQR',\n",
       "        'volume_ltransversetemporal_medMIQR',\n",
       "        'volume_ltransversetemporal_medPIQR', 'volume_linsula_medMIQR',\n",
       "        'volume_linsula_medPIQR'],\n",
       "       dtype='object', length=272),\n",
       " Index(['area_rbankssts_medMIQR', 'area_rbankssts_medPIQR',\n",
       "        'area_rcaudalanteriorcingulate_medMIQR',\n",
       "        'area_rcaudalanteriorcingulate_medPIQR',\n",
       "        'area_rcaudalmiddlefrontal_medMIQR',\n",
       "        'area_rcaudalmiddlefrontal_medPIQR', 'area_rcuneus_medMIQR',\n",
       "        'area_rcuneus_medPIQR', 'area_rentorhinal_medMIQR',\n",
       "        'area_rentorhinal_medPIQR',\n",
       "        ...\n",
       "        'volume_rsupramarginal_medMIQR', 'volume_rsupramarginal_medPIQR',\n",
       "        'volume_rfrontalpole_medMIQR', 'volume_rfrontalpole_medPIQR',\n",
       "        'volume_rtemporalpole_medMIQR', 'volume_rtemporalpole_medPIQR',\n",
       "        'volume_rtransversetemporal_medMIQR',\n",
       "        'volume_rtransversetemporal_medPIQR', 'volume_rinsula_medMIQR',\n",
       "        'volume_rinsula_medPIQR'],\n",
       "       dtype='object', length=272))"
      ]
     },
     "execution_count": 35,
     "metadata": {},
     "output_type": "execute_result"
    }
   ],
   "source": [
    "left_columns = df_aparc_left.columns.drop(['age','sex','labels'])\n",
    "right_columns = df_aparc_right.columns.drop(['age','sex','labels'])\n",
    "left_columns, right_columns"
   ]
  },
  {
   "cell_type": "code",
   "execution_count": 37,
   "metadata": {},
   "outputs": [],
   "source": [
    "site_selected_feats_dict = dict()\n",
    "for site in BASELINES:\n",
    "    baseline = BASELINES[site]\n",
    "    if baseline > 0.65:\n",
    "        continue\n",
    "    \n",
    "    # Get file name\n",
    "    left_rf_obj_site = [obj for obj in left_rf_obj if obj.split('_')[-1].split('.')[0]==site][0]\n",
    "    right_rf_obj_site = [obj for obj in right_rf_obj if obj.split('_')[-1].split('.')[0]==site][0]\n",
    "    left_svm_obj_site = [obj for obj in left_svm_obj if obj.split('_')[-1].split('.')[0]==site][0]\n",
    "    right_svm_obj_site = [obj for obj in right_svm_obj if obj.split('_')[-1].split('.')[0]==site][0]\n",
    "    \n",
    "    # Load files\n",
    "    left_rf_obj_site = load(os.path.join(RESULTS_DIR, left_rf_obj_site))\n",
    "    left_svm_obj_site = load(os.path.join(RESULTS_DIR, left_svm_obj_site))\n",
    "    right_rf_obj_site = load(os.path.join(RESULTS_DIR, right_rf_obj_site))\n",
    "    right_svm_obj_site = load(os.path.join(RESULTS_DIR, right_svm_obj_site))\n",
    "    \n",
    "    # Extract those areas from the data matrix\n",
    "    left_rf_selectedFeats = left_columns[np.where(left_rf_obj_site.ranking_==1)[0]]\n",
    "    left_svm_selectedFeats = left_columns[np.where(left_svm_obj_site.ranking_==1)[0]]\n",
    "    right_rf_selectedFeats = left_columns[np.where(right_rf_obj_site.ranking_==1)[0]]\n",
    "    right_svm_selectedFeats = left_columns[np.where(right_svm_obj_site.ranking_==1)[0]]\n",
    "    \n",
    "    site_selected_feats_dict[site] = {\n",
    "        'LEFT-RF': left_rf_selectedFeats,\n",
    "        'LEFT-SVM': left_svm_selectedFeats,\n",
    "        'RIGHT-RF': right_rf_selectedFeats,\n",
    "        'RIGHT-SVM': right_svm_selectedFeats, \n",
    "    }\n",
    "    \n",
    "\n",
    "    "
   ]
  },
  {
   "cell_type": "code",
   "execution_count": 41,
   "metadata": {},
   "outputs": [],
   "source": [
    "# Load old dataset\n",
    "df_left = pd.read_csv('D:\\\\PhD\\\\Data\\\\aparc\\\\df_left_newRepresentation.csv', index_col=0)\n",
    "df_right = pd.read_csv('D:\\\\PhD\\\\Data\\\\aparc\\\\df_right_newRepresentation.csv', index_col=0)\n",
    "old_left_feats = df_left.columns.drop(['age','sex','labels'])\n",
    "old_right_feats = df_right.columns.drop(['age','sex','labels'])"
   ]
  },
  {
   "cell_type": "code",
   "execution_count": 69,
   "metadata": {},
   "outputs": [],
   "source": [
    "# Load the global features\n",
    "left_rf_global_nocorr = load('./Results_NOCORRANA/FS/left_rf_modifiedMedPIQR_nocorr.joblib')\n",
    "left_svm_global_nocorr = load('./Results_NOCORRANA/FS/left_svc_modifiedMedPIQR_nocorr.joblib')\n",
    "right_rf_global_nocorr = load('./Results_NOCORRANA/FS/right_rf_modifiedMedPIQR_nocorr.joblib')\n",
    "right_svm_global_nocorr = load('./Results_NOCORRANA/FS/right_svc_modifiedMedPIQR_nocorr.joblib')\n",
    "\n",
    "left_rf_global = load('./Results/FS/left_rf_modifiedMedPIQR.joblib')\n",
    "left_svm_global = load('./Results/FS/left_svc_modifiedMedPIQR.joblib')\n",
    "right_rf_global = load('./Results/FS/right_rf_modifiedMedPIQR.joblib')\n",
    "right_svm_global = load('./Results/FS/right_svc_modifiedMedPIQR.joblib')\n",
    "\n",
    "\n",
    "left_rf_global_feats = old_left_feats[np.where(left_rf_global.ranking_==1)[0]]\n",
    "left_svm_global_feats = old_left_feats[np.where(left_svm_global.ranking_==1)[0]]\n",
    "right_rf_global_feats = old_right_feats[np.where(right_rf_global.ranking_==1)[0]]\n",
    "right_svm_global_feats = old_right_feats[np.where(right_svm_global.ranking_==1)[0]]\n",
    "\n",
    "def convert_oldname2newname(feats):\n",
    "    new_name = list()\n",
    "    for feat in feats:\n",
    "        name_parts = feat.split('_')\n",
    "        morph = name_parts[0]\n",
    "        if 'vol' in morph:\n",
    "            morph = 'volume'\n",
    "        elif 'thi' in morph:\n",
    "            morph = 'thickness'\n",
    "        elif 'ar' in morph:\n",
    "            morph = 'area'\n",
    "        elif 'cu' in morph:\n",
    "            morph = 'curv'\n",
    "        name_parts[0] = morph\n",
    "        new_name.append('_'.join(name_parts))\n",
    "    return new_name\n",
    "\n",
    "left_rf_global_feats = convert_oldname2newname(left_rf_global_feats)\n",
    "left_svm_global_feats = convert_oldname2newname(left_svm_global_feats)\n",
    "right_rf_global_feats = convert_oldname2newname(right_rf_global_feats)\n",
    "right_svm_global_feats = convert_oldname2newname(right_svm_global_feats)\n"
   ]
  },
  {
   "cell_type": "code",
   "execution_count": 80,
   "metadata": {},
   "outputs": [
    {
     "data": {
      "text/plain": [
       "(array([1., 0., 0., 0., 0., 0., 0., 0., 0., 0., 1., 0., 0., 0., 0., 0., 1.,\n",
       "        0., 0., 0., 0., 1., 2., 0., 1., 0., 1., 0., 1., 0., 1., 1., 1., 0.,\n",
       "        2., 0., 0., 1., 1., 1., 1., 1., 1., 2., 2., 0., 4., 4., 6., 9., 4.,\n",
       "        8., 4., 7., 2., 5., 4., 8., 0., 2., 5., 0., 1., 2.]),\n",
       " array([0.46283487, 0.46379917, 0.46476346, 0.46572776, 0.46669206,\n",
       "        0.46765635, 0.46862065, 0.46958495, 0.47054924, 0.47151354,\n",
       "        0.47247784, 0.47344213, 0.47440643, 0.47537072, 0.47633502,\n",
       "        0.47729932, 0.47826361, 0.47922791, 0.48019221, 0.4811565 ,\n",
       "        0.4821208 , 0.4830851 , 0.48404939, 0.48501369, 0.48597799,\n",
       "        0.48694228, 0.48790658, 0.48887088, 0.48983517, 0.49079947,\n",
       "        0.49176377, 0.49272806, 0.49369236, 0.49465665, 0.49562095,\n",
       "        0.49658525, 0.49754954, 0.49851384, 0.49947814, 0.50044243,\n",
       "        0.50140673, 0.50237103, 0.50333532, 0.50429962, 0.50526392,\n",
       "        0.50622821, 0.50719251, 0.50815681, 0.5091211 , 0.5100854 ,\n",
       "        0.5110497 , 0.51201399, 0.51297829, 0.51394258, 0.51490688,\n",
       "        0.51587118, 0.51683547, 0.51779977, 0.51876407, 0.51972836,\n",
       "        0.52069266, 0.52165696, 0.52262125, 0.52358555, 0.52454985]),\n",
       " <a list of 64 Patch objects>)"
      ]
     },
     "execution_count": 80,
     "metadata": {},
     "output_type": "execute_result"
    },
    {
     "data": {
      "image/png": "[encoded data removed]",
      "text/plain": [
       "<Figure size 432x288 with 1 Axes>"
      ]
     },
     "metadata": {
      "needs_background": "light"
     },
     "output_type": "display_data"
    }
   ],
   "source": [
    "import matplotlib.pyplot as plt\n",
    "np.median(left_rf_global_nocorr.grid_scores_), np.median(left_rf_global.grid_scores_)\n",
    "# left_svm_global = load('./Results_NOCORRANA/FS/left_svc_modifiedMedPIQR_nocorr.joblib')\n",
    "# right_rf_global = load('./Results_NOCORRANA/FS/right_rf_modifiedMedPIQR_nocorr.joblib')\n",
    "# right_svm_global = load('./Results_NOCORRANA/FS/right_svc_modifiedMedPIQR_nocorr.joblib')\n",
    "plt.hist(left_rf_global_nocorr.grid_scores_, bins=64)\n",
    "plt.hist(left_rf_global.grid_scores_, bins=64, color='r')"
   ]
  },
  {
   "cell_type": "code",
   "execution_count": 81,
   "metadata": {},
   "outputs": [
    {
     "data": {
      "text/plain": [
       "(array([1., 0., 0., 0., 0., 0., 0., 0., 0., 0., 0., 0., 0., 0., 0., 0., 0.,\n",
       "        0., 1., 1., 0., 1., 0., 0., 1., 0., 2., 1., 1., 4., 0., 2., 5., 1.,\n",
       "        2., 4., 1., 4., 6., 4., 4., 4., 5., 4., 4., 4., 6., 4., 0., 3., 3.,\n",
       "        1., 0., 4., 3., 1., 0., 2., 0., 0., 1., 1., 1., 2.]),\n",
       " array([0.4759025 , 0.47671576, 0.47752903, 0.47834229, 0.47915555,\n",
       "        0.47996881, 0.48078207, 0.48159534, 0.4824086 , 0.48322186,\n",
       "        0.48403512, 0.48484838, 0.48566164, 0.48647491, 0.48728817,\n",
       "        0.48810143, 0.48891469, 0.48972795, 0.49054121, 0.49135448,\n",
       "        0.49216774, 0.492981  , 0.49379426, 0.49460752, 0.49542078,\n",
       "        0.49623405, 0.49704731, 0.49786057, 0.49867383, 0.49948709,\n",
       "        0.50030035, 0.50111362, 0.50192688, 0.50274014, 0.5035534 ,\n",
       "        0.50436666, 0.50517992, 0.50599319, 0.50680645, 0.50761971,\n",
       "        0.50843297, 0.50924623, 0.51005949, 0.51087276, 0.51168602,\n",
       "        0.51249928, 0.51331254, 0.5141258 , 0.51493906, 0.51575233,\n",
       "        0.51656559, 0.51737885, 0.51819211, 0.51900537, 0.51981863,\n",
       "        0.5206319 , 0.52144516, 0.52225842, 0.52307168, 0.52388494,\n",
       "        0.5246982 , 0.52551147, 0.52632473, 0.52713799, 0.52795125]),\n",
       " <a list of 64 Patch objects>)"
      ]
     },
     "execution_count": 81,
     "metadata": {},
     "output_type": "execute_result"
    },
    {
     "data": {
      "image/png": "[encoded data removed]",
      "text/plain": [
       "<Figure size 432x288 with 1 Axes>"
      ]
     },
     "metadata": {
      "needs_background": "light"
     },
     "output_type": "display_data"
    }
   ],
   "source": [
    "plt.hist(right_rf_global_nocorr.grid_scores_, bins=64)\n",
    "plt.hist(right_rf_global.grid_scores_, bins=64, color='r')"
   ]
  },
  {
   "cell_type": "code",
   "execution_count": 82,
   "metadata": {},
   "outputs": [
    {
     "data": {
      "text/plain": [
       "(array([ 1.,  1.,  0.,  0.,  0.,  0.,  1.,  0.,  2.,  0.,  3.,  2.,  2.,\n",
       "         1.,  0.,  1.,  0.,  3.,  5.,  0.,  5.,  0.,  5.,  2.,  2., 10.,\n",
       "         1.,  5.,  0.,  7.,  2.,  3.,  3.,  0.,  6.,  0.,  4.,  3.,  2.,\n",
       "         2.,  2.,  1.,  2.,  2.,  0.,  1.,  1.,  1.,  0.,  0.,  0.,  1.,\n",
       "         0.,  0.,  0.,  0.,  0.,  0.,  0.,  1.,  2.,  0.,  0.,  1.]),\n",
       " array([0.49738691, 0.49802392, 0.49866093, 0.49929794, 0.49993495,\n",
       "        0.50057196, 0.50120896, 0.50184597, 0.50248298, 0.50311999,\n",
       "        0.503757  , 0.50439401, 0.50503102, 0.50566803, 0.50630503,\n",
       "        0.50694204, 0.50757905, 0.50821606, 0.50885307, 0.50949008,\n",
       "        0.51012709, 0.51076409, 0.5114011 , 0.51203811, 0.51267512,\n",
       "        0.51331213, 0.51394914, 0.51458615, 0.51522316, 0.51586016,\n",
       "        0.51649717, 0.51713418, 0.51777119, 0.5184082 , 0.51904521,\n",
       "        0.51968222, 0.52031922, 0.52095623, 0.52159324, 0.52223025,\n",
       "        0.52286726, 0.52350427, 0.52414128, 0.52477829, 0.52541529,\n",
       "        0.5260523 , 0.52668931, 0.52732632, 0.52796333, 0.52860034,\n",
       "        0.52923735, 0.52987435, 0.53051136, 0.53114837, 0.53178538,\n",
       "        0.53242239, 0.5330594 , 0.53369641, 0.53433342, 0.53497042,\n",
       "        0.53560743, 0.53624444, 0.53688145, 0.53751846, 0.53815547]),\n",
       " <a list of 64 Patch objects>)"
      ]
     },
     "execution_count": 82,
     "metadata": {},
     "output_type": "execute_result"
    },
    {
     "data": {
      "image/png": "[encoded data removed]",
      "text/plain": [
       "<Figure size 432x288 with 1 Axes>"
      ]
     },
     "metadata": {
      "needs_background": "light"
     },
     "output_type": "display_data"
    }
   ],
   "source": [
    "plt.hist(left_svm_global_nocorr.grid_scores_, bins=64)\n",
    "plt.hist(left_svm_global.grid_scores_, bins=64, color='r')"
   ]
  },
  {
   "cell_type": "code",
   "execution_count": 83,
   "metadata": {},
   "outputs": [
    {
     "data": {
      "text/plain": [
       "(array([ 1.,  1.,  0.,  0.,  0.,  0.,  1.,  0.,  2.,  0.,  3.,  2.,  2.,\n",
       "         1.,  0.,  1.,  0.,  3.,  5.,  0.,  5.,  0.,  5.,  2.,  2., 10.,\n",
       "         1.,  5.,  0.,  7.,  2.,  3.,  3.,  0.,  6.,  0.,  4.,  3.,  2.,\n",
       "         2.,  2.,  1.,  2.,  2.,  0.,  1.,  1.,  1.,  0.,  0.,  0.,  1.,\n",
       "         0.,  0.,  0.,  0.,  0.,  0.,  0.,  1.,  2.,  0.,  0.,  1.]),\n",
       " array([0.49738691, 0.49802392, 0.49866093, 0.49929794, 0.49993495,\n",
       "        0.50057196, 0.50120896, 0.50184597, 0.50248298, 0.50311999,\n",
       "        0.503757  , 0.50439401, 0.50503102, 0.50566803, 0.50630503,\n",
       "        0.50694204, 0.50757905, 0.50821606, 0.50885307, 0.50949008,\n",
       "        0.51012709, 0.51076409, 0.5114011 , 0.51203811, 0.51267512,\n",
       "        0.51331213, 0.51394914, 0.51458615, 0.51522316, 0.51586016,\n",
       "        0.51649717, 0.51713418, 0.51777119, 0.5184082 , 0.51904521,\n",
       "        0.51968222, 0.52031922, 0.52095623, 0.52159324, 0.52223025,\n",
       "        0.52286726, 0.52350427, 0.52414128, 0.52477829, 0.52541529,\n",
       "        0.5260523 , 0.52668931, 0.52732632, 0.52796333, 0.52860034,\n",
       "        0.52923735, 0.52987435, 0.53051136, 0.53114837, 0.53178538,\n",
       "        0.53242239, 0.5330594 , 0.53369641, 0.53433342, 0.53497042,\n",
       "        0.53560743, 0.53624444, 0.53688145, 0.53751846, 0.53815547]),\n",
       " <a list of 64 Patch objects>)"
      ]
     },
     "execution_count": 83,
     "metadata": {},
     "output_type": "execute_result"
    },
    {
     "data": {
      "image/png": "[encoded data removed]",
      "text/plain": [
       "<Figure size 432x288 with 1 Axes>"
      ]
     },
     "metadata": {
      "needs_background": "light"
     },
     "output_type": "display_data"
    }
   ],
   "source": [
    "plt.hist(right_svm_global_nocorr.grid_scores_, bins=64)\n",
    "plt.hist(right_svm_global.grid_scores_, bins=64, color='r')"
   ]
  },
  {
   "cell_type": "code",
   "execution_count": 65,
   "metadata": {},
   "outputs": [],
   "source": [
    "from collections import defaultdict\n",
    "common_site_global_rf = defaultdict(list)\n",
    "common_site_global_svm = defaultdict(list)\n",
    "\n",
    "for site in site_selected_feats_dict:\n",
    "    models_dict = site_selected_feats_dict[site]\n",
    "    left_rf_site = models_dict['LEFT-RF']\n",
    "    left_svm_site = models_dict['LEFT-SVM']\n",
    "    right_rf_site = models_dict['RIGHT-RF']\n",
    "    right_svm_site = models_dict['RIGHT-SVM']\n",
    "\n",
    "    for feat in left_rf_site:\n",
    "        if feat in left_rf_global_feats:\n",
    "            common_site_global_rf[site].append(feat)\n",
    "            \n",
    "    for feat in left_svm_site:\n",
    "        if feat in left_svm_global_feats:\n",
    "            common_site_global_svm[site].append(feat)\n",
    "            \n",
    "    for feat in right_rf_site:\n",
    "        if feat in right_rf_global_feats:\n",
    "            common_site_global_rf[site].append(feat)\n",
    "            \n",
    "    for feat in right_svm_site:\n",
    "        if feat in right_svm_global_feats:\n",
    "            common_site_global_svm[site].append(feat)\n",
    "            "
   ]
  },
  {
   "cell_type": "code",
   "execution_count": 67,
   "metadata": {},
   "outputs": [
    {
     "name": "stdout",
     "output_type": "stream",
     "text": [
      "Total number of global left RF features: 6\n",
      "Total number of global right RF features: 6\n",
      "Total number of global left SVM features: 5\n",
      "Total number of global right SVM features: 5\n",
      "SDSU with size 36 has 290 features shares RF 2 of 12\n",
      "Leuven with size 63 has 494 features shares RF 5 of 12\n",
      "CMU with size 27 has 251 features shares RF 1 of 12\n",
      "Pitt with size 56 has 237 features shares RF 1 of 12\n",
      "MaxMun with size 51 has 476 features shares RF 5 of 12\n",
      "Stanford with size 38 has 63 features shares RF 2 of 12\n",
      "UCLA with size 95 has 333 features shares RF 2 of 12\n",
      "Yale with size 56 has 247 features shares RF 5 of 12\n",
      "USM with size 71 has 82 features shares RF 2 of 12\n",
      "UM with size 134 has 226 features shares RF 2 of 12\n",
      "Olin with size 34 has 143 features shares RF 3 of 12\n",
      "OHSU with size 26 has 310 features shares RF 3 of 12\n",
      "CMU with size 27 has 243 features shares SVM 4 of 10\n",
      "Caltech with size 37 has 207 features shares SVM 3 of 10\n",
      "Stanford with size 38 has 276 features shares SVM 1 of 10\n",
      "UCLA with size 95 has 244 features shares SVM 2 of 10\n",
      "Yale with size 56 has 205 features shares SVM 2 of 10\n",
      "USM with size 71 has 165 features shares SVM 1 of 10\n",
      "UM with size 134 has 66 features shares SVM 1 of 10\n"
     ]
    }
   ],
   "source": [
    "print(f\"Total number of global left RF features: {len(left_rf_global_feats)}\")\n",
    "print(f\"Total number of global right RF features: {len(right_rf_global_feats)}\")\n",
    "print(f\"Total number of global left SVM features: {len(left_svm_global_feats)}\")\n",
    "print(f\"Total number of global right SVM features: {len(right_svm_global_feats)}\")\n",
    "for site in common_site_global_rf:\n",
    "    print(f\"{site} with size {NUM_SAMPLES[site]} has {len(site_selected_feats_dict[site]['LEFT-RF'])+len(site_selected_feats_dict[site]['RIGHT-RF'])} features shares RF {len(common_site_global_rf[site])} of {len(left_rf_global_feats)+len(right_rf_global_feats)}\")\n",
    "    \n",
    "for site in common_site_global_svm:\n",
    "    print(f\"{site} with size {NUM_SAMPLES[site]} has {len(site_selected_feats_dict[site]['LEFT-SVM'])+len(site_selected_feats_dict[site]['RIGHT-SVM'])} features shares SVM {len(common_site_global_svm[site])} of {len(left_svm_global_feats)+len(right_svm_global_feats)}\")"
   ]
  },
  {
   "cell_type": "code",
   "execution_count": null,
   "metadata": {},
   "outputs": [],
   "source": []
  },
  {
   "cell_type": "code",
   "execution_count": null,
   "metadata": {},
   "outputs": [],
   "source": []
  }
 ],
 "metadata": {
  "kernelspec": {
   "display_name": "Python 3",
   "language": "python",
   "name": "python3"
  },
  "language_info": {
   "codemirror_mode": {
    "name": "ipython",
    "version": 3
   },
   "file_extension": ".py",
   "mimetype": "text/x-python",
   "name": "python",
   "nbconvert_exporter": "python",
   "pygments_lexer": "ipython3",
   "version": "3.7.4"
  }
 },
 "nbformat": 4,
 "nbformat_minor": 4
}
