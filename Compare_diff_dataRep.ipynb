{
 "cells": [
  {
   "cell_type": "code",
   "execution_count": 2,
   "metadata": {},
   "outputs": [],
   "source": [
    "import numpy as np\n",
    "from joblib import load\n",
    "import pandas as pd\n",
    "import os"
   ]
  },
  {
   "cell_type": "markdown",
   "metadata": {},
   "source": [
    "# Questions\n",
    "## Q1: Given the optimum hyperparameters, Which classifier can best classify ASD?\n",
    "- Find the maximum average accuracy in the mean_test_score, compare it to the mean train score at the same index to make sure that the result is consistant.\n",
    "## Q2: Is there any performance difference between the best classifier used for left and right hemisphere?\n",
    "- Check if its the same classifier that produced the best results of left and right hemisphere\n",
    "- Compare the 2 results \n",
    "## Q3: Is there any performance difference between using Median&IQR and using Median-IQR&Median+IQR\n",
    "- Repeat the same steps of question 1 and 2\n",
    "- Compare the end results "
   ]
  },
  {
   "cell_type": "code",
   "execution_count": 24,
   "metadata": {},
   "outputs": [],
   "source": [
    "# Load data for question one\n",
    "clf_left_rf_orig_file = './Results/ML/clf_left_rf.joblib'\n",
    "clf_left_svm_orig_file = './Results/ML/clf_left_svm.joblib'\n",
    "clf_right_rf_orig_file = './Results/ML/clf_right_rf.joblib'\n",
    "clf_right_svm_orig_file = './Results/ML/clf_right_svm.joblib'\n",
    "\n",
    "clf_left_rf_update_file = './Results/ML/clf_left_rf_modifiedMedPIQR.joblib'\n",
    "clf_left_svm_update_file = './Results/ML/clf_left_svm_modifiedMedPIQR.joblib'\n",
    "clf_right_rf_update_file = './Results/ML/clf_right_rf_modifiedMedPIQR.joblib'\n",
    "clf_right_svm_update_file = './Results/ML/clf_right_svm_modifiedMedPIQR.joblib'\n",
    "\n",
    "clf_left_rf_orig = load(clf_left_rf_orig_file)\n",
    "clf_left_svm_orig = load(clf_left_svm_orig_file)\n",
    "clf_right_rf_orig = load(clf_right_rf_orig_file)\n",
    "clf_right_svm_orig = load(clf_right_svm_orig_file)\n",
    "\n",
    "clf_left_rf_update = load(clf_left_rf_update_file)\n",
    "clf_left_svm_update = load(clf_left_svm_update_file)\n",
    "clf_right_rf_update = load(clf_right_rf_update_file)\n",
    "clf_right_svm_update = load(clf_right_svm_update_file)\n"
   ]
  },
  {
   "cell_type": "code",
   "execution_count": 32,
   "metadata": {},
   "outputs": [],
   "source": [
    "# Define function\n",
    "def extract_best_results(clc):\n",
    "    clc_best_acc = dict()\n",
    "    best_acc_all = 0\n",
    "    best_clc_all=None\n",
    "    best_index_all=None\n",
    "    for key in clc:\n",
    "        grid_obj = clc[key]\n",
    "        cv_dict = grid_obj.cv_results_\n",
    "        mean_acc_perhyper = cv_dict['mean_test_score']\n",
    "        best_acc = np.max(mean_acc_perhyper)\n",
    "        best_acc_index = np.argmax(mean_acc_perhyper)\n",
    "        clc_best_acc[key] = (best_acc, best_acc_index)\n",
    "        if best_acc > best_acc_all:\n",
    "            best_acc_all = best_acc\n",
    "            best_clc_all = key\n",
    "            best_index_all = best_acc_index\n",
    "    return (best_acc_all, best_clc_all, best_index_all), clc_best_acc\n",
    "        \n",
    "def compare_results (clc1, clc2):\n",
    "    (best_acc1_all, best_clc1_all, best_index1_all), clc_best_acc1 = extract_best_results(clc1)\n",
    "    (best_acc2_all, best_clc2_all, best_index2_all), clc_best_acc2 = extract_best_results(clc2)\n",
    "    print(best_acc1_all, best_clc1_all, best_index1_all)\n",
    "    print(best_acc2_all, best_clc2_all, best_index2_all)\n"
   ]
  },
  {
   "cell_type": "code",
   "execution_count": 33,
   "metadata": {},
   "outputs": [
    {
     "data": {
      "text/plain": [
       "(0.6082056590752243, 'SVC', 600)"
      ]
     },
     "execution_count": 33,
     "metadata": {},
     "output_type": "execute_result"
    }
   ],
   "source": [
    "raw_acc, dict_acc = extract_best_results(clf_left_rf_orig)\n",
    "raw_acc"
   ]
  },
  {
   "cell_type": "code",
   "execution_count": 34,
   "metadata": {},
   "outputs": [
    {
     "data": {
      "text/plain": [
       "(0.600358337314859, 'SVC', 156)"
      ]
     },
     "execution_count": 34,
     "metadata": {},
     "output_type": "execute_result"
    }
   ],
   "source": [
    "raw_acc, dict_acc = extract_best_results(clf_left_svm_orig)\n",
    "raw_acc"
   ]
  },
  {
   "cell_type": "code",
   "execution_count": 36,
   "metadata": {},
   "outputs": [
    {
     "data": {
      "text/plain": [
       "(0.6165185539098582, 'SVC', 195)"
      ]
     },
     "execution_count": 36,
     "metadata": {},
     "output_type": "execute_result"
    }
   ],
   "source": [
    "raw_acc, dict_acc = extract_best_results(clf_right_rf_orig)\n",
    "raw_acc"
   ]
  },
  {
   "cell_type": "code",
   "execution_count": 35,
   "metadata": {},
   "outputs": [
    {
     "data": {
      "text/plain": [
       "(0.600358337314859, 'SVC', 156)"
      ]
     },
     "execution_count": 35,
     "metadata": {},
     "output_type": "execute_result"
    }
   ],
   "source": [
    "raw_acc, dict_acc = extract_best_results(clf_right_svm_orig)\n",
    "raw_acc"
   ]
  },
  {
   "cell_type": "code",
   "execution_count": 37,
   "metadata": {},
   "outputs": [
    {
     "data": {
      "text/plain": [
       "(0.6167579763231937, 'nn', 583)"
      ]
     },
     "execution_count": 37,
     "metadata": {},
     "output_type": "execute_result"
    }
   ],
   "source": [
    "raw_acc, dict_acc = extract_best_results(clf_left_rf_update)\n",
    "raw_acc"
   ]
  },
  {
   "cell_type": "code",
   "execution_count": 38,
   "metadata": {},
   "outputs": [
    {
     "data": {
      "text/plain": [
       "(0.5816770186335404, 'nn', 1124)"
      ]
     },
     "execution_count": 38,
     "metadata": {},
     "output_type": "execute_result"
    }
   ],
   "source": [
    "raw_acc, dict_acc = extract_best_results(clf_left_svm_update)\n",
    "raw_acc"
   ]
  },
  {
   "cell_type": "code",
   "execution_count": 40,
   "metadata": {},
   "outputs": [
    {
     "data": {
      "text/plain": [
       "(0.596845039018952, 'nn', 1099)"
      ]
     },
     "execution_count": 40,
     "metadata": {},
     "output_type": "execute_result"
    }
   ],
   "source": [
    "raw_acc, dict_acc = extract_best_results(clf_right_rf_update)\n",
    "raw_acc"
   ]
  },
  {
   "cell_type": "code",
   "execution_count": 50,
   "metadata": {},
   "outputs": [
    {
     "data": {
      "text/plain": [
       "(0.5869522747783618, 'nn', 758)"
      ]
     },
     "execution_count": 50,
     "metadata": {},
     "output_type": "execute_result"
    }
   ],
   "source": [
    "raw_acc, dict_acc = extract_best_results(clf_right_svm_update)\n",
    "raw_acc"
   ]
  },
  {
   "cell_type": "code",
   "execution_count": null,
   "metadata": {},
   "outputs": [],
   "source": [
    "clf_left_rf_update"
   ]
  },
  {
   "cell_type": "code",
   "execution_count": null,
   "metadata": {},
   "outputs": [],
   "source": []
  },
  {
   "cell_type": "code",
   "execution_count": null,
   "metadata": {},
   "outputs": [],
   "source": []
  }
 ],
 "metadata": {
  "kernelspec": {
   "display_name": "Python [conda env:untitled] *",
   "language": "python",
   "name": "conda-env-untitled-py"
  },
  "language_info": {
   "codemirror_mode": {
    "name": "ipython",
    "version": 3
   },
   "file_extension": ".py",
   "mimetype": "text/x-python",
   "name": "python",
   "nbconvert_exporter": "python",
   "pygments_lexer": "ipython3",
   "version": "3.7.5"
  }
 },
 "nbformat": 4,
 "nbformat_minor": 4
}
