{
 "cells": [
  {
   "cell_type": "code",
   "execution_count": 1,
   "metadata": {},
   "outputs": [],
   "source": [
    "import numpy as np\n",
    "from joblib import load\n",
    "import pandas as pd\n",
    "import os"
   ]
  },
  {
   "cell_type": "markdown",
   "metadata": {},
   "source": [
    "# Questions\n",
    "## Q1: Given the optimum hyperparameters, Which classifier can best classify ASD?\n",
    "- Find the maximum average accuracy in the mean_test_score, compare it to the mean train score at the same index to make sure that the result is consistant.\n",
    "## Q2: Is there any performance difference between the best classifier used for left and right hemisphere?\n",
    "- Check if its the same classifier that produced the best results of left and right hemisphere\n",
    "- Compare the 2 results \n",
    "## Q3: Is there any performance difference between using Median&IQR and using Median-IQR&Median+IQR\n",
    "- Repeat the same steps of question 1 and 2\n",
    "- Compare the end results "
   ]
  },
  {
   "cell_type": "code",
   "execution_count": 27,
   "metadata": {},
   "outputs": [],
   "source": [
    "# Load data for question one\n",
    "clf_left_rf_orig_file = './Results/ML/clf_left_rf.joblib'\n",
    "clf_left_svm_orig_file = './Results/ML/clf_left_svm.joblib'\n",
    "clf_right_rf_orig_file = './Results/ML/clf_right_rf.joblib'\n",
    "clf_right_svm_orig_file = './Results/ML/clf_right_svm.joblib'\n",
    "\n",
    "clf_left_rf_update_file = './Results/ML/clf_left_rf_modifiedMedPIQR.joblib'\n",
    "clf_left_svm_update_file = './Results/ML/clf_left_svm_modifiedMedPIQR.joblib'\n",
    "clf_right_rf_update_file = './Results/ML/clf_right_rf_modifiedMedPIQR.joblib'\n",
    "clf_right_svm_update_file = './Results/ML/clf_right_svm_modifiedMedPIQR.joblib'\n",
    "\n",
    "clf_left_rf_orig = load(clf_left_rf_orig_file)\n",
    "clf_left_svm_orig = load(clf_left_svm_orig_file)\n",
    "clf_right_rf_orig = load(clf_right_rf_orig_file)\n",
    "clf_right_svm_orig = load(clf_right_svm_orig_file)\n",
    "\n",
    "clf_left_rf_update = load(clf_left_rf_update_file)\n",
    "clf_left_svm_update = load(clf_left_svm_update_file)\n",
    "clf_right_rf_update = load(clf_right_rf_update_file)\n",
    "clf_right_svm_update = load(clf_right_svm_update_file)\n"
   ]
  },
  {
   "cell_type": "code",
   "execution_count": 28,
   "metadata": {},
   "outputs": [],
   "source": [
    "# Define function\n",
    "def extract_best_results(clc):\n",
    "    clc_best_acc = dict()\n",
    "    best_acc_all = 0\n",
    "    best_clc_all=None\n",
    "    best_index_all=None\n",
    "    for key in clc:\n",
    "        grid_obj = clc[key]\n",
    "        cv_dict = grid_obj.cv_results_\n",
    "        mean_acc_perhyper = cv_dict['mean_test_score']\n",
    "        best_acc = np.max(mean_acc_perhyper)\n",
    "        best_acc_index = np.argmax(mean_acc_perhyper)\n",
    "        clc_best_acc[key] = (best_acc, best_acc_index)\n",
    "        if best_acc > best_acc_all:\n",
    "            best_acc_all = best_acc\n",
    "            best_clc_all = key\n",
    "            best_index_all = best_acc_index\n",
    "    return (best_acc_all, best_clc_all, best_index_all), clc_best_acc\n",
    "        \n",
    "def compare_results (clc1, clc2):\n",
    "    (best_acc1_all, best_clc1_all, best_index1_all), clc_best_acc1 = extract_best_results(clc1)\n",
    "    (best_acc2_all, best_clc2_all, best_index2_all), clc_best_acc2 = extract_best_results(clc2)\n",
    "    print(best_acc1_all, best_clc1_all, best_index1_all)\n",
    "    print(best_acc2_all, best_clc2_all, best_index2_all)\n"
   ]
  },
  {
   "cell_type": "code",
   "execution_count": 29,
   "metadata": {},
   "outputs": [
    {
     "data": {
      "text/plain": [
       "(0.6082056590752243, 'SVC', 600)"
      ]
     },
     "execution_count": 29,
     "metadata": {},
     "output_type": "execute_result"
    }
   ],
   "source": [
    "raw_acc, dict_acc = extract_best_results(clf_left_rf_orig)\n",
    "raw_acc"
   ]
  },
  {
   "cell_type": "code",
   "execution_count": 30,
   "metadata": {},
   "outputs": [
    {
     "data": {
      "text/plain": [
       "(0.600358337314859, 'SVC', 156)"
      ]
     },
     "execution_count": 30,
     "metadata": {},
     "output_type": "execute_result"
    }
   ],
   "source": [
    "raw_acc, dict_acc = extract_best_results(clf_left_svm_orig)\n",
    "raw_acc"
   ]
  },
  {
   "cell_type": "code",
   "execution_count": 31,
   "metadata": {},
   "outputs": [
    {
     "data": {
      "text/plain": [
       "(0.6165185539098582, 'SVC', 195)"
      ]
     },
     "execution_count": 31,
     "metadata": {},
     "output_type": "execute_result"
    }
   ],
   "source": [
    "raw_acc, dict_acc = extract_best_results(clf_right_rf_orig)\n",
    "raw_acc"
   ]
  },
  {
   "cell_type": "code",
   "execution_count": 32,
   "metadata": {},
   "outputs": [
    {
     "data": {
      "text/plain": [
       "(0.600358337314859, 'SVC', 156)"
      ]
     },
     "execution_count": 32,
     "metadata": {},
     "output_type": "execute_result"
    }
   ],
   "source": [
    "raw_acc, dict_acc = extract_best_results(clf_right_svm_orig)\n",
    "raw_acc"
   ]
  },
  {
   "cell_type": "code",
   "execution_count": 33,
   "metadata": {},
   "outputs": [
    {
     "data": {
      "text/plain": [
       "(0.6167579763231937, 'nn', 583)"
      ]
     },
     "execution_count": 33,
     "metadata": {},
     "output_type": "execute_result"
    }
   ],
   "source": [
    "raw_acc, dict_acc = extract_best_results(clf_left_rf_update)\n",
    "raw_acc"
   ]
  },
  {
   "cell_type": "code",
   "execution_count": 34,
   "metadata": {},
   "outputs": [
    {
     "data": {
      "text/plain": [
       "(0.5816770186335404, 'nn', 1124)"
      ]
     },
     "execution_count": 34,
     "metadata": {},
     "output_type": "execute_result"
    }
   ],
   "source": [
    "raw_acc, dict_acc = extract_best_results(clf_left_svm_update)\n",
    "raw_acc"
   ]
  },
  {
   "cell_type": "code",
   "execution_count": 35,
   "metadata": {},
   "outputs": [
    {
     "data": {
      "text/plain": [
       "(0.596845039018952, 'nn', 1099)"
      ]
     },
     "execution_count": 35,
     "metadata": {},
     "output_type": "execute_result"
    }
   ],
   "source": [
    "raw_acc, dict_acc = extract_best_results(clf_right_rf_update)\n",
    "raw_acc"
   ]
  },
  {
   "cell_type": "code",
   "execution_count": 36,
   "metadata": {},
   "outputs": [
    {
     "data": {
      "text/plain": [
       "(0.5869522747783618, 'nn', 758)"
      ]
     },
     "execution_count": 36,
     "metadata": {},
     "output_type": "execute_result"
    }
   ],
   "source": [
    "raw_acc, dict_acc = extract_best_results(clf_right_svm_update)\n",
    "raw_acc"
   ]
  },
  {
   "cell_type": "markdown",
   "metadata": {},
   "source": [
    "## Questions (For results without FS)\n",
    "## Q1: Given the optimum hyperparameters, Which classifier can best classify ASD?\n",
    "- Find the maximum average accuracy in the mean_test_score, compare it to the mean train score at the same index to make sure that the result is consistant.\n",
    "## Q2: Is there any performance difference between the best classifier used for left and right hemisphere?\n",
    "- Check if its the same classifier that produced the best results of left and right hemisphere\n",
    "- Compare the 2 results \n",
    "## Q3: Is there any performance difference between using Median&IQR and using Median-IQR&Median+IQR\n",
    "- Repeat the same steps of question 1 and 2\n",
    "- Compare the end results "
   ]
  },
  {
   "cell_type": "code",
   "execution_count": 3,
   "metadata": {},
   "outputs": [],
   "source": [
    "# Load data for question one\n",
    "clf_left_orig_file = './Results/ML/clf_left_OnlyCorr_50.joblib'\n",
    "clf_left_50 = load(clf_left_orig_file)\n"
   ]
  },
  {
   "cell_type": "code",
   "execution_count": 6,
   "metadata": {},
   "outputs": [
    {
     "data": {
      "text/plain": [
       "(0.5943318999840738, 'nn', 40)"
      ]
     },
     "execution_count": 6,
     "metadata": {},
     "output_type": "execute_result"
    }
   ],
   "source": [
    "raw_acc, dict_acc = extract_best_results(clf_left_50)\n",
    "raw_acc"
   ]
  },
  {
   "cell_type": "code",
   "execution_count": 21,
   "metadata": {},
   "outputs": [],
   "source": [
    "df_test_left = pd.read_csv('./Results/INITIAL_SPLIT/left_test_modifiedMedPIQR.csv', index_col=0)\n",
    "df_test_right = pd.read_csv('./Results/INITIAL_SPLIT/right_test_modifiedMedPIQR.csv', index_col=0)\n",
    "df_correlation_left = pd.read_csv('./Results/CORR_ANA/left_train_noColliniarity_modifiedMedPIQR_50.csv', index_col=0)\n",
    "df_correlation_right = pd.read_csv('./Results/CORR_ANA/right_train_noColliniarity_modifiedMedPIQR_50.csv', index_col=0)\n"
   ]
  },
  {
   "cell_type": "code",
   "execution_count": 22,
   "metadata": {},
   "outputs": [],
   "source": [
    "df_test_left_corr = df_test_left[df_correlation_left.columns.to_list()]\n",
    "df_test_right_corr = df_test_right[df_correlation_right.columns.to_list()]\n"
   ]
  },
  {
   "cell_type": "code",
   "execution_count": 23,
   "metadata": {},
   "outputs": [
    {
     "data": {
      "text/html": [
       "<div>\n",
       "<style scoped>\n",
       "    .dataframe tbody tr th:only-of-type {\n",
       "        vertical-align: middle;\n",
       "    }\n",
       "\n",
       "    .dataframe tbody tr th {\n",
       "        vertical-align: top;\n",
       "    }\n",
       "\n",
       "    .dataframe thead th {\n",
       "        text-align: right;\n",
       "    }\n",
       "</style>\n",
       "<table border=\"1\" class=\"dataframe\">\n",
       "  <thead>\n",
       "    <tr style=\"text-align: right;\">\n",
       "      <th></th>\n",
       "      <th>thick_lbankssts_medMIQR</th>\n",
       "      <th>thick_lbankssts_medPIQR</th>\n",
       "      <th>thick_lcaudalanteriorcingulate_medMIQR</th>\n",
       "      <th>thick_lcaudalanteriorcingulate_medPIQR</th>\n",
       "      <th>thick_lcaudalmiddlefrontal_medMIQR</th>\n",
       "      <th>thick_lcaudalmiddlefrontal_medPIQR</th>\n",
       "      <th>thick_lcuneus_medMIQR</th>\n",
       "      <th>thick_lcuneus_medPIQR</th>\n",
       "      <th>thick_lentorhinal_medMIQR</th>\n",
       "      <th>thick_lentorhinal_medPIQR</th>\n",
       "      <th>...</th>\n",
       "      <th>vol_lfrontalpole_medPIQR</th>\n",
       "      <th>vol_ltemporalpole_medMIQR</th>\n",
       "      <th>vol_ltemporalpole_medPIQR</th>\n",
       "      <th>vol_ltransversetemporal_medMIQR</th>\n",
       "      <th>vol_ltransversetemporal_medPIQR</th>\n",
       "      <th>vol_linsula_medMIQR</th>\n",
       "      <th>vol_linsula_medPIQR</th>\n",
       "      <th>age</th>\n",
       "      <th>sex</th>\n",
       "      <th>labels</th>\n",
       "    </tr>\n",
       "  </thead>\n",
       "  <tbody>\n",
       "    <tr>\n",
       "      <th>UCLA_2_0051316</th>\n",
       "      <td>1.372436</td>\n",
       "      <td>3.498534</td>\n",
       "      <td>1.139166</td>\n",
       "      <td>4.492524</td>\n",
       "      <td>1.486065</td>\n",
       "      <td>3.777496</td>\n",
       "      <td>1.211377</td>\n",
       "      <td>3.274007</td>\n",
       "      <td>1.855718</td>\n",
       "      <td>4.868339</td>\n",
       "      <td>...</td>\n",
       "      <td>7.242625</td>\n",
       "      <td>-1.498976</td>\n",
       "      <td>8.970892</td>\n",
       "      <td>0.053882</td>\n",
       "      <td>3.677292</td>\n",
       "      <td>-2.144106</td>\n",
       "      <td>2.144106</td>\n",
       "      <td>12.66</td>\n",
       "      <td>1.0</td>\n",
       "      <td>0</td>\n",
       "    </tr>\n",
       "    <tr>\n",
       "      <th>Leuven_2_0050724</th>\n",
       "      <td>1.613562</td>\n",
       "      <td>3.662806</td>\n",
       "      <td>1.546067</td>\n",
       "      <td>4.069052</td>\n",
       "      <td>1.354834</td>\n",
       "      <td>3.920249</td>\n",
       "      <td>1.126931</td>\n",
       "      <td>3.232941</td>\n",
       "      <td>1.907912</td>\n",
       "      <td>4.944193</td>\n",
       "      <td>...</td>\n",
       "      <td>6.045684</td>\n",
       "      <td>-1.573970</td>\n",
       "      <td>8.438231</td>\n",
       "      <td>0.127821</td>\n",
       "      <td>3.837382</td>\n",
       "      <td>-1.926027</td>\n",
       "      <td>2.562963</td>\n",
       "      <td>15.10</td>\n",
       "      <td>1.0</td>\n",
       "      <td>0</td>\n",
       "    </tr>\n",
       "    <tr>\n",
       "      <th>NYU_0051069</th>\n",
       "      <td>2.108517</td>\n",
       "      <td>4.342300</td>\n",
       "      <td>1.951656</td>\n",
       "      <td>3.654624</td>\n",
       "      <td>2.149486</td>\n",
       "      <td>4.131291</td>\n",
       "      <td>1.385836</td>\n",
       "      <td>3.739188</td>\n",
       "      <td>3.105746</td>\n",
       "      <td>5.467828</td>\n",
       "      <td>...</td>\n",
       "      <td>8.863983</td>\n",
       "      <td>-1.077441</td>\n",
       "      <td>8.397695</td>\n",
       "      <td>0.322910</td>\n",
       "      <td>3.442504</td>\n",
       "      <td>-1.974721</td>\n",
       "      <td>1.974721</td>\n",
       "      <td>8.15</td>\n",
       "      <td>1.0</td>\n",
       "      <td>0</td>\n",
       "    </tr>\n",
       "    <tr>\n",
       "      <th>UM_1_0050329</th>\n",
       "      <td>1.524942</td>\n",
       "      <td>3.780062</td>\n",
       "      <td>1.525580</td>\n",
       "      <td>5.055458</td>\n",
       "      <td>2.034651</td>\n",
       "      <td>3.999624</td>\n",
       "      <td>0.915229</td>\n",
       "      <td>2.798962</td>\n",
       "      <td>1.402200</td>\n",
       "      <td>5.390509</td>\n",
       "      <td>...</td>\n",
       "      <td>5.251930</td>\n",
       "      <td>-1.749250</td>\n",
       "      <td>8.247222</td>\n",
       "      <td>0.020822</td>\n",
       "      <td>2.748648</td>\n",
       "      <td>-2.008974</td>\n",
       "      <td>2.008974</td>\n",
       "      <td>17.10</td>\n",
       "      <td>1.0</td>\n",
       "      <td>0</td>\n",
       "    </tr>\n",
       "    <tr>\n",
       "      <th>UM_1_0050345</th>\n",
       "      <td>0.523566</td>\n",
       "      <td>3.200475</td>\n",
       "      <td>1.981103</td>\n",
       "      <td>3.886278</td>\n",
       "      <td>1.607541</td>\n",
       "      <td>4.140425</td>\n",
       "      <td>0.757585</td>\n",
       "      <td>2.709261</td>\n",
       "      <td>0.411164</td>\n",
       "      <td>4.235251</td>\n",
       "      <td>...</td>\n",
       "      <td>6.464328</td>\n",
       "      <td>-0.529120</td>\n",
       "      <td>3.686837</td>\n",
       "      <td>0.036139</td>\n",
       "      <td>2.828017</td>\n",
       "      <td>-1.851623</td>\n",
       "      <td>2.245469</td>\n",
       "      <td>17.30</td>\n",
       "      <td>1.0</td>\n",
       "      <td>0</td>\n",
       "    </tr>\n",
       "  </tbody>\n",
       "</table>\n",
       "<p>5 rows × 275 columns</p>\n",
       "</div>"
      ],
      "text/plain": [
       "                  thick_lbankssts_medMIQR  thick_lbankssts_medPIQR  \\\n",
       "UCLA_2_0051316                   1.372436                 3.498534   \n",
       "Leuven_2_0050724                 1.613562                 3.662806   \n",
       "NYU_0051069                      2.108517                 4.342300   \n",
       "UM_1_0050329                     1.524942                 3.780062   \n",
       "UM_1_0050345                     0.523566                 3.200475   \n",
       "\n",
       "                  thick_lcaudalanteriorcingulate_medMIQR  \\\n",
       "UCLA_2_0051316                                  1.139166   \n",
       "Leuven_2_0050724                                1.546067   \n",
       "NYU_0051069                                     1.951656   \n",
       "UM_1_0050329                                    1.525580   \n",
       "UM_1_0050345                                    1.981103   \n",
       "\n",
       "                  thick_lcaudalanteriorcingulate_medPIQR  \\\n",
       "UCLA_2_0051316                                  4.492524   \n",
       "Leuven_2_0050724                                4.069052   \n",
       "NYU_0051069                                     3.654624   \n",
       "UM_1_0050329                                    5.055458   \n",
       "UM_1_0050345                                    3.886278   \n",
       "\n",
       "                  thick_lcaudalmiddlefrontal_medMIQR  \\\n",
       "UCLA_2_0051316                              1.486065   \n",
       "Leuven_2_0050724                            1.354834   \n",
       "NYU_0051069                                 2.149486   \n",
       "UM_1_0050329                                2.034651   \n",
       "UM_1_0050345                                1.607541   \n",
       "\n",
       "                  thick_lcaudalmiddlefrontal_medPIQR  thick_lcuneus_medMIQR  \\\n",
       "UCLA_2_0051316                              3.777496               1.211377   \n",
       "Leuven_2_0050724                            3.920249               1.126931   \n",
       "NYU_0051069                                 4.131291               1.385836   \n",
       "UM_1_0050329                                3.999624               0.915229   \n",
       "UM_1_0050345                                4.140425               0.757585   \n",
       "\n",
       "                  thick_lcuneus_medPIQR  thick_lentorhinal_medMIQR  \\\n",
       "UCLA_2_0051316                 3.274007                   1.855718   \n",
       "Leuven_2_0050724               3.232941                   1.907912   \n",
       "NYU_0051069                    3.739188                   3.105746   \n",
       "UM_1_0050329                   2.798962                   1.402200   \n",
       "UM_1_0050345                   2.709261                   0.411164   \n",
       "\n",
       "                  thick_lentorhinal_medPIQR  ...  vol_lfrontalpole_medPIQR  \\\n",
       "UCLA_2_0051316                     4.868339  ...                  7.242625   \n",
       "Leuven_2_0050724                   4.944193  ...                  6.045684   \n",
       "NYU_0051069                        5.467828  ...                  8.863983   \n",
       "UM_1_0050329                       5.390509  ...                  5.251930   \n",
       "UM_1_0050345                       4.235251  ...                  6.464328   \n",
       "\n",
       "                  vol_ltemporalpole_medMIQR  vol_ltemporalpole_medPIQR  \\\n",
       "UCLA_2_0051316                    -1.498976                   8.970892   \n",
       "Leuven_2_0050724                  -1.573970                   8.438231   \n",
       "NYU_0051069                       -1.077441                   8.397695   \n",
       "UM_1_0050329                      -1.749250                   8.247222   \n",
       "UM_1_0050345                      -0.529120                   3.686837   \n",
       "\n",
       "                  vol_ltransversetemporal_medMIQR  \\\n",
       "UCLA_2_0051316                           0.053882   \n",
       "Leuven_2_0050724                         0.127821   \n",
       "NYU_0051069                              0.322910   \n",
       "UM_1_0050329                             0.020822   \n",
       "UM_1_0050345                             0.036139   \n",
       "\n",
       "                  vol_ltransversetemporal_medPIQR  vol_linsula_medMIQR  \\\n",
       "UCLA_2_0051316                           3.677292            -2.144106   \n",
       "Leuven_2_0050724                         3.837382            -1.926027   \n",
       "NYU_0051069                              3.442504            -1.974721   \n",
       "UM_1_0050329                             2.748648            -2.008974   \n",
       "UM_1_0050345                             2.828017            -1.851623   \n",
       "\n",
       "                  vol_linsula_medPIQR    age  sex  labels  \n",
       "UCLA_2_0051316               2.144106  12.66  1.0       0  \n",
       "Leuven_2_0050724             2.562963  15.10  1.0       0  \n",
       "NYU_0051069                  1.974721   8.15  1.0       0  \n",
       "UM_1_0050329                 2.008974  17.10  1.0       0  \n",
       "UM_1_0050345                 2.245469  17.30  1.0       0  \n",
       "\n",
       "[5 rows x 275 columns]"
      ]
     },
     "execution_count": 23,
     "metadata": {},
     "output_type": "execute_result"
    }
   ],
   "source": [
    "df_test_left.head()"
   ]
  },
  {
   "cell_type": "code",
   "execution_count": 24,
   "metadata": {},
   "outputs": [
    {
     "data": {
      "text/html": [
       "<div>\n",
       "<style scoped>\n",
       "    .dataframe tbody tr th:only-of-type {\n",
       "        vertical-align: middle;\n",
       "    }\n",
       "\n",
       "    .dataframe tbody tr th {\n",
       "        vertical-align: top;\n",
       "    }\n",
       "\n",
       "    .dataframe thead th {\n",
       "        text-align: right;\n",
       "    }\n",
       "</style>\n",
       "<table border=\"1\" class=\"dataframe\">\n",
       "  <thead>\n",
       "    <tr style=\"text-align: right;\">\n",
       "      <th></th>\n",
       "      <th>thick_lcaudalanteriorcingulate_medMIQR</th>\n",
       "      <th>thick_listhmuscingulate_medMIQR</th>\n",
       "      <th>thick_lmedialorbitofrontal_medPIQR</th>\n",
       "      <th>thick_lparahippocampal_medPIQR</th>\n",
       "      <th>thick_lposteriorcingulate_medMIQR</th>\n",
       "      <th>thick_lrostralanteriorcingulate_medPIQR</th>\n",
       "      <th>thick_lfrontalpole_medMIQR</th>\n",
       "      <th>thick_ltemporalpole_medMIQR</th>\n",
       "      <th>curv_lbankssts_medPIQR</th>\n",
       "      <th>curv_lcaudalanteriorcingulate_medMIQR</th>\n",
       "      <th>...</th>\n",
       "      <th>vol_lfusiform_medMIQR</th>\n",
       "      <th>vol_listhmuscingulate_medMIQR</th>\n",
       "      <th>vol_llateraloccipital_medPIQR</th>\n",
       "      <th>vol_lmedialorbitofrontal_medMIQR</th>\n",
       "      <th>vol_lparahippocampal_medMIQR</th>\n",
       "      <th>vol_lsuperiortemporal_medMIQR</th>\n",
       "      <th>vol_lfrontalpole_medMIQR</th>\n",
       "      <th>vol_ltemporalpole_medMIQR</th>\n",
       "      <th>vol_ltransversetemporal_medMIQR</th>\n",
       "      <th>labels</th>\n",
       "    </tr>\n",
       "  </thead>\n",
       "  <tbody>\n",
       "    <tr>\n",
       "      <th>UCLA_2_0051316</th>\n",
       "      <td>1.139166</td>\n",
       "      <td>1.079948</td>\n",
       "      <td>4.895005</td>\n",
       "      <td>4.377817</td>\n",
       "      <td>0.961509</td>\n",
       "      <td>5.117865</td>\n",
       "      <td>1.526271</td>\n",
       "      <td>2.716174</td>\n",
       "      <td>0.248083</td>\n",
       "      <td>-0.244442</td>\n",
       "      <td>...</td>\n",
       "      <td>-0.722583</td>\n",
       "      <td>-0.720601</td>\n",
       "      <td>3.452683</td>\n",
       "      <td>-0.834325</td>\n",
       "      <td>-0.221840</td>\n",
       "      <td>-0.591447</td>\n",
       "      <td>-0.195907</td>\n",
       "      <td>-1.498976</td>\n",
       "      <td>0.053882</td>\n",
       "      <td>0</td>\n",
       "    </tr>\n",
       "    <tr>\n",
       "      <th>Leuven_2_0050724</th>\n",
       "      <td>1.546067</td>\n",
       "      <td>1.051037</td>\n",
       "      <td>4.367829</td>\n",
       "      <td>4.623127</td>\n",
       "      <td>1.038661</td>\n",
       "      <td>4.559638</td>\n",
       "      <td>1.716619</td>\n",
       "      <td>1.939212</td>\n",
       "      <td>0.328835</td>\n",
       "      <td>-0.258392</td>\n",
       "      <td>...</td>\n",
       "      <td>-0.485051</td>\n",
       "      <td>-0.683580</td>\n",
       "      <td>3.807115</td>\n",
       "      <td>-0.576954</td>\n",
       "      <td>-0.035994</td>\n",
       "      <td>-0.580187</td>\n",
       "      <td>-0.192784</td>\n",
       "      <td>-1.573970</td>\n",
       "      <td>0.127821</td>\n",
       "      <td>0</td>\n",
       "    </tr>\n",
       "    <tr>\n",
       "      <th>NYU_0051069</th>\n",
       "      <td>1.951656</td>\n",
       "      <td>1.477995</td>\n",
       "      <td>4.294952</td>\n",
       "      <td>4.536819</td>\n",
       "      <td>1.823674</td>\n",
       "      <td>4.389538</td>\n",
       "      <td>3.351933</td>\n",
       "      <td>2.914286</td>\n",
       "      <td>0.229267</td>\n",
       "      <td>-0.376027</td>\n",
       "      <td>...</td>\n",
       "      <td>-0.665995</td>\n",
       "      <td>-1.037990</td>\n",
       "      <td>3.432285</td>\n",
       "      <td>-0.421762</td>\n",
       "      <td>-0.332557</td>\n",
       "      <td>-0.288487</td>\n",
       "      <td>-0.761049</td>\n",
       "      <td>-1.077441</td>\n",
       "      <td>0.322910</td>\n",
       "      <td>0</td>\n",
       "    </tr>\n",
       "    <tr>\n",
       "      <th>UM_1_0050329</th>\n",
       "      <td>1.525580</td>\n",
       "      <td>1.388235</td>\n",
       "      <td>3.985483</td>\n",
       "      <td>4.736960</td>\n",
       "      <td>1.838750</td>\n",
       "      <td>4.388633</td>\n",
       "      <td>1.429612</td>\n",
       "      <td>1.403740</td>\n",
       "      <td>0.242997</td>\n",
       "      <td>-0.333686</td>\n",
       "      <td>...</td>\n",
       "      <td>-0.536843</td>\n",
       "      <td>-0.337207</td>\n",
       "      <td>3.268002</td>\n",
       "      <td>-0.523066</td>\n",
       "      <td>-0.268990</td>\n",
       "      <td>-0.410499</td>\n",
       "      <td>-0.846937</td>\n",
       "      <td>-1.749250</td>\n",
       "      <td>0.020822</td>\n",
       "      <td>0</td>\n",
       "    </tr>\n",
       "    <tr>\n",
       "      <th>UM_1_0050345</th>\n",
       "      <td>1.981103</td>\n",
       "      <td>0.982263</td>\n",
       "      <td>4.093164</td>\n",
       "      <td>3.799942</td>\n",
       "      <td>1.532805</td>\n",
       "      <td>3.651844</td>\n",
       "      <td>2.073032</td>\n",
       "      <td>0.551598</td>\n",
       "      <td>0.302800</td>\n",
       "      <td>-0.336548</td>\n",
       "      <td>...</td>\n",
       "      <td>-0.682542</td>\n",
       "      <td>-0.604987</td>\n",
       "      <td>2.902010</td>\n",
       "      <td>-0.784227</td>\n",
       "      <td>-0.464377</td>\n",
       "      <td>-0.276401</td>\n",
       "      <td>-0.819602</td>\n",
       "      <td>-0.529120</td>\n",
       "      <td>0.036139</td>\n",
       "      <td>0</td>\n",
       "    </tr>\n",
       "  </tbody>\n",
       "</table>\n",
       "<p>5 rows × 100 columns</p>\n",
       "</div>"
      ],
      "text/plain": [
       "                  thick_lcaudalanteriorcingulate_medMIQR  \\\n",
       "UCLA_2_0051316                                  1.139166   \n",
       "Leuven_2_0050724                                1.546067   \n",
       "NYU_0051069                                     1.951656   \n",
       "UM_1_0050329                                    1.525580   \n",
       "UM_1_0050345                                    1.981103   \n",
       "\n",
       "                  thick_listhmuscingulate_medMIQR  \\\n",
       "UCLA_2_0051316                           1.079948   \n",
       "Leuven_2_0050724                         1.051037   \n",
       "NYU_0051069                              1.477995   \n",
       "UM_1_0050329                             1.388235   \n",
       "UM_1_0050345                             0.982263   \n",
       "\n",
       "                  thick_lmedialorbitofrontal_medPIQR  \\\n",
       "UCLA_2_0051316                              4.895005   \n",
       "Leuven_2_0050724                            4.367829   \n",
       "NYU_0051069                                 4.294952   \n",
       "UM_1_0050329                                3.985483   \n",
       "UM_1_0050345                                4.093164   \n",
       "\n",
       "                  thick_lparahippocampal_medPIQR  \\\n",
       "UCLA_2_0051316                          4.377817   \n",
       "Leuven_2_0050724                        4.623127   \n",
       "NYU_0051069                             4.536819   \n",
       "UM_1_0050329                            4.736960   \n",
       "UM_1_0050345                            3.799942   \n",
       "\n",
       "                  thick_lposteriorcingulate_medMIQR  \\\n",
       "UCLA_2_0051316                             0.961509   \n",
       "Leuven_2_0050724                           1.038661   \n",
       "NYU_0051069                                1.823674   \n",
       "UM_1_0050329                               1.838750   \n",
       "UM_1_0050345                               1.532805   \n",
       "\n",
       "                  thick_lrostralanteriorcingulate_medPIQR  \\\n",
       "UCLA_2_0051316                                   5.117865   \n",
       "Leuven_2_0050724                                 4.559638   \n",
       "NYU_0051069                                      4.389538   \n",
       "UM_1_0050329                                     4.388633   \n",
       "UM_1_0050345                                     3.651844   \n",
       "\n",
       "                  thick_lfrontalpole_medMIQR  thick_ltemporalpole_medMIQR  \\\n",
       "UCLA_2_0051316                      1.526271                     2.716174   \n",
       "Leuven_2_0050724                    1.716619                     1.939212   \n",
       "NYU_0051069                         3.351933                     2.914286   \n",
       "UM_1_0050329                        1.429612                     1.403740   \n",
       "UM_1_0050345                        2.073032                     0.551598   \n",
       "\n",
       "                  curv_lbankssts_medPIQR  \\\n",
       "UCLA_2_0051316                  0.248083   \n",
       "Leuven_2_0050724                0.328835   \n",
       "NYU_0051069                     0.229267   \n",
       "UM_1_0050329                    0.242997   \n",
       "UM_1_0050345                    0.302800   \n",
       "\n",
       "                  curv_lcaudalanteriorcingulate_medMIQR  ...  \\\n",
       "UCLA_2_0051316                                -0.244442  ...   \n",
       "Leuven_2_0050724                              -0.258392  ...   \n",
       "NYU_0051069                                   -0.376027  ...   \n",
       "UM_1_0050329                                  -0.333686  ...   \n",
       "UM_1_0050345                                  -0.336548  ...   \n",
       "\n",
       "                  vol_lfusiform_medMIQR  vol_listhmuscingulate_medMIQR  \\\n",
       "UCLA_2_0051316                -0.722583                      -0.720601   \n",
       "Leuven_2_0050724              -0.485051                      -0.683580   \n",
       "NYU_0051069                   -0.665995                      -1.037990   \n",
       "UM_1_0050329                  -0.536843                      -0.337207   \n",
       "UM_1_0050345                  -0.682542                      -0.604987   \n",
       "\n",
       "                  vol_llateraloccipital_medPIQR  \\\n",
       "UCLA_2_0051316                         3.452683   \n",
       "Leuven_2_0050724                       3.807115   \n",
       "NYU_0051069                            3.432285   \n",
       "UM_1_0050329                           3.268002   \n",
       "UM_1_0050345                           2.902010   \n",
       "\n",
       "                  vol_lmedialorbitofrontal_medMIQR  \\\n",
       "UCLA_2_0051316                           -0.834325   \n",
       "Leuven_2_0050724                         -0.576954   \n",
       "NYU_0051069                              -0.421762   \n",
       "UM_1_0050329                             -0.523066   \n",
       "UM_1_0050345                             -0.784227   \n",
       "\n",
       "                  vol_lparahippocampal_medMIQR  vol_lsuperiortemporal_medMIQR  \\\n",
       "UCLA_2_0051316                       -0.221840                      -0.591447   \n",
       "Leuven_2_0050724                     -0.035994                      -0.580187   \n",
       "NYU_0051069                          -0.332557                      -0.288487   \n",
       "UM_1_0050329                         -0.268990                      -0.410499   \n",
       "UM_1_0050345                         -0.464377                      -0.276401   \n",
       "\n",
       "                  vol_lfrontalpole_medMIQR  vol_ltemporalpole_medMIQR  \\\n",
       "UCLA_2_0051316                   -0.195907                  -1.498976   \n",
       "Leuven_2_0050724                 -0.192784                  -1.573970   \n",
       "NYU_0051069                      -0.761049                  -1.077441   \n",
       "UM_1_0050329                     -0.846937                  -1.749250   \n",
       "UM_1_0050345                     -0.819602                  -0.529120   \n",
       "\n",
       "                  vol_ltransversetemporal_medMIQR  labels  \n",
       "UCLA_2_0051316                           0.053882       0  \n",
       "Leuven_2_0050724                         0.127821       0  \n",
       "NYU_0051069                              0.322910       0  \n",
       "UM_1_0050329                             0.020822       0  \n",
       "UM_1_0050345                             0.036139       0  \n",
       "\n",
       "[5 rows x 100 columns]"
      ]
     },
     "execution_count": 24,
     "metadata": {},
     "output_type": "execute_result"
    }
   ],
   "source": [
    "df_test_left_corr.head()"
   ]
  },
  {
   "cell_type": "code",
   "execution_count": 25,
   "metadata": {},
   "outputs": [],
   "source": [
    "estimator = clf_left_50['nn'].best_estimator_\n",
    "from sklearn.metrics import confusion_matrix"
   ]
  },
  {
   "cell_type": "code",
   "execution_count": 26,
   "metadata": {},
   "outputs": [
    {
     "data": {
      "text/plain": [
       "array([[58,  0],\n",
       "       [58,  0]], dtype=int64)"
      ]
     },
     "execution_count": 26,
     "metadata": {},
     "output_type": "execute_result"
    }
   ],
   "source": [
    "ytrue = df_test_left_corr.pop('labels')\n",
    "yest = estimator.predict(df_test_left_corr)\n",
    "confusion_matrix(ytrue, yest)"
   ]
  },
  {
   "cell_type": "code",
   "execution_count": 38,
   "metadata": {},
   "outputs": [],
   "source": [
    "estimator = clf_left_rf_update['nn'].best_estimator_"
   ]
  },
  {
   "cell_type": "code",
   "execution_count": 39,
   "metadata": {},
   "outputs": [],
   "source": [
    "df_left_test = pd.read_csv('./Results/INITIAL_SPLIT/left_test_modifiedMedPIQR.csv', index_col=0)"
   ]
  },
  {
   "cell_type": "code",
   "execution_count": 60,
   "metadata": {},
   "outputs": [],
   "source": [
    "df1 = pd.read_csv('./Results/CORR_ANA/left_train_noColliniarity_modifiedMedPIQR.csv', index_col=0)\n",
    "\n",
    "df_test_nocorr = df_left_test[df1.columns]\n",
    "fs_obj = load('./Results/FS/left_rf_modifiedMedPIQR.joblib')\n",
    "ml_obj = load('./Results/ML/clf_left_rf_modifiedMedPIQR.joblib')"
   ]
  },
  {
   "cell_type": "code",
   "execution_count": 68,
   "metadata": {},
   "outputs": [
    {
     "data": {
      "text/plain": [
       "150"
      ]
     },
     "execution_count": 68,
     "metadata": {},
     "output_type": "execute_result"
    }
   ],
   "source": [
    "df_test_nocorr.shape\n",
    "ml_obj['lg'].best_estimator_.n_features_in_"
   ]
  },
  {
   "cell_type": "code",
   "execution_count": 49,
   "metadata": {},
   "outputs": [],
   "source": [
    "ytest = df_test_nocorr.pop('labels')"
   ]
  },
  {
   "cell_type": "code",
   "execution_count": 55,
   "metadata": {},
   "outputs": [],
   "source": [
    "df_test_nocorr_fs = df_test_nocorr.iloc[:, np.where(fs_obj.ranking_==1)[0]]"
   ]
  },
  {
   "cell_type": "code",
   "execution_count": 56,
   "metadata": {},
   "outputs": [
    {
     "data": {
      "text/html": [
       "<div>\n",
       "<style scoped>\n",
       "    .dataframe tbody tr th:only-of-type {\n",
       "        vertical-align: middle;\n",
       "    }\n",
       "\n",
       "    .dataframe tbody tr th {\n",
       "        vertical-align: top;\n",
       "    }\n",
       "\n",
       "    .dataframe thead th {\n",
       "        text-align: right;\n",
       "    }\n",
       "</style>\n",
       "<table border=\"1\" class=\"dataframe\">\n",
       "  <thead>\n",
       "    <tr style=\"text-align: right;\">\n",
       "      <th></th>\n",
       "      <th>thick_lcaudalanteriorcingulate_medMIQR</th>\n",
       "      <th>thick_lcuneus_medMIQR</th>\n",
       "      <th>thick_lentorhinal_medMIQR</th>\n",
       "      <th>thick_lfusiform_medPIQR</th>\n",
       "      <th>thick_listhmuscingulate_medMIQR</th>\n",
       "      <th>thick_listhmuscingulate_medPIQR</th>\n",
       "      <th>thick_llateraloccipital_medMIQR</th>\n",
       "      <th>thick_llingual_medMIQR</th>\n",
       "      <th>thick_lmedialorbitofrontal_medPIQR</th>\n",
       "      <th>thick_lparahippocampal_medMIQR</th>\n",
       "      <th>...</th>\n",
       "      <th>vol_lparstriangularis_medMIQR</th>\n",
       "      <th>vol_lposteriorcingulate_medMIQR</th>\n",
       "      <th>vol_lposteriorcingulate_medPIQR</th>\n",
       "      <th>vol_lrostralanteriorcingulate_medMIQR</th>\n",
       "      <th>vol_lsuperiortemporal_medMIQR</th>\n",
       "      <th>vol_lsuperiortemporal_medPIQR</th>\n",
       "      <th>vol_lfrontalpole_medMIQR</th>\n",
       "      <th>vol_lfrontalpole_medPIQR</th>\n",
       "      <th>vol_ltemporalpole_medMIQR</th>\n",
       "      <th>vol_ltransversetemporal_medMIQR</th>\n",
       "    </tr>\n",
       "  </thead>\n",
       "  <tbody>\n",
       "    <tr>\n",
       "      <th>UCLA_2_0051316</th>\n",
       "      <td>1.139166</td>\n",
       "      <td>1.211377</td>\n",
       "      <td>1.855718</td>\n",
       "      <td>4.803106</td>\n",
       "      <td>1.079948</td>\n",
       "      <td>4.919478</td>\n",
       "      <td>1.173175</td>\n",
       "      <td>1.032534</td>\n",
       "      <td>4.895005</td>\n",
       "      <td>1.311440</td>\n",
       "      <td>...</td>\n",
       "      <td>-0.910552</td>\n",
       "      <td>-1.330254</td>\n",
       "      <td>5.550843</td>\n",
       "      <td>-0.924632</td>\n",
       "      <td>-0.591447</td>\n",
       "      <td>3.602504</td>\n",
       "      <td>-0.195907</td>\n",
       "      <td>7.242625</td>\n",
       "      <td>-1.498976</td>\n",
       "      <td>0.053882</td>\n",
       "    </tr>\n",
       "    <tr>\n",
       "      <th>Leuven_2_0050724</th>\n",
       "      <td>1.546067</td>\n",
       "      <td>1.126931</td>\n",
       "      <td>1.907912</td>\n",
       "      <td>4.169976</td>\n",
       "      <td>1.051037</td>\n",
       "      <td>4.285570</td>\n",
       "      <td>1.376269</td>\n",
       "      <td>0.999079</td>\n",
       "      <td>4.367829</td>\n",
       "      <td>1.966897</td>\n",
       "      <td>...</td>\n",
       "      <td>-0.624520</td>\n",
       "      <td>-1.061409</td>\n",
       "      <td>4.720491</td>\n",
       "      <td>-0.352267</td>\n",
       "      <td>-0.580187</td>\n",
       "      <td>4.612998</td>\n",
       "      <td>-0.192784</td>\n",
       "      <td>6.045684</td>\n",
       "      <td>-1.573970</td>\n",
       "      <td>0.127821</td>\n",
       "    </tr>\n",
       "    <tr>\n",
       "      <th>NYU_0051069</th>\n",
       "      <td>1.951656</td>\n",
       "      <td>1.385836</td>\n",
       "      <td>3.105746</td>\n",
       "      <td>4.624345</td>\n",
       "      <td>1.477995</td>\n",
       "      <td>5.085954</td>\n",
       "      <td>1.293423</td>\n",
       "      <td>1.335146</td>\n",
       "      <td>4.294952</td>\n",
       "      <td>1.218505</td>\n",
       "      <td>...</td>\n",
       "      <td>-0.635838</td>\n",
       "      <td>-0.338879</td>\n",
       "      <td>4.430961</td>\n",
       "      <td>-0.408415</td>\n",
       "      <td>-0.288487</td>\n",
       "      <td>4.620739</td>\n",
       "      <td>-0.761049</td>\n",
       "      <td>8.863983</td>\n",
       "      <td>-1.077441</td>\n",
       "      <td>0.322910</td>\n",
       "    </tr>\n",
       "    <tr>\n",
       "      <th>UM_1_0050329</th>\n",
       "      <td>1.525580</td>\n",
       "      <td>0.915229</td>\n",
       "      <td>1.402200</td>\n",
       "      <td>4.302385</td>\n",
       "      <td>1.388235</td>\n",
       "      <td>4.596015</td>\n",
       "      <td>0.961463</td>\n",
       "      <td>0.691110</td>\n",
       "      <td>3.985483</td>\n",
       "      <td>1.693692</td>\n",
       "      <td>...</td>\n",
       "      <td>-0.596823</td>\n",
       "      <td>-0.467444</td>\n",
       "      <td>4.253399</td>\n",
       "      <td>-0.723723</td>\n",
       "      <td>-0.410499</td>\n",
       "      <td>3.661186</td>\n",
       "      <td>-0.846937</td>\n",
       "      <td>5.251930</td>\n",
       "      <td>-1.749250</td>\n",
       "      <td>0.020822</td>\n",
       "    </tr>\n",
       "    <tr>\n",
       "      <th>UM_1_0050345</th>\n",
       "      <td>1.981103</td>\n",
       "      <td>0.757585</td>\n",
       "      <td>0.411164</td>\n",
       "      <td>3.875574</td>\n",
       "      <td>0.982263</td>\n",
       "      <td>4.221299</td>\n",
       "      <td>0.737426</td>\n",
       "      <td>0.498802</td>\n",
       "      <td>4.093164</td>\n",
       "      <td>0.370766</td>\n",
       "      <td>...</td>\n",
       "      <td>-0.699006</td>\n",
       "      <td>-0.466844</td>\n",
       "      <td>3.932599</td>\n",
       "      <td>-0.696258</td>\n",
       "      <td>-0.276401</td>\n",
       "      <td>3.101682</td>\n",
       "      <td>-0.819602</td>\n",
       "      <td>6.464328</td>\n",
       "      <td>-0.529120</td>\n",
       "      <td>0.036139</td>\n",
       "    </tr>\n",
       "  </tbody>\n",
       "</table>\n",
       "<p>5 rows × 158 columns</p>\n",
       "</div>"
      ],
      "text/plain": [
       "                  thick_lcaudalanteriorcingulate_medMIQR  \\\n",
       "UCLA_2_0051316                                  1.139166   \n",
       "Leuven_2_0050724                                1.546067   \n",
       "NYU_0051069                                     1.951656   \n",
       "UM_1_0050329                                    1.525580   \n",
       "UM_1_0050345                                    1.981103   \n",
       "\n",
       "                  thick_lcuneus_medMIQR  thick_lentorhinal_medMIQR  \\\n",
       "UCLA_2_0051316                 1.211377                   1.855718   \n",
       "Leuven_2_0050724               1.126931                   1.907912   \n",
       "NYU_0051069                    1.385836                   3.105746   \n",
       "UM_1_0050329                   0.915229                   1.402200   \n",
       "UM_1_0050345                   0.757585                   0.411164   \n",
       "\n",
       "                  thick_lfusiform_medPIQR  thick_listhmuscingulate_medMIQR  \\\n",
       "UCLA_2_0051316                   4.803106                         1.079948   \n",
       "Leuven_2_0050724                 4.169976                         1.051037   \n",
       "NYU_0051069                      4.624345                         1.477995   \n",
       "UM_1_0050329                     4.302385                         1.388235   \n",
       "UM_1_0050345                     3.875574                         0.982263   \n",
       "\n",
       "                  thick_listhmuscingulate_medPIQR  \\\n",
       "UCLA_2_0051316                           4.919478   \n",
       "Leuven_2_0050724                         4.285570   \n",
       "NYU_0051069                              5.085954   \n",
       "UM_1_0050329                             4.596015   \n",
       "UM_1_0050345                             4.221299   \n",
       "\n",
       "                  thick_llateraloccipital_medMIQR  thick_llingual_medMIQR  \\\n",
       "UCLA_2_0051316                           1.173175                1.032534   \n",
       "Leuven_2_0050724                         1.376269                0.999079   \n",
       "NYU_0051069                              1.293423                1.335146   \n",
       "UM_1_0050329                             0.961463                0.691110   \n",
       "UM_1_0050345                             0.737426                0.498802   \n",
       "\n",
       "                  thick_lmedialorbitofrontal_medPIQR  \\\n",
       "UCLA_2_0051316                              4.895005   \n",
       "Leuven_2_0050724                            4.367829   \n",
       "NYU_0051069                                 4.294952   \n",
       "UM_1_0050329                                3.985483   \n",
       "UM_1_0050345                                4.093164   \n",
       "\n",
       "                  thick_lparahippocampal_medMIQR  ...  \\\n",
       "UCLA_2_0051316                          1.311440  ...   \n",
       "Leuven_2_0050724                        1.966897  ...   \n",
       "NYU_0051069                             1.218505  ...   \n",
       "UM_1_0050329                            1.693692  ...   \n",
       "UM_1_0050345                            0.370766  ...   \n",
       "\n",
       "                  vol_lparstriangularis_medMIQR  \\\n",
       "UCLA_2_0051316                        -0.910552   \n",
       "Leuven_2_0050724                      -0.624520   \n",
       "NYU_0051069                           -0.635838   \n",
       "UM_1_0050329                          -0.596823   \n",
       "UM_1_0050345                          -0.699006   \n",
       "\n",
       "                  vol_lposteriorcingulate_medMIQR  \\\n",
       "UCLA_2_0051316                          -1.330254   \n",
       "Leuven_2_0050724                        -1.061409   \n",
       "NYU_0051069                             -0.338879   \n",
       "UM_1_0050329                            -0.467444   \n",
       "UM_1_0050345                            -0.466844   \n",
       "\n",
       "                  vol_lposteriorcingulate_medPIQR  \\\n",
       "UCLA_2_0051316                           5.550843   \n",
       "Leuven_2_0050724                         4.720491   \n",
       "NYU_0051069                              4.430961   \n",
       "UM_1_0050329                             4.253399   \n",
       "UM_1_0050345                             3.932599   \n",
       "\n",
       "                  vol_lrostralanteriorcingulate_medMIQR  \\\n",
       "UCLA_2_0051316                                -0.924632   \n",
       "Leuven_2_0050724                              -0.352267   \n",
       "NYU_0051069                                   -0.408415   \n",
       "UM_1_0050329                                  -0.723723   \n",
       "UM_1_0050345                                  -0.696258   \n",
       "\n",
       "                  vol_lsuperiortemporal_medMIQR  \\\n",
       "UCLA_2_0051316                        -0.591447   \n",
       "Leuven_2_0050724                      -0.580187   \n",
       "NYU_0051069                           -0.288487   \n",
       "UM_1_0050329                          -0.410499   \n",
       "UM_1_0050345                          -0.276401   \n",
       "\n",
       "                  vol_lsuperiortemporal_medPIQR  vol_lfrontalpole_medMIQR  \\\n",
       "UCLA_2_0051316                         3.602504                 -0.195907   \n",
       "Leuven_2_0050724                       4.612998                 -0.192784   \n",
       "NYU_0051069                            4.620739                 -0.761049   \n",
       "UM_1_0050329                           3.661186                 -0.846937   \n",
       "UM_1_0050345                           3.101682                 -0.819602   \n",
       "\n",
       "                  vol_lfrontalpole_medPIQR  vol_ltemporalpole_medMIQR  \\\n",
       "UCLA_2_0051316                    7.242625                  -1.498976   \n",
       "Leuven_2_0050724                  6.045684                  -1.573970   \n",
       "NYU_0051069                       8.863983                  -1.077441   \n",
       "UM_1_0050329                      5.251930                  -1.749250   \n",
       "UM_1_0050345                      6.464328                  -0.529120   \n",
       "\n",
       "                  vol_ltransversetemporal_medMIQR  \n",
       "UCLA_2_0051316                           0.053882  \n",
       "Leuven_2_0050724                         0.127821  \n",
       "NYU_0051069                              0.322910  \n",
       "UM_1_0050329                             0.020822  \n",
       "UM_1_0050345                             0.036139  \n",
       "\n",
       "[5 rows x 158 columns]"
      ]
     },
     "execution_count": 56,
     "metadata": {},
     "output_type": "execute_result"
    }
   ],
   "source": [
    "df_test_nocorr_fs.head()"
   ]
  },
  {
   "cell_type": "code",
   "execution_count": 52,
   "metadata": {},
   "outputs": [
    {
     "data": {
      "text/plain": [
       "150"
      ]
     },
     "execution_count": 52,
     "metadata": {},
     "output_type": "execute_result"
    }
   ],
   "source": [
    "estimator.n_features_in_"
   ]
  },
  {
   "cell_type": "code",
   "execution_count": 59,
   "metadata": {},
   "outputs": [
    {
     "data": {
      "text/plain": [
       "158"
      ]
     },
     "execution_count": 59,
     "metadata": {},
     "output_type": "execute_result"
    }
   ],
   "source": [
    "len(np.unique(df_test_nocorr_fs.columns.to_list()))"
   ]
  },
  {
   "cell_type": "code",
   "execution_count": 63,
   "metadata": {},
   "outputs": [
    {
     "data": {
      "text/plain": [
       "158"
      ]
     },
     "execution_count": 63,
     "metadata": {},
     "output_type": "execute_result"
    }
   ],
   "source": [
    "len(np.where(fs_obj.ranking_==1)[0])"
   ]
  },
  {
   "cell_type": "code",
   "execution_count": 70,
   "metadata": {},
   "outputs": [
    {
     "data": {
      "text/plain": [
       "array([0, 0, 0, 0, 0, 0, 0, 0, 0, 0, 0, 0, 0, 0, 0, 0, 0, 0, 0, 0, 0, 0,\n",
       "       0, 0, 0, 0, 0, 0, 0, 0, 0, 0, 0, 0, 0, 0, 0, 0, 0, 0, 0, 0, 0, 0,\n",
       "       0, 0, 0, 0, 0, 0, 0, 0, 0, 0, 0, 0, 0, 0, 0, 0, 0, 0, 0, 0, 0, 0,\n",
       "       0, 0, 0, 0, 0, 0, 0, 0, 0, 0, 0, 0, 0, 0, 0, 0, 0, 0, 0, 0, 0, 0,\n",
       "       0, 0, 0, 0, 0, 0, 0, 0, 0, 0, 0, 0, 0, 0, 0, 0, 0, 0, 0, 0, 0, 0,\n",
       "       0, 0, 0, 0, 0, 0], dtype=int64)"
      ]
     },
     "execution_count": 70,
     "metadata": {},
     "output_type": "execute_result"
    }
   ],
   "source": [
    "estimator.predict(df_test_nocorr_fs.iloc[:,:-8])"
   ]
  },
  {
   "cell_type": "code",
   "execution_count": 71,
   "metadata": {},
   "outputs": [
    {
     "data": {
      "text/plain": [
       "dict_keys(['lSVM', 'pagg', 'lg', 'XGB', 'GNB', 'Rf', 'SVC', 'nn'])"
      ]
     },
     "execution_count": 71,
     "metadata": {},
     "output_type": "execute_result"
    }
   ],
   "source": [
    "ml_obj.keys()"
   ]
  },
  {
   "cell_type": "code",
   "execution_count": 83,
   "metadata": {},
   "outputs": [
    {
     "data": {
      "text/plain": [
       "array([0, 0, 0, 0, 0, 0, 0, 0, 0, 0, 0, 0, 0, 0, 0, 0, 0, 0, 0, 0, 0, 0,\n",
       "       0, 0, 0, 0, 0, 0, 0, 0, 0, 0, 0, 0, 0, 0, 0, 0, 0, 0, 0, 0, 0, 0,\n",
       "       0, 0, 0, 0, 0, 0, 0, 0, 0, 0, 0, 0, 0, 0, 0, 0, 0, 0, 0, 0, 0, 0,\n",
       "       0, 0, 0, 0, 0, 0, 0, 0, 0, 0, 0, 0, 0, 0, 0, 0, 0, 0, 0, 0, 0, 0,\n",
       "       0, 0, 0, 0, 0, 0, 0, 0, 0, 0, 0, 0, 0, 0, 0, 0, 0, 0, 0, 0, 0, 0,\n",
       "       0, 0, 0, 0, 0, 0], dtype=int64)"
      ]
     },
     "execution_count": 83,
     "metadata": {},
     "output_type": "execute_result"
    }
   ],
   "source": [
    "ml_obj['nn'].best_estimator_.predict(df_test_nocorr_fs.iloc[:,:-8])"
   ]
  },
  {
   "cell_type": "code",
   "execution_count": 84,
   "metadata": {},
   "outputs": [],
   "source": [
    "# Load original data\n",
    "df_train_left = pd.read_csv('./Results/INITiAL_SPLIT/left_train_modifiedMedPIQR.csv', index_col=0)\n",
    "df_train_right = pd.read_csv('./Results/INITiAL_SPLIT/right_train_modifiedMedPIQR.csv', index_col=0)\n",
    "\n",
    "df_test_left = pd.read_csv('./Results/INITiAL_SPLIT/left_test_modifiedMedPIQR.csv', index_col=0)\n",
    "df_test_right = pd.read_csv('./Results/INITiAL_SPLIT/right_test_modifiedMedPIQR.csv', index_col=0)"
   ]
  },
  {
   "cell_type": "code",
   "execution_count": 85,
   "metadata": {},
   "outputs": [],
   "source": [
    "# Extract un corrlated feats\n",
    "df_train_left_nocorr = pd.read_csv('./Results/CORR_ANA/left_train_noColliniarity_modifiedMedPIQR.csv', index_col=0)\n",
    "df_train_right_nocorr = pd.read_csv('./Results/CORR_ANA/right_train_noColliniarity_modifiedMedPIQR.csv', index_col=0)\n",
    "\n",
    "df_test_left_nocorr = df_test_left[df_train_left_nocorr.columns]\n",
    "df_test_right_nocorr = df_test_right[df_train_right_nocorr.columns]"
   ]
  },
  {
   "cell_type": "code",
   "execution_count": 89,
   "metadata": {},
   "outputs": [],
   "source": [
    "assert(df_train_left_nocorr.shape[1] == df_test_left_nocorr.shape[1])\n",
    "assert(df_train_right_nocorr.shape[1] == df_test_right_nocorr.shape[1])"
   ]
  },
  {
   "cell_type": "code",
   "execution_count": 90,
   "metadata": {},
   "outputs": [],
   "source": [
    "# Load and extract FS objects\n",
    "left_rf_obj = load('./Results/FS/left_rf_modifiedMedPIQR.joblib')\n",
    "left_svc_obj = load('./Results/FS/left_svc_modifiedMedPIQR.joblib')\n",
    "right_rf_obj = load('./Results/FS/right_rf_modifiedMedPIQR.joblib')\n",
    "right_svc_obj = load('./Results/FS/right_svc_modifiedMedPIQR.joblib')\n",
    "\n",
    "df_train_left_nocorr_rf = df_train_left_nocorr.iloc[:, np.where(left_rf_obj.ranking_==1)[0]]\n",
    "df_train_left_nocorr_svc = df_train_left_nocorr.iloc[:, np.where(left_svc_obj.ranking_==1)[0]]\n",
    "df_train_right_nocorr_rf = df_train_right_nocorr.iloc[:, np.where(right_rf_obj.ranking_==1)[0]]\n",
    "df_train_right_corr_svc = df_train_right_nocorr.iloc[:, np.where(right_svc_obj.ranking_==1)[0]]\n",
    "\n",
    "df_test_left_nocorr_rf = df_test_left_nocorr.iloc[:, np.where(left_rf_obj.ranking_==1)[0]]\n",
    "df_test_left_nocorr_svc = df_test_left_nocorr.iloc[:, np.where(left_svc_obj.ranking_==1)[0]]\n",
    "df_test_right_nocorr_rf = df_test_right_nocorr.iloc[:, np.where(right_rf_obj.ranking_==1)[0]]\n",
    "df_test_right_corr_svc = df_test_right_nocorr.iloc[:, np.where(right_svc_obj.ranking_==1)[0]]"
   ]
  },
  {
   "cell_type": "code",
   "execution_count": 105,
   "metadata": {},
   "outputs": [],
   "source": [
    "# Load ML\n",
    "left_rf_obj = load('./Results/ML/clf_left_rf_modifiedMedPIQR.joblib')\n",
    "left_svc_obj = load('./Results/ML/clf_left_svm_modifiedMedPIQR.joblib')\n",
    "right_rf_obj = load('./Results/ML/clf_right_rf_modifiedMedPIQR.joblib')\n",
    "right_svc_obj = load('./Results/ML/clf_right_svm_modifiedMedPIQR.joblib')"
   ]
  },
  {
   "cell_type": "code",
   "execution_count": 106,
   "metadata": {},
   "outputs": [
    {
     "data": {
      "text/plain": [
       "(150, 134, 138, 134)"
      ]
     },
     "execution_count": 106,
     "metadata": {},
     "output_type": "execute_result"
    }
   ],
   "source": [
    "left_rf_obj['nn'].best_estimator_.n_features_in_,\\\n",
    "left_svc_obj['nn'].best_estimator_.n_features_in_,\\\n",
    "right_rf_obj['nn'].best_estimator_.n_features_in_,\\\n",
    "right_svc_obj['nn'].best_estimator_.n_features_in_,\\"
   ]
  },
  {
   "cell_type": "code",
   "execution_count": 107,
   "metadata": {},
   "outputs": [
    {
     "data": {
      "text/plain": [
       "((116, 158), (116, 66), (116, 115), (116, 66))"
      ]
     },
     "execution_count": 107,
     "metadata": {},
     "output_type": "execute_result"
    }
   ],
   "source": [
    "df_test_left_nocorr_rf.shape,df_test_left_nocorr_svc.shape,df_test_right_nocorr_rf.shape,df_test_right_corr_svc.shape"
   ]
  },
  {
   "cell_type": "code",
   "execution_count": null,
   "metadata": {},
   "outputs": [],
   "source": []
  }
 ],
 "metadata": {
  "kernelspec": {
   "display_name": "Python [conda env:untitled] *",
   "language": "python",
   "name": "conda-env-untitled-py"
  },
  "language_info": {
   "codemirror_mode": {
    "name": "ipython",
    "version": 3
   },
   "file_extension": ".py",
   "mimetype": "text/x-python",
   "name": "python",
   "nbconvert_exporter": "python",
   "pygments_lexer": "ipython3",
   "version": "3.7.5"
  }
 },
 "nbformat": 4,
 "nbformat_minor": 4
}
