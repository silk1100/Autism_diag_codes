{
 "cells": [
  {
   "cell_type": "code",
   "execution_count": 1,
   "metadata": {},
   "outputs": [],
   "source": [
    "import pandas as pd\n",
    "import numpy as np\n",
    "import seaborn as sns\n",
    "from constants import DATADIR_aparc_ALLASDINC"
   ]
  },
  {
   "cell_type": "code",
   "execution_count": 2,
   "metadata": {},
   "outputs": [],
   "source": [
    "TD_APARC_DIR = 'D:\\\\PhD\\\\Data\\\\aparc\\\\df_td_aparc_ALLASDINC.csv'\n",
    "ASD_APARC_DIR = 'D:\\\\PhD\\\\Data\\\\aparc\\\\df_asd_aparc_ALLASDINC.csv'\n",
    "TD_A2009S_DIR = 'D:\\\\PhD\\\\Data\\\\a2009s\\\\df_td_a2009s_ALLASDINC.csv'\n",
    "ASD_A2009S_DIR = 'D:\\\\PhD\\\\Data\\\\a2009s\\\\df_asd_a2009s_ALLASDINC.csv'"
   ]
  },
  {
   "cell_type": "markdown",
   "metadata": {},
   "source": [
    "## Cleaning APARC data"
   ]
  },
  {
   "cell_type": "code",
   "execution_count": 3,
   "metadata": {},
   "outputs": [
    {
     "data": {
      "text/plain": [
       "(528, 547)"
      ]
     },
     "execution_count": 3,
     "metadata": {},
     "output_type": "execute_result"
    }
   ],
   "source": [
    "df_td_aparc = pd.read_csv(TD_APARC_DIR, index_col=0)\n",
    "df_td_aparc.head()\n",
    "df_td_aparc.shape"
   ]
  },
  {
   "cell_type": "code",
   "execution_count": 4,
   "metadata": {},
   "outputs": [
    {
     "data": {
      "text/html": [
       "<div>\n",
       "<style scoped>\n",
       "    .dataframe tbody tr th:only-of-type {\n",
       "        vertical-align: middle;\n",
       "    }\n",
       "\n",
       "    .dataframe tbody tr th {\n",
       "        vertical-align: top;\n",
       "    }\n",
       "\n",
       "    .dataframe thead th {\n",
       "        text-align: right;\n",
       "    }\n",
       "</style>\n",
       "<table border=\"1\" class=\"dataframe\">\n",
       "  <thead>\n",
       "    <tr style=\"text-align: right;\">\n",
       "      <th></th>\n",
       "      <th>area_lbankssts_med</th>\n",
       "      <th>area_lbankssts_20-80range</th>\n",
       "      <th>area_lcaudalanteriorcingulate_med</th>\n",
       "      <th>area_lcaudalanteriorcingulate_20-80range</th>\n",
       "      <th>area_lcaudalmiddlefrontal_med</th>\n",
       "      <th>area_lcaudalmiddlefrontal_20-80range</th>\n",
       "      <th>area_lcuneus_med</th>\n",
       "      <th>area_lcuneus_20-80range</th>\n",
       "      <th>area_lentorhinal_med</th>\n",
       "      <th>area_lentorhinal_20-80range</th>\n",
       "      <th>...</th>\n",
       "      <th>volume_rfrontalpole_20-80range</th>\n",
       "      <th>volume_rtemporalpole_med</th>\n",
       "      <th>volume_rtemporalpole_20-80range</th>\n",
       "      <th>volume_rtransversetemporal_med</th>\n",
       "      <th>volume_rtransversetemporal_20-80range</th>\n",
       "      <th>volume_rinsula_med</th>\n",
       "      <th>volume_rinsula_20-80range</th>\n",
       "      <th>age</th>\n",
       "      <th>sex</th>\n",
       "      <th>labels</th>\n",
       "    </tr>\n",
       "  </thead>\n",
       "  <tbody>\n",
       "    <tr>\n",
       "      <th>Caltech_0051456</th>\n",
       "      <td>0.712938</td>\n",
       "      <td>0.522980</td>\n",
       "      <td>0.646741</td>\n",
       "      <td>0.477187</td>\n",
       "      <td>0.577936</td>\n",
       "      <td>0.558109</td>\n",
       "      <td>0.573381</td>\n",
       "      <td>0.520365</td>\n",
       "      <td>0.654735</td>\n",
       "      <td>0.557382</td>\n",
       "      <td>...</td>\n",
       "      <td>2.257205</td>\n",
       "      <td>3.328883</td>\n",
       "      <td>3.246739</td>\n",
       "      <td>1.801949</td>\n",
       "      <td>1.600731</td>\n",
       "      <td>0.000000</td>\n",
       "      <td>2.043520</td>\n",
       "      <td>55.4</td>\n",
       "      <td>1</td>\n",
       "      <td>0</td>\n",
       "    </tr>\n",
       "    <tr>\n",
       "      <th>Caltech_0051457</th>\n",
       "      <td>0.691159</td>\n",
       "      <td>0.542991</td>\n",
       "      <td>0.657722</td>\n",
       "      <td>0.616444</td>\n",
       "      <td>0.639428</td>\n",
       "      <td>0.556972</td>\n",
       "      <td>0.618710</td>\n",
       "      <td>0.603067</td>\n",
       "      <td>0.661457</td>\n",
       "      <td>0.541071</td>\n",
       "      <td>...</td>\n",
       "      <td>2.416651</td>\n",
       "      <td>3.602563</td>\n",
       "      <td>4.038680</td>\n",
       "      <td>1.649104</td>\n",
       "      <td>1.421252</td>\n",
       "      <td>0.224715</td>\n",
       "      <td>1.970336</td>\n",
       "      <td>22.9</td>\n",
       "      <td>1</td>\n",
       "      <td>0</td>\n",
       "    </tr>\n",
       "    <tr>\n",
       "      <th>Caltech_0051458</th>\n",
       "      <td>0.719259</td>\n",
       "      <td>0.475692</td>\n",
       "      <td>0.631136</td>\n",
       "      <td>0.547493</td>\n",
       "      <td>0.590005</td>\n",
       "      <td>0.546203</td>\n",
       "      <td>0.582499</td>\n",
       "      <td>0.576788</td>\n",
       "      <td>0.647308</td>\n",
       "      <td>0.485646</td>\n",
       "      <td>...</td>\n",
       "      <td>2.750852</td>\n",
       "      <td>3.489909</td>\n",
       "      <td>4.285996</td>\n",
       "      <td>1.478723</td>\n",
       "      <td>1.455796</td>\n",
       "      <td>0.000000</td>\n",
       "      <td>1.917016</td>\n",
       "      <td>39.2</td>\n",
       "      <td>1</td>\n",
       "      <td>0</td>\n",
       "    </tr>\n",
       "    <tr>\n",
       "      <th>Caltech_0051459</th>\n",
       "      <td>0.727622</td>\n",
       "      <td>0.518204</td>\n",
       "      <td>0.694547</td>\n",
       "      <td>0.535396</td>\n",
       "      <td>0.622977</td>\n",
       "      <td>0.531531</td>\n",
       "      <td>0.622482</td>\n",
       "      <td>0.575251</td>\n",
       "      <td>0.710569</td>\n",
       "      <td>0.521697</td>\n",
       "      <td>...</td>\n",
       "      <td>2.884054</td>\n",
       "      <td>3.858876</td>\n",
       "      <td>4.188301</td>\n",
       "      <td>1.658662</td>\n",
       "      <td>1.585537</td>\n",
       "      <td>0.305968</td>\n",
       "      <td>2.130467</td>\n",
       "      <td>22.8</td>\n",
       "      <td>1</td>\n",
       "      <td>0</td>\n",
       "    </tr>\n",
       "    <tr>\n",
       "      <th>Caltech_0051460</th>\n",
       "      <td>0.707880</td>\n",
       "      <td>0.481792</td>\n",
       "      <td>0.653682</td>\n",
       "      <td>0.629811</td>\n",
       "      <td>0.633001</td>\n",
       "      <td>0.551114</td>\n",
       "      <td>0.639174</td>\n",
       "      <td>0.538454</td>\n",
       "      <td>0.663805</td>\n",
       "      <td>0.552818</td>\n",
       "      <td>...</td>\n",
       "      <td>2.119795</td>\n",
       "      <td>3.222828</td>\n",
       "      <td>3.132810</td>\n",
       "      <td>1.602545</td>\n",
       "      <td>1.466445</td>\n",
       "      <td>0.326807</td>\n",
       "      <td>2.030386</td>\n",
       "      <td>34.6</td>\n",
       "      <td>2</td>\n",
       "      <td>0</td>\n",
       "    </tr>\n",
       "  </tbody>\n",
       "</table>\n",
       "<p>5 rows × 547 columns</p>\n",
       "</div>"
      ],
      "text/plain": [
       "                 area_lbankssts_med  area_lbankssts_20-80range  \\\n",
       "Caltech_0051456            0.712938                   0.522980   \n",
       "Caltech_0051457            0.691159                   0.542991   \n",
       "Caltech_0051458            0.719259                   0.475692   \n",
       "Caltech_0051459            0.727622                   0.518204   \n",
       "Caltech_0051460            0.707880                   0.481792   \n",
       "\n",
       "                 area_lcaudalanteriorcingulate_med  \\\n",
       "Caltech_0051456                           0.646741   \n",
       "Caltech_0051457                           0.657722   \n",
       "Caltech_0051458                           0.631136   \n",
       "Caltech_0051459                           0.694547   \n",
       "Caltech_0051460                           0.653682   \n",
       "\n",
       "                 area_lcaudalanteriorcingulate_20-80range  \\\n",
       "Caltech_0051456                                  0.477187   \n",
       "Caltech_0051457                                  0.616444   \n",
       "Caltech_0051458                                  0.547493   \n",
       "Caltech_0051459                                  0.535396   \n",
       "Caltech_0051460                                  0.629811   \n",
       "\n",
       "                 area_lcaudalmiddlefrontal_med  \\\n",
       "Caltech_0051456                       0.577936   \n",
       "Caltech_0051457                       0.639428   \n",
       "Caltech_0051458                       0.590005   \n",
       "Caltech_0051459                       0.622977   \n",
       "Caltech_0051460                       0.633001   \n",
       "\n",
       "                 area_lcaudalmiddlefrontal_20-80range  area_lcuneus_med  \\\n",
       "Caltech_0051456                              0.558109          0.573381   \n",
       "Caltech_0051457                              0.556972          0.618710   \n",
       "Caltech_0051458                              0.546203          0.582499   \n",
       "Caltech_0051459                              0.531531          0.622482   \n",
       "Caltech_0051460                              0.551114          0.639174   \n",
       "\n",
       "                 area_lcuneus_20-80range  area_lentorhinal_med  \\\n",
       "Caltech_0051456                 0.520365              0.654735   \n",
       "Caltech_0051457                 0.603067              0.661457   \n",
       "Caltech_0051458                 0.576788              0.647308   \n",
       "Caltech_0051459                 0.575251              0.710569   \n",
       "Caltech_0051460                 0.538454              0.663805   \n",
       "\n",
       "                 area_lentorhinal_20-80range  ...  \\\n",
       "Caltech_0051456                     0.557382  ...   \n",
       "Caltech_0051457                     0.541071  ...   \n",
       "Caltech_0051458                     0.485646  ...   \n",
       "Caltech_0051459                     0.521697  ...   \n",
       "Caltech_0051460                     0.552818  ...   \n",
       "\n",
       "                 volume_rfrontalpole_20-80range  volume_rtemporalpole_med  \\\n",
       "Caltech_0051456                        2.257205                  3.328883   \n",
       "Caltech_0051457                        2.416651                  3.602563   \n",
       "Caltech_0051458                        2.750852                  3.489909   \n",
       "Caltech_0051459                        2.884054                  3.858876   \n",
       "Caltech_0051460                        2.119795                  3.222828   \n",
       "\n",
       "                 volume_rtemporalpole_20-80range  \\\n",
       "Caltech_0051456                         3.246739   \n",
       "Caltech_0051457                         4.038680   \n",
       "Caltech_0051458                         4.285996   \n",
       "Caltech_0051459                         4.188301   \n",
       "Caltech_0051460                         3.132810   \n",
       "\n",
       "                 volume_rtransversetemporal_med  \\\n",
       "Caltech_0051456                        1.801949   \n",
       "Caltech_0051457                        1.649104   \n",
       "Caltech_0051458                        1.478723   \n",
       "Caltech_0051459                        1.658662   \n",
       "Caltech_0051460                        1.602545   \n",
       "\n",
       "                 volume_rtransversetemporal_20-80range  volume_rinsula_med  \\\n",
       "Caltech_0051456                               1.600731            0.000000   \n",
       "Caltech_0051457                               1.421252            0.224715   \n",
       "Caltech_0051458                               1.455796            0.000000   \n",
       "Caltech_0051459                               1.585537            0.305968   \n",
       "Caltech_0051460                               1.466445            0.326807   \n",
       "\n",
       "                 volume_rinsula_20-80range   age  sex  labels  \n",
       "Caltech_0051456                   2.043520  55.4    1       0  \n",
       "Caltech_0051457                   1.970336  22.9    1       0  \n",
       "Caltech_0051458                   1.917016  39.2    1       0  \n",
       "Caltech_0051459                   2.130467  22.8    1       0  \n",
       "Caltech_0051460                   2.030386  34.6    2       0  \n",
       "\n",
       "[5 rows x 547 columns]"
      ]
     },
     "execution_count": 4,
     "metadata": {},
     "output_type": "execute_result"
    }
   ],
   "source": [
    "df_asd_aparc = pd.read_csv(ASD_APARC_DIR, index_col=0)\n",
    "df_asd_aparc.head()"
   ]
  },
  {
   "cell_type": "code",
   "execution_count": 5,
   "metadata": {},
   "outputs": [
    {
     "data": {
      "text/plain": [
       "(441, 547)"
      ]
     },
     "execution_count": 5,
     "metadata": {},
     "output_type": "execute_result"
    }
   ],
   "source": [
    "df_asd_aparc['labels']=1\n",
    "df_asd_aparc.head()\n",
    "df_asd_aparc.shape"
   ]
  },
  {
   "cell_type": "code",
   "execution_count": 6,
   "metadata": {},
   "outputs": [
    {
     "data": {
      "text/plain": [
       "((441, 547), (528, 547))"
      ]
     },
     "execution_count": 6,
     "metadata": {},
     "output_type": "execute_result"
    }
   ],
   "source": [
    "df_asd_aparc.shape, df_td_aparc.shape"
   ]
  },
  {
   "cell_type": "code",
   "execution_count": 7,
   "metadata": {},
   "outputs": [
    {
     "data": {
      "text/plain": [
       "(969, 547)"
      ]
     },
     "execution_count": 7,
     "metadata": {},
     "output_type": "execute_result"
    }
   ],
   "source": [
    "df_aparc = pd.concat([df_asd_aparc, df_td_aparc], axis=0)\n",
    "df_aparc.shape"
   ]
  },
  {
   "cell_type": "code",
   "execution_count": 8,
   "metadata": {},
   "outputs": [
    {
     "data": {
      "text/plain": [
       "<matplotlib.axes._subplots.AxesSubplot at 0x26400039c48>"
      ]
     },
     "execution_count": 8,
     "metadata": {},
     "output_type": "execute_result"
    },
    {
     "data": {
      "image/png": "[encoded data removed]",
      "text/plain": [
       "<Figure size 432x288 with 2 Axes>"
      ]
     },
     "metadata": {
      "needs_background": "light"
     },
     "output_type": "display_data"
    }
   ],
   "source": [
    "sns.heatmap(pd.isna(df_aparc))"
   ]
  },
  {
   "cell_type": "code",
   "execution_count": 9,
   "metadata": {},
   "outputs": [
    {
     "name": "stdout",
     "output_type": "stream",
     "text": [
      "MaxMun_a_0051318\n",
      "1\n",
      "UM_1_0050288\n",
      "1\n",
      "UCLA_2_0051296\n",
      "1\n",
      "UM_1_0050272\n",
      "1\n",
      "UM_1_0050274\n",
      "1\n",
      "UM_1_0050277\n",
      "1\n",
      "UM_1_0050283\n",
      "1\n",
      "UM_1_0050327\n",
      "0\n",
      "Stanford_0051190\n",
      "0\n",
      "UCLA_1_0051257\n",
      "0\n",
      "UCLA_1_0051258\n",
      "0\n"
     ]
    }
   ],
   "source": [
    "index_nan = np.unique(np.where(pd.isna(df_aparc))[0])\n",
    "for v in index_nan:\n",
    "    print(df_aparc.index[v])\n",
    "    print(df_aparc.iloc[v,-1])"
   ]
  },
  {
   "cell_type": "code",
   "execution_count": 10,
   "metadata": {},
   "outputs": [
    {
     "data": {
      "text/plain": [
       "((969, 547), (958, 547))"
      ]
     },
     "execution_count": 10,
     "metadata": {},
     "output_type": "execute_result"
    }
   ],
   "source": [
    "df_aparc_nona = df_aparc.dropna()\n",
    "df_aparc.shape, df_aparc_nona.shape"
   ]
  },
  {
   "cell_type": "code",
   "execution_count": 11,
   "metadata": {},
   "outputs": [],
   "source": [
    "df_aparc_nona.to_csv(DATADIR_aparc_ALLASDINC)"
   ]
  },
  {
   "cell_type": "code",
   "execution_count": 12,
   "metadata": {},
   "outputs": [
    {
     "name": "stdout",
     "output_type": "stream",
     "text": [
      "38\n"
     ]
    }
   ],
   "source": [
    "ind = df_asd_aparc.index\n",
    "NY = []\n",
    "for i in ind:\n",
    "    if 'NY' in i.split('_')[0]:\n",
    "        NY.append(i)\n",
    "print(len(NY))"
   ]
  },
  {
   "cell_type": "code",
   "execution_count": 13,
   "metadata": {},
   "outputs": [
    {
     "name": "stdout",
     "output_type": "stream",
     "text": [
      "100\n"
     ]
    }
   ],
   "source": [
    "ind = df_td_aparc.index\n",
    "NY = []\n",
    "for i in ind:\n",
    "    if 'NY' in i.split('_')[0]:\n",
    "        NY.append(i)\n",
    "print(len(NY))"
   ]
  },
  {
   "cell_type": "code",
   "execution_count": 14,
   "metadata": {},
   "outputs": [],
   "source": [
    "def update_cols_suffix(old_feats, suffix1, suffix2):\n",
    "    updated_feats = list()\n",
    "    for feat in old_feats:\n",
    "        featL = feat.split('_')\n",
    "        morph = featL[-1]\n",
    "        if 'med' in morph:\n",
    "            morph = suffix1\n",
    "        else:\n",
    "            morph = suffix2\n",
    "        featL[-1] = morph\n",
    "        updated_feats.append('_'.join(featL))\n",
    "    # Fix for age, sex, labels\n",
    "    updated_feats[-1] = old_feats[-1]\n",
    "    updated_feats[-2] = old_feats[-2]\n",
    "    updated_feats[-3] = old_feats[-3]\n",
    "\n",
    "    return updated_feats\n",
    "\n",
    "\n",
    "def suffix1_fc(c1, c2):\n",
    "    return c1-c2\n",
    "\n",
    "\n",
    "def suffix2_fc(c1, c2):\n",
    "    return c1+c2\n",
    "\n",
    "def modifyMedRange2MedPlusMinusRange(df):\n",
    "    \"\"\"\n",
    "    Convert the data representation from 1 column median, and 1 column IQR into\n",
    "    1 column median-IQR, and 1 column median+IQR for each morphological feature for each brain region\n",
    "    :param df: pandas.DataFrame\n",
    "    :return updated_df: pandas.DataFrame\n",
    "    \"\"\"\n",
    "    old_feats = df.columns.to_list()\n",
    "    suffix1 = \"medMIQR\"\n",
    "    suffix2 = \"medPIQR\"\n",
    "    updated_feats = update_cols_suffix(old_feats, suffix1, suffix2)\n",
    "    updated_df = pd.DataFrame(None, index=df.index, columns=updated_feats)\n",
    "    for feat in updated_df.columns:\n",
    "        if 'age' in feat or 'sex' in feat or 'labels' in feat:\n",
    "            updated_df[feat] = df[feat]\n",
    "            continue\n",
    "        morph, brainreg, _ = feat.split('_')\n",
    "        required_cols_from_old_df = ['_'.join([morph,brainreg,'med']),\n",
    "                                     '_'.join([morph,brainreg,'20-80range'])]\n",
    "        med_iqr_df = df[required_cols_from_old_df]\n",
    "        if suffix1 in feat:\n",
    "            updated_df[feat] = suffix1_fc(med_iqr_df.iloc[:, 0], med_iqr_df.iloc[:, 1])\n",
    "        elif suffix2 in feat:\n",
    "            updated_df[feat] = suffix2_fc(med_iqr_df.iloc[:, 0], med_iqr_df.iloc[:, 1])\n",
    "        else:\n",
    "            raise ValueError(\"Updated columns have an undefined problem!\")\n",
    "\n",
    "    return updated_df\n"
   ]
  },
  {
   "cell_type": "code",
   "execution_count": 15,
   "metadata": {},
   "outputs": [],
   "source": [
    "df_aparc_final = modifyMedRange2MedPlusMinusRange(df_aparc_nona)\n",
    "df_aparc_final.head()\n",
    "df_aparc_final.to_csv(\"DrEid_brain_sMRI_lr_TDASD.csv\")"
   ]
  },
  {
   "cell_type": "markdown",
   "metadata": {},
   "source": [
    "## Cleaning a2009s data"
   ]
  },
  {
   "cell_type": "code",
   "execution_count": 1,
   "metadata": {},
   "outputs": [],
   "source": [
    "from joblib import load"
   ]
  },
  {
   "cell_type": "code",
   "execution_count": 2,
   "metadata": {},
   "outputs": [],
   "source": [
    "obj = load('./Results/site_analysis//obj_left_rf_SDSU.joblib')"
   ]
  },
  {
   "cell_type": "code",
   "execution_count": 5,
   "metadata": {},
   "outputs": [
    {
     "data": {
      "text/plain": [
       "46"
      ]
     },
     "execution_count": 5,
     "metadata": {},
     "output_type": "execute_result"
    }
   ],
   "source": [
    "(obj.ranking_==1).sum()"
   ]
  },
  {
   "cell_type": "code",
   "execution_count": 6,
   "metadata": {},
   "outputs": [
    {
     "data": {
      "text/plain": [
       "272"
      ]
     },
     "execution_count": 6,
     "metadata": {},
     "output_type": "execute_result"
    }
   ],
   "source": [
    "len(obj.ranking_)"
   ]
  },
  {
   "cell_type": "code",
   "execution_count": 8,
   "metadata": {},
   "outputs": [
    {
     "data": {
      "text/plain": [
       "0.6583333333333333"
      ]
     },
     "execution_count": 8,
     "metadata": {},
     "output_type": "execute_result"
    }
   ],
   "source": [
    "obj.grid_scores_.max()"
   ]
  },
  {
   "cell_type": "code",
   "execution_count": null,
   "metadata": {},
   "outputs": [],
   "source": []
  }
 ],
 "metadata": {
  "kernelspec": {
   "display_name": "Python 3",
   "language": "python",
   "name": "python3"
  },
  "language_info": {
   "codemirror_mode": {
    "name": "ipython",
    "version": 3
   },
   "file_extension": ".py",
   "mimetype": "text/x-python",
   "name": "python",
   "nbconvert_exporter": "python",
   "pygments_lexer": "ipython3",
   "version": "3.7.4"
  }
 },
 "nbformat": 4,
 "nbformat_minor": 4
}
