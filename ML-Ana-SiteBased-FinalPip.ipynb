{
 "cells": [
  {
   "cell_type": "code",
   "execution_count": 3,
   "metadata": {},
   "outputs": [],
   "source": [
    "import pandas as pd\n",
    "import numpy as np\n",
    "from matplotlib import pyplot as plt\n",
    "import seaborn as sns\n",
    "from joblib import load\n",
    "import os"
   ]
  },
  {
   "cell_type": "code",
   "execution_count": 11,
   "metadata": {},
   "outputs": [
    {
     "data": {
      "text/plain": [
       "['fullbrain_corr.csv', 'leftbrain_corr.csv', 'rightbrain_corr.csv']"
      ]
     },
     "execution_count": 11,
     "metadata": {},
     "output_type": "execute_result"
    }
   ],
   "source": [
    "# Define data structure\n",
    "FS_main_dir = './Final_Results_sites/FS'\n",
    "INI_main_dir = './Final_Results_sites/INITIAL_SPLIT/'\n",
    "CORR_main_dir = './Final_Results_sites/CORR_ANA/'\n",
    "ML_main_dir = './Final_Results_sites/ML/'\n",
    "\n",
    "# Sites names\n",
    "sites = ['CMU','Leuven','MaxMun']\n",
    "os.listdir(os.path.join(CORR_main_dir,'CMU'))"
   ]
  },
  {
   "cell_type": "code",
   "execution_count": 10,
   "metadata": {},
   "outputs": [
    {
     "data": {
      "text/plain": [
       "((7, 545), (7, 273), (7, 273))"
      ]
     },
     "execution_count": 10,
     "metadata": {},
     "output_type": "execute_result"
    }
   ],
   "source": [
    "\"\"\"\n",
    "1. Load testing set for CMU\n",
    "\"\"\"\n",
    "df_test = pd.read_csv(os.path.join(INI_main_dir, 'CMU','fullbrain_test.csv'), index_col=0)\n",
    "test_l_cols = [c for c in df_test.columns.drop('labels') if c.split('_')[1][0]=='l']+['labels']\n",
    "test_r_cols = [c for c in df_test.columns.drop('labels') if c.split('_')[1][0]=='r']+['labels']\n",
    "df_test_left = df_test[test_l_cols]\n",
    "df_test_right = df_test[test_r_cols]\n",
    "df_test.shape, df_test_left.shape, df_test_right.shape"
   ]
  },
  {
   "cell_type": "code",
   "execution_count": 13,
   "metadata": {},
   "outputs": [],
   "source": [
    "\"\"\"\n",
    "2. Load CORR data\n",
    "\"\"\"\n",
    "dftrain_corr = pd.read_csv(os.path.join(CORR_main_dir, 'CMU','fullbrain_corr.csv'), index_col=0)\n",
    "dftrain_corr_l = pd.read_csv(os.path.join(CORR_main_dir, 'CMU','leftbrain_corr.csv'), index_col=0)\n",
    "dftrain_corr_r = pd.read_csv(os.path.join(CORR_main_dir, 'CMU','rightbrain_corr.csv'), index_col=0)\n"
   ]
  },
  {
   "cell_type": "code",
   "execution_count": 32,
   "metadata": {},
   "outputs": [],
   "source": [
    "\"\"\"\n",
    "3. Load FS objects\n",
    "\"\"\"\n",
    "list_of_FS_files = [os.path.join(FS_main_dir,'CMU','minmaxreg', x) for x in os.listdir(os.path.join(FS_main_dir,'CMU','minmaxreg')) ]\n",
    "\n",
    "noneed_files = [x.split('\\\\')[-1] for x in list_of_FS_files if 'noneed' in x]\n",
    "noneed_types = ['_'.join([x.split('_')[1], x.split('_')[2]]) if len(x.split('_')[2])==1 else x.split('_')[1]\n",
    "               for x in noneed_files]\n",
    "\n",
    "noneed_files, noneed_types = noneed_files, list(set(noneed_types))\n",
    "\n",
    "fs_clc_lst = ['lg1', 'lg2', '_rf', 'svm']\n",
    "\n",
    "load_files = [x for x in list_of_FS_files if ('_rf' in x) and ('noneed' not in x) and ('rfetrain' in x)]\n",
    "rfefile = load(load_files[0])"
   ]
  },
  {
   "cell_type": "code",
   "execution_count": null,
   "metadata": {},
   "outputs": [
    {
     "data": {
      "text/plain": [
       "[<matplotlib.lines.Line2D at 0x1c2e2204148>]"
      ]
     },
     "execution_count": 33,
     "metadata": {},
     "output_type": "execute_result"
    }
   ],
   "source": [
    "plt.plot(range(1, len(rfefile.grid_scores_)+1), rfefile.grid_scores_)"
   ]
  },
  {
   "cell_type": "code",
   "execution_count": null,
   "metadata": {},
   "outputs": [],
   "source": []
  }
 ],
 "metadata": {
  "kernelspec": {
   "display_name": "untitled",
   "language": "python",
   "name": "untitled"
  },
  "language_info": {
   "codemirror_mode": {
    "name": "ipython",
    "version": 3
   },
   "file_extension": ".py",
   "mimetype": "text/x-python",
   "name": "python",
   "nbconvert_exporter": "python",
   "pygments_lexer": "ipython3",
   "version": "3.7.5"
  }
 },
 "nbformat": 4,
 "nbformat_minor": 4
}
