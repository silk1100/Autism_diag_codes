{
 "cells": [
  {
   "cell_type": "code",
   "execution_count": 121,
   "metadata": {},
   "outputs": [],
   "source": [
    "import numpy as np\n",
    "from joblib import load\n",
    "import pandas as pd\n",
    "import os\n",
    "import matplotlib.pyplot as plt\n",
    "import seaborn as sns\n",
    "from sklearn.preprocessing import MinMaxScaler\n",
    "from sklearn.metrics import classification_report"
   ]
  },
  {
   "cell_type": "code",
   "execution_count": 122,
   "metadata": {},
   "outputs": [],
   "source": [
    "class MyMinMax:\n",
    "    def __init__(self, axis):\n",
    "        self.sc = MinMaxScaler()\n",
    "        self.axis = axis\n",
    "\n",
    "    def fit(self, X):\n",
    "        if self.axis==1:\n",
    "            self.sc = self.sc.fit(X.transpose())\n",
    "        elif self.axis==0:\n",
    "            self.sc = self.sc.fit(X)\n",
    "        return self.sc\n",
    "\n",
    "    def transform(self, X):\n",
    "        if self.axis==1:\n",
    "            Xn = self.sc.transform(X.transpose()).transpose()\n",
    "        elif self.axis==0:\n",
    "            Xn = self.sc.transform(X)\n",
    "        return Xn\n",
    "\n",
    "    def fit_transform(self, X):\n",
    "        if self.axis==1:\n",
    "            self.sc = self.sc.fit(X.transpose())\n",
    "            Xn = self.sc.transform(X.transpose()).transpose()\n",
    "        elif self.axis==0:\n",
    "            self.sc = self.sc.fit(X)\n",
    "            Xn = self.sc.transform(X)\n",
    "        return Xn"
   ]
  },
  {
   "cell_type": "code",
   "execution_count": 136,
   "metadata": {},
   "outputs": [
    {
     "name": "stdout",
     "output_type": "stream",
     "text": [
      "(67, 545)\n",
      "0    36\n",
      "1    31\n",
      "Name: labels, dtype: int64\n"
     ]
    }
   ],
   "source": [
    "sc_train = load('./Final_Results/FS/sc_train_regminmax.joblib')\n",
    "sc_train_corr = load('./Final_Results/FS/sc_train_corr_regminmax.joblib')\n",
    "sc_train_corr_l = load('./Final_Results/FS/sc_train_corr_l_regminmax.joblib')\n",
    "sc_train_corr_r = load('./Final_Results/FS/sc_train_corr_r_regminmax.joblib')\n",
    "\n",
    "df_corr = pd.read_csv('./Final_Results/CORR_ANA/fullbrain_corr.csv', index_col=0)\n",
    "df_corr_l = pd.read_csv('./Final_Results/CORR_ANA/leftbrain_corr.csv', index_col=0)\n",
    "df_corr_r = pd.read_csv('./Final_Results/CORR_ANA/rightbrain_corr.csv', index_col=0)\n",
    "\n",
    "\n",
    "# Load test dataset\n",
    "df_test = pd.read_csv('./Final_Results/INITIAL_SPLIT/test_fullbrain.csv', index_col=0)\n",
    "df_test_corr = df_test.loc[:, df_corr.columns]\n",
    "df_test_corr_l = df_test.loc[:, df_corr_l.columns]\n",
    "df_test_corr_r = df_test.loc[:, df_corr_r.columns]\n",
    "\n",
    "print(df_test.shape)\n",
    "print(df_test['labels'].value_counts())\n",
    "\n",
    "XN = sc_train.transform(df_test.drop('labels', axis=1))\n",
    "XN_corr = sc_train_corr.transform(df_test_corr.drop('labels', axis=1))\n",
    "XN_corr_l = sc_train_corr_l.transform(df_test_corr_l.drop('labels', axis=1))\n",
    "XN_corr_r = sc_train_corr_r.transform(df_test_corr_r.drop('labels', axis=1))\n",
    "\n"
   ]
  },
  {
   "cell_type": "markdown",
   "metadata": {},
   "source": [
    "## Goal of this notebook:\n",
    "For each normalization method:<br>\n",
    "$\\;\\;\\;\\;\\;$ For each RFE classifier core:<br>\n",
    "$\\;\\;\\;\\;\\;$ $\\;\\;\\;\\;\\;$ For each data matrix (corr; uncorr; ucorrleft; ucorrright):<br>\n",
    "$\\;\\;\\;\\;\\;$ $\\;\\;\\;\\;\\;$ $\\;\\;\\;\\;\\;$ 1. Find the classifier with highest performance <br>\n",
    "$\\;\\;\\;\\;\\;$ $\\;\\;\\;\\;\\;$ $\\;\\;\\;\\;\\;$ 2. Use this classifier to train on all the training set<br>\n",
    "$\\;\\;\\;\\;\\;$ $\\;\\;\\;\\;\\;$ $\\;\\;\\;\\;\\;$ 3. Measure the performance on the testing set<br><br>\n",
    "\n",
    "Measure the performance in the testing set:\n",
    "1. Load the testing set\n",
    "2. Get the normalization object corresponding to the current normalization method\n",
    "3. Normalize the testing set using the normalization object of the training set\n",
    "4. Load the rfe+(RFE classifier core)\n",
    "5. Get the selected features used for learning the best ML model\n",
    "6. Select those features out of the normalized testing set\n",
    "7. Predict the labels of the output matrix from step 6\n",
    "\n"
   ]
  },
  {
   "cell_type": "markdown",
   "metadata": {},
   "source": [
    "### Logistic regression l1-norm"
   ]
  },
  {
   "cell_type": "code",
   "execution_count": 124,
   "metadata": {},
   "outputs": [],
   "source": [
    "clf = load('./Final_Results/ML/minmaxreg/clf_lg1_train.joblib')\n",
    "clf_corr = load('./Final_Results/ML/minmaxreg/clf_lg1_train_corr.joblib')\n",
    "clf_corr_l = load('./Final_Results/ML/minmaxreg/clf_lg1_train_corr_l.joblib')\n",
    "clf_corr_r = load('./Final_Results/ML/minmaxreg/clf_lg1_train_corr_r.joblib')"
   ]
  },
  {
   "cell_type": "code",
   "execution_count": 125,
   "metadata": {},
   "outputs": [
    {
     "name": "stdout",
     "output_type": "stream",
     "text": [
      "clf_lg1_train\n",
      "0.5944350282485876\n",
      "0.6031638418079096\n",
      "0.5961016949152542\n",
      "0.6155367231638418\n",
      "0.5838135593220339\n",
      "0.6042937853107345\n",
      "0.5974576271186441\n",
      "0.6247457627118644\n",
      "0000000000000000000000000000000000000000000\n",
      "clf_lg1_train_corr\n",
      "0.6699717514124294\n",
      "0.6412994350282486\n",
      "0.6648587570621469\n",
      "0.663276836158192\n",
      "0.600677966101695\n",
      "0.6766101694915253\n",
      "0.6380508474576271\n",
      "0.6832485875706215\n",
      "0000000000000000000000000000000000000000000\n",
      "clf_lg1_train_corr_l\n",
      "0.621412429378531\n",
      "0.6178813559322034\n",
      "0.6213559322033897\n",
      "0.6329378531073446\n",
      "0.6075706214689266\n",
      "0.6394915254237288\n",
      "0.6297457627118644\n",
      "0.6396610169491526\n",
      "0000000000000000000000000000000000000000000\n",
      "clf_lg1_train_corr_r\n",
      "0.6315536723163842\n",
      "0.5911864406779661\n",
      "0.6314689265536724\n",
      "0.6165254237288136\n",
      "0.5941807909604521\n",
      "0.6366666666666666\n",
      "0.6363276836158193\n",
      "0.6518361581920904\n"
     ]
    }
   ],
   "source": [
    "print(\"clf_lg1_train\")\n",
    "print(clf['lSVM'].best_score_)\n",
    "print(clf['pagg'].best_score_)\n",
    "print(clf['lg'].best_score_)\n",
    "print(clf['XGB'].best_score_)\n",
    "print(clf['GNB'].best_score_)\n",
    "print(clf['SVC'].best_score_)\n",
    "print(clf['Rf'].best_score_)\n",
    "print(clf['nn'].best_score_)\n",
    "print(\"0000000000000000000000000000000000000000000\")\n",
    "print(\"clf_lg1_train_corr\")\n",
    "print(clf_corr['lSVM'].best_score_)\n",
    "print(clf_corr['pagg'].best_score_)\n",
    "print(clf_corr['lg'].best_score_)\n",
    "print(clf_corr['XGB'].best_score_)\n",
    "print(clf_corr['GNB'].best_score_)\n",
    "print(clf_corr['SVC'].best_score_)\n",
    "print(clf_corr['Rf'].best_score_)\n",
    "print(clf_corr['nn'].best_score_)\n",
    "print(\"0000000000000000000000000000000000000000000\")\n",
    "print(\"clf_lg1_train_corr_l\")\n",
    "print(clf_corr_l['lSVM'].best_score_)\n",
    "print(clf_corr_l['pagg'].best_score_)\n",
    "print(clf_corr_l['lg'].best_score_)\n",
    "print(clf_corr_l['XGB'].best_score_)\n",
    "print(clf_corr_l['GNB'].best_score_)\n",
    "print(clf_corr_l['SVC'].best_score_)\n",
    "print(clf_corr_l['Rf'].best_score_)\n",
    "print(clf_corr_l['nn'].best_score_)\n",
    "print(\"0000000000000000000000000000000000000000000\")\n",
    "print(\"clf_lg1_train_corr_r\")\n",
    "print(clf_corr_r['lSVM'].best_score_)\n",
    "print(clf_corr_r['pagg'].best_score_)\n",
    "print(clf_corr_r['lg'].best_score_)\n",
    "print(clf_corr_r['XGB'].best_score_)\n",
    "print(clf_corr_r['GNB'].best_score_)\n",
    "print(clf_corr_r['SVC'].best_score_)\n",
    "print(clf_corr_r['Rf'].best_score_)\n",
    "print(clf_corr_r['nn'].best_score_)"
   ]
  },
  {
   "cell_type": "markdown",
   "metadata": {},
   "source": [
    "Based on the current results, I am going to proceed with \"lg1_train_corr\", classifier XGB"
   ]
  },
  {
   "cell_type": "code",
   "execution_count": 128,
   "metadata": {},
   "outputs": [
    {
     "name": "stdout",
     "output_type": "stream",
     "text": [
      "selected classifier 1: XGB_alldata with accuracy 0.6155367231638418\n",
      "selected classifier 2: nn_alldata with accuracy 0.6247457627118644\n",
      "selected classifier 3: lSVM_corr with accuracy 0.6699717514124294\n",
      "selected classifier 4: lSVM_alldata with accuracy 0.6648587570621469\n",
      "selected classifier 5: SVC_alldata with accuracy 0.663276836158192\n",
      "selected classifier 6: lSVM_corr with accuracy 0.6766101694915253\n",
      "selected classifier 7: lSVM_alldata with accuracy 0.6380508474576271\n",
      "selected classifier 8: SVC_alldata with accuracy 0.6832485875706215\n",
      "selected classifier 9: lSVM_alldata with accuracy 0.6394915254237288\n",
      "selected classifier 10: SVC_alldata with accuracy 0.6396610169491526\n",
      "selected classifier 11: lSVM_corr with accuracy 0.6315536723163842\n",
      "selected classifier 12: lSVM_alldata with accuracy 0.6314689265536724\n",
      "selected classifier 13: SVC_alldata with accuracy 0.6366666666666666\n",
      "selected classifier 14: lSVM_corr with accuracy 0.6363276836158193\n",
      "selected classifier 15: lSVM_alldata with accuracy 0.6518361581920904\n"
     ]
    }
   ],
   "source": [
    "selected_clc1 = clf['XGB'].best_estimator_\n",
    "selected_clc2 = clf['nn'].best_estimator_\n",
    "\n",
    "selected_clc3 = clf_corr['lSVM'].best_estimator_\n",
    "selected_clc4 = clf_corr['lg'].best_estimator_\n",
    "selected_clc5 = clf_corr['XGB'].best_estimator_\n",
    "selected_clc6 = clf_corr['SVC'].best_estimator_\n",
    "selected_clc7 = clf_corr['Rf'].best_estimator_\n",
    "selected_clc8 = clf_corr['nn'].best_estimator_\n",
    "\n",
    "selected_clc9 = clf_corr_l['SVC'].best_estimator_\n",
    "selected_clc10 = clf_corr_l['nn'].best_estimator_\n",
    "\n",
    "selected_clc11 = clf_corr_r['lSVM'].best_estimator_\n",
    "selected_clc12 = clf_corr_r['lg'].best_estimator_\n",
    "selected_clc13 = clf_corr_r['SVC'].best_estimator_\n",
    "selected_clc14 = clf_corr_r['Rf'].best_estimator_\n",
    "selected_clc15 = clf_corr_r['nn'].best_estimator_\n",
    "\n",
    "print(f'selected classifier 1: XGB_alldata with accuracy {clf[\"XGB\"].best_score_}')\n",
    "print(f'selected classifier 2: nn_alldata with accuracy {clf[\"nn\"].best_score_}')\n",
    "\n",
    "print(f'selected classifier 3: lSVM_corr with accuracy {clf_corr[\"lSVM\"].best_score_}')\n",
    "print(f'selected classifier 4: lSVM_alldata with accuracy {clf_corr[\"lg\"].best_score_}')\n",
    "print(f'selected classifier 5: SVC_alldata with accuracy {clf_corr[\"XGB\"].best_score_}')\n",
    "print(f'selected classifier 6: lSVM_corr with accuracy {clf_corr[\"SVC\"].best_score_}')\n",
    "print(f'selected classifier 7: lSVM_alldata with accuracy {clf_corr[\"Rf\"].best_score_}')\n",
    "print(f'selected classifier 8: SVC_alldata with accuracy {clf_corr[\"nn\"].best_score_}')\n",
    "\n",
    "print(f'selected classifier 9: lSVM_alldata with accuracy {clf_corr_l[\"SVC\"].best_score_}')\n",
    "print(f'selected classifier 10: SVC_alldata with accuracy {clf_corr_l[\"nn\"].best_score_}')\n",
    "\n",
    "print(f'selected classifier 11: lSVM_corr with accuracy {clf_corr_r[\"lSVM\"].best_score_}')\n",
    "print(f'selected classifier 12: lSVM_alldata with accuracy {clf_corr_r[\"lg\"].best_score_}')\n",
    "print(f'selected classifier 13: SVC_alldata with accuracy {clf_corr_r[\"SVC\"].best_score_}')\n",
    "print(f'selected classifier 14: lSVM_corr with accuracy {clf_corr_r[\"Rf\"].best_score_}')\n",
    "print(f'selected classifier 15: lSVM_alldata with accuracy {clf_corr_r[\"nn\"].best_score_}')\n"
   ]
  },
  {
   "cell_type": "code",
   "execution_count": 155,
   "metadata": {},
   "outputs": [],
   "source": [
    "# Load the corresponding rfe object\n",
    "#clc1 & 2\n",
    "selected_rfe12 = load('./Final_Results/FS/Regular_minMaxNorm/rfetrain_lg1.joblib')\n",
    "Xtest12 = XN[:, np.where(selected_rfe12.support_)[0]]\n",
    "\n",
    "# clc3-8\n",
    "selected_rfe38 = load('./Final_Results/FS/Regular_minMaxNorm/rfetrain_corr_lg1.joblib')\n",
    "Xtest38 = XN_corr[:, np.where(selected_rfe38.support_)[0]]\n",
    "\n",
    "#clc9-10\n",
    "selected_rfe910 = load('./Final_Results/FS/Regular_minMaxNorm/rfetrain_corr_l_lg1.joblib')\n",
    "Xtest910 = XN_corr_l[:, np.where(selected_rfe910.support_)[0]]\n",
    "\n",
    "#clc11-15\n",
    "selected_rfe1115 = load('./Final_Results/FS/Regular_minMaxNorm/rfetrain_corr_r_lg1.joblib')\n",
    "Xtest1115 = XN_corr_r[:, np.where(selected_rfe1115.support_)[0]]"
   ]
  },
  {
   "cell_type": "code",
   "execution_count": 156,
   "metadata": {},
   "outputs": [
    {
     "data": {
      "text/plain": [
       "((597, 2), (597,))"
      ]
     },
     "execution_count": 156,
     "metadata": {},
     "output_type": "execute_result"
    }
   ],
   "source": [
    "# Load training dataset to train the current model using all training set\n",
    "Xtrain = np.load('./Final_Results/FS/Regular_minMaxNorm/Xtrain_lg1.npy')\n",
    "Xtrain_corr = np.load('./Final_Results/FS/Regular_minMaxNorm/Xtrain_corr_lg1.npy')\n",
    "Xtrain_corr_l = np.load('./Final_Results/FS/Regular_minMaxNorm/Xtrain_corr_l_lg1.npy')\n",
    "Xtrain_corr_r = np.load('./Final_Results/FS/Regular_minMaxNorm/Xtrain_corr_r_lg1.npy')\n",
    "\n",
    "ytrain = np.load('./Final_Results/FS/Regular_minMaxNorm/ytrain_corr.npy')\n",
    "Xtrain.shape, ytrain.shape"
   ]
  },
  {
   "cell_type": "code",
   "execution_count": 157,
   "metadata": {},
   "outputs": [
    {
     "name": "stdout",
     "output_type": "stream",
     "text": [
      "              precision    recall  f1-score   support\n",
      "\n",
      "           0       0.51      0.56      0.53        36\n",
      "           1       0.43      0.39      0.41        31\n",
      "\n",
      "    accuracy                           0.48        67\n",
      "   macro avg       0.47      0.47      0.47        67\n",
      "weighted avg       0.47      0.48      0.47        67\n",
      "\n"
     ]
    }
   ],
   "source": [
    "# clc1\n",
    "print(classification_report(df_test['labels'].values, selected_clc1.predict(Xtest12)))"
   ]
  },
  {
   "cell_type": "code",
   "execution_count": 158,
   "metadata": {},
   "outputs": [
    {
     "name": "stdout",
     "output_type": "stream",
     "text": [
      "              precision    recall  f1-score   support\n",
      "\n",
      "           0       0.61      0.61      0.61        36\n",
      "           1       0.55      0.55      0.55        31\n",
      "\n",
      "    accuracy                           0.58        67\n",
      "   macro avg       0.58      0.58      0.58        67\n",
      "weighted avg       0.58      0.58      0.58        67\n",
      "\n"
     ]
    }
   ],
   "source": [
    "# clc2\n",
    "print(classification_report(df_test['labels'].values, selected_clc2.predict(Xtest12)))"
   ]
  },
  {
   "cell_type": "code",
   "execution_count": 159,
   "metadata": {},
   "outputs": [
    {
     "name": "stdout",
     "output_type": "stream",
     "text": [
      "              precision    recall  f1-score   support\n",
      "\n",
      "           0       0.54      0.53      0.54        36\n",
      "           1       0.47      0.48      0.48        31\n",
      "\n",
      "    accuracy                           0.51        67\n",
      "   macro avg       0.51      0.51      0.51        67\n",
      "weighted avg       0.51      0.51      0.51        67\n",
      "\n"
     ]
    }
   ],
   "source": [
    "# clc3\n",
    "print(classification_report(df_test['labels'].values, selected_clc3.predict(Xtest38)))"
   ]
  },
  {
   "cell_type": "code",
   "execution_count": 160,
   "metadata": {},
   "outputs": [
    {
     "name": "stdout",
     "output_type": "stream",
     "text": [
      "              precision    recall  f1-score   support\n",
      "\n",
      "           0       0.58      0.53      0.55        36\n",
      "           1       0.50      0.55      0.52        31\n",
      "\n",
      "    accuracy                           0.54        67\n",
      "   macro avg       0.54      0.54      0.54        67\n",
      "weighted avg       0.54      0.54      0.54        67\n",
      "\n"
     ]
    }
   ],
   "source": [
    "# clc4\n",
    "print(classification_report(df_test['labels'].values, selected_clc4.predict(Xtest38)))"
   ]
  },
  {
   "cell_type": "code",
   "execution_count": 161,
   "metadata": {},
   "outputs": [
    {
     "name": "stdout",
     "output_type": "stream",
     "text": [
      "              precision    recall  f1-score   support\n",
      "\n",
      "           0       0.53      0.53      0.53        36\n",
      "           1       0.45      0.45      0.45        31\n",
      "\n",
      "    accuracy                           0.49        67\n",
      "   macro avg       0.49      0.49      0.49        67\n",
      "weighted avg       0.49      0.49      0.49        67\n",
      "\n"
     ]
    }
   ],
   "source": [
    "# clc5\n",
    "print(classification_report(df_test['labels'].values, selected_clc5.predict(Xtest38)))"
   ]
  },
  {
   "cell_type": "code",
   "execution_count": 162,
   "metadata": {},
   "outputs": [
    {
     "name": "stdout",
     "output_type": "stream",
     "text": [
      "              precision    recall  f1-score   support\n",
      "\n",
      "           0       0.56      0.53      0.54        36\n",
      "           1       0.48      0.52      0.50        31\n",
      "\n",
      "    accuracy                           0.52        67\n",
      "   macro avg       0.52      0.52      0.52        67\n",
      "weighted avg       0.52      0.52      0.52        67\n",
      "\n"
     ]
    }
   ],
   "source": [
    "# clc6\n",
    "print(classification_report(df_test['labels'].values, selected_clc6.predict(Xtest38)))"
   ]
  },
  {
   "cell_type": "code",
   "execution_count": 163,
   "metadata": {},
   "outputs": [
    {
     "name": "stdout",
     "output_type": "stream",
     "text": [
      "              precision    recall  f1-score   support\n",
      "\n",
      "           0       0.59      0.61      0.60        36\n",
      "           1       0.53      0.52      0.52        31\n",
      "\n",
      "    accuracy                           0.57        67\n",
      "   macro avg       0.56      0.56      0.56        67\n",
      "weighted avg       0.57      0.57      0.57        67\n",
      "\n"
     ]
    }
   ],
   "source": [
    "# clc7\n",
    "print(classification_report(df_test['labels'].values, selected_clc7.predict(Xtest38)))"
   ]
  },
  {
   "cell_type": "code",
   "execution_count": 164,
   "metadata": {},
   "outputs": [
    {
     "name": "stdout",
     "output_type": "stream",
     "text": [
      "              precision    recall  f1-score   support\n",
      "\n",
      "           0       0.56      0.53      0.54        36\n",
      "           1       0.48      0.52      0.50        31\n",
      "\n",
      "    accuracy                           0.52        67\n",
      "   macro avg       0.52      0.52      0.52        67\n",
      "weighted avg       0.52      0.52      0.52        67\n",
      "\n"
     ]
    }
   ],
   "source": [
    "# clc8\n",
    "print(classification_report(df_test['labels'].values, selected_clc8.predict(Xtest38)))"
   ]
  },
  {
   "cell_type": "code",
   "execution_count": 165,
   "metadata": {},
   "outputs": [
    {
     "name": "stdout",
     "output_type": "stream",
     "text": [
      "              precision    recall  f1-score   support\n",
      "\n",
      "           0       0.64      0.69      0.67        36\n",
      "           1       0.61      0.55      0.58        31\n",
      "\n",
      "    accuracy                           0.63        67\n",
      "   macro avg       0.62      0.62      0.62        67\n",
      "weighted avg       0.63      0.63      0.62        67\n",
      "\n"
     ]
    }
   ],
   "source": [
    "# clc9\n",
    "print(classification_report(df_test['labels'].values, selected_clc9.predict(Xtest910)))"
   ]
  },
  {
   "cell_type": "code",
   "execution_count": 166,
   "metadata": {},
   "outputs": [
    {
     "name": "stdout",
     "output_type": "stream",
     "text": [
      "              precision    recall  f1-score   support\n",
      "\n",
      "           0       0.60      0.72      0.66        36\n",
      "           1       0.58      0.45      0.51        31\n",
      "\n",
      "    accuracy                           0.60        67\n",
      "   macro avg       0.59      0.59      0.58        67\n",
      "weighted avg       0.59      0.60      0.59        67\n",
      "\n"
     ]
    }
   ],
   "source": [
    "# clc10\n",
    "print(classification_report(df_test['labels'].values, selected_clc10.predict(Xtest910)))"
   ]
  },
  {
   "cell_type": "code",
   "execution_count": 167,
   "metadata": {},
   "outputs": [
    {
     "name": "stdout",
     "output_type": "stream",
     "text": [
      "              precision    recall  f1-score   support\n",
      "\n",
      "           0       0.63      0.61      0.62        36\n",
      "           1       0.56      0.58      0.57        31\n",
      "\n",
      "    accuracy                           0.60        67\n",
      "   macro avg       0.60      0.60      0.60        67\n",
      "weighted avg       0.60      0.60      0.60        67\n",
      "\n"
     ]
    }
   ],
   "source": [
    "# clc11\n",
    "print(classification_report(df_test['labels'].values, selected_clc11.predict(Xtest1115)))"
   ]
  },
  {
   "cell_type": "code",
   "execution_count": 168,
   "metadata": {},
   "outputs": [
    {
     "name": "stdout",
     "output_type": "stream",
     "text": [
      "              precision    recall  f1-score   support\n",
      "\n",
      "           0       0.62      0.58      0.60        36\n",
      "           1       0.55      0.58      0.56        31\n",
      "\n",
      "    accuracy                           0.58        67\n",
      "   macro avg       0.58      0.58      0.58        67\n",
      "weighted avg       0.58      0.58      0.58        67\n",
      "\n"
     ]
    }
   ],
   "source": [
    "# clc12\n",
    "print(classification_report(df_test['labels'].values, selected_clc12.predict(Xtest1115)))"
   ]
  },
  {
   "cell_type": "code",
   "execution_count": 169,
   "metadata": {},
   "outputs": [
    {
     "name": "stdout",
     "output_type": "stream",
     "text": [
      "              precision    recall  f1-score   support\n",
      "\n",
      "           0       0.59      0.47      0.52        36\n",
      "           1       0.50      0.61      0.55        31\n",
      "\n",
      "    accuracy                           0.54        67\n",
      "   macro avg       0.54      0.54      0.54        67\n",
      "weighted avg       0.55      0.54      0.54        67\n",
      "\n"
     ]
    }
   ],
   "source": [
    "# clc13\n",
    "print(classification_report(df_test['labels'].values, selected_clc13.predict(Xtest1115)))"
   ]
  },
  {
   "cell_type": "code",
   "execution_count": 170,
   "metadata": {},
   "outputs": [
    {
     "name": "stdout",
     "output_type": "stream",
     "text": [
      "              precision    recall  f1-score   support\n",
      "\n",
      "           0       0.64      0.58      0.61        36\n",
      "           1       0.56      0.61      0.58        31\n",
      "\n",
      "    accuracy                           0.60        67\n",
      "   macro avg       0.60      0.60      0.60        67\n",
      "weighted avg       0.60      0.60      0.60        67\n",
      "\n"
     ]
    }
   ],
   "source": [
    "# clc14\n",
    "print(classification_report(df_test['labels'].values, selected_clc14.predict(Xtest1115)))"
   ]
  },
  {
   "cell_type": "code",
   "execution_count": 171,
   "metadata": {},
   "outputs": [
    {
     "name": "stdout",
     "output_type": "stream",
     "text": [
      "              precision    recall  f1-score   support\n",
      "\n",
      "           0       0.61      0.53      0.57        36\n",
      "           1       0.53      0.61      0.57        31\n",
      "\n",
      "    accuracy                           0.57        67\n",
      "   macro avg       0.57      0.57      0.57        67\n",
      "weighted avg       0.57      0.57      0.57        67\n",
      "\n"
     ]
    }
   ],
   "source": [
    "# clc15\n",
    "print(classification_report(df_test['labels'].values, selected_clc15.predict(Xtest1115)))"
   ]
  },
  {
   "cell_type": "markdown",
   "metadata": {},
   "source": [
    "### Logistic regression l2-norm"
   ]
  },
  {
   "cell_type": "code",
   "execution_count": 189,
   "metadata": {},
   "outputs": [],
   "source": [
    "clf = load('./Final_Results/ML/minmaxreg//clf_lg2_train.joblib')\n",
    "clf_corr = load('./Final_Results/ML/minmaxreg/clf_lg2_train_corr.joblib')\n",
    "clf_corr_l = load('./Final_Results/ML/minmaxreg/clf_lg2_train_corr_l.joblib')\n",
    "clf_corr_r = load('./Final_Results/ML/minmaxreg/clf_lg2_train_corr_r.joblib')"
   ]
  },
  {
   "cell_type": "code",
   "execution_count": 190,
   "metadata": {},
   "outputs": [
    {
     "name": "stdout",
     "output_type": "stream",
     "text": [
      "clf_lg2_train\n",
      "0.6849435028248587\n",
      "0.662909604519774\n",
      "0.6883898305084746\n",
      "0.6834180790960451\n",
      "0.602457627118644\n",
      "0.6900847457627118\n",
      "0.6330508474576272\n",
      "0.6951694915254236\n",
      "0000000000000000000000000000000000000000000\n",
      "clf_lg2_train_corr\n",
      "0.6515536723163842\n",
      "0.6471186440677965\n",
      "0.6515819209039548\n",
      "0.6581638418079095\n",
      "0.604180790960452\n",
      "0.669915254237288\n",
      "0.6177401129943503\n",
      "0.6632768361581921\n",
      "0000000000000000000000000000000000000000000\n",
      "clf_lg2_train_corr_l\n",
      "0.6429661016949153\n",
      "0.6079661016949153\n",
      "0.6346610169491524\n",
      "0.6416101694915254\n",
      "0.6039830508474576\n",
      "0.6733050847457627\n",
      "0.6194915254237288\n",
      "0.6515819209039547\n",
      "0000000000000000000000000000000000000000000\n",
      "clf_lg2_train_corr_r\n",
      "0.6282485875706214\n",
      "0.5931920903954803\n",
      "0.6332485875706215\n",
      "0.6181920903954803\n",
      "0.5838418079096044\n",
      "0.64\n",
      "0.6346610169491524\n",
      "0.6448870056497176\n"
     ]
    }
   ],
   "source": [
    "print(\"clf_lg2_train\")\n",
    "print(clf['lSVM'].best_score_)\n",
    "print(clf['pagg'].best_score_)\n",
    "print(clf['lg'].best_score_)\n",
    "print(clf['XGB'].best_score_)\n",
    "print(clf['GNB'].best_score_)\n",
    "print(clf['SVC'].best_score_)\n",
    "print(clf['Rf'].best_score_)\n",
    "print(clf['nn'].best_score_)\n",
    "print(\"0000000000000000000000000000000000000000000\")\n",
    "print(\"clf_lg2_train_corr\")\n",
    "print(clf_corr['lSVM'].best_score_)\n",
    "print(clf_corr['pagg'].best_score_)\n",
    "print(clf_corr['lg'].best_score_)\n",
    "print(clf_corr['XGB'].best_score_)\n",
    "print(clf_corr['GNB'].best_score_)\n",
    "print(clf_corr['SVC'].best_score_)\n",
    "print(clf_corr['Rf'].best_score_)\n",
    "print(clf_corr['nn'].best_score_)\n",
    "print(\"0000000000000000000000000000000000000000000\")\n",
    "print(\"clf_lg2_train_corr_l\")\n",
    "print(clf_corr_l['lSVM'].best_score_)\n",
    "print(clf_corr_l['pagg'].best_score_)\n",
    "print(clf_corr_l['lg'].best_score_)\n",
    "print(clf_corr_l['XGB'].best_score_)\n",
    "print(clf_corr_l['GNB'].best_score_)\n",
    "print(clf_corr_l['SVC'].best_score_)\n",
    "print(clf_corr_l['Rf'].best_score_)\n",
    "print(clf_corr_l['nn'].best_score_)\n",
    "print(\"0000000000000000000000000000000000000000000\")\n",
    "print(\"clf_lg2_train_corr_r\")\n",
    "print(clf_corr_r['lSVM'].best_score_)\n",
    "print(clf_corr_r['pagg'].best_score_)\n",
    "print(clf_corr_r['lg'].best_score_)\n",
    "print(clf_corr_r['XGB'].best_score_)\n",
    "print(clf_corr_r['GNB'].best_score_)\n",
    "print(clf_corr_r['SVC'].best_score_)\n",
    "print(clf_corr_r['Rf'].best_score_)\n",
    "print(clf_corr_r['nn'].best_score_)"
   ]
  },
  {
   "cell_type": "code",
   "execution_count": 191,
   "metadata": {},
   "outputs": [
    {
     "name": "stdout",
     "output_type": "stream",
     "text": [
      "selected classifier 1: lSVM_alldata with accuracy 0.6849435028248587\n",
      "selected classifier 2: lg_alldata with accuracy 0.6883898305084746\n",
      "selected classifier 3: SVC_alldata with accuracy 0.6900847457627118\n",
      "selected classifier 4: nn_alldata with accuracy 0.6951694915254236\n",
      "selected classifier 5: lSVM_corr with accuracy 0.6515536723163842\n",
      "selected classifier 6: lg_corr with accuracy 0.6515819209039548\n",
      "selected classifier 7: XGB_corr with accuracy 0.6581638418079095\n",
      "selected classifier 8: SVC_corr with accuracy 0.669915254237288\n",
      "selected classifier 9: nn_corr with accuracy 0.6632768361581921\n",
      "selected classifier 10: lSVM_corr_l with accuracy 0.6429661016949153\n",
      "selected classifier 11: XGB_corr_l with accuracy 0.6416101694915254\n",
      "selected classifier 12: SVC_corr_l with accuracy 0.6733050847457627\n",
      "selected classifier 13: nn_corr_l with accuracy 0.6515819209039547\n",
      "selected classifier 14: lSVM_corr_r with accuracy 0.6282485875706214\n",
      "selected classifier 15: lg_corr_r with accuracy 0.6332485875706215\n",
      "selected classifier 16: SVC_corr_r with accuracy 0.64\n",
      "selected classifier 17: Rf_corr_r with accuracy 0.6346610169491524\n",
      "selected classifier 18: nn_corr_r with accuracy 0.6448870056497176\n"
     ]
    }
   ],
   "source": [
    "selected_clc1 = clf['lSVM'].best_estimator_\n",
    "selected_clc2 = clf['lg'].best_estimator_\n",
    "selected_clc3 = clf['SVC'].best_estimator_\n",
    "selected_clc4 = clf['nn'].best_estimator_\n",
    "\n",
    "selected_clc5 = clf_corr['lSVM'].best_estimator_\n",
    "selected_clc6 = clf_corr['lg'].best_estimator_\n",
    "selected_clc7 = clf_corr['XGB'].best_estimator_\n",
    "selected_clc8 = clf_corr['SVC'].best_estimator_\n",
    "selected_clc9 = clf_corr['nn'].best_estimator_\n",
    "\n",
    "selected_clc10 = clf_corr_l['lSVM'].best_estimator_\n",
    "selected_clc11 = clf_corr_l['XGB'].best_estimator_\n",
    "selected_clc12 = clf_corr_l['SVC'].best_estimator_\n",
    "selected_clc13 = clf_corr_l['nn'].best_estimator_\n",
    "\n",
    "selected_clc14 = clf_corr_r['lSVM'].best_estimator_\n",
    "selected_clc15 = clf_corr_r['lg'].best_estimator_\n",
    "selected_clc16 = clf_corr_r['SVC'].best_estimator_\n",
    "selected_clc17 = clf_corr_r['Rf'].best_estimator_\n",
    "selected_clc18 = clf_corr_r['nn'].best_estimator_\n",
    "\n",
    "print(f'selected classifier 1: lSVM_alldata with accuracy {clf[\"lSVM\"].best_score_}')\n",
    "print(f'selected classifier 2: lg_alldata with accuracy {clf[\"lg\"].best_score_}')\n",
    "print(f'selected classifier 3: SVC_alldata with accuracy {clf[\"SVC\"].best_score_}')\n",
    "print(f'selected classifier 4: nn_alldata with accuracy {clf[\"nn\"].best_score_}')\n",
    "\n",
    "print(f'selected classifier 5: lSVM_corr with accuracy {clf_corr[\"lSVM\"].best_score_}')\n",
    "print(f'selected classifier 6: lg_corr with accuracy {clf_corr[\"lg\"].best_score_}')\n",
    "print(f'selected classifier 7: XGB_corr with accuracy {clf_corr[\"XGB\"].best_score_}')\n",
    "print(f'selected classifier 8: SVC_corr with accuracy {clf_corr[\"SVC\"].best_score_}')\n",
    "print(f'selected classifier 9: nn_corr with accuracy {clf_corr[\"nn\"].best_score_}')\n",
    "\n",
    "print(f'selected classifier 10: lSVM_corr_l with accuracy {clf_corr_l[\"lSVM\"].best_score_}')\n",
    "print(f'selected classifier 11: XGB_corr_l with accuracy {clf_corr_l[\"XGB\"].best_score_}')\n",
    "print(f'selected classifier 12: SVC_corr_l with accuracy {clf_corr_l[\"SVC\"].best_score_}')\n",
    "print(f'selected classifier 13: nn_corr_l with accuracy {clf_corr_l[\"nn\"].best_score_}')\n",
    "\n",
    "print(f'selected classifier 14: lSVM_corr_r with accuracy {clf_corr_r[\"lSVM\"].best_score_}')\n",
    "print(f'selected classifier 15: lg_corr_r with accuracy {clf_corr_r[\"lg\"].best_score_}')\n",
    "print(f'selected classifier 16: SVC_corr_r with accuracy {clf_corr_r[\"SVC\"].best_score_}')\n",
    "print(f'selected classifier 17: Rf_corr_r with accuracy {clf_corr_r[\"Rf\"].best_score_}')\n",
    "print(f'selected classifier 18: nn_corr_r with accuracy {clf_corr_r[\"nn\"].best_score_}')\n"
   ]
  },
  {
   "cell_type": "code",
   "execution_count": 223,
   "metadata": {},
   "outputs": [],
   "source": [
    "\n",
    "# Load the corresponding rfe object\n",
    "#clc14\n",
    "selected_rfe14 = load('./Final_Results/FS/Regular_minMaxNorm/rfetrain_lg2.joblib')\n",
    "Xtest14 = XN[:, np.where(selected_rfe14.support_)[0]]\n",
    "\n",
    "# clc59\n",
    "selected_rfe59 = load('./Final_Results/FS/Regular_minMaxNorm/rfetrain_corr_lg2.joblib')\n",
    "Xtest59 = XN_corr[:, np.where(selected_rfe59.support_)[0]]\n",
    "\n",
    "# clc1013\n",
    "selected_rfe1013 = load('./Final_Results/FS/Regular_minMaxNorm/rfetrain_corr_l_lg2.joblib')\n",
    "Xtest1013 = XN_corr_l[:, np.where(selected_rfe1013.support_)[0]]\n",
    "\n",
    "# clc1418\n",
    "selected_rfe1418 = load('./Final_Results/FS/Regular_minMaxNorm/rfetrain_corr_r_lg2.joblib')\n",
    "Xtest1418 = XN_corr_r[:, np.where(selected_rfe1418.support_)[0]]"
   ]
  },
  {
   "cell_type": "code",
   "execution_count": 224,
   "metadata": {},
   "outputs": [],
   "source": [
    "# Load training dataset to train the current model using all training set\n",
    "# clc1&2\n",
    "Xtrain14 = np.load('./Final_Results/FS/Regular_minMaxNorm/Xtrain_lg2.npy')\n",
    "\n",
    "# clc3\n",
    "Xtrain59 = np.load('./Final_Results/FS/Regular_minMaxNorm/Xtrain_corr_lg2.npy')\n",
    "\n",
    "\n",
    "# clc4\n",
    "Xtrain1013 = np.load('./Final_Results/FS/Regular_minMaxNorm/Xtrain_corr_l_lg2.npy')\n",
    "\n",
    "# clc5\n",
    "Xtrain1418 = np.load('./Final_Results/FS/Regular_minMaxNorm/Xtrain_corr_r_lg2.npy')\n",
    "\n",
    "\n",
    "ytrain = np.load('./Final_Results/FS/Regular_minMaxNorm/ytrain_corr.npy')\n"
   ]
  },
  {
   "cell_type": "code",
   "execution_count": 225,
   "metadata": {},
   "outputs": [
    {
     "name": "stdout",
     "output_type": "stream",
     "text": [
      "              precision    recall  f1-score   support\n",
      "\n",
      "           0       0.63      0.61      0.62        36\n",
      "           1       0.56      0.58      0.57        31\n",
      "\n",
      "    accuracy                           0.60        67\n",
      "   macro avg       0.60      0.60      0.60        67\n",
      "weighted avg       0.60      0.60      0.60        67\n",
      "\n"
     ]
    }
   ],
   "source": [
    "# clc1\n",
    "print(classification_report(df_test['labels'].values, selected_clc1.predict(Xtest14)))"
   ]
  },
  {
   "cell_type": "code",
   "execution_count": 226,
   "metadata": {},
   "outputs": [
    {
     "name": "stdout",
     "output_type": "stream",
     "text": [
      "              precision    recall  f1-score   support\n",
      "\n",
      "           0       0.59      0.61      0.60        36\n",
      "           1       0.53      0.52      0.52        31\n",
      "\n",
      "    accuracy                           0.57        67\n",
      "   macro avg       0.56      0.56      0.56        67\n",
      "weighted avg       0.57      0.57      0.57        67\n",
      "\n"
     ]
    }
   ],
   "source": [
    "# clc2\n",
    "print(classification_report(df_test['labels'].values, selected_clc2.predict(Xtest14)))"
   ]
  },
  {
   "cell_type": "code",
   "execution_count": 227,
   "metadata": {},
   "outputs": [
    {
     "name": "stdout",
     "output_type": "stream",
     "text": [
      "              precision    recall  f1-score   support\n",
      "\n",
      "           0       0.62      0.64      0.63        36\n",
      "           1       0.57      0.55      0.56        31\n",
      "\n",
      "    accuracy                           0.60        67\n",
      "   macro avg       0.59      0.59      0.59        67\n",
      "weighted avg       0.60      0.60      0.60        67\n",
      "\n"
     ]
    }
   ],
   "source": [
    "# clc3\n",
    "print(classification_report(df_test['labels'].values, selected_clc3.predict(Xtest14)))"
   ]
  },
  {
   "cell_type": "code",
   "execution_count": 228,
   "metadata": {},
   "outputs": [
    {
     "name": "stdout",
     "output_type": "stream",
     "text": [
      "              precision    recall  f1-score   support\n",
      "\n",
      "           0       0.61      0.61      0.61        36\n",
      "           1       0.55      0.55      0.55        31\n",
      "\n",
      "    accuracy                           0.58        67\n",
      "   macro avg       0.58      0.58      0.58        67\n",
      "weighted avg       0.58      0.58      0.58        67\n",
      "\n"
     ]
    }
   ],
   "source": [
    "# clc4\n",
    "print(classification_report(df_test['labels'].values, selected_clc4.predict(Xtest14)))"
   ]
  },
  {
   "cell_type": "code",
   "execution_count": 229,
   "metadata": {},
   "outputs": [
    {
     "name": "stdout",
     "output_type": "stream",
     "text": [
      "              precision    recall  f1-score   support\n",
      "\n",
      "           0       0.60      0.58      0.59        36\n",
      "           1       0.53      0.55      0.54        31\n",
      "\n",
      "    accuracy                           0.57        67\n",
      "   macro avg       0.57      0.57      0.57        67\n",
      "weighted avg       0.57      0.57      0.57        67\n",
      "\n"
     ]
    }
   ],
   "source": [
    "# clc5\n",
    "print(classification_report(df_test['labels'].values, selected_clc5.predict(Xtest59)))"
   ]
  },
  {
   "cell_type": "code",
   "execution_count": 230,
   "metadata": {},
   "outputs": [
    {
     "name": "stdout",
     "output_type": "stream",
     "text": [
      "              precision    recall  f1-score   support\n",
      "\n",
      "           0       0.62      0.58      0.60        36\n",
      "           1       0.55      0.58      0.56        31\n",
      "\n",
      "    accuracy                           0.58        67\n",
      "   macro avg       0.58      0.58      0.58        67\n",
      "weighted avg       0.58      0.58      0.58        67\n",
      "\n"
     ]
    }
   ],
   "source": [
    "# clc6\n",
    "print(classification_report(df_test['labels'].values, selected_clc6.predict(Xtest59)))"
   ]
  },
  {
   "cell_type": "code",
   "execution_count": 231,
   "metadata": {},
   "outputs": [
    {
     "name": "stdout",
     "output_type": "stream",
     "text": [
      "              precision    recall  f1-score   support\n",
      "\n",
      "           0       0.62      0.64      0.63        36\n",
      "           1       0.57      0.55      0.56        31\n",
      "\n",
      "    accuracy                           0.60        67\n",
      "   macro avg       0.59      0.59      0.59        67\n",
      "weighted avg       0.60      0.60      0.60        67\n",
      "\n"
     ]
    }
   ],
   "source": [
    "# clc7\n",
    "print(classification_report(df_test['labels'].values, selected_clc7.predict(Xtest59)))"
   ]
  },
  {
   "cell_type": "code",
   "execution_count": 232,
   "metadata": {},
   "outputs": [
    {
     "name": "stdout",
     "output_type": "stream",
     "text": [
      "              precision    recall  f1-score   support\n",
      "\n",
      "           0       0.61      0.53      0.57        36\n",
      "           1       0.53      0.61      0.57        31\n",
      "\n",
      "    accuracy                           0.57        67\n",
      "   macro avg       0.57      0.57      0.57        67\n",
      "weighted avg       0.57      0.57      0.57        67\n",
      "\n"
     ]
    }
   ],
   "source": [
    "# clc8\n",
    "print(classification_report(df_test['labels'].values, selected_clc8.predict(Xtest59)))"
   ]
  },
  {
   "cell_type": "code",
   "execution_count": 233,
   "metadata": {},
   "outputs": [
    {
     "name": "stdout",
     "output_type": "stream",
     "text": [
      "              precision    recall  f1-score   support\n",
      "\n",
      "           0       0.64      0.64      0.64        36\n",
      "           1       0.58      0.58      0.58        31\n",
      "\n",
      "    accuracy                           0.61        67\n",
      "   macro avg       0.61      0.61      0.61        67\n",
      "weighted avg       0.61      0.61      0.61        67\n",
      "\n"
     ]
    }
   ],
   "source": [
    "# clc9\n",
    "print(classification_report(df_test['labels'].values, selected_clc9.predict(Xtest59)))"
   ]
  },
  {
   "cell_type": "code",
   "execution_count": 234,
   "metadata": {},
   "outputs": [
    {
     "name": "stdout",
     "output_type": "stream",
     "text": [
      "              precision    recall  f1-score   support\n",
      "\n",
      "           0       0.57      0.67      0.62        36\n",
      "           1       0.52      0.42      0.46        31\n",
      "\n",
      "    accuracy                           0.55        67\n",
      "   macro avg       0.55      0.54      0.54        67\n",
      "weighted avg       0.55      0.55      0.55        67\n",
      "\n"
     ]
    }
   ],
   "source": [
    "# clc10\n",
    "print(classification_report(df_test['labels'].values, selected_clc10.predict(Xtest1013)))"
   ]
  },
  {
   "cell_type": "code",
   "execution_count": 235,
   "metadata": {},
   "outputs": [
    {
     "name": "stdout",
     "output_type": "stream",
     "text": [
      "              precision    recall  f1-score   support\n",
      "\n",
      "           0       0.56      0.50      0.53        36\n",
      "           1       0.49      0.55      0.52        31\n",
      "\n",
      "    accuracy                           0.52        67\n",
      "   macro avg       0.52      0.52      0.52        67\n",
      "weighted avg       0.53      0.52      0.52        67\n",
      "\n"
     ]
    }
   ],
   "source": [
    "# clc11\n",
    "print(classification_report(df_test['labels'].values, selected_clc11.predict(Xtest1013)))"
   ]
  },
  {
   "cell_type": "code",
   "execution_count": 236,
   "metadata": {},
   "outputs": [
    {
     "name": "stdout",
     "output_type": "stream",
     "text": [
      "              precision    recall  f1-score   support\n",
      "\n",
      "           0       0.62      0.56      0.59        36\n",
      "           1       0.54      0.61      0.58        31\n",
      "\n",
      "    accuracy                           0.58        67\n",
      "   macro avg       0.58      0.58      0.58        67\n",
      "weighted avg       0.59      0.58      0.58        67\n",
      "\n"
     ]
    }
   ],
   "source": [
    "# clc12\n",
    "print(classification_report(df_test['labels'].values, selected_clc12.predict(Xtest1013)))"
   ]
  },
  {
   "cell_type": "code",
   "execution_count": 237,
   "metadata": {},
   "outputs": [
    {
     "name": "stdout",
     "output_type": "stream",
     "text": [
      "              precision    recall  f1-score   support\n",
      "\n",
      "           0       0.60      0.72      0.66        36\n",
      "           1       0.58      0.45      0.51        31\n",
      "\n",
      "    accuracy                           0.60        67\n",
      "   macro avg       0.59      0.59      0.58        67\n",
      "weighted avg       0.59      0.60      0.59        67\n",
      "\n"
     ]
    }
   ],
   "source": [
    "# clc13\n",
    "print(classification_report(df_test['labels'].values, selected_clc13.predict(Xtest1013)))"
   ]
  },
  {
   "cell_type": "code",
   "execution_count": 206,
   "metadata": {},
   "outputs": [
    {
     "name": "stdout",
     "output_type": "stream",
     "text": [
      "              precision    recall  f1-score   support\n",
      "\n",
      "           0       0.64      0.64      0.64        36\n",
      "           1       0.58      0.58      0.58        31\n",
      "\n",
      "    accuracy                           0.61        67\n",
      "   macro avg       0.61      0.61      0.61        67\n",
      "weighted avg       0.61      0.61      0.61        67\n",
      "\n"
     ]
    }
   ],
   "source": [
    "# clc14\n",
    "print(classification_report(df_test['labels'].values, selected_clc14.predict(Xtest1418)))"
   ]
  },
  {
   "cell_type": "code",
   "execution_count": 207,
   "metadata": {},
   "outputs": [
    {
     "name": "stdout",
     "output_type": "stream",
     "text": [
      "              precision    recall  f1-score   support\n",
      "\n",
      "           0       0.63      0.61      0.62        36\n",
      "           1       0.56      0.58      0.57        31\n",
      "\n",
      "    accuracy                           0.60        67\n",
      "   macro avg       0.60      0.60      0.60        67\n",
      "weighted avg       0.60      0.60      0.60        67\n",
      "\n"
     ]
    }
   ],
   "source": [
    "# clc15\n",
    "print(classification_report(df_test['labels'].values, selected_clc15.predict(Xtest1418)))"
   ]
  },
  {
   "cell_type": "code",
   "execution_count": 208,
   "metadata": {},
   "outputs": [
    {
     "name": "stdout",
     "output_type": "stream",
     "text": [
      "              precision    recall  f1-score   support\n",
      "\n",
      "           0       0.60      0.50      0.55        36\n",
      "           1       0.51      0.61      0.56        31\n",
      "\n",
      "    accuracy                           0.55        67\n",
      "   macro avg       0.56      0.56      0.55        67\n",
      "weighted avg       0.56      0.55      0.55        67\n",
      "\n"
     ]
    }
   ],
   "source": [
    "# clc16\n",
    "print(classification_report(df_test['labels'].values, selected_clc16.predict(Xtest1418)))"
   ]
  },
  {
   "cell_type": "code",
   "execution_count": 209,
   "metadata": {},
   "outputs": [
    {
     "name": "stdout",
     "output_type": "stream",
     "text": [
      "              precision    recall  f1-score   support\n",
      "\n",
      "           0       0.63      0.61      0.62        36\n",
      "           1       0.56      0.58      0.57        31\n",
      "\n",
      "    accuracy                           0.60        67\n",
      "   macro avg       0.60      0.60      0.60        67\n",
      "weighted avg       0.60      0.60      0.60        67\n",
      "\n"
     ]
    }
   ],
   "source": [
    "# clc17\n",
    "print(classification_report(df_test['labels'].values, selected_clc17.predict(Xtest1418)))"
   ]
  },
  {
   "cell_type": "code",
   "execution_count": 210,
   "metadata": {},
   "outputs": [
    {
     "name": "stdout",
     "output_type": "stream",
     "text": [
      "              precision    recall  f1-score   support\n",
      "\n",
      "           0       0.61      0.56      0.58        36\n",
      "           1       0.53      0.58      0.55        31\n",
      "\n",
      "    accuracy                           0.57        67\n",
      "   macro avg       0.57      0.57      0.57        67\n",
      "weighted avg       0.57      0.57      0.57        67\n",
      "\n"
     ]
    }
   ],
   "source": [
    "# clc18\n",
    "print(classification_report(df_test['labels'].values, selected_clc18.predict(Xtest1418)))"
   ]
  },
  {
   "cell_type": "code",
   "execution_count": 238,
   "metadata": {},
   "outputs": [
    {
     "name": "stderr",
     "output_type": "stream",
     "text": [
      "C:\\ProgramData\\Anaconda3\\envs\\untitled\\lib\\site-packages\\sklearn\\linear_model\\_logistic.py:1355: UserWarning: 'n_jobs' > 1 does not have any effect when 'solver' is set to 'liblinear'. Got 'n_jobs' = 12.\n",
      "  \" = {}.\".format(effective_n_jobs(self.n_jobs)))\n",
      "C:\\ProgramData\\Anaconda3\\envs\\untitled\\lib\\site-packages\\sklearn\\linear_model\\_logistic.py:1355: UserWarning: 'n_jobs' > 1 does not have any effect when 'solver' is set to 'liblinear'. Got 'n_jobs' = 12.\n",
      "  \" = {}.\".format(effective_n_jobs(self.n_jobs)))\n"
     ]
    },
    {
     "name": "stdout",
     "output_type": "stream",
     "text": [
      "[16:45:49] WARNING: C:\\Users\\Administrator\\workspace\\xgboost-win64_release_1.1.0\\src\\learner.cc:480: \n",
      "Parameters: { colsample_bytree, gamma, min_child_weight } might not be used.\n",
      "\n",
      "  This may not be accurate due to some parameters are only used in language bindings but\n",
      "  passed down to XGBoost core.  Or some parameters are not used but slip through this\n",
      "  verification. Please open an issue if you find above cases.\n",
      "\n",
      "\n"
     ]
    },
    {
     "name": "stderr",
     "output_type": "stream",
     "text": [
      "C:\\ProgramData\\Anaconda3\\envs\\untitled\\lib\\site-packages\\sklearn\\svm\\_base.py:249: ConvergenceWarning: Solver terminated early (max_iter=1000000).  Consider pre-processing your data with StandardScaler or MinMaxScaler.\n",
      "  % self.max_iter, ConvergenceWarning)\n"
     ]
    }
   ],
   "source": [
    "selected_clc1 = selected_clc1.fit(Xtrain14, ytrain)\n",
    "selected_clc2 = selected_clc2.fit(Xtrain14, ytrain)\n",
    "selected_clc3 = selected_clc3.fit(Xtrain14, ytrain)\n",
    "selected_clc4 = selected_clc4.fit(Xtrain14, ytrain)\n",
    "selected_clc5 = selected_clc5.fit(Xtrain59, ytrain)\n",
    "selected_clc6 = selected_clc6.fit(Xtrain59, ytrain)\n",
    "selected_clc7 = selected_clc7.fit(Xtrain59, ytrain)\n",
    "selected_clc8 = selected_clc8.fit(Xtrain59, ytrain)\n",
    "selected_clc9 = selected_clc9.fit(Xtrain59, ytrain)\n",
    "selected_clc10 = selected_clc10.fit(Xtrain1013, ytrain)\n",
    "selected_clc11 = selected_clc11.fit(Xtrain1013, ytrain)\n",
    "selected_clc12 = selected_clc12.fit(Xtrain1013, ytrain)\n",
    "selected_clc13 = selected_clc13.fit(Xtrain1013, ytrain)\n",
    "selected_clc14 = selected_clc14.fit(Xtrain1418, ytrain)\n",
    "selected_clc15 = selected_clc15.fit(Xtrain1418, ytrain)\n",
    "selected_clc16 = selected_clc16.fit(Xtrain1418, ytrain)"
   ]
  },
  {
   "cell_type": "code",
   "execution_count": 239,
   "metadata": {},
   "outputs": [
    {
     "name": "stdout",
     "output_type": "stream",
     "text": [
      "              precision    recall  f1-score   support\n",
      "\n",
      "           0       0.63      0.61      0.62        36\n",
      "           1       0.56      0.58      0.57        31\n",
      "\n",
      "    accuracy                           0.60        67\n",
      "   macro avg       0.60      0.60      0.60        67\n",
      "weighted avg       0.60      0.60      0.60        67\n",
      "\n"
     ]
    }
   ],
   "source": [
    "# clc1\n",
    "print(classification_report(df_test['labels'].values, selected_clc1.predict(Xtest14)))"
   ]
  },
  {
   "cell_type": "code",
   "execution_count": 240,
   "metadata": {},
   "outputs": [
    {
     "name": "stdout",
     "output_type": "stream",
     "text": [
      "              precision    recall  f1-score   support\n",
      "\n",
      "           0       0.59      0.61      0.60        36\n",
      "           1       0.53      0.52      0.52        31\n",
      "\n",
      "    accuracy                           0.57        67\n",
      "   macro avg       0.56      0.56      0.56        67\n",
      "weighted avg       0.57      0.57      0.57        67\n",
      "\n"
     ]
    }
   ],
   "source": [
    "# clc2\n",
    "print(classification_report(df_test['labels'].values, selected_clc2.predict(Xtest14)))"
   ]
  },
  {
   "cell_type": "code",
   "execution_count": 241,
   "metadata": {},
   "outputs": [
    {
     "name": "stdout",
     "output_type": "stream",
     "text": [
      "              precision    recall  f1-score   support\n",
      "\n",
      "           0       0.59      0.61      0.60        36\n",
      "           1       0.53      0.52      0.52        31\n",
      "\n",
      "    accuracy                           0.57        67\n",
      "   macro avg       0.56      0.56      0.56        67\n",
      "weighted avg       0.57      0.57      0.57        67\n",
      "\n"
     ]
    }
   ],
   "source": [
    "# clc3\n",
    "print(classification_report(df_test['labels'].values, selected_clc2.predict(Xtest14)))"
   ]
  },
  {
   "cell_type": "code",
   "execution_count": 242,
   "metadata": {},
   "outputs": [
    {
     "name": "stdout",
     "output_type": "stream",
     "text": [
      "              precision    recall  f1-score   support\n",
      "\n",
      "           0       0.64      0.64      0.64        36\n",
      "           1       0.58      0.58      0.58        31\n",
      "\n",
      "    accuracy                           0.61        67\n",
      "   macro avg       0.61      0.61      0.61        67\n",
      "weighted avg       0.61      0.61      0.61        67\n",
      "\n"
     ]
    }
   ],
   "source": [
    "# clc4\n",
    "print(classification_report(df_test['labels'].values, selected_clc4.predict(Xtest14)))"
   ]
  },
  {
   "cell_type": "code",
   "execution_count": 243,
   "metadata": {},
   "outputs": [
    {
     "name": "stdout",
     "output_type": "stream",
     "text": [
      "              precision    recall  f1-score   support\n",
      "\n",
      "           0       0.60      0.58      0.59        36\n",
      "           1       0.53      0.55      0.54        31\n",
      "\n",
      "    accuracy                           0.57        67\n",
      "   macro avg       0.57      0.57      0.57        67\n",
      "weighted avg       0.57      0.57      0.57        67\n",
      "\n"
     ]
    }
   ],
   "source": [
    "# clc5\n",
    "print(classification_report(df_test['labels'].values, selected_clc5.predict(Xtest59)))"
   ]
  },
  {
   "cell_type": "code",
   "execution_count": 244,
   "metadata": {},
   "outputs": [
    {
     "name": "stdout",
     "output_type": "stream",
     "text": [
      "              precision    recall  f1-score   support\n",
      "\n",
      "           0       0.62      0.58      0.60        36\n",
      "           1       0.55      0.58      0.56        31\n",
      "\n",
      "    accuracy                           0.58        67\n",
      "   macro avg       0.58      0.58      0.58        67\n",
      "weighted avg       0.58      0.58      0.58        67\n",
      "\n"
     ]
    }
   ],
   "source": [
    "# clc6\n",
    "print(classification_report(df_test['labels'].values, selected_clc6.predict(Xtest59)))"
   ]
  },
  {
   "cell_type": "code",
   "execution_count": 245,
   "metadata": {},
   "outputs": [
    {
     "name": "stdout",
     "output_type": "stream",
     "text": [
      "              precision    recall  f1-score   support\n",
      "\n",
      "           0       0.62      0.64      0.63        36\n",
      "           1       0.57      0.55      0.56        31\n",
      "\n",
      "    accuracy                           0.60        67\n",
      "   macro avg       0.59      0.59      0.59        67\n",
      "weighted avg       0.60      0.60      0.60        67\n",
      "\n"
     ]
    }
   ],
   "source": [
    "# clc7\n",
    "print(classification_report(df_test['labels'].values, selected_clc7.predict(Xtest59)))"
   ]
  },
  {
   "cell_type": "code",
   "execution_count": 246,
   "metadata": {},
   "outputs": [
    {
     "name": "stdout",
     "output_type": "stream",
     "text": [
      "              precision    recall  f1-score   support\n",
      "\n",
      "           0       0.61      0.53      0.57        36\n",
      "           1       0.53      0.61      0.57        31\n",
      "\n",
      "    accuracy                           0.57        67\n",
      "   macro avg       0.57      0.57      0.57        67\n",
      "weighted avg       0.57      0.57      0.57        67\n",
      "\n"
     ]
    }
   ],
   "source": [
    "# clc8\n",
    "print(classification_report(df_test['labels'].values, selected_clc8.predict(Xtest59)))"
   ]
  },
  {
   "cell_type": "code",
   "execution_count": 247,
   "metadata": {},
   "outputs": [
    {
     "name": "stdout",
     "output_type": "stream",
     "text": [
      "              precision    recall  f1-score   support\n",
      "\n",
      "           0       0.61      0.64      0.62        36\n",
      "           1       0.55      0.52      0.53        31\n",
      "\n",
      "    accuracy                           0.58        67\n",
      "   macro avg       0.58      0.58      0.58        67\n",
      "weighted avg       0.58      0.58      0.58        67\n",
      "\n"
     ]
    }
   ],
   "source": [
    "# clc9\n",
    "print(classification_report(df_test['labels'].values, selected_clc9.predict(Xtest59)))"
   ]
  },
  {
   "cell_type": "code",
   "execution_count": 248,
   "metadata": {},
   "outputs": [
    {
     "name": "stdout",
     "output_type": "stream",
     "text": [
      "              precision    recall  f1-score   support\n",
      "\n",
      "           0       0.57      0.67      0.62        36\n",
      "           1       0.52      0.42      0.46        31\n",
      "\n",
      "    accuracy                           0.55        67\n",
      "   macro avg       0.55      0.54      0.54        67\n",
      "weighted avg       0.55      0.55      0.55        67\n",
      "\n"
     ]
    }
   ],
   "source": [
    "# clc10\n",
    "print(classification_report(df_test['labels'].values, selected_clc10.predict(Xtest1013)))"
   ]
  },
  {
   "cell_type": "code",
   "execution_count": 249,
   "metadata": {},
   "outputs": [
    {
     "name": "stdout",
     "output_type": "stream",
     "text": [
      "              precision    recall  f1-score   support\n",
      "\n",
      "           0       0.56      0.50      0.53        36\n",
      "           1       0.49      0.55      0.52        31\n",
      "\n",
      "    accuracy                           0.52        67\n",
      "   macro avg       0.52      0.52      0.52        67\n",
      "weighted avg       0.53      0.52      0.52        67\n",
      "\n"
     ]
    }
   ],
   "source": [
    "# clc11\n",
    "print(classification_report(df_test['labels'].values, selected_clc11.predict(Xtest1013)))"
   ]
  },
  {
   "cell_type": "code",
   "execution_count": 250,
   "metadata": {},
   "outputs": [
    {
     "name": "stdout",
     "output_type": "stream",
     "text": [
      "              precision    recall  f1-score   support\n",
      "\n",
      "           0       0.62      0.56      0.59        36\n",
      "           1       0.54      0.61      0.58        31\n",
      "\n",
      "    accuracy                           0.58        67\n",
      "   macro avg       0.58      0.58      0.58        67\n",
      "weighted avg       0.59      0.58      0.58        67\n",
      "\n"
     ]
    }
   ],
   "source": [
    "# clc12\n",
    "print(classification_report(df_test['labels'].values, selected_clc12.predict(Xtest1013)))"
   ]
  },
  {
   "cell_type": "code",
   "execution_count": 251,
   "metadata": {},
   "outputs": [
    {
     "name": "stdout",
     "output_type": "stream",
     "text": [
      "              precision    recall  f1-score   support\n",
      "\n",
      "           0       0.60      0.75      0.67        36\n",
      "           1       0.59      0.42      0.49        31\n",
      "\n",
      "    accuracy                           0.60        67\n",
      "   macro avg       0.60      0.58      0.58        67\n",
      "weighted avg       0.60      0.60      0.59        67\n",
      "\n"
     ]
    }
   ],
   "source": [
    "# clc13\n",
    "print(classification_report(df_test['labels'].values, selected_clc13.predict(Xtest1013)))"
   ]
  },
  {
   "cell_type": "code",
   "execution_count": 253,
   "metadata": {},
   "outputs": [
    {
     "name": "stdout",
     "output_type": "stream",
     "text": [
      "              precision    recall  f1-score   support\n",
      "\n",
      "           0       0.64      0.64      0.64        36\n",
      "           1       0.58      0.58      0.58        31\n",
      "\n",
      "    accuracy                           0.61        67\n",
      "   macro avg       0.61      0.61      0.61        67\n",
      "weighted avg       0.61      0.61      0.61        67\n",
      "\n"
     ]
    }
   ],
   "source": [
    "# clc14\n",
    "print(classification_report(df_test['labels'].values, selected_clc14.predict(Xtest1418)))"
   ]
  },
  {
   "cell_type": "code",
   "execution_count": 254,
   "metadata": {},
   "outputs": [
    {
     "name": "stdout",
     "output_type": "stream",
     "text": [
      "              precision    recall  f1-score   support\n",
      "\n",
      "           0       0.63      0.61      0.62        36\n",
      "           1       0.56      0.58      0.57        31\n",
      "\n",
      "    accuracy                           0.60        67\n",
      "   macro avg       0.60      0.60      0.60        67\n",
      "weighted avg       0.60      0.60      0.60        67\n",
      "\n"
     ]
    }
   ],
   "source": [
    "# clc14\n",
    "print(classification_report(df_test['labels'].values, selected_clc15.predict(Xtest1418)))"
   ]
  },
  {
   "cell_type": "code",
   "execution_count": 255,
   "metadata": {},
   "outputs": [
    {
     "name": "stdout",
     "output_type": "stream",
     "text": [
      "              precision    recall  f1-score   support\n",
      "\n",
      "           0       0.60      0.50      0.55        36\n",
      "           1       0.51      0.61      0.56        31\n",
      "\n",
      "    accuracy                           0.55        67\n",
      "   macro avg       0.56      0.56      0.55        67\n",
      "weighted avg       0.56      0.55      0.55        67\n",
      "\n"
     ]
    }
   ],
   "source": [
    "# clc14\n",
    "print(classification_report(df_test['labels'].values, selected_clc16.predict(Xtest1418)))"
   ]
  },
  {
   "cell_type": "code",
   "execution_count": 256,
   "metadata": {},
   "outputs": [
    {
     "name": "stdout",
     "output_type": "stream",
     "text": [
      "              precision    recall  f1-score   support\n",
      "\n",
      "           0       0.63      0.61      0.62        36\n",
      "           1       0.56      0.58      0.57        31\n",
      "\n",
      "    accuracy                           0.60        67\n",
      "   macro avg       0.60      0.60      0.60        67\n",
      "weighted avg       0.60      0.60      0.60        67\n",
      "\n"
     ]
    }
   ],
   "source": [
    "# clc14\n",
    "print(classification_report(df_test['labels'].values, selected_clc17.predict(Xtest1418)))"
   ]
  },
  {
   "cell_type": "code",
   "execution_count": 257,
   "metadata": {},
   "outputs": [
    {
     "name": "stdout",
     "output_type": "stream",
     "text": [
      "              precision    recall  f1-score   support\n",
      "\n",
      "           0       0.61      0.56      0.58        36\n",
      "           1       0.53      0.58      0.55        31\n",
      "\n",
      "    accuracy                           0.57        67\n",
      "   macro avg       0.57      0.57      0.57        67\n",
      "weighted avg       0.57      0.57      0.57        67\n",
      "\n"
     ]
    }
   ],
   "source": [
    "# clc14\n",
    "print(classification_report(df_test['labels'].values, selected_clc18.predict(Xtest1418)))"
   ]
  },
  {
   "cell_type": "markdown",
   "metadata": {},
   "source": [
    "### Linear SVM"
   ]
  },
  {
   "cell_type": "code",
   "execution_count": 258,
   "metadata": {},
   "outputs": [],
   "source": [
    "clf = load('./Final_Results/ML/minmaxreg/clf_svm_train.joblib')\n",
    "clf_corr = load('./Final_Results/ML/minmaxreg/clf_svm_train_corr.joblib')\n",
    "clf_corr_l = load('./Final_Results/ML/minmaxreg/clf_svm_train_corr_l.joblib')\n",
    "clf_corr_r = load('./Final_Results/ML/minmaxreg/clf_svm_train_corr_r.joblib')"
   ]
  },
  {
   "cell_type": "code",
   "execution_count": 259,
   "metadata": {},
   "outputs": [
    {
     "name": "stdout",
     "output_type": "stream",
     "text": [
      "clf_svm_train\n",
      "0.663361581920904\n",
      "0.6277683615819208\n",
      "0.6617231638418078\n",
      "0.6582768361581921\n",
      "0.5669209039548022\n",
      "0.6899435028248586\n",
      "0.6163841807909605\n",
      "0.6784463276836158\n",
      "0000000000000000000000000000000000000000000\n",
      "clf_svm_train_corr\n",
      "0.6581073446327683\n",
      "0.6414406779661017\n",
      "0.6530790960451978\n",
      "0.6581638418079095\n",
      "0.5836440677966102\n",
      "0.6701129943502824\n",
      "0.6145480225988701\n",
      "0.6702824858757063\n",
      "0000000000000000000000000000000000000000000\n",
      "clf_svm_train_corr_l\n",
      "0.6464406779661017\n",
      "0.6033050847457627\n",
      "0.6430790960451978\n",
      "0.6498870056497175\n",
      "0.5805084745762711\n",
      "0.6732485875706216\n",
      "0.6262429378531074\n",
      "0.6586158192090397\n",
      "0000000000000000000000000000000000000000000\n",
      "clf_svm_train_corr_r\n",
      "0.612994350282486\n",
      "0.5861864406779661\n",
      "0.611412429378531\n",
      "0.617909604519774\n",
      "0.5686440677966103\n",
      "0.6245197740112994\n",
      "0.6144915254237289\n",
      "0.6316949152542373\n"
     ]
    }
   ],
   "source": [
    "print(\"clf_svm_train\")\n",
    "print(clf['lSVM'].best_score_)\n",
    "print(clf['pagg'].best_score_)\n",
    "print(clf['lg'].best_score_)\n",
    "print(clf['XGB'].best_score_)\n",
    "print(clf['GNB'].best_score_)\n",
    "print(clf['SVC'].best_score_)\n",
    "print(clf['Rf'].best_score_)\n",
    "print(clf['nn'].best_score_)\n",
    "print(\"0000000000000000000000000000000000000000000\")\n",
    "print(\"clf_svm_train_corr\")\n",
    "print(clf_corr['lSVM'].best_score_)\n",
    "print(clf_corr['pagg'].best_score_)\n",
    "print(clf_corr['lg'].best_score_)\n",
    "print(clf_corr['XGB'].best_score_)\n",
    "print(clf_corr['GNB'].best_score_)\n",
    "print(clf_corr['SVC'].best_score_)\n",
    "print(clf_corr['Rf'].best_score_)\n",
    "print(clf_corr['nn'].best_score_)\n",
    "print(\"0000000000000000000000000000000000000000000\")\n",
    "print(\"clf_svm_train_corr_l\")\n",
    "print(clf_corr_l['lSVM'].best_score_)\n",
    "print(clf_corr_l['pagg'].best_score_)\n",
    "print(clf_corr_l['lg'].best_score_)\n",
    "print(clf_corr_l['XGB'].best_score_)\n",
    "print(clf_corr_l['GNB'].best_score_)\n",
    "print(clf_corr_l['SVC'].best_score_)\n",
    "print(clf_corr_l['Rf'].best_score_)\n",
    "print(clf_corr_l['nn'].best_score_)\n",
    "print(\"0000000000000000000000000000000000000000000\")\n",
    "print(\"clf_svm_train_corr_r\")\n",
    "print(clf_corr_r['lSVM'].best_score_)\n",
    "print(clf_corr_r['pagg'].best_score_)\n",
    "print(clf_corr_r['lg'].best_score_)\n",
    "print(clf_corr_r['XGB'].best_score_)\n",
    "print(clf_corr_r['GNB'].best_score_)\n",
    "print(clf_corr_r['SVC'].best_score_)\n",
    "print(clf_corr_r['Rf'].best_score_)\n",
    "print(clf_corr_r['nn'].best_score_)"
   ]
  },
  {
   "cell_type": "code",
   "execution_count": 260,
   "metadata": {},
   "outputs": [
    {
     "name": "stdout",
     "output_type": "stream",
     "text": [
      "selected classifier 1: lSVM_alldata with accuracy 0.663361581920904\n",
      "selected classifier 2: lg_alldata with accuracy 0.6617231638418078\n",
      "selected classifier 3: XGB_alldata with accuracy 0.6582768361581921\n",
      "selected classifier 4: SVC_corr with accuracy 0.6899435028248586\n",
      "selected classifier 5: nn_corr with accuracy 0.6784463276836158\n",
      "selected classifier 6: lSVM_corr with accuracy 0.6581073446327683\n",
      "selected classifier 7: lg_corr with accuracy 0.6530790960451978\n",
      "selected classifier 8: XGB_corr with accuracy 0.6581638418079095\n",
      "selected classifier 9: SVC_corr with accuracy 0.6701129943502824\n",
      "selected classifier 10: nn_corr with accuracy 0.6702824858757063\n",
      "selected classifier 11: lSVM_corr_l with accuracy 0.6464406779661017\n",
      "selected classifier 12: lg_corr_l with accuracy 0.6430790960451978\n",
      "selected classifier 13: XGB_corr_l with accuracy 0.6498870056497175\n",
      "selected classifier 14: SVC_corr_l with accuracy 0.6732485875706216\n",
      "selected classifier 15: nn_corr_l with accuracy 0.6586158192090397\n",
      "selected classifier 16: lSVM_corr_r with accuracy 0.612994350282486\n",
      "selected classifier 17: lg_corr_r with accuracy 0.611412429378531\n",
      "selected classifier 18: XGB_corr_r with accuracy 0.617909604519774\n",
      "selected classifier 19: SVC_corr_r with accuracy 0.6245197740112994\n",
      "selected classifier 20: nn_corr_r with accuracy 0.6316949152542373\n"
     ]
    }
   ],
   "source": [
    "selected_clc1 = clf['lSVM'].best_estimator_\n",
    "selected_clc2 = clf['lg'].best_estimator_\n",
    "selected_clc3 = clf['XGB'].best_estimator_\n",
    "selected_clc4 = clf['SVC'].best_estimator_\n",
    "selected_clc5 = clf['nn'].best_estimator_\n",
    "\n",
    "selected_clc6 = clf_corr['lSVM'].best_estimator_\n",
    "selected_clc7 = clf_corr['lg'].best_estimator_\n",
    "selected_clc8 = clf_corr['XGB'].best_estimator_\n",
    "selected_clc9 = clf_corr['SVC'].best_estimator_\n",
    "selected_clc10 = clf_corr['nn'].best_estimator_\n",
    "\n",
    "selected_clc11 = clf_corr_l['lSVM'].best_estimator_\n",
    "selected_clc12 = clf_corr_l['lg'].best_estimator_\n",
    "selected_clc13 = clf_corr_l['XGB'].best_estimator_\n",
    "selected_clc14 = clf_corr_l['SVC'].best_estimator_\n",
    "selected_clc15 = clf_corr_l['nn'].best_estimator_\n",
    "\n",
    "selected_clc16 = clf_corr_r['lSVM'].best_estimator_\n",
    "selected_clc17 = clf_corr_r['lg'].best_estimator_\n",
    "selected_clc18 = clf_corr_r['XGB'].best_estimator_\n",
    "selected_clc19 = clf_corr_r['SVC'].best_estimator_\n",
    "selected_clc20 = clf_corr_r['nn'].best_estimator_\n",
    "\n",
    "print(f\"selected classifier 1: lSVM_alldata with accuracy {clf['lSVM'].best_score_}\")\n",
    "print(f\"selected classifier 2: lg_alldata with accuracy {clf['lg'].best_score_}\")\n",
    "print(f\"selected classifier 3: XGB_alldata with accuracy {clf['XGB'].best_score_}\")\n",
    "print(f\"selected classifier 4: SVC_corr with accuracy {clf['SVC'].best_score_}\")\n",
    "print(f\"selected classifier 5: nn_corr with accuracy {clf['nn'].best_score_}\")\n",
    "\n",
    "print(f\"selected classifier 6: lSVM_corr with accuracy {clf_corr['lSVM'].best_score_}\")\n",
    "print(f\"selected classifier 7: lg_corr with accuracy {clf_corr['lg'].best_score_}\")\n",
    "print(f\"selected classifier 8: XGB_corr with accuracy {clf_corr['XGB'].best_score_}\")\n",
    "print(f\"selected classifier 9: SVC_corr with accuracy {clf_corr['SVC'].best_score_}\")\n",
    "print(f\"selected classifier 10: nn_corr with accuracy {clf_corr['nn'].best_score_}\")\n",
    "\n",
    "print(f\"selected classifier 11: lSVM_corr_l with accuracy {clf_corr_l['lSVM'].best_score_}\")\n",
    "print(f\"selected classifier 12: lg_corr_l with accuracy {clf_corr_l['lg'].best_score_}\")\n",
    "print(f\"selected classifier 13: XGB_corr_l with accuracy {clf_corr_l['XGB'].best_score_}\")\n",
    "print(f\"selected classifier 14: SVC_corr_l with accuracy {clf_corr_l['SVC'].best_score_}\")\n",
    "print(f\"selected classifier 15: nn_corr_l with accuracy {clf_corr_l['nn'].best_score_}\")\n",
    "\n",
    "print(f\"selected classifier 16: lSVM_corr_r with accuracy {clf_corr_r['lSVM'].best_score_}\")\n",
    "print(f\"selected classifier 17: lg_corr_r with accuracy {clf_corr_r['lg'].best_score_}\")\n",
    "print(f\"selected classifier 18: XGB_corr_r with accuracy {clf_corr_r['XGB'].best_score_}\")\n",
    "print(f\"selected classifier 19: SVC_corr_r with accuracy {clf_corr_r['SVC'].best_score_}\")\n",
    "print(f\"selected classifier 20: nn_corr_r with accuracy {clf_corr_r['nn'].best_score_}\")\n"
   ]
  },
  {
   "cell_type": "code",
   "execution_count": 261,
   "metadata": {},
   "outputs": [],
   "source": [
    "# Load the corresponding rfe object\n",
    "#clc15\n",
    "selected_rfe15 = load('./Final_Results/FS/Regular_minMaxNorm/rfetrain_svm.joblib')\n",
    "Xtest15 = XN[:, np.where(selected_rfe15.support_)[0]]\n",
    "\n",
    "# clc610\n",
    "selected_rfe610 = load('./Final_Results/FS/Regular_minMaxNorm/rfetrain_corr_svm.joblib')\n",
    "Xtest610 = XN[:, np.where(selected_rfe610.support_)[0]]\n",
    "\n",
    "# clc1115\n",
    "selected_rfe1115 = load('./Final_Results/FS/Regular_minMaxNorm/rfetrain_corr_l_svm.joblib')\n",
    "Xtest1115 = XN[:, np.where(selected_rfe1115.support_)[0]]\n",
    "\n",
    "# clc1620\n",
    "selected_rfe1620 = load('./Final_Results/FS/Regular_minMaxNorm/rfetrain_corr_r_svm.joblib')\n",
    "Xtest1620 = XN[:, np.where(selected_rfe1620.support_)[0]]"
   ]
  },
  {
   "cell_type": "code",
   "execution_count": 320,
   "metadata": {},
   "outputs": [
    {
     "data": {
      "text/plain": [
       "<BarContainer object of 16 artists>"
      ]
     },
     "execution_count": 320,
     "metadata": {},
     "output_type": "execute_result"
    },
    {
     "data": {
      "image/png": "[encoded data removed]",
      "text/plain": [
       "<Figure size 432x288 with 1 Axes>"
      ]
     },
     "metadata": {
      "needs_background": "light"
     },
     "output_type": "display_data"
    }
   ],
   "source": [
    "len(np.where(selected_rfe15.support_))\n",
    "df_test.columns[np.where(selected_rfe15.support_)[0]],df_test.columns\n",
    "plt.barh(y=df_test.columns[np.where(selected_rfe15.support_)[0]], width=selected_clc2.coef_[0])"
   ]
  },
  {
   "cell_type": "code",
   "execution_count": 284,
   "metadata": {},
   "outputs": [],
   "source": [
    "# Load training dataset to train the current model using all training set\n",
    "# clc15\n",
    "Xtrain15 = np.load('./Final_Results/FS/Regular_minMaxNorm/Xtrain_svm.npy')\n",
    "\n",
    "# clc610\n",
    "Xtrain610 = np.load('./Final_Results/FS/Regular_minMaxNorm/Xtrain_corr_svm.npy')\n",
    "\n",
    "\n",
    "# clc1115\n",
    "Xtrain1115 = np.load('./Final_Results/FS/Regular_minMaxNorm/Xtrain_corr_l_svm.npy')\n",
    "\n",
    "# clc1620\n",
    "Xtrain1620 = np.load('./Final_Results/FS/Regular_minMaxNorm/Xtrain_corr_r_svm.npy')\n",
    "\n",
    "ytrain = np.load('./Final_Results/FS/Regular_minMaxNorm/ytrain_corr.npy')\n"
   ]
  },
  {
   "cell_type": "code",
   "execution_count": 263,
   "metadata": {},
   "outputs": [
    {
     "name": "stdout",
     "output_type": "stream",
     "text": [
      "              precision    recall  f1-score   support\n",
      "\n",
      "           0       0.70      0.58      0.64        36\n",
      "           1       0.59      0.71      0.65        31\n",
      "\n",
      "    accuracy                           0.64        67\n",
      "   macro avg       0.65      0.65      0.64        67\n",
      "weighted avg       0.65      0.64      0.64        67\n",
      "\n"
     ]
    }
   ],
   "source": [
    "# clc1\n",
    "print(classification_report(df_test['labels'].values, selected_clc1.predict(Xtest15)))"
   ]
  },
  {
   "cell_type": "code",
   "execution_count": 264,
   "metadata": {},
   "outputs": [
    {
     "name": "stdout",
     "output_type": "stream",
     "text": [
      "              precision    recall  f1-score   support\n",
      "\n",
      "           0       0.71      0.61      0.66        36\n",
      "           1       0.61      0.71      0.66        31\n",
      "\n",
      "    accuracy                           0.66        67\n",
      "   macro avg       0.66      0.66      0.66        67\n",
      "weighted avg       0.66      0.66      0.66        67\n",
      "\n"
     ]
    }
   ],
   "source": [
    "# clc2\n",
    "print(classification_report(df_test['labels'].values, selected_clc2.predict(Xtest15)))"
   ]
  },
  {
   "cell_type": "code",
   "execution_count": 265,
   "metadata": {},
   "outputs": [
    {
     "name": "stdout",
     "output_type": "stream",
     "text": [
      "              precision    recall  f1-score   support\n",
      "\n",
      "           0       0.67      0.56      0.61        36\n",
      "           1       0.57      0.68      0.62        31\n",
      "\n",
      "    accuracy                           0.61        67\n",
      "   macro avg       0.62      0.62      0.61        67\n",
      "weighted avg       0.62      0.61      0.61        67\n",
      "\n"
     ]
    }
   ],
   "source": [
    "# clc3\n",
    "print(classification_report(df_test['labels'].values, selected_clc3.predict(Xtest15)))"
   ]
  },
  {
   "cell_type": "code",
   "execution_count": 266,
   "metadata": {},
   "outputs": [
    {
     "name": "stdout",
     "output_type": "stream",
     "text": [
      "              precision    recall  f1-score   support\n",
      "\n",
      "           0       0.65      0.56      0.60        36\n",
      "           1       0.56      0.65      0.60        31\n",
      "\n",
      "    accuracy                           0.60        67\n",
      "   macro avg       0.60      0.60      0.60        67\n",
      "weighted avg       0.60      0.60      0.60        67\n",
      "\n"
     ]
    }
   ],
   "source": [
    "# clc4\n",
    "print(classification_report(df_test['labels'].values, selected_clc4.predict(Xtest15)))"
   ]
  },
  {
   "cell_type": "code",
   "execution_count": 267,
   "metadata": {},
   "outputs": [
    {
     "name": "stdout",
     "output_type": "stream",
     "text": [
      "              precision    recall  f1-score   support\n",
      "\n",
      "           0       0.66      0.58      0.62        36\n",
      "           1       0.57      0.65      0.61        31\n",
      "\n",
      "    accuracy                           0.61        67\n",
      "   macro avg       0.61      0.61      0.61        67\n",
      "weighted avg       0.62      0.61      0.61        67\n",
      "\n"
     ]
    }
   ],
   "source": [
    "# clc5\n",
    "print(classification_report(df_test['labels'].values, selected_clc5.predict(Xtest15)))"
   ]
  },
  {
   "cell_type": "code",
   "execution_count": 268,
   "metadata": {},
   "outputs": [
    {
     "name": "stdout",
     "output_type": "stream",
     "text": [
      "              precision    recall  f1-score   support\n",
      "\n",
      "           0       0.67      0.11      0.19        36\n",
      "           1       0.48      0.94      0.63        31\n",
      "\n",
      "    accuracy                           0.49        67\n",
      "   macro avg       0.57      0.52      0.41        67\n",
      "weighted avg       0.58      0.49      0.39        67\n",
      "\n"
     ]
    }
   ],
   "source": [
    "# clc6\n",
    "print(classification_report(df_test['labels'].values, selected_clc6.predict(Xtest610)))"
   ]
  },
  {
   "cell_type": "code",
   "execution_count": 270,
   "metadata": {},
   "outputs": [
    {
     "name": "stdout",
     "output_type": "stream",
     "text": [
      "              precision    recall  f1-score   support\n",
      "\n",
      "           0       0.60      0.08      0.15        36\n",
      "           1       0.47      0.94      0.62        31\n",
      "\n",
      "    accuracy                           0.48        67\n",
      "   macro avg       0.53      0.51      0.38        67\n",
      "weighted avg       0.54      0.48      0.37        67\n",
      "\n"
     ]
    }
   ],
   "source": [
    "# clc7\n",
    "print(classification_report(df_test['labels'].values, selected_clc7.predict(Xtest610)))"
   ]
  },
  {
   "cell_type": "code",
   "execution_count": 271,
   "metadata": {},
   "outputs": [
    {
     "name": "stdout",
     "output_type": "stream",
     "text": [
      "              precision    recall  f1-score   support\n",
      "\n",
      "           0       0.71      0.28      0.40        36\n",
      "           1       0.51      0.87      0.64        31\n",
      "\n",
      "    accuracy                           0.55        67\n",
      "   macro avg       0.61      0.57      0.52        67\n",
      "weighted avg       0.62      0.55      0.51        67\n",
      "\n"
     ]
    }
   ],
   "source": [
    "# clc8\n",
    "print(classification_report(df_test['labels'].values, selected_clc8.predict(Xtest610)))"
   ]
  },
  {
   "cell_type": "code",
   "execution_count": 272,
   "metadata": {},
   "outputs": [
    {
     "name": "stdout",
     "output_type": "stream",
     "text": [
      "              precision    recall  f1-score   support\n",
      "\n",
      "           0       0.67      0.11      0.19        36\n",
      "           1       0.48      0.94      0.63        31\n",
      "\n",
      "    accuracy                           0.49        67\n",
      "   macro avg       0.57      0.52      0.41        67\n",
      "weighted avg       0.58      0.49      0.39        67\n",
      "\n"
     ]
    }
   ],
   "source": [
    "# clc9\n",
    "print(classification_report(df_test['labels'].values, selected_clc9.predict(Xtest610)))"
   ]
  },
  {
   "cell_type": "code",
   "execution_count": 273,
   "metadata": {},
   "outputs": [
    {
     "name": "stdout",
     "output_type": "stream",
     "text": [
      "              precision    recall  f1-score   support\n",
      "\n",
      "           0       0.75      0.17      0.27        36\n",
      "           1       0.49      0.94      0.64        31\n",
      "\n",
      "    accuracy                           0.52        67\n",
      "   macro avg       0.62      0.55      0.46        67\n",
      "weighted avg       0.63      0.52      0.44        67\n",
      "\n"
     ]
    }
   ],
   "source": [
    "# clc10\n",
    "print(classification_report(df_test['labels'].values, selected_clc10.predict(Xtest610)))"
   ]
  },
  {
   "cell_type": "code",
   "execution_count": 274,
   "metadata": {},
   "outputs": [
    {
     "name": "stdout",
     "output_type": "stream",
     "text": [
      "              precision    recall  f1-score   support\n",
      "\n",
      "           0       0.71      0.28      0.40        36\n",
      "           1       0.51      0.87      0.64        31\n",
      "\n",
      "    accuracy                           0.55        67\n",
      "   macro avg       0.61      0.57      0.52        67\n",
      "weighted avg       0.62      0.55      0.51        67\n",
      "\n"
     ]
    }
   ],
   "source": [
    "# clc11\n",
    "print(classification_report(df_test['labels'].values, selected_clc11.predict(Xtest1115)))"
   ]
  },
  {
   "cell_type": "code",
   "execution_count": 275,
   "metadata": {},
   "outputs": [
    {
     "name": "stdout",
     "output_type": "stream",
     "text": [
      "              precision    recall  f1-score   support\n",
      "\n",
      "           0       0.73      0.31      0.43        36\n",
      "           1       0.52      0.87      0.65        31\n",
      "\n",
      "    accuracy                           0.57        67\n",
      "   macro avg       0.63      0.59      0.54        67\n",
      "weighted avg       0.63      0.57      0.53        67\n",
      "\n"
     ]
    }
   ],
   "source": [
    "# clc12\n",
    "print(classification_report(df_test['labels'].values, selected_clc12.predict(Xtest1115)))"
   ]
  },
  {
   "cell_type": "code",
   "execution_count": 276,
   "metadata": {},
   "outputs": [
    {
     "name": "stdout",
     "output_type": "stream",
     "text": [
      "              precision    recall  f1-score   support\n",
      "\n",
      "           0       0.67      0.06      0.10        36\n",
      "           1       0.47      0.97      0.63        31\n",
      "\n",
      "    accuracy                           0.48        67\n",
      "   macro avg       0.57      0.51      0.37        67\n",
      "weighted avg       0.58      0.48      0.35        67\n",
      "\n"
     ]
    }
   ],
   "source": [
    "# clc13\n",
    "print(classification_report(df_test['labels'].values, selected_clc13.predict(Xtest1115)))"
   ]
  },
  {
   "cell_type": "code",
   "execution_count": 277,
   "metadata": {},
   "outputs": [
    {
     "name": "stdout",
     "output_type": "stream",
     "text": [
      "              precision    recall  f1-score   support\n",
      "\n",
      "           0       0.54      0.61      0.57        36\n",
      "           1       0.46      0.39      0.42        31\n",
      "\n",
      "    accuracy                           0.51        67\n",
      "   macro avg       0.50      0.50      0.50        67\n",
      "weighted avg       0.50      0.51      0.50        67\n",
      "\n"
     ]
    }
   ],
   "source": [
    "# clc14\n",
    "print(classification_report(df_test['labels'].values, selected_clc14.predict(Xtest1115)))"
   ]
  },
  {
   "cell_type": "code",
   "execution_count": 278,
   "metadata": {},
   "outputs": [
    {
     "name": "stdout",
     "output_type": "stream",
     "text": [
      "              precision    recall  f1-score   support\n",
      "\n",
      "           0       0.75      0.08      0.15        36\n",
      "           1       0.48      0.97      0.64        31\n",
      "\n",
      "    accuracy                           0.49        67\n",
      "   macro avg       0.61      0.53      0.39        67\n",
      "weighted avg       0.62      0.49      0.38        67\n",
      "\n"
     ]
    }
   ],
   "source": [
    "# clc15\n",
    "print(classification_report(df_test['labels'].values, selected_clc15.predict(Xtest1115)))"
   ]
  },
  {
   "cell_type": "code",
   "execution_count": 279,
   "metadata": {},
   "outputs": [
    {
     "name": "stdout",
     "output_type": "stream",
     "text": [
      "              precision    recall  f1-score   support\n",
      "\n",
      "           0       0.63      0.47      0.54        36\n",
      "           1       0.53      0.68      0.59        31\n",
      "\n",
      "    accuracy                           0.57        67\n",
      "   macro avg       0.58      0.57      0.57        67\n",
      "weighted avg       0.58      0.57      0.56        67\n",
      "\n"
     ]
    }
   ],
   "source": [
    "# clc16\n",
    "print(classification_report(df_test['labels'].values, selected_clc16.predict(Xtest1620)))"
   ]
  },
  {
   "cell_type": "code",
   "execution_count": 280,
   "metadata": {},
   "outputs": [
    {
     "name": "stdout",
     "output_type": "stream",
     "text": [
      "              precision    recall  f1-score   support\n",
      "\n",
      "           0       0.61      0.31      0.41        36\n",
      "           1       0.49      0.77      0.60        31\n",
      "\n",
      "    accuracy                           0.52        67\n",
      "   macro avg       0.55      0.54      0.50        67\n",
      "weighted avg       0.55      0.52      0.50        67\n",
      "\n"
     ]
    }
   ],
   "source": [
    "# clc17\n",
    "print(classification_report(df_test['labels'].values, selected_clc17.predict(Xtest1620)))"
   ]
  },
  {
   "cell_type": "code",
   "execution_count": 281,
   "metadata": {},
   "outputs": [
    {
     "name": "stdout",
     "output_type": "stream",
     "text": [
      "              precision    recall  f1-score   support\n",
      "\n",
      "           0       0.71      0.33      0.45        36\n",
      "           1       0.52      0.84      0.64        31\n",
      "\n",
      "    accuracy                           0.57        67\n",
      "   macro avg       0.61      0.59      0.55        67\n",
      "weighted avg       0.62      0.57      0.54        67\n",
      "\n"
     ]
    }
   ],
   "source": [
    "# clc18\n",
    "print(classification_report(df_test['labels'].values, selected_clc18.predict(Xtest1620)))"
   ]
  },
  {
   "cell_type": "code",
   "execution_count": 282,
   "metadata": {},
   "outputs": [
    {
     "name": "stdout",
     "output_type": "stream",
     "text": [
      "              precision    recall  f1-score   support\n",
      "\n",
      "           0       0.79      0.31      0.44        36\n",
      "           1       0.53      0.90      0.67        31\n",
      "\n",
      "    accuracy                           0.58        67\n",
      "   macro avg       0.66      0.60      0.55        67\n",
      "weighted avg       0.67      0.58      0.54        67\n",
      "\n"
     ]
    }
   ],
   "source": [
    "# clc19\n",
    "print(classification_report(df_test['labels'].values, selected_clc19.predict(Xtest1620)))"
   ]
  },
  {
   "cell_type": "code",
   "execution_count": 283,
   "metadata": {},
   "outputs": [
    {
     "name": "stdout",
     "output_type": "stream",
     "text": [
      "              precision    recall  f1-score   support\n",
      "\n",
      "           0       0.80      0.11      0.20        36\n",
      "           1       0.48      0.97      0.65        31\n",
      "\n",
      "    accuracy                           0.51        67\n",
      "   macro avg       0.64      0.54      0.42        67\n",
      "weighted avg       0.65      0.51      0.40        67\n",
      "\n"
     ]
    }
   ],
   "source": [
    "# clc20\n",
    "print(classification_report(df_test['labels'].values, selected_clc20.predict(Xtest1620)))"
   ]
  },
  {
   "cell_type": "code",
   "execution_count": 285,
   "metadata": {},
   "outputs": [
    {
     "name": "stderr",
     "output_type": "stream",
     "text": [
      "C:\\ProgramData\\Anaconda3\\envs\\untitled\\lib\\site-packages\\sklearn\\linear_model\\_logistic.py:1355: UserWarning: 'n_jobs' > 1 does not have any effect when 'solver' is set to 'liblinear'. Got 'n_jobs' = 12.\n",
      "  \" = {}.\".format(effective_n_jobs(self.n_jobs)))\n"
     ]
    },
    {
     "name": "stdout",
     "output_type": "stream",
     "text": [
      "[17:03:33] WARNING: C:\\Users\\Administrator\\workspace\\xgboost-win64_release_1.1.0\\src\\learner.cc:480: \n",
      "Parameters: { colsample_bytree, gamma, min_child_weight } might not be used.\n",
      "\n",
      "  This may not be accurate due to some parameters are only used in language bindings but\n",
      "  passed down to XGBoost core.  Or some parameters are not used but slip through this\n",
      "  verification. Please open an issue if you find above cases.\n",
      "\n",
      "\n",
      "[17:03:38] WARNING: C:\\Users\\Administrator\\workspace\\xgboost-win64_release_1.1.0\\src\\learner.cc:480: \n",
      "Parameters: { colsample_bytree, gamma, min_child_weight } might not be used.\n",
      "\n",
      "  This may not be accurate due to some parameters are only used in language bindings but\n",
      "  passed down to XGBoost core.  Or some parameters are not used but slip through this\n",
      "  verification. Please open an issue if you find above cases.\n",
      "\n",
      "\n"
     ]
    },
    {
     "name": "stderr",
     "output_type": "stream",
     "text": [
      "C:\\ProgramData\\Anaconda3\\envs\\untitled\\lib\\site-packages\\sklearn\\linear_model\\_logistic.py:1355: UserWarning: 'n_jobs' > 1 does not have any effect when 'solver' is set to 'liblinear'. Got 'n_jobs' = 12.\n",
      "  \" = {}.\".format(effective_n_jobs(self.n_jobs)))\n"
     ]
    },
    {
     "name": "stdout",
     "output_type": "stream",
     "text": [
      "[17:03:39] WARNING: C:\\Users\\Administrator\\workspace\\xgboost-win64_release_1.1.0\\src\\learner.cc:480: \n",
      "Parameters: { colsample_bytree, gamma, min_child_weight } might not be used.\n",
      "\n",
      "  This may not be accurate due to some parameters are only used in language bindings but\n",
      "  passed down to XGBoost core.  Or some parameters are not used but slip through this\n",
      "  verification. Please open an issue if you find above cases.\n",
      "\n",
      "\n"
     ]
    },
    {
     "name": "stderr",
     "output_type": "stream",
     "text": [
      "C:\\ProgramData\\Anaconda3\\envs\\untitled\\lib\\site-packages\\sklearn\\linear_model\\_logistic.py:1355: UserWarning: 'n_jobs' > 1 does not have any effect when 'solver' is set to 'liblinear'. Got 'n_jobs' = 12.\n",
      "  \" = {}.\".format(effective_n_jobs(self.n_jobs)))\n"
     ]
    }
   ],
   "source": [
    "selected_clc1 = selected_clc1.fit(Xtrain15, ytrain)\n",
    "selected_clc2 = selected_clc2.fit(Xtrain15, ytrain)\n",
    "selected_clc3 = selected_clc3.fit(Xtrain15, ytrain)\n",
    "selected_clc4 = selected_clc4.fit(Xtrain15, ytrain)\n",
    "selected_clc5 = selected_clc5.fit(Xtrain15, ytrain)\n",
    "selected_clc6 = selected_clc6.fit(Xtrain610, ytrain)\n",
    "selected_clc7 = selected_clc7.fit(Xtrain610, ytrain)\n",
    "selected_clc8 = selected_clc8.fit(Xtrain610, ytrain)\n",
    "selected_clc9 = selected_clc9.fit(Xtrain610, ytrain)\n",
    "selected_clc10 = selected_clc10.fit(Xtrain610, ytrain)\n",
    "selected_clc11 = selected_clc11.fit(Xtrain1115, ytrain)\n",
    "selected_clc12 = selected_clc12.fit(Xtrain1115, ytrain)\n",
    "selected_clc13 = selected_clc13.fit(Xtrain1115, ytrain)\n",
    "selected_clc14 = selected_clc14.fit(Xtrain1115, ytrain)\n",
    "selected_clc15 = selected_clc15.fit(Xtrain1115, ytrain)\n",
    "selected_clc16 = selected_clc16.fit(Xtrain1620, ytrain)\n",
    "selected_clc17 = selected_clc17.fit(Xtrain1620, ytrain)\n",
    "selected_clc18 = selected_clc18.fit(Xtrain1620, ytrain)\n",
    "selected_clc19 = selected_clc19.fit(Xtrain1620, ytrain)\n",
    "selected_clc20 = selected_clc20.fit(Xtrain1620, ytrain)"
   ]
  },
  {
   "cell_type": "code",
   "execution_count": 286,
   "metadata": {},
   "outputs": [
    {
     "name": "stdout",
     "output_type": "stream",
     "text": [
      "              precision    recall  f1-score   support\n",
      "\n",
      "           0       0.70      0.58      0.64        36\n",
      "           1       0.59      0.71      0.65        31\n",
      "\n",
      "    accuracy                           0.64        67\n",
      "   macro avg       0.65      0.65      0.64        67\n",
      "weighted avg       0.65      0.64      0.64        67\n",
      "\n"
     ]
    }
   ],
   "source": [
    "# clc1\n",
    "print(classification_report(df_test['labels'].values, selected_clc1.predict(Xtest15)))"
   ]
  },
  {
   "cell_type": "code",
   "execution_count": 287,
   "metadata": {},
   "outputs": [
    {
     "name": "stdout",
     "output_type": "stream",
     "text": [
      "              precision    recall  f1-score   support\n",
      "\n",
      "           0       0.71      0.61      0.66        36\n",
      "           1       0.61      0.71      0.66        31\n",
      "\n",
      "    accuracy                           0.66        67\n",
      "   macro avg       0.66      0.66      0.66        67\n",
      "weighted avg       0.66      0.66      0.66        67\n",
      "\n"
     ]
    }
   ],
   "source": [
    "# clc2\n",
    "print(classification_report(df_test['labels'].values, selected_clc2.predict(Xtest15)))"
   ]
  },
  {
   "cell_type": "code",
   "execution_count": 288,
   "metadata": {},
   "outputs": [
    {
     "name": "stdout",
     "output_type": "stream",
     "text": [
      "              precision    recall  f1-score   support\n",
      "\n",
      "           0       0.66      0.53      0.58        36\n",
      "           1       0.55      0.68      0.61        31\n",
      "\n",
      "    accuracy                           0.60        67\n",
      "   macro avg       0.60      0.60      0.60        67\n",
      "weighted avg       0.61      0.60      0.60        67\n",
      "\n"
     ]
    }
   ],
   "source": [
    "# clc3\n",
    "print(classification_report(df_test['labels'].values, selected_clc3.predict(Xtest15)))"
   ]
  },
  {
   "cell_type": "code",
   "execution_count": 289,
   "metadata": {},
   "outputs": [
    {
     "name": "stdout",
     "output_type": "stream",
     "text": [
      "              precision    recall  f1-score   support\n",
      "\n",
      "           0       0.65      0.56      0.60        36\n",
      "           1       0.56      0.65      0.60        31\n",
      "\n",
      "    accuracy                           0.60        67\n",
      "   macro avg       0.60      0.60      0.60        67\n",
      "weighted avg       0.60      0.60      0.60        67\n",
      "\n"
     ]
    }
   ],
   "source": [
    "# clc4\n",
    "print(classification_report(df_test['labels'].values, selected_clc4.predict(Xtest15)))"
   ]
  },
  {
   "cell_type": "code",
   "execution_count": 290,
   "metadata": {},
   "outputs": [
    {
     "name": "stdout",
     "output_type": "stream",
     "text": [
      "              precision    recall  f1-score   support\n",
      "\n",
      "           0       0.69      0.50      0.58        36\n",
      "           1       0.56      0.74      0.64        31\n",
      "\n",
      "    accuracy                           0.61        67\n",
      "   macro avg       0.63      0.62      0.61        67\n",
      "weighted avg       0.63      0.61      0.61        67\n",
      "\n"
     ]
    }
   ],
   "source": [
    "# clc5\n",
    "print(classification_report(df_test['labels'].values, selected_clc5.predict(Xtest15)))"
   ]
  },
  {
   "cell_type": "code",
   "execution_count": 292,
   "metadata": {},
   "outputs": [
    {
     "name": "stdout",
     "output_type": "stream",
     "text": [
      "              precision    recall  f1-score   support\n",
      "\n",
      "           0       0.67      0.11      0.19        36\n",
      "           1       0.48      0.94      0.63        31\n",
      "\n",
      "    accuracy                           0.49        67\n",
      "   macro avg       0.57      0.52      0.41        67\n",
      "weighted avg       0.58      0.49      0.39        67\n",
      "\n"
     ]
    }
   ],
   "source": [
    "# clc6\n",
    "print(classification_report(df_test['labels'].values, selected_clc6.predict(Xtest610)))"
   ]
  },
  {
   "cell_type": "code",
   "execution_count": 293,
   "metadata": {},
   "outputs": [
    {
     "name": "stdout",
     "output_type": "stream",
     "text": [
      "              precision    recall  f1-score   support\n",
      "\n",
      "           0       0.60      0.08      0.15        36\n",
      "           1       0.47      0.94      0.62        31\n",
      "\n",
      "    accuracy                           0.48        67\n",
      "   macro avg       0.53      0.51      0.38        67\n",
      "weighted avg       0.54      0.48      0.37        67\n",
      "\n"
     ]
    }
   ],
   "source": [
    "# clc7\n",
    "print(classification_report(df_test['labels'].values, selected_clc7.predict(Xtest610)))"
   ]
  },
  {
   "cell_type": "code",
   "execution_count": 294,
   "metadata": {},
   "outputs": [
    {
     "name": "stdout",
     "output_type": "stream",
     "text": [
      "              precision    recall  f1-score   support\n",
      "\n",
      "           0       0.64      0.58      0.61        36\n",
      "           1       0.56      0.61      0.58        31\n",
      "\n",
      "    accuracy                           0.60        67\n",
      "   macro avg       0.60      0.60      0.60        67\n",
      "weighted avg       0.60      0.60      0.60        67\n",
      "\n"
     ]
    }
   ],
   "source": [
    "# clc8\n",
    "print(classification_report(df_test['labels'].values, selected_clc8.predict(Xtest610)))"
   ]
  },
  {
   "cell_type": "code",
   "execution_count": 295,
   "metadata": {},
   "outputs": [
    {
     "name": "stdout",
     "output_type": "stream",
     "text": [
      "              precision    recall  f1-score   support\n",
      "\n",
      "           0       0.67      0.11      0.19        36\n",
      "           1       0.48      0.94      0.63        31\n",
      "\n",
      "    accuracy                           0.49        67\n",
      "   macro avg       0.57      0.52      0.41        67\n",
      "weighted avg       0.58      0.49      0.39        67\n",
      "\n"
     ]
    }
   ],
   "source": [
    "# clc9\n",
    "print(classification_report(df_test['labels'].values, selected_clc9.predict(Xtest610)))"
   ]
  },
  {
   "cell_type": "code",
   "execution_count": 296,
   "metadata": {},
   "outputs": [
    {
     "name": "stdout",
     "output_type": "stream",
     "text": [
      "              precision    recall  f1-score   support\n",
      "\n",
      "           0       0.67      0.11      0.19        36\n",
      "           1       0.48      0.94      0.63        31\n",
      "\n",
      "    accuracy                           0.49        67\n",
      "   macro avg       0.57      0.52      0.41        67\n",
      "weighted avg       0.58      0.49      0.39        67\n",
      "\n"
     ]
    }
   ],
   "source": [
    "# clc10\n",
    "print(classification_report(df_test['labels'].values, selected_clc10.predict(Xtest610)))"
   ]
  },
  {
   "cell_type": "code",
   "execution_count": 297,
   "metadata": {},
   "outputs": [
    {
     "name": "stdout",
     "output_type": "stream",
     "text": [
      "              precision    recall  f1-score   support\n",
      "\n",
      "           0       0.71      0.28      0.40        36\n",
      "           1       0.51      0.87      0.64        31\n",
      "\n",
      "    accuracy                           0.55        67\n",
      "   macro avg       0.61      0.57      0.52        67\n",
      "weighted avg       0.62      0.55      0.51        67\n",
      "\n"
     ]
    }
   ],
   "source": [
    "# clc11\n",
    "print(classification_report(df_test['labels'].values, selected_clc11.predict(Xtest1115)))"
   ]
  },
  {
   "cell_type": "code",
   "execution_count": 298,
   "metadata": {},
   "outputs": [
    {
     "name": "stdout",
     "output_type": "stream",
     "text": [
      "              precision    recall  f1-score   support\n",
      "\n",
      "           0       0.73      0.31      0.43        36\n",
      "           1       0.52      0.87      0.65        31\n",
      "\n",
      "    accuracy                           0.57        67\n",
      "   macro avg       0.63      0.59      0.54        67\n",
      "weighted avg       0.63      0.57      0.53        67\n",
      "\n"
     ]
    }
   ],
   "source": [
    "# clc12\n",
    "print(classification_report(df_test['labels'].values, selected_clc12.predict(Xtest1115)))"
   ]
  },
  {
   "cell_type": "code",
   "execution_count": 299,
   "metadata": {},
   "outputs": [
    {
     "name": "stdout",
     "output_type": "stream",
     "text": [
      "              precision    recall  f1-score   support\n",
      "\n",
      "           0       0.00      0.00      0.00        36\n",
      "           1       0.46      1.00      0.63        31\n",
      "\n",
      "    accuracy                           0.46        67\n",
      "   macro avg       0.23      0.50      0.32        67\n",
      "weighted avg       0.21      0.46      0.29        67\n",
      "\n"
     ]
    },
    {
     "name": "stderr",
     "output_type": "stream",
     "text": [
      "C:\\ProgramData\\Anaconda3\\envs\\untitled\\lib\\site-packages\\sklearn\\metrics\\_classification.py:1221: UndefinedMetricWarning: Precision and F-score are ill-defined and being set to 0.0 in labels with no predicted samples. Use `zero_division` parameter to control this behavior.\n",
      "  _warn_prf(average, modifier, msg_start, len(result))\n"
     ]
    }
   ],
   "source": [
    "# clc13\n",
    "print(classification_report(df_test['labels'].values, selected_clc13.predict(Xtest1115)))"
   ]
  },
  {
   "cell_type": "code",
   "execution_count": 300,
   "metadata": {},
   "outputs": [
    {
     "name": "stdout",
     "output_type": "stream",
     "text": [
      "              precision    recall  f1-score   support\n",
      "\n",
      "           0       0.54      0.61      0.57        36\n",
      "           1       0.46      0.39      0.42        31\n",
      "\n",
      "    accuracy                           0.51        67\n",
      "   macro avg       0.50      0.50      0.50        67\n",
      "weighted avg       0.50      0.51      0.50        67\n",
      "\n"
     ]
    }
   ],
   "source": [
    "# clc14\n",
    "print(classification_report(df_test['labels'].values, selected_clc14.predict(Xtest1115)))"
   ]
  },
  {
   "cell_type": "code",
   "execution_count": 301,
   "metadata": {},
   "outputs": [
    {
     "name": "stdout",
     "output_type": "stream",
     "text": [
      "              precision    recall  f1-score   support\n",
      "\n",
      "           0       1.00      0.03      0.05        36\n",
      "           1       0.47      1.00      0.64        31\n",
      "\n",
      "    accuracy                           0.48        67\n",
      "   macro avg       0.73      0.51      0.35        67\n",
      "weighted avg       0.75      0.48      0.32        67\n",
      "\n"
     ]
    }
   ],
   "source": [
    "# clc15\n",
    "print(classification_report(df_test['labels'].values, selected_clc15.predict(Xtest1115)))"
   ]
  },
  {
   "cell_type": "code",
   "execution_count": 302,
   "metadata": {},
   "outputs": [
    {
     "name": "stdout",
     "output_type": "stream",
     "text": [
      "              precision    recall  f1-score   support\n",
      "\n",
      "           0       0.63      0.47      0.54        36\n",
      "           1       0.53      0.68      0.59        31\n",
      "\n",
      "    accuracy                           0.57        67\n",
      "   macro avg       0.58      0.57      0.57        67\n",
      "weighted avg       0.58      0.57      0.56        67\n",
      "\n"
     ]
    }
   ],
   "source": [
    "# clc16\n",
    "print(classification_report(df_test['labels'].values, selected_clc16.predict(Xtest1620)))"
   ]
  },
  {
   "cell_type": "code",
   "execution_count": 303,
   "metadata": {},
   "outputs": [
    {
     "name": "stdout",
     "output_type": "stream",
     "text": [
      "              precision    recall  f1-score   support\n",
      "\n",
      "           0       0.61      0.31      0.41        36\n",
      "           1       0.49      0.77      0.60        31\n",
      "\n",
      "    accuracy                           0.52        67\n",
      "   macro avg       0.55      0.54      0.50        67\n",
      "weighted avg       0.55      0.52      0.50        67\n",
      "\n"
     ]
    }
   ],
   "source": [
    "# clc17\n",
    "print(classification_report(df_test['labels'].values, selected_clc17.predict(Xtest1620)))"
   ]
  },
  {
   "cell_type": "code",
   "execution_count": 304,
   "metadata": {},
   "outputs": [
    {
     "name": "stdout",
     "output_type": "stream",
     "text": [
      "              precision    recall  f1-score   support\n",
      "\n",
      "           0       0.50      0.17      0.25        36\n",
      "           1       0.45      0.81      0.58        31\n",
      "\n",
      "    accuracy                           0.46        67\n",
      "   macro avg       0.48      0.49      0.42        67\n",
      "weighted avg       0.48      0.46      0.40        67\n",
      "\n"
     ]
    }
   ],
   "source": [
    "# clc18\n",
    "print(classification_report(df_test['labels'].values, selected_clc18.predict(Xtest1620)))"
   ]
  },
  {
   "cell_type": "code",
   "execution_count": 305,
   "metadata": {},
   "outputs": [
    {
     "name": "stdout",
     "output_type": "stream",
     "text": [
      "              precision    recall  f1-score   support\n",
      "\n",
      "           0       0.79      0.31      0.44        36\n",
      "           1       0.53      0.90      0.67        31\n",
      "\n",
      "    accuracy                           0.58        67\n",
      "   macro avg       0.66      0.60      0.55        67\n",
      "weighted avg       0.67      0.58      0.54        67\n",
      "\n"
     ]
    }
   ],
   "source": [
    "# clc19\n",
    "print(classification_report(df_test['labels'].values, selected_clc19.predict(Xtest1620)))"
   ]
  },
  {
   "cell_type": "code",
   "execution_count": 306,
   "metadata": {},
   "outputs": [
    {
     "name": "stdout",
     "output_type": "stream",
     "text": [
      "              precision    recall  f1-score   support\n",
      "\n",
      "           0       0.00      0.00      0.00        36\n",
      "           1       0.46      1.00      0.63        31\n",
      "\n",
      "    accuracy                           0.46        67\n",
      "   macro avg       0.23      0.50      0.32        67\n",
      "weighted avg       0.21      0.46      0.29        67\n",
      "\n"
     ]
    },
    {
     "name": "stderr",
     "output_type": "stream",
     "text": [
      "C:\\ProgramData\\Anaconda3\\envs\\untitled\\lib\\site-packages\\sklearn\\metrics\\_classification.py:1221: UndefinedMetricWarning: Precision and F-score are ill-defined and being set to 0.0 in labels with no predicted samples. Use `zero_division` parameter to control this behavior.\n",
      "  _warn_prf(average, modifier, msg_start, len(result))\n"
     ]
    }
   ],
   "source": [
    "# clc20\n",
    "print(classification_report(df_test['labels'].values, selected_clc20.predict(Xtest1620)))"
   ]
  },
  {
   "cell_type": "markdown",
   "metadata": {},
   "source": [
    "### RF\n"
   ]
  },
  {
   "cell_type": "code",
   "execution_count": 307,
   "metadata": {},
   "outputs": [
    {
     "ename": "FileNotFoundError",
     "evalue": "[Errno 2] No such file or directory: './Final_Results/ML/minmaxreg/clf__rf_train_corr.joblib'",
     "output_type": "error",
     "traceback": [
      "\u001b[1;31m-----------------------------------------\u001b[0m",
      "\u001b[1;31mFileNotFoundError\u001b[0mTraceback (most recent call last)",
      "\u001b[1;32m<ipython-input-307-37cdf8845841>\u001b[0m in \u001b[0;36m<module>\u001b[1;34m\u001b[0m\n\u001b[0;32m      1\u001b[0m \u001b[0mclf\u001b[0m \u001b[1;33m=\u001b[0m \u001b[0mload\u001b[0m\u001b[1;33m(\u001b[0m\u001b[1;34m'./Final_Results/ML/minmaxreg/clf__rf_train.joblib'\u001b[0m\u001b[1;33m)\u001b[0m\u001b[1;33m\u001b[0m\u001b[1;33m\u001b[0m\u001b[0m\n\u001b[1;32m----> 2\u001b[1;33m \u001b[0mclf_corr\u001b[0m \u001b[1;33m=\u001b[0m \u001b[0mload\u001b[0m\u001b[1;33m(\u001b[0m\u001b[1;34m'./Final_Results/ML/minmaxreg/clf__rf_train_corr.joblib'\u001b[0m\u001b[1;33m)\u001b[0m\u001b[1;33m\u001b[0m\u001b[1;33m\u001b[0m\u001b[0m\n\u001b[0m\u001b[0;32m      3\u001b[0m \u001b[0mclf_corr_l\u001b[0m \u001b[1;33m=\u001b[0m \u001b[0mload\u001b[0m\u001b[1;33m(\u001b[0m\u001b[1;34m'./Final_Results/ML/minmaxreg/clf__rf_train_corr_l.joblib'\u001b[0m\u001b[1;33m)\u001b[0m\u001b[1;33m\u001b[0m\u001b[1;33m\u001b[0m\u001b[0m\n\u001b[0;32m      4\u001b[0m \u001b[0mclf_corr_r\u001b[0m \u001b[1;33m=\u001b[0m \u001b[0mload\u001b[0m\u001b[1;33m(\u001b[0m\u001b[1;34m'./Final_Results/ML/minmaxreg/clf__rf_train_corr_r.joblib'\u001b[0m\u001b[1;33m)\u001b[0m\u001b[1;33m\u001b[0m\u001b[1;33m\u001b[0m\u001b[0m\n",
      "\u001b[1;32m~\\AppData\\Roaming\\Python\\Python37\\site-packages\\joblib\\numpy_pickle.py\u001b[0m in \u001b[0;36mload\u001b[1;34m(filename, mmap_mode)\u001b[0m\n\u001b[0;32m    595\u001b[0m             \u001b[0mobj\u001b[0m \u001b[1;33m=\u001b[0m \u001b[0m_unpickle\u001b[0m\u001b[1;33m(\u001b[0m\u001b[0mfobj\u001b[0m\u001b[1;33m)\u001b[0m\u001b[1;33m\u001b[0m\u001b[1;33m\u001b[0m\u001b[0m\n\u001b[0;32m    596\u001b[0m     \u001b[1;32melse\u001b[0m\u001b[1;33m:\u001b[0m\u001b[1;33m\u001b[0m\u001b[1;33m\u001b[0m\u001b[0m\n\u001b[1;32m--> 597\u001b[1;33m         \u001b[1;32mwith\u001b[0m \u001b[0mopen\u001b[0m\u001b[1;33m(\u001b[0m\u001b[0mfilename\u001b[0m\u001b[1;33m,\u001b[0m \u001b[1;34m'rb'\u001b[0m\u001b[1;33m)\u001b[0m \u001b[1;32mas\u001b[0m \u001b[0mf\u001b[0m\u001b[1;33m:\u001b[0m\u001b[1;33m\u001b[0m\u001b[1;33m\u001b[0m\u001b[0m\n\u001b[0m\u001b[0;32m    598\u001b[0m             \u001b[1;32mwith\u001b[0m \u001b[0m_read_fileobject\u001b[0m\u001b[1;33m(\u001b[0m\u001b[0mf\u001b[0m\u001b[1;33m,\u001b[0m \u001b[0mfilename\u001b[0m\u001b[1;33m,\u001b[0m \u001b[0mmmap_mode\u001b[0m\u001b[1;33m)\u001b[0m \u001b[1;32mas\u001b[0m \u001b[0mfobj\u001b[0m\u001b[1;33m:\u001b[0m\u001b[1;33m\u001b[0m\u001b[1;33m\u001b[0m\u001b[0m\n\u001b[0;32m    599\u001b[0m                 \u001b[1;32mif\u001b[0m \u001b[0misinstance\u001b[0m\u001b[1;33m(\u001b[0m\u001b[0mfobj\u001b[0m\u001b[1;33m,\u001b[0m \u001b[0m_basestring\u001b[0m\u001b[1;33m)\u001b[0m\u001b[1;33m:\u001b[0m\u001b[1;33m\u001b[0m\u001b[1;33m\u001b[0m\u001b[0m\n",
      "\u001b[1;31mFileNotFoundError\u001b[0m: [Errno 2] No such file or directory: './Final_Results/ML/minmaxreg/clf__rf_train_corr.joblib'"
     ]
    }
   ],
   "source": [
    "clf = load('./Final_Results/ML/minmaxreg/clf__rf_train.joblib')\n",
    "clf_corr = load('./Final_Results/ML/minmaxreg/clf__rf_train_corr.joblib')\n",
    "clf_corr_l = load('./Final_Results/ML/minmaxreg/clf__rf_train_corr_l.joblib')\n",
    "clf_corr_r = load('./Final_Results/ML/minmaxreg/clf__rf_train_corr_r.joblib')"
   ]
  },
  {
   "cell_type": "code",
   "execution_count": 110,
   "metadata": {},
   "outputs": [
    {
     "name": "stdout",
     "output_type": "stream",
     "text": [
      "clf__rf_train\n",
      "0.5964124293785311\n",
      "0.5017514124293785\n",
      "0.5947175141242939\n",
      "0.5879943502824859\n",
      "0.5203389830508474\n",
      "0.5965254237288135\n",
      "0.5393220338983051\n",
      "0.5536440677966101\n",
      "0000000000000000000000000000000000000000000\n",
      "clf__rf_train_corr\n",
      "0.5877966101694916\n",
      "0.5572033898305084\n",
      "0.609774011299435\n",
      "0.5811864406779661\n",
      "0.5352824858757061\n",
      "0.606186440677966\n",
      "0.5626553672316386\n",
      "0.5925423728813559\n",
      "0000000000000000000000000000000000000000000\n",
      "clf__rf_train_corr_l\n",
      "0.5642655367231638\n",
      "0.5248870056497175\n",
      "0.567683615819209\n",
      "0.5876836158192089\n",
      "0.5503954802259887\n",
      "0.599180790960452\n",
      "0.5592655367231638\n",
      "0.5877683615819208\n",
      "0000000000000000000000000000000000000000000\n",
      "clf__rf_train_corr_r\n",
      "0.5796045197740114\n",
      "0.532768361581921\n",
      "0.5881073446327683\n",
      "0.5964971751412429\n",
      "0.5287005649717513\n",
      "0.5947175141242939\n",
      "0.5727401129943503\n",
      "0.5846610169491526\n"
     ]
    }
   ],
   "source": [
    "print(\"clf__rf_train\")\n",
    "print(clf['lSVM'].best_score_)\n",
    "print(clf['pagg'].best_score_)\n",
    "print(clf['lg'].best_score_)\n",
    "print(clf['XGB'].best_score_)\n",
    "print(clf['GNB'].best_score_)\n",
    "print(clf['SVC'].best_score_)\n",
    "print(clf['Rf'].best_score_)\n",
    "print(clf['nn'].best_score_)\n",
    "print(\"0000000000000000000000000000000000000000000\")\n",
    "print(\"clf__rf_train_corr\")\n",
    "print(clf_corr['lSVM'].best_score_)\n",
    "print(clf_corr['pagg'].best_score_)\n",
    "print(clf_corr['lg'].best_score_)\n",
    "print(clf_corr['XGB'].best_score_)\n",
    "print(clf_corr['GNB'].best_score_)\n",
    "print(clf_corr['SVC'].best_score_)\n",
    "print(clf_corr['Rf'].best_score_)\n",
    "print(clf_corr['nn'].best_score_)\n",
    "print(\"0000000000000000000000000000000000000000000\")\n",
    "print(\"clf__rf_train_corr_l\")\n",
    "print(clf_corr_l['lSVM'].best_score_)\n",
    "print(clf_corr_l['pagg'].best_score_)\n",
    "print(clf_corr_l['lg'].best_score_)\n",
    "print(clf_corr_l['XGB'].best_score_)\n",
    "print(clf_corr_l['GNB'].best_score_)\n",
    "print(clf_corr_l['SVC'].best_score_)\n",
    "print(clf_corr_l['Rf'].best_score_)\n",
    "print(clf_corr_l['nn'].best_score_)\n",
    "print(\"0000000000000000000000000000000000000000000\")\n",
    "print(\"clf__rf_train_corr_r\")\n",
    "print(clf_corr_r['lSVM'].best_score_)\n",
    "print(clf_corr_r['pagg'].best_score_)\n",
    "print(clf_corr_r['lg'].best_score_)\n",
    "print(clf_corr_r['XGB'].best_score_)\n",
    "print(clf_corr_r['GNB'].best_score_)\n",
    "print(clf_corr_r['SVC'].best_score_)\n",
    "print(clf_corr_r['Rf'].best_score_)\n",
    "print(clf_corr_r['nn'].best_score_)"
   ]
  },
  {
   "cell_type": "code",
   "execution_count": 111,
   "metadata": {},
   "outputs": [
    {
     "name": "stdout",
     "output_type": "stream",
     "text": [
      "selected classifier 1: lg_corr with accuracy 0.609774011299435\n",
      "selected classifier 2: SVC_corr with accuracy 0.606186440677966\n"
     ]
    }
   ],
   "source": [
    "selected_clc1 = clf_corr['lg'].best_estimator_\n",
    "selected_clc2 = clf_corr['SVC'].best_estimator_\n",
    "print(f\"selected classifier 1: lg_corr with accuracy {clf_corr['lg'].best_score_}\")\n",
    "print(f\"selected classifier 2: SVC_corr with accuracy {clf_corr['SVC'].best_score_}\")\n"
   ]
  },
  {
   "cell_type": "code",
   "execution_count": 112,
   "metadata": {},
   "outputs": [
    {
     "name": "stdout",
     "output_type": "stream",
     "text": [
      "(67, 545)\n",
      "0    36\n",
      "1    31\n",
      "Name: labels, dtype: int64\n",
      "baseline score:  0.5373134328358209\n"
     ]
    }
   ],
   "source": [
    "# Load test dataset\n",
    "df_test = pd.read_csv('./Final_Results/INITIAL_SPLIT/test_fullbrain.csv', index_col=0)\n",
    "print(df_test.shape)\n",
    "print(df_test['labels'].value_counts())\n",
    "\n",
    "print('baseline score: ',36/(31+36))\n",
    "XN = mynormalize(df_test, allfeats=False)\n",
    "\n",
    "# Load the corresponding rfe object\n",
    "#clc1,2\n",
    "selected_rfe1 = load('./Final_Results/FS/Normalize_allMorphFeats/rfetrain_corr_rf.joblib')\n",
    "Xtest1 = XN[:, np.where(selected_rfe1.support_)[0]]\n",
    "\n"
   ]
  },
  {
   "cell_type": "code",
   "execution_count": 113,
   "metadata": {},
   "outputs": [],
   "source": [
    "# Load training dataset to train the current model using all training set\n",
    "# clc1\n",
    "Xtrain1 = np.load('./Final_Results/FS/Normalize_allMorphFeats/Xtrain_corr_rf.npy')\n",
    "ytrain = np.load('./Final_Results/FS/Normalize_allMorphFeats/ytrain_corr.npy')\n"
   ]
  },
  {
   "cell_type": "code",
   "execution_count": 114,
   "metadata": {},
   "outputs": [
    {
     "name": "stdout",
     "output_type": "stream",
     "text": [
      "              precision    recall  f1-score   support\n",
      "\n",
      "           0       0.54      1.00      0.70        36\n",
      "           1       0.00      0.00      0.00        31\n",
      "\n",
      "    accuracy                           0.54        67\n",
      "   macro avg       0.27      0.50      0.35        67\n",
      "weighted avg       0.29      0.54      0.38        67\n",
      "\n"
     ]
    },
    {
     "name": "stderr",
     "output_type": "stream",
     "text": [
      "C:\\ProgramData\\Anaconda3\\envs\\untitled\\lib\\site-packages\\sklearn\\metrics\\_classification.py:1221: UndefinedMetricWarning: Precision and F-score are ill-defined and being set to 0.0 in labels with no predicted samples. Use `zero_division` parameter to control this behavior.\n",
      "  _warn_prf(average, modifier, msg_start, len(result))\n"
     ]
    }
   ],
   "source": [
    "# clc1\n",
    "print(classification_report(df_test['labels'].values, selected_clc1.predict(Xtest1)))"
   ]
  },
  {
   "cell_type": "code",
   "execution_count": 116,
   "metadata": {},
   "outputs": [
    {
     "name": "stdout",
     "output_type": "stream",
     "text": [
      "              precision    recall  f1-score   support\n",
      "\n",
      "           0       0.00      0.00      0.00        36\n",
      "           1       0.46      1.00      0.63        31\n",
      "\n",
      "    accuracy                           0.46        67\n",
      "   macro avg       0.23      0.50      0.32        67\n",
      "weighted avg       0.21      0.46      0.29        67\n",
      "\n"
     ]
    },
    {
     "name": "stderr",
     "output_type": "stream",
     "text": [
      "C:\\ProgramData\\Anaconda3\\envs\\untitled\\lib\\site-packages\\sklearn\\metrics\\_classification.py:1221: UndefinedMetricWarning: Precision and F-score are ill-defined and being set to 0.0 in labels with no predicted samples. Use `zero_division` parameter to control this behavior.\n",
      "  _warn_prf(average, modifier, msg_start, len(result))\n"
     ]
    }
   ],
   "source": [
    "# clc2\n",
    "print(classification_report(df_test['labels'].values, selected_clc2.predict(Xtest1)))"
   ]
  },
  {
   "cell_type": "code",
   "execution_count": 117,
   "metadata": {},
   "outputs": [
    {
     "name": "stderr",
     "output_type": "stream",
     "text": [
      "C:\\ProgramData\\Anaconda3\\envs\\untitled\\lib\\site-packages\\sklearn\\linear_model\\_logistic.py:1321: UserWarning: Setting penalty='none' will ignore the C and l1_ratio parameters\n",
      "  \"Setting penalty='none' will ignore the C and l1_ratio \"\n",
      "C:\\ProgramData\\Anaconda3\\envs\\untitled\\lib\\site-packages\\sklearn\\svm\\_base.py:249: ConvergenceWarning: Solver terminated early (max_iter=1000000).  Consider pre-processing your data with StandardScaler or MinMaxScaler.\n",
      "  % self.max_iter, ConvergenceWarning)\n"
     ]
    }
   ],
   "source": [
    "selected_clc1 = selected_clc1.fit(Xtrain1, ytrain)\n",
    "selected_clc2 = selected_clc2.fit(Xtrain1, ytrain)\n"
   ]
  },
  {
   "cell_type": "code",
   "execution_count": 118,
   "metadata": {
    "scrolled": true
   },
   "outputs": [
    {
     "name": "stdout",
     "output_type": "stream",
     "text": [
      "              precision    recall  f1-score   support\n",
      "\n",
      "           0       0.54      1.00      0.70        36\n",
      "           1       0.00      0.00      0.00        31\n",
      "\n",
      "    accuracy                           0.54        67\n",
      "   macro avg       0.27      0.50      0.35        67\n",
      "weighted avg       0.29      0.54      0.38        67\n",
      "\n"
     ]
    },
    {
     "name": "stderr",
     "output_type": "stream",
     "text": [
      "C:\\ProgramData\\Anaconda3\\envs\\untitled\\lib\\site-packages\\sklearn\\metrics\\_classification.py:1221: UndefinedMetricWarning: Precision and F-score are ill-defined and being set to 0.0 in labels with no predicted samples. Use `zero_division` parameter to control this behavior.\n",
      "  _warn_prf(average, modifier, msg_start, len(result))\n"
     ]
    }
   ],
   "source": [
    "# clc1\n",
    "print(classification_report(df_test['labels'].values, selected_clc1.predict(Xtest1)))"
   ]
  },
  {
   "cell_type": "code",
   "execution_count": 120,
   "metadata": {},
   "outputs": [
    {
     "name": "stdout",
     "output_type": "stream",
     "text": [
      "              precision    recall  f1-score   support\n",
      "\n",
      "           0       0.00      0.00      0.00        36\n",
      "           1       0.46      1.00      0.63        31\n",
      "\n",
      "    accuracy                           0.46        67\n",
      "   macro avg       0.23      0.50      0.32        67\n",
      "weighted avg       0.21      0.46      0.29        67\n",
      "\n"
     ]
    },
    {
     "name": "stderr",
     "output_type": "stream",
     "text": [
      "C:\\ProgramData\\Anaconda3\\envs\\untitled\\lib\\site-packages\\sklearn\\metrics\\_classification.py:1221: UndefinedMetricWarning: Precision and F-score are ill-defined and being set to 0.0 in labels with no predicted samples. Use `zero_division` parameter to control this behavior.\n",
      "  _warn_prf(average, modifier, msg_start, len(result))\n"
     ]
    }
   ],
   "source": [
    "# clc2\n",
    "print(classification_report(df_test['labels'].values, selected_clc2.predict(Xtest1)))"
   ]
  },
  {
   "cell_type": "code",
   "execution_count": null,
   "metadata": {},
   "outputs": [],
   "source": []
  }
 ],
 "metadata": {
  "kernelspec": {
   "display_name": "untitled",
   "language": "python",
   "name": "untitled"
  },
  "language_info": {
   "codemirror_mode": {
    "name": "ipython",
    "version": 3
   },
   "file_extension": ".py",
   "mimetype": "text/x-python",
   "name": "python",
   "nbconvert_exporter": "python",
   "pygments_lexer": "ipython3",
   "version": "3.7.5"
  }
 },
 "nbformat": 4,
 "nbformat_minor": 4
}
