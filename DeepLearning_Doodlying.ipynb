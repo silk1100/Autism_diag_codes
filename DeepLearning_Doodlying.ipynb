{
 "cells": [
  {
   "cell_type": "code",
   "execution_count": 2,
   "metadata": {},
   "outputs": [],
   "source": [
    "import pandas as pd\n",
    "import torch\n",
    "import torch.nn as nn\n",
    "from torch.utils.data import Dataset, DataLoader\n",
    "import numpy as np\n",
    "from sklearn.model_selection import RepeatedStratifiedKFold, RepeatedKFold, KFold, RepeatedKFold, train_test_split\n",
    "from sklearn.discriminant_analysis import LinearDiscriminantAnalysis as LDA\n",
    "from sklearn.preprocessing import MinMaxScaler, StandardScaler\n",
    "from joblib import dump, load"
   ]
  },
  {
   "cell_type": "code",
   "execution_count": 3,
   "metadata": {},
   "outputs": [
    {
     "data": {
      "text/plain": [
       "True"
      ]
     },
     "execution_count": 3,
     "metadata": {},
     "output_type": "execute_result"
    }
   ],
   "source": [
    "torch.cuda.is_available()"
   ]
  },
  {
   "cell_type": "code",
   "execution_count": 4,
   "metadata": {},
   "outputs": [
    {
     "name": "stdout",
     "output_type": "stream",
     "text": [
      "cuda\n"
     ]
    }
   ],
   "source": [
    "device = \"cuda\" if torch.cuda.is_available() else \"cpu\"\n",
    "print(device)"
   ]
  },
  {
   "cell_type": "code",
   "execution_count": 5,
   "metadata": {},
   "outputs": [],
   "source": [
    "class MyDataset(Dataset):\n",
    "    def __init__(self):\n",
    "        super(MyDataset, self).__init__()\n",
    "        df_left = pd.read_csv('./Results/INITIAL_SPLIT/left_train_modifiedMedPIQR.csv', index_col=0)\n",
    "        df_right = pd.read_csv('./Results/INITIAL_SPLIT/right_train_modifiedMedPIQR.csv', index_col=0)"
   ]
  },
  {
   "cell_type": "code",
   "execution_count": 6,
   "metadata": {},
   "outputs": [
    {
     "data": {
      "text/plain": [
       "0.0"
      ]
     },
     "execution_count": 6,
     "metadata": {},
     "output_type": "execute_result"
    }
   ],
   "source": [
    "df_left = pd.read_csv('./Results/INITIAL_SPLIT/left_train_modifiedMedPIQR.csv', index_col=0)\n",
    "df_right = pd.read_csv('./Results/INITIAL_SPLIT/right_train_modifiedMedPIQR.csv', index_col=0)\n",
    "(df_left-df_right).sum().sum()"
   ]
  },
  {
   "cell_type": "code",
   "execution_count": 6,
   "metadata": {},
   "outputs": [],
   "source": [
    "sf_10_0= [\"area_lbankssts_medMIQR\", \"area_lbankssts_medPIQR\", \"area_lcaudalmiddlefrontal_medMIQR\", \"area_lcaudalmiddlefrontal_medPIQR\", \"area_lcuneus_medMIQR\", \"area_lcuneus_medPIQR\", \"area_lfusiform_medMIQR\", \"area_lfusiform_medPIQR\", \"area_linferiortemporal_medPIQR\", \"area_listhmuscingulate_medMIQR\", \"area_llateraloccipital_medMIQR\", \"area_llateralorbitofrontal_medMIQR\", \"area_llateralorbitofrontal_medPIQR\", \"area_llingual_medPIQR\", \"area_lmiddletemporal_medPIQR\", \"area_lparacentral_medMIQR\", \"area_lparsopercularis_medMIQR\", \"area_lparsopercularis_medPIQR\", \"area_lparstriangularis_medMIQR\", \"area_lparstriangularis_medPIQR\", \"area_lpostcentral_medMIQR\", \"area_lposteriorcingulate_medMIQR\", \"area_lprecentral_medMIQR\", \"area_lprecentral_medPIQR\", \"area_lprecuneus_medMIQR\", \"area_lrostralanteriorcingulate_medMIQR\", \"area_lrostralanteriorcingulate_medPIQR\", \"area_lsuperiorfrontal_medPIQR\", \"area_lsuperiorparietal_medMIQR\", \"area_lsuperiorparietal_medPIQR\", \"area_lsuperiortemporal_medMIQR\", \"area_lsuperiortemporal_medPIQR\", \"area_lsupramarginal_medMIQR\", \"area_lfrontalpole_medMIQR\", \"area_lfrontalpole_medPIQR\", \"area_ltemporalpole_medMIQR\", \"area_ltransversetemporal_medMIQR\", \"area_ltransversetemporal_medPIQR\", \"curv_lbankssts_medPIQR\", \"curv_lcaudalanteriorcingulate_medMIQR\", \"curv_lcaudalanteriorcingulate_medPIQR\", \"curv_lcaudalmiddlefrontal_medMIQR\", \"curv_lcuneus_medMIQR\", \"curv_lcuneus_medPIQR\", \"curv_lentorhinal_medMIQR\", \"curv_lentorhinal_medPIQR\", \"curv_lfusiform_medPIQR\", \"curv_linferiorparietal_medPIQR\", \"curv_linferiortemporal_medPIQR\", \"curv_listhmuscingulate_medMIQR\", \"curv_listhmuscingulate_medPIQR\", \"curv_llateraloccipital_medPIQR\", \"curv_lmedialorbitofrontal_medPIQR\", \"curv_lmiddletemporal_medMIQR\", \"curv_lmiddletemporal_medPIQR\", \"curv_lparacentral_medMIQR\", \"curv_lparacentral_medPIQR\", \"curv_lparsopercularis_medMIQR\", \"curv_lparsorbitalis_medMIQR\", \"curv_lparstriangularis_medMIQR\", \"curv_lposteriorcingulate_medMIQR\", \"curv_lposteriorcingulate_medPIQR\", \"curv_lprecentral_medMIQR\", \"curv_lprecentral_medPIQR\", \"curv_lprecuneus_medMIQR\", \"curv_lprecuneus_medPIQR\", \"curv_lsuperiorparietal_medPIQR\", \"curv_lsuperiortemporal_medPIQR\", \"curv_lsupramarginal_medMIQR\", \"curv_lfrontalpole_medMIQR\", \"curv_lfrontalpole_medPIQR\", \"curv_ltemporalpole_medMIQR\", \"curv_ltransversetemporal_medMIQR\", \"thickness_lbankssts_medMIQR\", \"thickness_lcaudalanteriorcingulate_medPIQR\", \"thickness_lcaudalmiddlefrontal_medMIQR\", \"thickness_lcuneus_medMIQR\", \"thickness_lcuneus_medPIQR\", \"thickness_lentorhinal_medMIQR\", \"thickness_linferiorparietal_medMIQR\", \"thickness_listhmuscingulate_medMIQR\", \"thickness_listhmuscingulate_medPIQR\", \"thickness_llateralorbitofrontal_medMIQR\", \"thickness_lmiddletemporal_medMIQR\", \"thickness_lmiddletemporal_medPIQR\", \"thickness_lparahippocampal_medMIQR\", \"thickness_lparahippocampal_medPIQR\", \"thickness_lparsopercularis_medMIQR\", \"thickness_lparstriangularis_medPIQR\", \"thickness_lpericalcarine_medMIQR\", \"thickness_lpericalcarine_medPIQR\", \"thickness_lpostcentral_medPIQR\", \"thickness_lposteriorcingulate_medPIQR\", \"thickness_lprecentral_medMIQR\", \"thickness_lprecentral_medPIQR\", \"thickness_lprecuneus_medPIQR\", \"thickness_lrostralanteriorcingulate_medPIQR\", \"thickness_lrostralmiddlefrontal_medPIQR\", \"thickness_lsuperiortemporal_medPIQR\", \"thickness_lsupramarginal_medMIQR\", \"thickness_lsupramarginal_medPIQR\", \"thickness_lfrontalpole_medMIQR\", \"thickness_ltemporalpole_medMIQR\", \"thickness_ltransversetemporal_medMIQR\", \"thickness_linsula_medPIQR\", \"volume_lcaudalanteriorcingulate_medMIQR\", \"volume_lcaudalanteriorcingulate_medPIQR\", \"volume_lcaudalmiddlefrontal_medPIQR\", \"volume_lcuneus_medMIQR\", \"volume_lcuneus_medPIQR\", \"volume_linferiorparietal_medPIQR\", \"volume_linferiortemporal_medMIQR\", \"volume_linferiortemporal_medPIQR\", \"volume_listhmuscingulate_medMIQR\", \"volume_listhmuscingulate_medPIQR\", \"volume_llateralorbitofrontal_medMIQR\", \"volume_llateralorbitofrontal_medPIQR\", \"volume_lmiddletemporal_medPIQR\", \"volume_lparahippocampal_medMIQR\", \"volume_lparacentral_medMIQR\", \"volume_lpericalcarine_medPIQR\", \"volume_lpostcentral_medMIQR\", \"volume_lpostcentral_medPIQR\", \"volume_lposteriorcingulate_medMIQR\", \"volume_lprecuneus_medMIQR\", \"volume_lprecuneus_medPIQR\", \"volume_lrostralanteriorcingulate_medMIQR\", \"volume_lrostralanteriorcingulate_medPIQR\", \"volume_lrostralmiddlefrontal_medMIQR\", \"volume_lrostralmiddlefrontal_medPIQR\", \"volume_lsupramarginal_medPIQR\", \"volume_lfrontalpole_medMIQR\", \"volume_lfrontalpole_medPIQR\", \"volume_ltemporalpole_medMIQR\", \"volume_ltransversetemporal_medMIQR\", \"volume_ltransversetemporal_medPIQR\"]\n",
    "sf_14_0 = [\"area_lcaudalanteriorcingulate_medMIQR\", \"area_lcaudalmiddlefrontal_medPIQR\", \"area_lcuneus_medPIQR\", \"area_lentorhinal_medMIQR\", \"area_lfusiform_medPIQR\", \"area_linferiorparietal_medMIQR\", \"area_listhmuscingulate_medPIQR\", \"area_llateralorbitofrontal_medMIQR\", \"area_lmedialorbitofrontal_medMIQR\", \"area_lmedialorbitofrontal_medPIQR\", \"area_lmiddletemporal_medPIQR\", \"area_lparahippocampal_medMIQR\", \"area_lparacentral_medMIQR\", \"area_lparacentral_medPIQR\", \"area_lparsopercularis_medMIQR\", \"area_lparsopercularis_medPIQR\", \"area_lparsorbitalis_medMIQR\", \"area_lparstriangularis_medMIQR\", \"area_lparstriangularis_medPIQR\", \"area_lposteriorcingulate_medMIQR\", \"area_lposteriorcingulate_medPIQR\", \"area_lprecentral_medMIQR\", \"area_lprecuneus_medMIQR\", \"area_lprecuneus_medPIQR\", \"area_lrostralanteriorcingulate_medPIQR\", \"area_lrostralmiddlefrontal_medPIQR\", \"area_lsuperiorfrontal_medMIQR\", \"area_lsuperiortemporal_medPIQR\", \"area_lsupramarginal_medMIQR\", \"area_lsupramarginal_medPIQR\", \"area_ltemporalpole_medMIQR\", \"area_ltemporalpole_medPIQR\", \"area_linsula_medMIQR\", \"curv_lbankssts_medPIQR\", \"curv_lcaudalanteriorcingulate_medPIQR\", \"curv_lcuneus_medMIQR\", \"curv_lcuneus_medPIQR\", \"curv_lfusiform_medMIQR\", \"curv_lfusiform_medPIQR\", \"curv_linferiorparietal_medMIQR\", \"curv_linferiortemporal_medMIQR\", \"curv_linferiortemporal_medPIQR\", \"curv_listhmuscingulate_medMIQR\", \"curv_llateraloccipital_medMIQR\", \"curv_llateraloccipital_medPIQR\", \"curv_llateralorbitofrontal_medMIQR\", \"curv_llateralorbitofrontal_medPIQR\", \"curv_llingual_medMIQR\", \"curv_llingual_medPIQR\", \"curv_lmiddletemporal_medMIQR\", \"curv_lmiddletemporal_medPIQR\", \"curv_lparacentral_medPIQR\", \"curv_lparstriangularis_medMIQR\", \"curv_lparstriangularis_medPIQR\", \"curv_lpostcentral_medMIQR\", \"curv_lposteriorcingulate_medMIQR\", \"curv_lprecentral_medMIQR\", \"curv_lprecentral_medPIQR\", \"curv_lprecuneus_medMIQR\", \"curv_lprecuneus_medPIQR\", \"curv_lrostralanteriorcingulate_medMIQR\", \"curv_lrostralmiddlefrontal_medMIQR\", \"curv_lsuperiorfrontal_medMIQR\", \"curv_lsuperiorfrontal_medPIQR\", \"curv_lsuperiorparietal_medPIQR\", \"curv_lsupramarginal_medMIQR\", \"curv_lsupramarginal_medPIQR\", \"curv_ltemporalpole_medMIQR\", \"curv_ltemporalpole_medPIQR\", \"curv_ltransversetemporal_medMIQR\", \"curv_ltransversetemporal_medPIQR\", \"curv_linsula_medPIQR\", \"thickness_lbankssts_medPIQR\", \"thickness_lcaudalanteriorcingulate_medPIQR\", \"thickness_lcuneus_medMIQR\", \"thickness_lcuneus_medPIQR\", \"thickness_lentorhinal_medMIQR\", \"thickness_lentorhinal_medPIQR\", \"thickness_lfusiform_medPIQR\", \"thickness_linferiorparietal_medPIQR\", \"thickness_llateralorbitofrontal_medMIQR\", \"thickness_llateralorbitofrontal_medPIQR\", \"thickness_lmedialorbitofrontal_medMIQR\", \"thickness_lmedialorbitofrontal_medPIQR\", \"thickness_lmiddletemporal_medMIQR\", \"thickness_lmiddletemporal_medPIQR\", \"thickness_lparahippocampal_medMIQR\", \"thickness_lparahippocampal_medPIQR\", \"thickness_lparacentral_medMIQR\", \"thickness_lparstriangularis_medMIQR\", \"thickness_lpericalcarine_medPIQR\", \"thickness_lpostcentral_medMIQR\", \"thickness_lpostcentral_medPIQR\", \"thickness_lposteriorcingulate_medMIQR\", \"thickness_lprecentral_medPIQR\", \"thickness_lprecuneus_medMIQR\", \"thickness_lprecuneus_medPIQR\", \"thickness_lrostralanteriorcingulate_medPIQR\", \"thickness_lrostralmiddlefrontal_medPIQR\", \"thickness_lsuperiorparietal_medPIQR\", \"thickness_lsuperiortemporal_medPIQR\", \"thickness_lsupramarginal_medPIQR\", \"thickness_lfrontalpole_medMIQR\", \"thickness_lfrontalpole_medPIQR\", \"thickness_ltransversetemporal_medMIQR\", \"thickness_ltransversetemporal_medPIQR\", \"thickness_linsula_medMIQR\", \"volume_lbankssts_medMIQR\", \"volume_lcaudalanteriorcingulate_medMIQR\", \"volume_lcaudalmiddlefrontal_medMIQR\", \"volume_lentorhinal_medPIQR\", \"volume_lfusiform_medMIQR\", \"volume_lfusiform_medPIQR\", \"volume_linferiorparietal_medMIQR\", \"volume_linferiortemporal_medPIQR\", \"volume_llateraloccipital_medMIQR\", \"volume_llateraloccipital_medPIQR\", \"volume_llateralorbitofrontal_medMIQR\", \"volume_llateralorbitofrontal_medPIQR\", \"volume_lmedialorbitofrontal_medPIQR\", \"volume_lmiddletemporal_medPIQR\", \"volume_lparahippocampal_medPIQR\", \"volume_lparsopercularis_medMIQR\", \"volume_lparsorbitalis_medMIQR\", \"volume_lparsorbitalis_medPIQR\", \"volume_lpericalcarine_medPIQR\", \"volume_lposteriorcingulate_medPIQR\", \"volume_lprecentral_medMIQR\", \"volume_lprecuneus_medMIQR\", \"volume_lprecuneus_medPIQR\", \"volume_lrostralanteriorcingulate_medMIQR\", \"volume_lsuperiortemporal_medPIQR\", \"volume_lsupramarginal_medMIQR\", \"volume_ltemporalpole_medMIQR\", \"volume_ltemporalpole_medPIQR\", \"volume_ltransversetemporal_medMIQR\"]"
   ]
  },
  {
   "cell_type": "code",
   "execution_count": 7,
   "metadata": {},
   "outputs": [
    {
     "data": {
      "text/plain": [
       "136"
      ]
     },
     "execution_count": 7,
     "metadata": {},
     "output_type": "execute_result"
    }
   ],
   "source": [
    "len(sf_10_0)"
   ]
  },
  {
   "cell_type": "code",
   "execution_count": 8,
   "metadata": {},
   "outputs": [
    {
     "data": {
      "text/plain": [
       "136"
      ]
     },
     "execution_count": 8,
     "metadata": {},
     "output_type": "execute_result"
    }
   ],
   "source": [
    "len(sf_14_0)"
   ]
  },
  {
   "cell_type": "code",
   "execution_count": 18,
   "metadata": {},
   "outputs": [
    {
     "name": "stdout",
     "output_type": "stream",
     "text": [
      "area_lbankssts_medMIQR\n",
      "area_lbankssts_medPIQR\n",
      "area_lcaudalmiddlefrontal_medMIQR\n",
      "area_lcuneus_medMIQR\n",
      "area_lfusiform_medMIQR\n",
      "area_linferiortemporal_medPIQR\n",
      "area_listhmuscingulate_medMIQR\n",
      "area_llateraloccipital_medMIQR\n",
      "area_llateralorbitofrontal_medPIQR\n",
      "area_llingual_medPIQR\n",
      "area_lpostcentral_medMIQR\n",
      "area_lprecentral_medPIQR\n",
      "area_lrostralanteriorcingulate_medMIQR\n",
      "area_lsuperiorfrontal_medPIQR\n",
      "area_lsuperiorparietal_medMIQR\n",
      "area_lsuperiorparietal_medPIQR\n",
      "area_lsuperiortemporal_medMIQR\n",
      "area_lfrontalpole_medMIQR\n",
      "area_lfrontalpole_medPIQR\n",
      "area_ltransversetemporal_medMIQR\n",
      "area_ltransversetemporal_medPIQR\n",
      "curv_lcaudalanteriorcingulate_medMIQR\n",
      "curv_lcaudalmiddlefrontal_medMIQR\n",
      "curv_lentorhinal_medMIQR\n",
      "curv_lentorhinal_medPIQR\n",
      "curv_linferiorparietal_medPIQR\n",
      "curv_listhmuscingulate_medPIQR\n",
      "curv_lmedialorbitofrontal_medPIQR\n",
      "curv_lparacentral_medMIQR\n",
      "curv_lparsopercularis_medMIQR\n",
      "curv_lparsorbitalis_medMIQR\n",
      "curv_lposteriorcingulate_medPIQR\n",
      "curv_lsuperiortemporal_medPIQR\n",
      "curv_lfrontalpole_medMIQR\n",
      "curv_lfrontalpole_medPIQR\n",
      "thickness_lbankssts_medMIQR\n",
      "thickness_lcaudalmiddlefrontal_medMIQR\n",
      "thickness_linferiorparietal_medMIQR\n",
      "thickness_listhmuscingulate_medMIQR\n",
      "thickness_listhmuscingulate_medPIQR\n",
      "thickness_lparsopercularis_medMIQR\n",
      "thickness_lparstriangularis_medPIQR\n",
      "thickness_lpericalcarine_medMIQR\n",
      "thickness_lposteriorcingulate_medPIQR\n",
      "thickness_lprecentral_medMIQR\n",
      "thickness_lsupramarginal_medMIQR\n",
      "thickness_ltemporalpole_medMIQR\n",
      "thickness_linsula_medPIQR\n",
      "volume_lcaudalanteriorcingulate_medPIQR\n",
      "volume_lcaudalmiddlefrontal_medPIQR\n",
      "volume_lcuneus_medMIQR\n",
      "volume_lcuneus_medPIQR\n",
      "volume_linferiorparietal_medPIQR\n",
      "volume_linferiortemporal_medMIQR\n",
      "volume_listhmuscingulate_medMIQR\n",
      "volume_listhmuscingulate_medPIQR\n",
      "volume_lparahippocampal_medMIQR\n",
      "volume_lparacentral_medMIQR\n",
      "volume_lpostcentral_medMIQR\n",
      "volume_lpostcentral_medPIQR\n",
      "volume_lposteriorcingulate_medMIQR\n",
      "volume_lrostralanteriorcingulate_medPIQR\n",
      "volume_lrostralmiddlefrontal_medMIQR\n",
      "volume_lrostralmiddlefrontal_medPIQR\n",
      "volume_lsupramarginal_medPIQR\n",
      "volume_lfrontalpole_medMIQR\n",
      "volume_lfrontalpole_medPIQR\n",
      "volume_ltransversetemporal_medPIQR\n"
     ]
    }
   ],
   "source": [
    "cnt = 0\n",
    "for feat in sf_10_0:\n",
    "    if feat not in sf_14_0:\n",
    "        print(feat)\n",
    "        cnt+=1"
   ]
  },
  {
   "cell_type": "code",
   "execution_count": 19,
   "metadata": {},
   "outputs": [
    {
     "data": {
      "text/plain": [
       "68"
      ]
     },
     "execution_count": 19,
     "metadata": {},
     "output_type": "execute_result"
    }
   ],
   "source": [
    "cnt"
   ]
  },
  {
   "cell_type": "code",
   "execution_count": 17,
   "metadata": {},
   "outputs": [
    {
     "ename": "NameError",
     "evalue": "name 'area_lcaudalanteriorcingulate_medMIQR' is not defined",
     "output_type": "error",
     "traceback": [
      "\u001b[1;31m---------------------------------------------------------------------------\u001b[0m",
      "\u001b[1;31mNameError\u001b[0m                                 Traceback (most recent call last)",
      "\u001b[1;32m<ipython-input-17-051fae88cebf>\u001b[0m in \u001b[0;36m<module>\u001b[1;34m\u001b[0m\n\u001b[1;32m----> 1\u001b[1;33m \u001b[0marea_lcaudalanteriorcingulate_medMIQR\u001b[0m\u001b[1;33m\u001b[0m\u001b[1;33m\u001b[0m\u001b[0m\n\u001b[0m\u001b[0;32m      2\u001b[0m \u001b[0marea_lentorhinal_medMIQR\u001b[0m\u001b[1;33m\u001b[0m\u001b[1;33m\u001b[0m\u001b[0m\n\u001b[0;32m      3\u001b[0m \u001b[0marea_linferiorparietal_medMIQR\u001b[0m\u001b[1;33m\u001b[0m\u001b[1;33m\u001b[0m\u001b[0m\n\u001b[0;32m      4\u001b[0m \u001b[0marea_listhmuscingulate_medPIQR\u001b[0m\u001b[1;33m\u001b[0m\u001b[1;33m\u001b[0m\u001b[0m\n\u001b[0;32m      5\u001b[0m \u001b[0marea_lmedialorbitofrontal_medMIQR\u001b[0m\u001b[1;33m\u001b[0m\u001b[1;33m\u001b[0m\u001b[0m\n",
      "\u001b[1;31mNameError\u001b[0m: name 'area_lcaudalanteriorcingulate_medMIQR' is not defined"
     ]
    }
   ],
   "source": [
    "area_lcaudalanteriorcingulate_medMIQR\n",
    "area_lentorhinal_medMIQR\n",
    "area_linferiorparietal_medMIQR\n",
    "area_listhmuscingulate_medPIQR\n",
    "area_lmedialorbitofrontal_medMIQR\n",
    "area_lmedialorbitofrontal_medPIQR\n",
    "area_lparahippocampal_medMIQR\n",
    "area_lparacentral_medPIQR\n",
    "area_lparsorbitalis_medMIQR\n",
    "area_lposteriorcingulate_medPIQR\n",
    "area_lprecuneus_medPIQR\n",
    "area_lrostralmiddlefrontal_medPIQR\n",
    "area_lsuperiorfrontal_medMIQR\n",
    "area_lsupramarginal_medPIQR\n",
    "area_ltemporalpole_medPIQR\n",
    "area_linsula_medMIQR\n",
    "curv_lfusiform_medMIQR\n",
    "curv_linferiorparietal_medMIQR\n",
    "curv_linferiortemporal_medMIQR\n",
    "curv_llateraloccipital_medMIQR\n",
    "curv_llateralorbitofrontal_medMIQR\n",
    "curv_llateralorbitofrontal_medPIQR\n",
    "curv_llingual_medMIQR\n",
    "curv_llingual_medPIQR\n",
    "curv_lparstriangularis_medPIQR\n",
    "curv_lpostcentral_medMIQR\n",
    "curv_lrostralanteriorcingulate_medMIQR\n",
    "curv_lrostralmiddlefrontal_medMIQR\n",
    "curv_lsuperiorfrontal_medMIQR\n",
    "curv_lsuperiorfrontal_medPIQR\n",
    "curv_lsupramarginal_medPIQR\n",
    "curv_ltemporalpole_medPIQR\n",
    "curv_ltransversetemporal_medPIQR\n",
    "curv_linsula_medPIQR\n",
    "thickness_lbankssts_medPIQR\n",
    "thickness_lentorhinal_medPIQR\n",
    "thickness_lfusiform_medPIQR\n",
    "thickness_linferiorparietal_medPIQR\n",
    "thickness_llateralorbitofrontal_medPIQR\n",
    "thickness_lmedialorbitofrontal_medMIQR\n",
    "thickness_lmedialorbitofrontal_medPIQR\n",
    "thickness_lparacentral_medMIQR\n",
    "thickness_lparstriangularis_medMIQR\n",
    "thickness_lpostcentral_medMIQR\n",
    "thickness_lposteriorcingulate_medMIQR\n",
    "thickness_lprecuneus_medMIQR\n",
    "thickness_lsuperiorparietal_medPIQR\n",
    "thickness_lfrontalpole_medPIQR\n",
    "thickness_ltransversetemporal_medPIQR\n",
    "thickness_linsula_medMIQR\n",
    "volume_lbankssts_medMIQR\n",
    "volume_lcaudalmiddlefrontal_medMIQR\n",
    "volume_lentorhinal_medPIQR\n",
    "volume_lfusiform_medMIQR\n",
    "volume_lfusiform_medPIQR\n",
    "volume_linferiorparietal_medMIQR\n",
    "volume_llateraloccipital_medMIQR\n",
    "volume_llateraloccipital_medPIQR\n",
    "volume_lmedialorbitofrontal_medPIQR\n",
    "volume_lparahippocampal_medPIQR\n",
    "volume_lparsopercularis_medMIQR\n",
    "volume_lparsorbitalis_medMIQR\n",
    "volume_lparsorbitalis_medPIQR\n",
    "volume_lposteriorcingulate_medPIQR\n",
    "volume_lprecentral_medMIQR\n",
    "volume_lsuperiortemporal_medPIQR\n",
    "volume_lsupramarginal_medMIQR\n",
    "volume_ltemporalpole_medPIQR"
   ]
  },
  {
   "cell_type": "code",
   "execution_count": null,
   "metadata": {},
   "outputs": [],
   "source": [
    "area_lbankssts_medMIQR\n",
    "area_lbankssts_medPIQR\n",
    "area_lcaudalmiddlefrontal_medMIQR\n",
    "area_lcuneus_medMIQR\n",
    "area_lfusiform_medMIQR\n",
    "area_linferiortemporal_medPIQR\n",
    "area_listhmuscingulate_medMIQR\n",
    "area_llateraloccipital_medMIQR\n",
    "area_llateralorbitofrontal_medPIQR\n",
    "area_llingual_medPIQR\n",
    "area_lpostcentral_medMIQR\n",
    "area_lprecentral_medPIQR\n",
    "area_lrostralanteriorcingulate_medMIQR\n",
    "area_lsuperiorfrontal_medPIQR\n",
    "area_lsuperiorparietal_medMIQR\n",
    "area_lsuperiorparietal_medPIQR\n",
    "area_lsuperiortemporal_medMIQR\n",
    "area_lfrontalpole_medMIQR\n",
    "area_lfrontalpole_medPIQR\n",
    "area_ltransversetemporal_medMIQR\n",
    "area_ltransversetemporal_medPIQR\n",
    "curv_lcaudalanteriorcingulate_medMIQR\n",
    "curv_lcaudalmiddlefrontal_medMIQR\n",
    "curv_lentorhinal_medMIQR\n",
    "curv_lentorhinal_medPIQR\n",
    "curv_linferiorparietal_medPIQR\n",
    "curv_listhmuscingulate_medPIQR\n",
    "curv_lmedialorbitofrontal_medPIQR\n",
    "curv_lparacentral_medMIQR\n",
    "curv_lparsopercularis_medMIQR\n",
    "curv_lparsorbitalis_medMIQR\n",
    "curv_lposteriorcingulate_medPIQR\n",
    "curv_lsuperiortemporal_medPIQR\n",
    "curv_lfrontalpole_medMIQR\n",
    "curv_lfrontalpole_medPIQR\n",
    "thickness_lbankssts_medMIQR\n",
    "thickness_lcaudalmiddlefrontal_medMIQR\n",
    "thickness_linferiorparietal_medMIQR\n",
    "thickness_listhmuscingulate_medMIQR\n",
    "thickness_listhmuscingulate_medPIQR\n",
    "thickness_lparsopercularis_medMIQR\n",
    "thickness_lparstriangularis_medPIQR\n",
    "thickness_lpericalcarine_medMIQR\n",
    "thickness_lposteriorcingulate_medPIQR\n",
    "thickness_lprecentral_medMIQR\n",
    "thickness_lsupramarginal_medMIQR\n",
    "thickness_ltemporalpole_medMIQR\n",
    "thickness_linsula_medPIQR\n",
    "volume_lcaudalanteriorcingulate_medPIQR\n",
    "volume_lcaudalmiddlefrontal_medPIQR\n",
    "volume_lcuneus_medMIQR\n",
    "volume_lcuneus_medPIQR\n",
    "volume_linferiorparietal_medPIQR\n",
    "volume_linferiortemporal_medMIQR\n",
    "volume_listhmuscingulate_medMIQR\n",
    "volume_listhmuscingulate_medPIQR\n",
    "volume_lparahippocampal_medMIQR\n",
    "volume_lparacentral_medMIQR\n",
    "volume_lpostcentral_medMIQR\n",
    "volume_lpostcentral_medPIQR\n",
    "volume_lposteriorcingulate_medMIQR\n",
    "volume_lrostralanteriorcingulate_medPIQR\n",
    "volume_lrostralmiddlefrontal_medMIQR\n",
    "volume_lrostralmiddlefrontal_medPIQR\n",
    "volume_lsupramarginal_medPIQR\n",
    "volume_lfrontalpole_medMIQR\n",
    "volume_lfrontalpole_medPIQR\n",
    "volume_ltransversetemporal_medPIQR"
   ]
  }
 ],
 "metadata": {
  "kernelspec": {
   "display_name": "untitled",
   "language": "python",
   "name": "untitled"
  },
  "language_info": {
   "codemirror_mode": {
    "name": "ipython",
    "version": 3
   },
   "file_extension": ".py",
   "mimetype": "text/x-python",
   "name": "python",
   "nbconvert_exporter": "python",
   "pygments_lexer": "ipython3",
   "version": "3.7.5"
  }
 },
 "nbformat": 4,
 "nbformat_minor": 4
}
